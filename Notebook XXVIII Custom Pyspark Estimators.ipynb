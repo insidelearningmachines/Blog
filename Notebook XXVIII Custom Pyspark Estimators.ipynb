{
 "cells": [
  {
   "cell_type": "markdown",
   "id": "e0231f5c-af61-4f01-b9d4-83d51c1d0200",
   "metadata": {},
   "source": [
    "# Pyspark Estimators\n",
    "\n",
    "In this notebook, we'll work through the construction of our own Estimator in Pyspark. Estimators act on an input dataframe to yield a transformer instance. If you're unfamilar with transformers, please refer to my blog article and Notebook XXVII on that topic. Estimators form a key component to pipelines, where a series of estimators & transformers can be chained together to yield a complete machine learning workflow. \n",
    "\n",
    "Here the pipeline created will be designed to make use of a Linear Regressor to predict housing price values. We will make use of the **California Housing Prices** dataset. These data were briefly explored in Notebook XXVI, and as such I won't repeat that analysis here.\n",
    "\n",
    "We can start by importing the necessary packages, and setting up our spark session:"
   ]
  },
  {
   "cell_type": "code",
   "execution_count": 1,
   "id": "f7291242-61bf-49be-8b18-0c772ce22194",
   "metadata": {},
   "outputs": [],
   "source": [
    "import findspark\n",
    "findspark.init(\"/opt/homebrew/Cellar/apache-spark/3.5.0/libexec\")"
   ]
  },
  {
   "cell_type": "code",
   "execution_count": 2,
   "id": "80a7ea57-fbb0-450d-9355-2d915c9d8d50",
   "metadata": {},
   "outputs": [
    {
     "name": "stderr",
     "output_type": "stream",
     "text": [
      "24/04/07 05:12:27 WARN Utils: Your hostname, Michaels-MacBook-Pro.local resolves to a loopback address: 127.0.0.1, but we couldn't find any external IP address!\n",
      "24/04/07 05:12:27 WARN Utils: Set SPARK_LOCAL_IP if you need to bind to another address\n",
      "Setting default log level to \"WARN\".\n",
      "To adjust logging level use sc.setLogLevel(newLevel). For SparkR, use setLogLevel(newLevel).\n",
      "24/04/07 05:12:27 WARN NativeCodeLoader: Unable to load native-hadoop library for your platform... using builtin-java classes where applicable\n"
     ]
    }
   ],
   "source": [
    "from sklearn.datasets import fetch_california_housing\n",
    "from typing import Any\n",
    "import matplotlib.pyplot as plt\n",
    "from pyspark.sql import SparkSession\n",
    "from pyspark import keyword_only\n",
    "from pyspark.sql import functions as F\n",
    "from pyspark.sql import dataframe as DataFrame\n",
    "from pyspark.ml import Estimator, Transformer, Pipeline \n",
    "from pyspark.ml.pipeline import PipelineModel\n",
    "from pyspark.ml.param.shared import HasInputCols, HasOutputCols, Param, Params, TypeConverters\n",
    "from pyspark.ml.util import DefaultParamsReadable, DefaultParamsWritable\n",
    "from pyspark.ml.feature import VectorAssembler\n",
    "from pyspark.ml.regression import LinearRegression\n",
    "spark = SparkSession.builder.appName(\"test\").getOrCreate()"
   ]
  },
  {
   "cell_type": "markdown",
   "id": "970eb1b5-fc08-49be-8236-b79e7a7dd816",
   "metadata": {},
   "source": [
    "## Dataset\n",
    "\n",
    "Now let's obtain the data we will work with. A description of the data can be found here: https://scikit-learn.org/stable/modules/generated/sklearn.datasets.fetch_california_housing.html#sklearn.datasets.fetch_california_housing"
   ]
  },
  {
   "cell_type": "code",
   "execution_count": 3,
   "id": "97f692f2-001b-4a3c-8b60-cc92bc38bbc1",
   "metadata": {},
   "outputs": [],
   "source": [
    "# obtain data\n",
    "data = fetch_california_housing(as_frame=True)\n",
    "dfX = data[\"data\"]\n",
    "sY = data[\"target\"]"
   ]
  },
  {
   "cell_type": "code",
   "execution_count": 4,
   "id": "072e019a-c81e-4445-b52d-a8836ed61f7c",
   "metadata": {},
   "outputs": [
    {
     "data": {
      "text/html": [
       "<div>\n",
       "<style scoped>\n",
       "    .dataframe tbody tr th:only-of-type {\n",
       "        vertical-align: middle;\n",
       "    }\n",
       "\n",
       "    .dataframe tbody tr th {\n",
       "        vertical-align: top;\n",
       "    }\n",
       "\n",
       "    .dataframe thead th {\n",
       "        text-align: right;\n",
       "    }\n",
       "</style>\n",
       "<table border=\"1\" class=\"dataframe\">\n",
       "  <thead>\n",
       "    <tr style=\"text-align: right;\">\n",
       "      <th></th>\n",
       "      <th>MedInc</th>\n",
       "      <th>HouseAge</th>\n",
       "      <th>AveRooms</th>\n",
       "      <th>AveBedrms</th>\n",
       "      <th>Population</th>\n",
       "      <th>AveOccup</th>\n",
       "      <th>Latitude</th>\n",
       "      <th>Longitude</th>\n",
       "    </tr>\n",
       "  </thead>\n",
       "  <tbody>\n",
       "    <tr>\n",
       "      <th>0</th>\n",
       "      <td>8.3252</td>\n",
       "      <td>41.0</td>\n",
       "      <td>6.984127</td>\n",
       "      <td>1.023810</td>\n",
       "      <td>322.0</td>\n",
       "      <td>2.555556</td>\n",
       "      <td>37.88</td>\n",
       "      <td>-122.23</td>\n",
       "    </tr>\n",
       "    <tr>\n",
       "      <th>1</th>\n",
       "      <td>8.3014</td>\n",
       "      <td>21.0</td>\n",
       "      <td>6.238137</td>\n",
       "      <td>0.971880</td>\n",
       "      <td>2401.0</td>\n",
       "      <td>2.109842</td>\n",
       "      <td>37.86</td>\n",
       "      <td>-122.22</td>\n",
       "    </tr>\n",
       "    <tr>\n",
       "      <th>2</th>\n",
       "      <td>7.2574</td>\n",
       "      <td>52.0</td>\n",
       "      <td>8.288136</td>\n",
       "      <td>1.073446</td>\n",
       "      <td>496.0</td>\n",
       "      <td>2.802260</td>\n",
       "      <td>37.85</td>\n",
       "      <td>-122.24</td>\n",
       "    </tr>\n",
       "    <tr>\n",
       "      <th>3</th>\n",
       "      <td>5.6431</td>\n",
       "      <td>52.0</td>\n",
       "      <td>5.817352</td>\n",
       "      <td>1.073059</td>\n",
       "      <td>558.0</td>\n",
       "      <td>2.547945</td>\n",
       "      <td>37.85</td>\n",
       "      <td>-122.25</td>\n",
       "    </tr>\n",
       "    <tr>\n",
       "      <th>4</th>\n",
       "      <td>3.8462</td>\n",
       "      <td>52.0</td>\n",
       "      <td>6.281853</td>\n",
       "      <td>1.081081</td>\n",
       "      <td>565.0</td>\n",
       "      <td>2.181467</td>\n",
       "      <td>37.85</td>\n",
       "      <td>-122.25</td>\n",
       "    </tr>\n",
       "  </tbody>\n",
       "</table>\n",
       "</div>"
      ],
      "text/plain": [
       "   MedInc  HouseAge  AveRooms  AveBedrms  Population  AveOccup  Latitude  \\\n",
       "0  8.3252      41.0  6.984127   1.023810       322.0  2.555556     37.88   \n",
       "1  8.3014      21.0  6.238137   0.971880      2401.0  2.109842     37.86   \n",
       "2  7.2574      52.0  8.288136   1.073446       496.0  2.802260     37.85   \n",
       "3  5.6431      52.0  5.817352   1.073059       558.0  2.547945     37.85   \n",
       "4  3.8462      52.0  6.281853   1.081081       565.0  2.181467     37.85   \n",
       "\n",
       "   Longitude  \n",
       "0    -122.23  \n",
       "1    -122.22  \n",
       "2    -122.24  \n",
       "3    -122.25  \n",
       "4    -122.25  "
      ]
     },
     "execution_count": 4,
     "metadata": {},
     "output_type": "execute_result"
    }
   ],
   "source": [
    "dfX.head(5)"
   ]
  },
  {
   "cell_type": "markdown",
   "id": "0caf6d73-9c3e-4bf4-80ae-ad5ecfc33896",
   "metadata": {},
   "source": [
    "Let's generate a box plot to visualize the distribution and scale for our input features:"
   ]
  },
  {
   "cell_type": "code",
   "execution_count": 5,
   "id": "a31d1522-18a4-4ab1-a8ea-0a5ab511d8d5",
   "metadata": {},
   "outputs": [
    {
     "data": {
      "image/png": "[encoded data removed]",
      "text/plain": [
       "<Figure size 640x480 with 1 Axes>"
      ]
     },
     "metadata": {},
     "output_type": "display_data"
    }
   ],
   "source": [
    "dfX.boxplot(column=dfX.columns.tolist(), rot=45)\n",
    "plt.xlabel(\"feature\")\n",
    "plt.ylabel(\"amount\")\n",
    "plt.show()"
   ]
  },
  {
   "cell_type": "markdown",
   "id": "65d22d63-a8de-47c4-af9c-7d2b63ad5ce7",
   "metadata": {},
   "source": [
    "Since we'll be using linear regression, these features should be standardized. Our task in this notebook will be to create an estimator to do just this! Our estimator will learn the parameters necessary to convert each input feature to have a mean of 0.0, and standard deviation of 1.0.\n",
    "\n",
    "Before proceeding, let's place our data into a pyspark dataframe:"
   ]
  },
  {
   "cell_type": "code",
   "execution_count": 6,
   "id": "7dee63a0-00cd-4045-9839-378070dd52a4",
   "metadata": {},
   "outputs": [
    {
     "name": "stdout",
     "output_type": "stream",
     "text": [
      "+------+--------+------------------+------------------+----------+------------------+--------+---------+----------------+\n",
      "|MedInc|HouseAge|          AveRooms|         AveBedrms|Population|          AveOccup|Latitude|Longitude|MedianHouseValue|\n",
      "+------+--------+------------------+------------------+----------+------------------+--------+---------+----------------+\n",
      "|8.3252|    41.0| 6.984126984126984|1.0238095238095237|     322.0|2.5555555555555554|   37.88|  -122.23|           4.526|\n",
      "|8.3014|    21.0| 6.238137082601054|0.9718804920913884|    2401.0| 2.109841827768014|   37.86|  -122.22|           3.585|\n",
      "|7.2574|    52.0| 8.288135593220339| 1.073446327683616|     496.0|2.8022598870056497|   37.85|  -122.24|           3.521|\n",
      "|5.6431|    52.0|5.8173515981735155|1.0730593607305936|     558.0| 2.547945205479452|   37.85|  -122.25|           3.413|\n",
      "|3.8462|    52.0| 6.281853281853282|1.0810810810810811|     565.0|2.1814671814671813|   37.85|  -122.25|           3.422|\n",
      "+------+--------+------------------+------------------+----------+------------------+--------+---------+----------------+\n",
      "only showing top 5 rows\n",
      "\n"
     ]
    }
   ],
   "source": [
    "# package the data into a pyspark dataframe\n",
    "dfX[\"MedianHouseValue\"] = sY\n",
    "df = spark.createDataFrame(dfX)\n",
    "df.show(5)"
   ]
  },
  {
   "cell_type": "markdown",
   "id": "59c45860-8ee1-4c2d-a5c2-db9d08be8df4",
   "metadata": {},
   "source": [
    "## Custom Estimator\n",
    "\n",
    "This implementation will come in two parts:\n",
    "1. First, we need to build the transformer that will be returned by the estimator \n",
    "2. Second, we will implement the estimator to learn the correct parameters to perform standardization\n",
    "\n",
    "Now that we know what needs to be done, let's build a new estimator *CustomStandardScaler* and transformer *CustomStandardScalerModel*:"
   ]
  },
  {
   "cell_type": "code",
   "execution_count": 13,
   "id": "097edd55-4c81-4a21-9cc3-3fbe5a8fa015",
   "metadata": {},
   "outputs": [],
   "source": [
    "class CustomStandardScalerModel(Transformer, HasInputCols, HasOutputCols, DefaultParamsReadable, DefaultParamsWritable):\n",
    "    \"\"\"\n",
    "    Class to apply learned parameters on a set of input features, in order to standardize them\n",
    "    \"\"\"\n",
    "    means = Param(\n",
    "        Params._dummy(),\n",
    "        \"means\",\n",
    "        \"List of mean values for each input feature.\",\n",
    "        typeConverter=TypeConverters.toList,\n",
    "    )\n",
    "    stdevs = Param(\n",
    "        Params._dummy(),\n",
    "        \"stdevs\",\n",
    "        \"List of standard deviations for each input feature.\",\n",
    "        typeConverter=TypeConverters.toList,\n",
    "    )\n",
    "    \n",
    "    @keyword_only\n",
    "    def __init__(self,\n",
    "                 inputCols: list=[],\n",
    "                 outputCols: list=[],\n",
    "                 means: list=[],\n",
    "                 stdevs: list=[]) -> None:\n",
    "        \"\"\"\n",
    "        Function to initialise the class instance\n",
    "        \"\"\"\n",
    "        super().__init__()\n",
    "        self._setDefault(inputCols=[], outputCols=[], means=[], stdevs=[])\n",
    "        kwargs = self._input_kwargs\n",
    "        self.set_params(**kwargs)\n",
    "        \n",
    "        # check the input lists have the same length\n",
    "        if len(set([len(inputCols), len(outputCols), len(means), len(stdevs)])) != 1:\n",
    "            raise ValueError(\"Input lists have non-matching length!\")\n",
    "\n",
    "    @keyword_only\n",
    "    def set_params(self,\n",
    "                   inputCols: list=[],\n",
    "                   outputCols: list=[],\n",
    "                   means: list=[],\n",
    "                   stdevs: list=[]) -> None:\n",
    "        kwargs = self._input_kwargs\n",
    "        self._set(**kwargs)\n",
    "\n",
    "    def setMeans(self, new_means: list) -> Any:\n",
    "        return self.setParams(means=new_means)\n",
    "\n",
    "    def getMeans(self) -> list:\n",
    "        return self.getOrDefault(self.means)\n",
    "\n",
    "    def setStdevs(self, new_stdevs: list) -> Any:\n",
    "        return self.setParams(stdevs=new_stdevs)\n",
    "\n",
    "    def getStdevs(self) -> list:\n",
    "        return self.getOrDefault(self.stdevs)\n",
    "\n",
    "    def _transform(self, df: DataFrame) -> DataFrame:\n",
    "        \"\"\"\n",
    "        Function to standardize a set of input features in a dataframe\n",
    "        \"\"\"\n",
    "        # read in the transformer parameters\n",
    "        inputCols = self.getInputCols()\n",
    "        outputCols = self.getOutputCols()\n",
    "        means = self.getMeans()\n",
    "        stdevs = self.getStdevs()\n",
    "\n",
    "        # generate standardized output columns, and return\n",
    "        for input_col, output_col, mean, stdev in zip(inputCols, outputCols, means, stdevs):\n",
    "            df = df.withColumn(output_col, (F.col(input_col) - mean)/stdev)\n",
    "        return df"
   ]
  },
  {
   "cell_type": "code",
   "execution_count": 23,
   "id": "c8973182-b61c-484c-8335-c6815d14a6b3",
   "metadata": {},
   "outputs": [],
   "source": [
    "class CustomStandardScaler(Estimator, HasInputCols, HasOutputCols, DefaultParamsReadable, DefaultParamsWritable):\n",
    "    \"\"\"\n",
    "    Class to learn parameters needed to standardize a set of input features\n",
    "    \"\"\"\n",
    "    withMean = Param(\n",
    "        Params._dummy(),\n",
    "        \"withMean\",\n",
    "        \"Boolean to determine if standardizing will involve the mean.\",\n",
    "        typeConverter=TypeConverters.toBoolean,\n",
    "    )\n",
    "    withStd = Param(\n",
    "        Params._dummy(),\n",
    "        \"withStd\",\n",
    "        \"Boolean to determine if standardizing will involve the standard deviation.\",\n",
    "        typeConverter=TypeConverters.toBoolean,\n",
    "    )\n",
    "    \n",
    "    @keyword_only\n",
    "    def __init__(self,\n",
    "                 inputCols: list=[],\n",
    "                 outputCols: list=[],\n",
    "                 withMean: bool=True,\n",
    "                 withStd: bool=True) -> None:\n",
    "        \"\"\"\n",
    "        Function to initialise the class instance\n",
    "        \"\"\"\n",
    "        super().__init__()\n",
    "        self._setDefault(inputCols=[], outputCols=[], withMean=True, withStd=True)\n",
    "        kwargs = self._input_kwargs\n",
    "        self.set_params(**kwargs)\n",
    "        \n",
    "        # check the input lists have the same length\n",
    "        if len(inputCols) != len(outputCols):\n",
    "            raise ValueError(\"Input and output columns have non-matching length!\")\n",
    "\n",
    "    @keyword_only\n",
    "    def set_params(self,\n",
    "                   inputCols: list=[],\n",
    "                   outputCols: list=[],\n",
    "                   withMean: bool=True,\n",
    "                   withStd: bool=True) -> None:\n",
    "        kwargs = self._input_kwargs\n",
    "        self._set(**kwargs)\n",
    "\n",
    "    def setWithMean(self, new_withMean: bool) -> Any:\n",
    "        return self.setParams(withMean=new_withMean)\n",
    "\n",
    "    def getWithMean(self) -> bool:\n",
    "        return self.getOrDefault(self.withMean)\n",
    "\n",
    "    def setWithStd(self, new_withStd: bool) -> Any:\n",
    "        return self.setParams(withStd=new_withStd)\n",
    "\n",
    "    def getWithStd(self) -> bool:\n",
    "        return self.getOrDefault(self.withStd)\n",
    "\n",
    "    def _fit(self, df: DataFrame) -> CustomStandardScalerModel:\n",
    "        \"\"\"\n",
    "        Function to learn the standardizing parameters\n",
    "        \"\"\"\n",
    "        # read in the estimator parameters\n",
    "        inputCols = self.getInputCols()\n",
    "        outputCols = self.getOutputCols()\n",
    "        withMean = self.getWithMean()\n",
    "        withStd = self.getWithStd()\n",
    "\n",
    "        # compute means\n",
    "        if withMean:\n",
    "            means = [df.select(F.mean(col)).collect()[0][0] for col in inputCols]\n",
    "        else:\n",
    "            means  = [0.0 for col in inputCols]\n",
    "\n",
    "        # compute standard deviations\n",
    "        if withStd:\n",
    "            stdevs = [df.select(F.std(col)).collect()[0][0] for col in inputCols]\n",
    "        else:\n",
    "            stdevs = [1.0 for col in inputCols]\n",
    "\n",
    "        # return transformer\n",
    "        return CustomStandardScalerModel(inputCols=inputCols, outputCols=outputCols, means=means, stdevs=stdevs)"
   ]
  },
  {
   "cell_type": "markdown",
   "id": "112d822d-2495-4a9f-849c-4931796596e6",
   "metadata": {},
   "source": [
    "We can now test out our estimator & transformer to verify that they work:"
   ]
  },
  {
   "cell_type": "code",
   "execution_count": 17,
   "id": "c7d96d21-1c92-4fc2-85a5-8b1f830c8971",
   "metadata": {},
   "outputs": [],
   "source": [
    "# prepare input columns list\n",
    "input_columns = df.columns\n",
    "input_columns.remove(\"MedianHouseValue\")"
   ]
  },
  {
   "cell_type": "code",
   "execution_count": 19,
   "id": "40d951e7-c9a9-45eb-a863-89e0f9c40536",
   "metadata": {},
   "outputs": [],
   "source": [
    "# prepare output columns list\n",
    "output_columns = [col + \"_s\" for col in input_columns]"
   ]
  },
  {
   "cell_type": "code",
   "execution_count": 24,
   "id": "1ef1c3ba-2859-4eed-9a42-0cb0ac397283",
   "metadata": {},
   "outputs": [],
   "source": [
    "scalar = CustomStandardScaler(inputCols=input_columns, outputCols=output_columns, withMean=True, withStd=True)"
   ]
  },
  {
   "cell_type": "code",
   "execution_count": 25,
   "id": "0dbd81dd-5970-490a-9f92-96994c39a8fb",
   "metadata": {},
   "outputs": [],
   "source": [
    "scalar_model = scalar.fit(df)"
   ]
  },
  {
   "cell_type": "code",
   "execution_count": 26,
   "id": "f8c19d71-e7e8-4801-8672-896f192f9a4e",
   "metadata": {},
   "outputs": [
    {
     "data": {
      "text/plain": [
       "[3.8706710029069753,\n",
       " 28.639486434108527,\n",
       " 5.428999742190377,\n",
       " 1.0966751496062066,\n",
       " 1425.4767441860465,\n",
       " 3.070655159436372,\n",
       " 35.6318614341085,\n",
       " -119.56970445736444]"
      ]
     },
     "execution_count": 26,
     "metadata": {},
     "output_type": "execute_result"
    }
   ],
   "source": [
    "# check our learned means\n",
    "scalar_model.getMeans()"
   ]
  },
  {
   "cell_type": "code",
   "execution_count": 27,
   "id": "6ef872b2-a046-459a-9c77-271195121e70",
   "metadata": {},
   "outputs": [
    {
     "data": {
      "text/plain": [
       "[1.899821717945268,\n",
       " 12.585557612111646,\n",
       " 2.474173139424319,\n",
       " 0.4739108567954659,\n",
       " 1132.4621217653414,\n",
       " 10.386049562213614,\n",
       " 2.135952397457123,\n",
       " 2.0035317235025847]"
      ]
     },
     "execution_count": 27,
     "metadata": {},
     "output_type": "execute_result"
    }
   ],
   "source": [
    "# check our learned standard deviations\n",
    "scalar_model.getStdevs()"
   ]
  },
  {
   "cell_type": "code",
   "execution_count": 28,
   "id": "728118e1-c580-4bb9-9f7e-b4d408521e87",
   "metadata": {},
   "outputs": [],
   "source": [
    "df = scalar_model.transform(df)"
   ]
  },
  {
   "cell_type": "code",
   "execution_count": 31,
   "id": "a4733bc2-3956-45aa-a1f0-07eba705d4bb",
   "metadata": {},
   "outputs": [
    {
     "data": {
      "image/png": "[encoded data removed]",
      "text/plain": [
       "<Figure size 640x480 with 1 Axes>"
      ]
     },
     "metadata": {},
     "output_type": "display_data"
    }
   ],
   "source": [
    "# plot the standardized features\n",
    "dfP = df.select(output_columns).toPandas()\n",
    "ax = dfP.boxplot(column=dfP.columns.tolist(), rot=45)\n",
    "ax.set_ylim(-5, 5)\n",
    "plt.xlabel(\"feature\")\n",
    "plt.ylabel(\"amount\")\n",
    "plt.show()"
   ]
  },
  {
   "cell_type": "markdown",
   "id": "ef84c786-95e1-41c3-8294-953ec588509e",
   "metadata": {},
   "source": [
    "We can see that our custom standard scaler has transformed our data, such that all the features exist at similar scales. It is important to note that differences do persist between the features, however (i.e. number and distribution of outliers, range of quartiles, etc). Nevertheless, these results are exactly what we would expect from standardization (refer to Notebook XXVI on Pyspark Pipelines).\n",
    "\n",
    "## Using our Estimator in a Pipeline\n",
    "\n",
    "The strength of writing our own estimators comes when applying them within a machine learning pipeline. Here we'll now incorporate the class we wrote above into a pipeline for modelling our data."
   ]
  },
  {
   "cell_type": "code",
   "execution_count": 32,
   "id": "74fc0acf-e652-4a18-a4db-1587a44e2880",
   "metadata": {},
   "outputs": [
    {
     "name": "stdout",
     "output_type": "stream",
     "text": [
      "Total number of samples in dataset: 20640, training samples: 16463, testing samples: 4177\n"
     ]
    }
   ],
   "source": [
    "# perform a train-test split\n",
    "dfTrain, dfTest = df.randomSplit([0.8,0.2])\n",
    "print(f\"Total number of samples in dataset: {df.count()}, training samples: {dfTrain.count()}, testing samples: {dfTest.count()}\")"
   ]
  },
  {
   "cell_type": "code",
   "execution_count": 33,
   "id": "6cc660e5-7e17-44ea-9a4d-ca6a6d38c0aa",
   "metadata": {},
   "outputs": [],
   "source": [
    "# define the pipeline\n",
    "pipeline = Pipeline(stages=[\n",
    "    CustomStandardScaler(inputCols=input_columns, outputCols=output_columns),\n",
    "    VectorAssembler(inputCols = output_columns, outputCol=\"Features\"),\n",
    "    LinearRegression(featuresCol = 'Features', labelCol = 'MedianHouseValue', regParam = 0.01)\n",
    "])"
   ]
  },
  {
   "cell_type": "code",
   "execution_count": 34,
   "id": "efe5cfd3-5517-473b-a33b-3e44747cddfc",
   "metadata": {},
   "outputs": [
    {
     "name": "stderr",
     "output_type": "stream",
     "text": [
      "24/04/07 06:13:56 WARN InstanceBuilder: Failed to load implementation from:dev.ludovic.netlib.blas.JNIBLAS\n",
      "24/04/07 06:13:56 WARN InstanceBuilder: Failed to load implementation from:dev.ludovic.netlib.lapack.JNILAPACK\n"
     ]
    }
   ],
   "source": [
    "# train the pipeline\n",
    "model = pipeline.fit(dfTrain)"
   ]
  },
  {
   "cell_type": "code",
   "execution_count": 35,
   "id": "4dd2512f-07de-4c26-bc2f-13ee10a90959",
   "metadata": {},
   "outputs": [],
   "source": [
    "# make predictions on the test set\n",
    "dfPred = model.transform(dfTest)"
   ]
  },
  {
   "cell_type": "code",
   "execution_count": 36,
   "id": "449f5311-55e7-4145-ab15-e2691267d819",
   "metadata": {},
   "outputs": [
    {
     "name": "stdout",
     "output_type": "stream",
     "text": [
      "+----------------+------------------+\n",
      "|MedianHouseValue|        prediction|\n",
      "+----------------+------------------+\n",
      "|           1.042| 1.057177511489855|\n",
      "|           0.952|1.3018628997662158|\n",
      "|           1.625| 1.316618183921713|\n",
      "|           1.625|1.0314613645717672|\n",
      "|           0.518| 0.580490555068186|\n",
      "+----------------+------------------+\n",
      "only showing top 5 rows\n",
      "\n"
     ]
    }
   ],
   "source": [
    "dfPred.select(\"MedianHouseValue\",\"prediction\").show(5)"
   ]
  },
  {
   "cell_type": "code",
   "execution_count": 37,
   "id": "79247bfc-f590-4160-8af5-7813b2883c97",
   "metadata": {},
   "outputs": [
    {
     "name": "stdout",
     "output_type": "stream",
     "text": [
      "+------------------+\n",
      "|               MSE|\n",
      "+------------------+\n",
      "|0.5190910966689919|\n",
      "+------------------+\n",
      "\n"
     ]
    }
   ],
   "source": [
    "n_samples = dfPred.count()\n",
    "dfPred.select( (1/n_samples * F.sum(F.pow(F.col(\"MedianHouseValue\") - F.col(\"prediction\"),2))).alias(\"MSE\") ).show()"
   ]
  },
  {
   "cell_type": "markdown",
   "id": "d26fee60-0ba0-4446-9732-a6e5ef3de917",
   "metadata": {},
   "source": [
    "It is evident that the pipeline model is working correctly.\n",
    "\n",
    "Another nice benefit of pipelines is that we can save our entire workflow, for use at a later time. To save our current pipeline:"
   ]
  },
  {
   "cell_type": "code",
   "execution_count": 38,
   "id": "78c07cd7-71ad-4d2c-86f3-892f484fc36f",
   "metadata": {},
   "outputs": [],
   "source": [
    "# write the trained model to disk\n",
    "model.write().overwrite().save(\"./trained_pipeline\")"
   ]
  },
  {
   "cell_type": "code",
   "execution_count": 39,
   "id": "94c588c9-bf93-4f74-b771-33139eb4077f",
   "metadata": {},
   "outputs": [],
   "source": [
    "# load the saved model, and confirm it works\n",
    "model2 = PipelineModel.load(\"./trained_pipeline\")"
   ]
  },
  {
   "cell_type": "code",
   "execution_count": 40,
   "id": "87c57f3e-9211-485f-b8fb-01b51e086006",
   "metadata": {},
   "outputs": [
    {
     "name": "stdout",
     "output_type": "stream",
     "text": [
      "+----------------+------------------+\n",
      "|MedianHouseValue|        prediction|\n",
      "+----------------+------------------+\n",
      "|           1.042| 1.057177511489855|\n",
      "|           0.952|1.3018628997662158|\n",
      "|           1.625| 1.316618183921713|\n",
      "|           1.625|1.0314613645717672|\n",
      "|           0.518| 0.580490555068186|\n",
      "+----------------+------------------+\n",
      "only showing top 5 rows\n",
      "\n"
     ]
    }
   ],
   "source": [
    "dfPred = model2.transform(dfTest)\n",
    "dfPred.select(\"MedianHouseValue\",\"prediction\").show(5)"
   ]
  },
  {
   "cell_type": "markdown",
   "id": "c78d6b7b-d04f-4bce-89cc-d4c1e14c3f51",
   "metadata": {},
   "source": [
    "This result is exactly the same as that obtained earlier above."
   ]
  },
  {
   "cell_type": "code",
   "execution_count": 42,
   "id": "43a8b114-e1b2-4ef8-8b0c-b624615ea109",
   "metadata": {},
   "outputs": [],
   "source": [
    "spark.stop()"
   ]
  },
  {
   "cell_type": "code",
   "execution_count": null,
   "id": "08d385d6-e7f4-431a-a9a3-4c81018a6733",
   "metadata": {},
   "outputs": [],
   "source": []
  }
 ],
 "metadata": {
  "kernelspec": {
   "display_name": "Python 3 (ipykernel)",
   "language": "python",
   "name": "python3"
  },
  "language_info": {
   "codemirror_mode": {
    "name": "ipython",
    "version": 3
   },
   "file_extension": ".py",
   "mimetype": "text/x-python",
   "name": "python",
   "nbconvert_exporter": "python",
   "pygments_lexer": "ipython3",
   "version": "3.9.18"
  }
 },
 "nbformat": 4,
 "nbformat_minor": 5
}
