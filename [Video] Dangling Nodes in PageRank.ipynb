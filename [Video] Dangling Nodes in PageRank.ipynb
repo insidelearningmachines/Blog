{
 "cells": [
  {
   "cell_type": "markdown",
   "id": "1e241b25-a4c2-4605-a168-30a7bd221c65",
   "metadata": {},
   "source": [
    "# Dangling Nodes in PageRank\n",
    "\n",
    "This notebook serves as material for my video on Personalized PageRank. You can view this video on my YouTube channel (https://www.youtube.com/@insidelearningmachines). \n",
    "\n",
    "In a previous article on my blog (https://insidelearningmachines.com/learn_the_pagerank_algorithm/), I introduced the PageRank algorithm. PageRank is a graph algorithm, that can be used to rate the relative importance of nodes within a graph. Originally, PageRank was developed at Google to serve as the basis for its search engine logic.\n",
    "\n",
    "The example graph I used in the previous article also included a node with no out-going connections; what is called a *dangling node*. Strictly speaking, the PageRank algorithm isn't defined for such nodes, as the out-degree of each node occures in the denominator of the update rule. Let's now try to properly treat for these nodes.\n",
    "\n",
    "Let's begin by importing the necessary packages:"
   ]
  },
  {
   "cell_type": "code",
   "execution_count": 1,
   "id": "828f4ef1-52d7-477d-988e-6c798e55ef33",
   "metadata": {},
   "outputs": [],
   "source": [
    "import sknetwork as skn\n",
    "import numpy as np\n",
    "from typing import Tuple, List\n",
    "from IPython.display import SVG"
   ]
  },
  {
   "cell_type": "markdown",
   "id": "5af22031-22e0-4107-805f-ff0ccdca6f95",
   "metadata": {},
   "source": [
    "And now we can run the notebook from the PageRank post to load in the objects implemented there:"
   ]
  },
  {
   "cell_type": "code",
   "execution_count": 2,
   "id": "5bbc97fc-49a6-4504-b277-28cfdbecce68",
   "metadata": {},
   "outputs": [],
   "source": [
    "%run Notebook\\ XXIX\\ Learn\\ the\\ PageRank\\ Algorithm\\ with\\ 1\\ Simple\\ Example.ipynb"
   ]
  },
  {
   "cell_type": "code",
   "execution_count": 3,
   "id": "fe08d95e-473c-4da3-b8c4-e1af405f4204",
   "metadata": {},
   "outputs": [
    {
     "data": {
      "text/plain": [
       "[('A', 'B'),\n",
       " ('B', 'D'),\n",
       " ('D', 'A'),\n",
       " ('D', 'C'),\n",
       " ('A', 'C'),\n",
       " ('C', 'A'),\n",
       " ('D', 'E'),\n",
       " ('F', 'D')]"
      ]
     },
     "execution_count": 3,
     "metadata": {},
     "output_type": "execute_result"
    }
   ],
   "source": [
    "edges"
   ]
  },
  {
   "cell_type": "code",
   "execution_count": 4,
   "id": "1369e0eb-6345-429e-af92-569fff41de93",
   "metadata": {},
   "outputs": [],
   "source": [
    "graph = skn.data.from_edge_list(edges, directed=True)"
   ]
  },
  {
   "cell_type": "code",
   "execution_count": 5,
   "id": "a3a7a974-5de6-4545-90c8-192f5f26483a",
   "metadata": {},
   "outputs": [
    {
     "data": {
      "image/svg+xml": [
       "<svg xmlns=\"http://www.w3.org/2000/svg\" width=\"452.0\" height=\"352\">\n",
       "<defs><marker id=\"arrow-gray\" markerWidth=\"10\" markerHeight=\"10\" refX=\"9\" refY=\"3\" orient=\"auto\">\n",
       "<path d=\"M0,0 L0,6 L9,3 z\" fill=\"gray\"/></marker></defs>\n",
       "<path stroke-width=\"1\" stroke=\"gray\" d=\"M 40 230 128 327\" marker-end=\"url(#arrow-gray)\"/>\n",
       "<path stroke-width=\"1\" stroke=\"gray\" d=\"M 40 230 27 135\" marker-end=\"url(#arrow-gray)\"/>\n",
       "<path stroke-width=\"1\" stroke=\"gray\" d=\"M 132 332 218 186\" marker-end=\"url(#arrow-gray)\"/>\n",
       "<path stroke-width=\"1\" stroke=\"gray\" d=\"M 26 129 39 224\" marker-end=\"url(#arrow-gray)\"/>\n",
       "<path stroke-width=\"1\" stroke=\"gray\" d=\"M 221 180 46 229\" marker-end=\"url(#arrow-gray)\"/>\n",
       "<path stroke-width=\"1\" stroke=\"gray\" d=\"M 221 180 32 130\" marker-end=\"url(#arrow-gray)\"/>\n",
       "<path stroke-width=\"1\" stroke=\"gray\" d=\"M 221 180 420 239\" marker-end=\"url(#arrow-gray)\"/>\n",
       "<path stroke-width=\"1\" stroke=\"gray\" d=\"M 329 32 225 175\" marker-end=\"url(#arrow-gray)\"/>\n",
       "<circle cx=\"40\" cy=\"230\" r=\"7.0\" style=\"fill:gray;stroke:black;stroke-width:1.0\"/>\n",
       "<circle cx=\"132\" cy=\"332\" r=\"7.0\" style=\"fill:gray;stroke:black;stroke-width:1.0\"/>\n",
       "<circle cx=\"26\" cy=\"129\" r=\"7.0\" style=\"fill:gray;stroke:black;stroke-width:1.0\"/>\n",
       "<circle cx=\"221\" cy=\"180\" r=\"7.0\" style=\"fill:gray;stroke:black;stroke-width:1.0\"/>\n",
       "<circle cx=\"426\" cy=\"240\" r=\"7.0\" style=\"fill:gray;stroke:black;stroke-width:1.0\"/>\n",
       "<circle cx=\"329\" cy=\"32\" r=\"7.0\" style=\"fill:gray;stroke:black;stroke-width:1.0\"/>\n",
       "<text text-anchor=\"middle\" x=\"40\" y=\"220\" font-size=\"12\">A</text><text text-anchor=\"middle\" x=\"132\" y=\"322\" font-size=\"12\">B</text><text text-anchor=\"middle\" x=\"26\" y=\"119\" font-size=\"12\">C</text><text text-anchor=\"middle\" x=\"221\" y=\"170\" font-size=\"12\">D</text><text text-anchor=\"middle\" x=\"426\" y=\"230\" font-size=\"12\">E</text><text text-anchor=\"middle\" x=\"329\" y=\"22\" font-size=\"12\">F</text></svg>"
      ],
      "text/plain": [
       "<IPython.core.display.SVG object>"
      ]
     },
     "execution_count": 5,
     "metadata": {},
     "output_type": "execute_result"
    }
   ],
   "source": [
    "image = skn.visualization.graphs.visualize_graph(adjacency=graph.adjacency, names=graph.names, name_position='above')\n",
    "SVG(image)"
   ]
  },
  {
   "cell_type": "markdown",
   "id": "7ba5d697-5618-40eb-87a1-15426e44297b",
   "metadata": {},
   "source": [
    "Previously we saw that the PageRank update rule is given by:\n",
    "\n",
    "${\\bf P_r(t+1)} = d{\\bf \\hat{O}P_r(t)} + \\frac{1-d}{N_p}{\\bf 1}$\n",
    "\n",
    "Where: \n",
    "* ${\\bf P_r(t)}$ is a column vector containing all the page ranks at step $t$\n",
    "* ${\\bf \\hat{O}}$ is a modified form of the adacency matrix, where each element $\\hat{O}_{i,j}$ is the ratio of edges from $j \\rightarrow i$ divided by the total out-degree of node $j$\n",
    "* ${\\bf 1}$ is a column vector consisting of $N_p$ elements.\n",
    "\n",
    "The modified adacency matrix is given by: ${\\bf \\hat{O} = OD}$, where ${\\bf O}$ is the standard adacency matrix, and ${\\bf D}$ is a diagonal matrix with the inverse out-degree of each node.\n",
    "\n",
    "Let's explore 3 different options for dealing with dangling nodes:\n",
    "1. **Option 1** : redistribute the probability mass, at the dangling nodes, back to all nodes in the graph\n",
    "2. **Option 2** : link dangling nodes back to the nodes that link to them\n",
    "3. **Option 3** : link dangling nodes to themselves, and back to the nodes that link to them\n",
    "\n",
    "## Option 1\n",
    "\n",
    "We can modify the update rule above, to accommodate the redistribution of probability mass landing at the dangling nodes in the graph:\n",
    "\n",
    "${\\bf P_r(t+1)} = d\\left[{\\bf \\hat{O}P_r(t)} + \\frac{m(t)}{N_p}\\right] + \\frac{1-d}{N_p}{\\bf 1}$\n",
    "\n",
    "where $m(t)$ is the net probability mass at the dangling nodes at iteration $t$. You can see more information on this here: https://www.dcs.bbk.ac.uk/~dell/teaching/cc/book/ditp/ditp_ch5_3.pdf"
   ]
  },
  {
   "cell_type": "code",
   "execution_count": 6,
   "id": "4ce6adcd-4563-4e2a-858c-1d3583e96a6a",
   "metadata": {},
   "outputs": [],
   "source": [
    "class PageRankWithDanglingNodes(PageRank):\n",
    "\n",
    "    def _step(self, P1: np.array, I: np.array, graph: Graph) -> np.array:\n",
    "        # detect dangling nodes in the graph & record the respective pageranks\n",
    "        dangling_nodes_indices = np.where(np.sum(graph.get_modified_adjacency_matrix(),axis=0) == 0)[0].tolist()\n",
    "        net_probability_at_dangling_nodes = np.sum(P1[dangling_nodes_indices])\n",
    "        # compute the new pageranks\n",
    "        N = graph.get_number_nodes()\n",
    "        P2 = (\n",
    "            self.damping_factor*(np.matmul(graph.get_modified_adjacency_matrix(),P1) + net_probability_at_dangling_nodes/N)\n",
    "            + (1 - self.damping_factor)*I/N\n",
    "        )\n",
    "        return(P2/np.sum(P2))"
   ]
  },
  {
   "cell_type": "code",
   "execution_count": 7,
   "id": "e81e62d4-17d7-49e6-80ef-4450f7e46b72",
   "metadata": {},
   "outputs": [],
   "source": [
    "# create a graph object\n",
    "graph = Graph(edges)"
   ]
  },
  {
   "cell_type": "code",
   "execution_count": 8,
   "id": "f0a625e9-3d2e-415d-aa16-cbe9c6c947a9",
   "metadata": {},
   "outputs": [],
   "source": [
    "# create a pagerank object\n",
    "pr = PageRankWithDanglingNodes()"
   ]
  },
  {
   "cell_type": "code",
   "execution_count": 9,
   "id": "907df4b0-16e3-4d56-a004-6f1b0a40727c",
   "metadata": {},
   "outputs": [],
   "source": [
    "# compute pageranks\n",
    "ranks = pr.evaluate(graph)"
   ]
  },
  {
   "cell_type": "code",
   "execution_count": 10,
   "id": "5bfaff9a-bea8-487a-8f35-ecfc08c708fe",
   "metadata": {},
   "outputs": [
    {
     "data": {
      "text/plain": [
       "{'A': 0.28179735791394,\n",
       " 'B': 0.15854751460540928,\n",
       " 'C': 0.21706013038330138,\n",
       " 'D': 0.20651511056758282,\n",
       " 'E': 0.09729625115382935,\n",
       " 'F': 0.038783635375937243}"
      ]
     },
     "execution_count": 10,
     "metadata": {},
     "output_type": "execute_result"
    }
   ],
   "source": [
    "ranks"
   ]
  },
  {
   "cell_type": "markdown",
   "id": "a2736fd4-71d2-44e9-a338-0295252e2c4b",
   "metadata": {},
   "source": [
    "## Option 2\n",
    "\n",
    "In this scenario, we identify the dangling nodes, and then connect them back to the nodes that link to them."
   ]
  },
  {
   "cell_type": "code",
   "execution_count": 11,
   "id": "a332a816-e38e-4b67-bc2f-5e024987ebe5",
   "metadata": {},
   "outputs": [],
   "source": [
    "class GraphWithDanglingNodesOption2(Graph):\n",
    "\n",
    "    def __init__(self, edges: List[Tuple]) -> None:\n",
    "        # process dangling nodes\n",
    "        nodes, src_nodes = set(), set()\n",
    "        for edge in edges:\n",
    "            nodes.update(list(edge))\n",
    "            src_nodes.update(edge[0])\n",
    "        dangling_nodes = nodes.difference(src_nodes)\n",
    "        new_edges = [(edge[1],edge[0]) for edge in edges if edge[1] in dangling_nodes]\n",
    "        augmented_edges = edges.copy()\n",
    "        augmented_edges.extend(new_edges)\n",
    "        # call the base class initializer\n",
    "        super().__init__(augmented_edges)"
   ]
  },
  {
   "cell_type": "code",
   "execution_count": 12,
   "id": "091d21f2-d394-4a82-8c9f-f87265e46a81",
   "metadata": {},
   "outputs": [],
   "source": [
    "# create a graph object\n",
    "graph = GraphWithDanglingNodesOption2(edges)"
   ]
  },
  {
   "cell_type": "code",
   "execution_count": 13,
   "id": "4c097cb3-4506-43e6-9eec-3d743764d75d",
   "metadata": {},
   "outputs": [
    {
     "data": {
      "text/plain": [
       "[('A', 'B'),\n",
       " ('B', 'D'),\n",
       " ('D', 'A'),\n",
       " ('D', 'C'),\n",
       " ('A', 'C'),\n",
       " ('C', 'A'),\n",
       " ('D', 'E'),\n",
       " ('F', 'D'),\n",
       " ('E', 'D')]"
      ]
     },
     "execution_count": 13,
     "metadata": {},
     "output_type": "execute_result"
    }
   ],
   "source": [
    "graph.edges"
   ]
  },
  {
   "cell_type": "code",
   "execution_count": 14,
   "id": "4ef8e47e-3192-4314-915c-e77d7cb57b8e",
   "metadata": {},
   "outputs": [],
   "source": [
    "# create a pagerank object\n",
    "pr = PageRank()"
   ]
  },
  {
   "cell_type": "code",
   "execution_count": 15,
   "id": "e91d084d-2681-4b4e-bb6f-40180415887a",
   "metadata": {},
   "outputs": [],
   "source": [
    "# compute pageranks\n",
    "ranks = pr.evaluate(graph)"
   ]
  },
  {
   "cell_type": "code",
   "execution_count": 16,
   "id": "9832ace6-8432-4320-8657-5a6946f763d0",
   "metadata": {},
   "outputs": [
    {
     "data": {
      "text/plain": [
       "{'A': 0.27618947060566906,\n",
       " 'B': 0.14238052355314793,\n",
       " 'C': 0.21274053523551398,\n",
       " 'D': 0.24832945892330296,\n",
       " 'E': 0.09536001168236606,\n",
       " 'F': 0.025000000000000005}"
      ]
     },
     "execution_count": 16,
     "metadata": {},
     "output_type": "execute_result"
    }
   ],
   "source": [
    "ranks"
   ]
  },
  {
   "cell_type": "markdown",
   "id": "3d971ab2-230b-4760-a695-ca9e1c3664f8",
   "metadata": {},
   "source": [
    "## Option 3\n",
    "\n",
    "Like before, here we identify the dangling nodes, and then add 2 new edges per dangling node: \n",
    "1. one edge that connects the dangling nodes back to the nodes that link to them\n",
    "2. one edge that connects the dangling nodes to themselves"
   ]
  },
  {
   "cell_type": "code",
   "execution_count": 17,
   "id": "995ceb6c-840d-4abd-891d-5412795a1724",
   "metadata": {},
   "outputs": [],
   "source": [
    "class GraphWithDanglingNodesOption3(Graph):\n",
    "\n",
    "    def __init__(self, edges: List[Tuple]) -> None:\n",
    "        # process dangling nodes\n",
    "        nodes, src_nodes = set(), set()\n",
    "        for edge in edges:\n",
    "            nodes.update(list(edge))\n",
    "            src_nodes.update(edge[0])\n",
    "        dangling_nodes = nodes.difference(src_nodes)\n",
    "        new_edges = [(edge[1],edge[1]) for edge in edges if edge[1] in dangling_nodes]\n",
    "        new_edges.extend([(edge[1],edge[0]) for edge in edges if edge[1] in dangling_nodes])\n",
    "        augmented_edges = edges.copy()\n",
    "        augmented_edges.extend(new_edges)\n",
    "        # call the base class initializer\n",
    "        super().__init__(augmented_edges)"
   ]
  },
  {
   "cell_type": "code",
   "execution_count": 18,
   "id": "d4590a34-d611-49e5-a504-1755d10013e5",
   "metadata": {},
   "outputs": [],
   "source": [
    "# create a graph object\n",
    "graph = GraphWithDanglingNodesOption3(edges)"
   ]
  },
  {
   "cell_type": "code",
   "execution_count": 19,
   "id": "7af7be18-9f56-4f2c-a649-a1ffa90c1375",
   "metadata": {},
   "outputs": [
    {
     "data": {
      "text/plain": [
       "[('A', 'B'),\n",
       " ('B', 'D'),\n",
       " ('D', 'A'),\n",
       " ('D', 'C'),\n",
       " ('A', 'C'),\n",
       " ('C', 'A'),\n",
       " ('D', 'E'),\n",
       " ('F', 'D'),\n",
       " ('E', 'E'),\n",
       " ('E', 'D')]"
      ]
     },
     "execution_count": 19,
     "metadata": {},
     "output_type": "execute_result"
    }
   ],
   "source": [
    "graph.edges"
   ]
  },
  {
   "cell_type": "code",
   "execution_count": 20,
   "id": "5a7c7fd6-4619-47c6-89bf-205d295118b3",
   "metadata": {},
   "outputs": [],
   "source": [
    "# compute pageranks\n",
    "ranks = pr.evaluate(graph)"
   ]
  },
  {
   "cell_type": "code",
   "execution_count": 21,
   "id": "a11e4917-d65e-4376-aed6-a3801602c6ec",
   "metadata": {},
   "outputs": [
    {
     "data": {
      "text/plain": [
       "{'A': 0.2586315496119937,\n",
       " 'B': 0.1349184068419662,\n",
       " 'C': 0.19921619058765377,\n",
       " 'D': 0.22693335865656059,\n",
       " 'E': 0.15530049430182583,\n",
       " 'F': 0.025000000000000005}"
      ]
     },
     "execution_count": 21,
     "metadata": {},
     "output_type": "execute_result"
    }
   ],
   "source": [
    "ranks"
   ]
  },
  {
   "cell_type": "markdown",
   "id": "43dce5e8-be80-4da3-b838-f643aeaf5e8e",
   "metadata": {},
   "source": [
    "## Results\n",
    "\n",
    "Node | Original PageRank | Option 1 | Option 2 | Option 3 | sknetwork PageRank\n",
    "--- | --- | --- | --- | --- | ---\n",
    "A | 0.295 | 0.282 | 0.276 | 0.259 | 0.247\n",
    "B | 0.163 | 0.158 | 0.142 | 0.135 | 0.137\n",
    "C | 0.224 | 0.217 | 0.213 | 0.199 | 0.189\n",
    "D | 0.202 | 0.206 | 0.248 | 0.227 | 0.172\n",
    "E | 0.089 | 0.097 | 0.095 | 0.155 | 0.227\n",
    "F | 0.027 | 0.039 | 0.025 | 0.025 | 0.026\n",
    "\n",
    "Which option makes the most sense? \n",
    "\n",
    "Keep in mind we have kept the damping factor at $d = 0.85$. How do the results change if we alter this value?"
   ]
  },
  {
   "cell_type": "code",
   "execution_count": null,
   "id": "48af536a-2875-46bd-978d-669acdab7f60",
   "metadata": {},
   "outputs": [],
   "source": []
  }
 ],
 "metadata": {
  "kernelspec": {
   "display_name": "Python 3 (ipykernel)",
   "language": "python",
   "name": "python3"
  },
  "language_info": {
   "codemirror_mode": {
    "name": "ipython",
    "version": 3
   },
   "file_extension": ".py",
   "mimetype": "text/x-python",
   "name": "python",
   "nbconvert_exporter": "python",
   "pygments_lexer": "ipython3",
   "version": "3.9.18"
  }
 },
 "nbformat": 4,
 "nbformat_minor": 5
}
