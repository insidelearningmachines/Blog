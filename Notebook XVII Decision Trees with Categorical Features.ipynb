{
 "cells": [
  {
   "cell_type": "markdown",
   "id": "80e0e038",
   "metadata": {},
   "source": [
    "# Decision Trees & Categorical Features\n",
    "\n",
    "In this notebook I will implement decision tree models that can handle categorical features. Examples will be considered for both classification and regression cases. Synethetic data will be used to test both use cases. The implemented models will be compared to the decision trees available through scikit-learn."
   ]
  },
  {
   "cell_type": "code",
   "execution_count": 1,
   "id": "1b44e4a5",
   "metadata": {},
   "outputs": [],
   "source": [
    "# imports\n",
    "from __future__ import annotations\n",
    "from typing import Tuple\n",
    "from abc import ABC,abstractmethod\n",
    "from scipy import stats\n",
    "from random import choices\n",
    "import numpy as np\n",
    "import matplotlib.pyplot as plt\n",
    "from sklearn.model_selection import train_test_split\n",
    "from sklearn.datasets import make_classification,make_regression\n",
    "from sklearn.metrics import accuracy_score,precision_score,recall_score,mean_squared_error,mean_absolute_error"
   ]
  },
  {
   "cell_type": "code",
   "execution_count": 2,
   "id": "69b386e5",
   "metadata": {},
   "outputs": [],
   "source": [
    "class Node(object):\n",
    "    \"\"\"\n",
    "    Class to define & control tree nodes\n",
    "    \"\"\"\n",
    "    \n",
    "    def __init__(self) -> None:\n",
    "        \"\"\"\n",
    "        Initializer for a Node class instance\n",
    "        \"\"\"\n",
    "        self.__split    = None\n",
    "        self.__feature  = None\n",
    "        self.__left     = None\n",
    "        self.__right    = None\n",
    "        self.leaf_value = None\n",
    "\n",
    "    def set_params(self, split: float, feature: int) -> None:\n",
    "        \"\"\"\n",
    "        Set the split & feature parameters for this node\n",
    "        \n",
    "        Input:\n",
    "            split   -> value to split feature on\n",
    "            feature -> index of feature to be used in splitting \n",
    "        \"\"\"\n",
    "        self.__split   = split\n",
    "        self.__feature = feature\n",
    "        \n",
    "    def get_params(self) -> Tuple[float,int]:\n",
    "        \"\"\"\n",
    "        Get the split & feature parameters for this node\n",
    "        \n",
    "        Output:\n",
    "            Tuple containing (split,feature) pair\n",
    "        \"\"\"\n",
    "        return(self.__split, self.__feature)    \n",
    "        \n",
    "    def set_children(self, left: Node, right: Node) -> None:\n",
    "        \"\"\"\n",
    "        Set the left/right child nodes for the current node\n",
    "        \n",
    "        Inputs:\n",
    "            left  -> LHS child node\n",
    "            right -> RHS child node\n",
    "        \"\"\"\n",
    "        self.__left  = left\n",
    "        self.__right = right\n",
    "        \n",
    "    def get_left_node(self) -> Node:\n",
    "        \"\"\"\n",
    "        Get the left child node\n",
    "        \n",
    "        Output:\n",
    "            LHS child node\n",
    "        \"\"\"\n",
    "        return(self.__left)\n",
    "    \n",
    "    def get_right_node(self) -> Node:\n",
    "        \"\"\"\n",
    "        Get the RHS child node\n",
    "        \n",
    "        Output:\n",
    "            RHS child node\n",
    "        \"\"\"\n",
    "        return(self.__right)"
   ]
  },
  {
   "cell_type": "code",
   "execution_count": 3,
   "id": "6f1c7d61",
   "metadata": {},
   "outputs": [],
   "source": [
    "class DecisionTree(ABC):\n",
    "    \"\"\"\n",
    "    Base class to encompass the CART algorithm\n",
    "    \"\"\"\n",
    "    \n",
    "    def __init__(self, max_depth: int=None, min_samples_split: int=2) -> None:\n",
    "        \"\"\"\n",
    "        Initializer\n",
    "        \n",
    "        Inputs:\n",
    "            max_depth         -> maximum depth the tree can grow\n",
    "            min_samples_split -> minimum number of samples required to split a node\n",
    "        \"\"\"\n",
    "        self.tree              = None\n",
    "        self.schema            = {} # ***CHANGES HERE***\n",
    "        self.max_depth         = max_depth\n",
    "        self.min_samples_split = min_samples_split\n",
    "        \n",
    "    @abstractmethod\n",
    "    def _impurity(self, D: np.array) -> None:\n",
    "        \"\"\"\n",
    "        Protected function to define the impurity\n",
    "        \"\"\"\n",
    "        pass\n",
    "        \n",
    "    @abstractmethod\n",
    "    def _leaf_value(self, D: np.array) -> None:\n",
    "        \"\"\"\n",
    "        Protected function to compute the value at a leaf node\n",
    "        \"\"\"\n",
    "        pass\n",
    "        \n",
    "    def __grow(self, node: Node, D: np.array, level: int) -> None:\n",
    "        \"\"\"\n",
    "        Private recursive function to grow the tree during training\n",
    "        \n",
    "        Inputs:\n",
    "            node  -> input tree node\n",
    "            D     -> sample of data at node \n",
    "            level -> depth level in the tree for node\n",
    "        \"\"\"\n",
    "        # are we in a leaf node?\n",
    "        depth = (self.max_depth is None) or (self.max_depth >= (level+1))\n",
    "        msamp = (self.min_samples_split <= D.shape[0])\n",
    "        n_cls = np.unique(D[:,-1]).shape[0] != 1\n",
    "        \n",
    "        # not a leaf node\n",
    "        if depth and msamp and n_cls:\n",
    "        \n",
    "            # initialize the function parameters\n",
    "            ip_node = None\n",
    "            feature = None\n",
    "            split   = None\n",
    "            left_D  = None\n",
    "            right_D = None\n",
    "            # iterate through the possible feature/split combinations\n",
    "            for f in range(D.shape[1]-1):\n",
    "                for s in np.unique(D[:,f]):\n",
    "                    # for the current (f,s) combination, split the dataset\n",
    "                    if self.schema[f] == 'numeric': # ***CHANGES HERE***\n",
    "                        D_l = D[D[:,f]<=s]\n",
    "                        D_r = D[D[:,f]>s]\n",
    "                    else:\n",
    "                        D_l = D[D[:,f]==s]\n",
    "                        D_r = D[D[:,f]!=s]\n",
    "                    # ensure we have non-empty arrays\n",
    "                    if D_l.size and D_r.size:\n",
    "                        # calculate the impurity\n",
    "                        ip  = (D_l.shape[0]/D.shape[0])*self._impurity(D_l) + (D_r.shape[0]/D.shape[0])*self._impurity(D_r)\n",
    "                        # now update the impurity and choice of (f,s)\n",
    "                        if (ip_node is None) or (ip < ip_node):\n",
    "                            ip_node = ip\n",
    "                            feature = f\n",
    "                            split   = s\n",
    "                            left_D  = D_l\n",
    "                            right_D = D_r\n",
    "            # set the current node's parameters\n",
    "            node.set_params(split,feature)\n",
    "            # declare child nodes\n",
    "            left_node  = Node()\n",
    "            right_node = Node()\n",
    "            node.set_children(left_node,right_node)\n",
    "            # investigate child nodes\n",
    "            self.__grow(node.get_left_node(),left_D,level+1)\n",
    "            self.__grow(node.get_right_node(),right_D,level+1)\n",
    "                        \n",
    "        # is a leaf node\n",
    "        else:\n",
    "            \n",
    "            # set the node value & return\n",
    "            node.leaf_value = self._leaf_value(D)\n",
    "            return\n",
    "     \n",
    "    def __traverse(self, node: Node, Xrow: np.array) -> int | float:\n",
    "        \"\"\"\n",
    "        Private recursive function to traverse the (trained) tree\n",
    "        \n",
    "        Inputs:\n",
    "            node -> current node in the tree\n",
    "            Xrow -> data sample being considered\n",
    "        Output:\n",
    "            leaf value corresponding to Xrow\n",
    "        \"\"\"        \n",
    "        # check if we're in a leaf node?\n",
    "        if node.leaf_value is None:\n",
    "            # get parameters at the node\n",
    "            (s,f) = node.get_params()\n",
    "            # decide to go left or right? # ***CHANGES HERE***\n",
    "            if ( ((Xrow[f] <= s) & (self.schema[f] == 'numeric')) | \n",
    "                ((Xrow[f] == s) & (self.schema[f] == 'categorical')) ):\n",
    "                return(self.__traverse(node.get_left_node(),Xrow))\n",
    "            else:\n",
    "                return(self.__traverse(node.get_right_node(),Xrow))\n",
    "        else:\n",
    "            # return the leaf value\n",
    "            return(node.leaf_value)\n",
    "    \n",
    "    def train(self, Xin: np.array, Yin: np.array) -> None:\n",
    "        \"\"\"\n",
    "        Train the CART model\n",
    "        \n",
    "        Inputs:\n",
    "            Xin -> input set of predictor features\n",
    "            Yin -> input set of labels\n",
    "        \"\"\"     \n",
    "        # check data schema ***CHANGES HERE***\n",
    "        self.schema = {}\n",
    "        for f in range(Xin.shape[1]):\n",
    "            try:\n",
    "                _ = Xin[:,f].astype(float)\n",
    "                self.schema[f] = 'numeric'\n",
    "            except:\n",
    "                self.schema[f] = 'categorical'\n",
    "        # prepare the input data\n",
    "        D = np.concatenate((Xin,Yin.reshape(-1,1)),axis=1)\n",
    "        # set the root node of the tree\n",
    "        self.tree = Node()\n",
    "        # build the tree\n",
    "        self.__grow(self.tree,D,1)\n",
    "        \n",
    "    def predict(self, Xin: np.array) -> np.array:\n",
    "        \"\"\"\n",
    "        Make predictions from the trained CART model\n",
    "        \n",
    "        Input:\n",
    "            Xin -> input set of predictor features\n",
    "        Output:\n",
    "            array of prediction values\n",
    "        \"\"\"\n",
    "        # iterate through the rows of Xin\n",
    "        p = []\n",
    "        for r in range(Xin.shape[0]):\n",
    "            p.append(self.__traverse(self.tree,Xin[r,:]))\n",
    "        # return predictions\n",
    "        return(np.array(p).flatten())"
   ]
  },
  {
   "cell_type": "code",
   "execution_count": 4,
   "id": "648e6599",
   "metadata": {},
   "outputs": [],
   "source": [
    "class DecisionTreeClassifier(DecisionTree):\n",
    "    \"\"\"\n",
    "    Decision Tree Classifier\n",
    "    \"\"\"\n",
    "    \n",
    "    def __init__(self, max_depth: int=None, min_samples_split: int=2, loss: str='gini') -> None:\n",
    "        \"\"\"\n",
    "        Initializer\n",
    "        \n",
    "        Inputs:\n",
    "            max_depth         -> maximum depth the tree can grow\n",
    "            min_samples_split -> minimum number of samples required to split a node\n",
    "            loss              -> loss function to use during training\n",
    "        \"\"\"\n",
    "        DecisionTree.__init__(self,max_depth,min_samples_split)\n",
    "        self.loss = loss   \n",
    "    \n",
    "    def __gini(self, D: np.array) -> float:\n",
    "        \"\"\"\n",
    "        Private function to define the gini impurity\n",
    "        \n",
    "        Input:\n",
    "            D -> data to compute the gini impurity over\n",
    "        Output:\n",
    "            Gini impurity for D\n",
    "        \"\"\"        \n",
    "        # initialize the output\n",
    "        G = 0\n",
    "        # iterate through the unique classes\n",
    "        for c in np.unique(D[:,-1]):\n",
    "            # compute p for the current c\n",
    "            p = D[D[:,-1]==c].shape[0]/D.shape[0]\n",
    "            # compute term for the current c\n",
    "            G += p*(1-p)\n",
    "        # return gini impurity\n",
    "        return(G)\n",
    "    \n",
    "    def __entropy(self, D: np.array) -> float:\n",
    "        \"\"\"\n",
    "        Private function to define the shannon entropy\n",
    "        \n",
    "        Input:\n",
    "            D -> data to compute the shannon entropy over\n",
    "        Output:\n",
    "            Shannon entropy for D\n",
    "        \"\"\"        \n",
    "        # initialize the output\n",
    "        H = 0\n",
    "        # iterate through the unique classes\n",
    "        for c in np.unique(D[:,-1]):\n",
    "            # compute p for the current c\n",
    "            p = D[D[:,-1]==c].shape[0]/D.shape[0]\n",
    "            # compute term for the current c\n",
    "            H -= p*np.log2(p)\n",
    "        # return entropy\n",
    "        return(H)\n",
    "    \n",
    "    def _impurity(self, D: np.array) -> float:\n",
    "        \"\"\"\n",
    "        Protected function to define the impurity\n",
    "        \n",
    "        Input:\n",
    "            D -> data to compute the impurity metric over\n",
    "        Output:\n",
    "            Impurity metric for D        \n",
    "        \"\"\"        \n",
    "        # use the selected loss function to calculate the node impurity\n",
    "        ip = None\n",
    "        if self.loss == 'gini':\n",
    "            ip = self.__gini(D)\n",
    "        elif self.loss == 'entropy':\n",
    "            ip = self.__entropy(D)\n",
    "        # return results\n",
    "        return(ip)\n",
    "    \n",
    "    def _leaf_value(self, D: np.array) -> int:\n",
    "        \"\"\"\n",
    "        Protected function to compute the value at a leaf node\n",
    "        \n",
    "        Input:\n",
    "            D -> data to compute the leaf value\n",
    "        Output:\n",
    "            Mode of D         \n",
    "        \"\"\"        \n",
    "        return(stats.mode(D[:,-1].astype(int),keepdims=False)[0])"
   ]
  },
  {
   "cell_type": "code",
   "execution_count": 5,
   "id": "d84fe736",
   "metadata": {},
   "outputs": [],
   "source": [
    "class DecisionTreeRegressor(DecisionTree):\n",
    "    \"\"\"\n",
    "    Decision Tree Regressor\n",
    "    \"\"\"\n",
    "    \n",
    "    def __init__(self, max_depth: int=None, min_samples_split: int=2, loss: str='mse') -> None:\n",
    "        \"\"\"\n",
    "        Initializer\n",
    "        \n",
    "        Inputs:\n",
    "            max_depth         -> maximum depth the tree can grow\n",
    "            min_samples_split -> minimum number of samples required to split a node\n",
    "            loss              -> loss function to use during training\n",
    "        \"\"\"        \n",
    "        DecisionTree.__init__(self,max_depth,min_samples_split)\n",
    "        self.loss = loss   \n",
    "    \n",
    "    def __mse(self, D: np.array) -> float:\n",
    "        \"\"\"\n",
    "        Private function to define the mean squared error\n",
    "        \n",
    "        Input:\n",
    "            D -> data to compute the MSE over\n",
    "        Output:\n",
    "            Mean squared error over D\n",
    "        \"\"\"\n",
    "        # compute the mean target for the node\n",
    "        y_m = np.mean(D[:,-1])\n",
    "        # compute the mean squared error wrt the mean\n",
    "        E = np.sum((D[:,-1] - y_m)**2)/D.shape[0]\n",
    "        # return mse\n",
    "        return(E)\n",
    "    \n",
    "    def __mae(self, D: np.array) -> float:\n",
    "        \"\"\"\n",
    "        Private function to define the mean absolute error\n",
    "        \n",
    "        Input:\n",
    "            D -> data to compute the MAE over\n",
    "        Output:\n",
    "            Mean absolute error over D\n",
    "        \"\"\"\n",
    "        # compute the mean target for the node\n",
    "        y_m = np.mean(D[:,-1])\n",
    "        # compute the mean absolute error wrt the mean\n",
    "        E = np.sum(np.abs(D[:,-1] - y_m))/D.shape[0]\n",
    "        # return mae\n",
    "        return(E)\n",
    "    \n",
    "    def _impurity(self, D: np.array) -> float:\n",
    "        \"\"\"\n",
    "        Protected function to define the impurity\n",
    "        \n",
    "        Input:\n",
    "            D -> data to compute the impurity metric over\n",
    "        Output:\n",
    "            Impurity metric for D        \n",
    "        \"\"\"            \n",
    "        # use the selected loss function to calculate the node impurity\n",
    "        ip = None\n",
    "        if self.loss == 'mse':\n",
    "            ip = self.__mse(D)\n",
    "        elif self.loss == 'mae':\n",
    "            ip = self.__mae(D)\n",
    "        # return results\n",
    "        return(ip)\n",
    "    \n",
    "    def _leaf_value(self, D: np.array) -> float:\n",
    "        \"\"\"\n",
    "        Protected function to compute the value at a leaf node\n",
    "        \n",
    "        Input:\n",
    "            D -> data to compute the leaf value\n",
    "        Output:\n",
    "            Mean of D           \n",
    "        \"\"\"\n",
    "        return(np.mean(D[:,-1]))"
   ]
  },
  {
   "cell_type": "markdown",
   "id": "79c1799c",
   "metadata": {},
   "source": [
    "### Classification Model\n",
    "\n",
    "Let's test out the classification model, using simulated datasets consisting of 1000 samples, 5 predictive features, and 2 distinct class labels. These datasets are comprised of two distinct populations, that are then combined. \n",
    "\n",
    "The first dataset distinguishes between these two populations with a single categorical column. The entries in this column are $a$ and $b$.\n",
    "\n",
    "The second dataset distinguishes between these two populations with one-hot-encoding. As a result, two columns are added to make this distinction."
   ]
  },
  {
   "cell_type": "code",
   "execution_count": 6,
   "id": "7d474f57",
   "metadata": {},
   "outputs": [],
   "source": [
    "# create a classification datasets\n",
    "X1,y1 = make_classification(n_samples=500, n_features=5, n_classes=2, random_state=42)\n",
    "X2,y2 = make_classification(n_samples=500, n_features=5, n_classes=2, shift=5.0, scale=2.0, random_state=24)\n",
    "# assemble dataset with categorical feature\n",
    "cat1   = np.array(['a' for _ in range(X1.shape[0])],dtype='object').reshape(-1,1)\n",
    "cat2   = np.array(['b' for _ in range(X1.shape[0])],dtype='object').reshape(-1,1)\n",
    "X1_cat = np.append(X1, cat1, axis=1)\n",
    "X2_cat = np.append(X2, cat2, axis=1)\n",
    "X_cat  = np.concatenate((X1_cat, X2_cat), axis=0)\n",
    "# assemble dataset with OHE feature\n",
    "cat1   = np.append(np.ones((X1.shape[0],1)), np.zeros((X1.shape[0],1)), axis=1)\n",
    "cat2   = np.append(np.zeros((X1.shape[0],1)), np.ones((X1.shape[0],1)), axis=1)\n",
    "X1_ohe = np.append(X1, cat1, axis=1)\n",
    "X2_ohe = np.append(X2, cat2, axis=1)\n",
    "X_ohe  = np.concatenate((X1_ohe, X2_ohe), axis=0)\n",
    "# assemble label\n",
    "y = np.concatenate((y1,y2), axis=0)"
   ]
  },
  {
   "cell_type": "code",
   "execution_count": 7,
   "id": "47ec2f4e",
   "metadata": {},
   "outputs": [
    {
     "data": {
      "image/png": "[encoded data removed]",
      "text/plain": [
       "<Figure size 640x480 with 1 Axes>"
      ]
     },
     "metadata": {},
     "output_type": "display_data"
    }
   ],
   "source": [
    "# box plot of features\n",
    "plt.boxplot(np.append(X1, X2, axis=1))\n",
    "plt.xlabel('features')\n",
    "plt.ylabel('values')\n",
    "plt.title('Distributions in Features')\n",
    "plt.xticks([1, 2, 3, 4, 5, 6, 7, 8, 9, 10], \n",
    "           ['x1_a', 'x2_a', 'x3_a', 'x4_a', 'x5_a', 'x1_b', 'x2_b', 'x3_b', 'x4_b', 'x5_b'])\n",
    "plt.show()"
   ]
  },
  {
   "cell_type": "code",
   "execution_count": 8,
   "id": "9ee32568",
   "metadata": {},
   "outputs": [
    {
     "data": {
      "text/plain": [
       "array([[1.3930969851746609, -0.9683444548636353, -0.38159403502172495,\n",
       "        -1.2583346392630976, -2.613270726882727, 'a'],\n",
       "       [-0.9401485204629451, 1.1906462747863413, 0.1868405676603463,\n",
       "        0.37796097806297374, 1.0210120505425357, 'a'],\n",
       "       [0.6954945017358167, 0.9278401280812372, 0.0628733980199353,\n",
       "        1.0610773601766177, 1.3573407167599494, 'a']], dtype=object)"
      ]
     },
     "execution_count": 8,
     "metadata": {},
     "output_type": "execute_result"
    }
   ],
   "source": [
    "# view of predictor features with categorical column\n",
    "X_cat[:3,:]"
   ]
  },
  {
   "cell_type": "code",
   "execution_count": 9,
   "id": "c15142d4",
   "metadata": {},
   "outputs": [
    {
     "data": {
      "text/plain": [
       "array([[ 1.39309699, -0.96834445, -0.38159404, -1.25833464, -2.61327073,\n",
       "         1.        ,  0.        ],\n",
       "       [-0.94014852,  1.19064627,  0.18684057,  0.37796098,  1.02101205,\n",
       "         1.        ,  0.        ],\n",
       "       [ 0.6954945 ,  0.92784013,  0.0628734 ,  1.06107736,  1.35734072,\n",
       "         1.        ,  0.        ]])"
      ]
     },
     "execution_count": 9,
     "metadata": {},
     "output_type": "execute_result"
    }
   ],
   "source": [
    "# view of predictor features with OHE columns\n",
    "X_ohe[:3,:]"
   ]
  },
  {
   "cell_type": "code",
   "execution_count": 10,
   "id": "e0ea2f4d",
   "metadata": {},
   "outputs": [
    {
     "name": "stdout",
     "output_type": "stream",
     "text": [
      "Percentage of label 0: 0.50\n",
      "Percentage of label 1: 0.50\n"
     ]
    }
   ],
   "source": [
    "# are the labels balanced?\n",
    "print('Percentage of label 0: {:.2f}'.format(y[y==0].shape[0]/y.shape[0]))\n",
    "print('Percentage of label 1: {:.2f}'.format(y[y==1].shape[0]/y.shape[0]))"
   ]
  },
  {
   "cell_type": "code",
   "execution_count": 11,
   "id": "79f3eb5d",
   "metadata": {},
   "outputs": [],
   "source": [
    "# do train/test split\n",
    "X_cat_train, X_cat_test, X_ohe_train, X_ohe_test, y_train, y_test = train_test_split(X_cat, \n",
    "                                                                                     X_ohe, \n",
    "                                                                                     y, \n",
    "                                                                                     test_size=0.2, \n",
    "                                                                                     random_state=42)"
   ]
  },
  {
   "cell_type": "code",
   "execution_count": 12,
   "id": "849c9d86",
   "metadata": {},
   "outputs": [],
   "source": [
    "# train an instance of the custom decision tree classifier\n",
    "clf = DecisionTreeClassifier(max_depth=5)\n",
    "clf.train(X_cat_train,y_train)"
   ]
  },
  {
   "cell_type": "code",
   "execution_count": 13,
   "id": "2f08de95",
   "metadata": {},
   "outputs": [
    {
     "data": {
      "text/plain": [
       "{0: 'numeric',\n",
       " 1: 'numeric',\n",
       " 2: 'numeric',\n",
       " 3: 'numeric',\n",
       " 4: 'numeric',\n",
       " 5: 'categorical'}"
      ]
     },
     "execution_count": 13,
     "metadata": {},
     "output_type": "execute_result"
    }
   ],
   "source": [
    "# view the learned schema\n",
    "clf.schema"
   ]
  },
  {
   "cell_type": "code",
   "execution_count": 14,
   "id": "adb1bc3e",
   "metadata": {},
   "outputs": [],
   "source": [
    "# generate predictions\n",
    "yp = clf.predict(X_cat_test)"
   ]
  },
  {
   "cell_type": "code",
   "execution_count": 15,
   "id": "5114791b",
   "metadata": {},
   "outputs": [
    {
     "name": "stdout",
     "output_type": "stream",
     "text": [
      "accuracy: 0.88\n",
      "precision: 0.83\n",
      "recall: 0.95\n"
     ]
    }
   ],
   "source": [
    "# evaluate model performance\n",
    "print(\"accuracy: %.2f\" % accuracy_score(y_test,yp))\n",
    "print(\"precision: %.2f\" % precision_score(y_test,yp))\n",
    "print(\"recall: %.2f\" % recall_score(y_test,yp))"
   ]
  },
  {
   "cell_type": "code",
   "execution_count": 16,
   "id": "ce13e799",
   "metadata": {},
   "outputs": [
    {
     "data": {
      "text/html": [
       "<style>#sk-container-id-1 {color: black;background-color: white;}#sk-container-id-1 pre{padding: 0;}#sk-container-id-1 div.sk-toggleable {background-color: white;}#sk-container-id-1 label.sk-toggleable__label {cursor: pointer;display: block;width: 100%;margin-bottom: 0;padding: 0.3em;box-sizing: border-box;text-align: center;}#sk-container-id-1 label.sk-toggleable__label-arrow:before {content: \"▸\";float: left;margin-right: 0.25em;color: #696969;}#sk-container-id-1 label.sk-toggleable__label-arrow:hover:before {color: black;}#sk-container-id-1 div.sk-estimator:hover label.sk-toggleable__label-arrow:before {color: black;}#sk-container-id-1 div.sk-toggleable__content {max-height: 0;max-width: 0;overflow: hidden;text-align: left;background-color: #f0f8ff;}#sk-container-id-1 div.sk-toggleable__content pre {margin: 0.2em;color: black;border-radius: 0.25em;background-color: #f0f8ff;}#sk-container-id-1 input.sk-toggleable__control:checked~div.sk-toggleable__content {max-height: 200px;max-width: 100%;overflow: auto;}#sk-container-id-1 input.sk-toggleable__control:checked~label.sk-toggleable__label-arrow:before {content: \"▾\";}#sk-container-id-1 div.sk-estimator input.sk-toggleable__control:checked~label.sk-toggleable__label {background-color: #d4ebff;}#sk-container-id-1 div.sk-label input.sk-toggleable__control:checked~label.sk-toggleable__label {background-color: #d4ebff;}#sk-container-id-1 input.sk-hidden--visually {border: 0;clip: rect(1px 1px 1px 1px);clip: rect(1px, 1px, 1px, 1px);height: 1px;margin: -1px;overflow: hidden;padding: 0;position: absolute;width: 1px;}#sk-container-id-1 div.sk-estimator {font-family: monospace;background-color: #f0f8ff;border: 1px dotted black;border-radius: 0.25em;box-sizing: border-box;margin-bottom: 0.5em;}#sk-container-id-1 div.sk-estimator:hover {background-color: #d4ebff;}#sk-container-id-1 div.sk-parallel-item::after {content: \"\";width: 100%;border-bottom: 1px solid gray;flex-grow: 1;}#sk-container-id-1 div.sk-label:hover label.sk-toggleable__label {background-color: #d4ebff;}#sk-container-id-1 div.sk-serial::before {content: \"\";position: absolute;border-left: 1px solid gray;box-sizing: border-box;top: 0;bottom: 0;left: 50%;z-index: 0;}#sk-container-id-1 div.sk-serial {display: flex;flex-direction: column;align-items: center;background-color: white;padding-right: 0.2em;padding-left: 0.2em;position: relative;}#sk-container-id-1 div.sk-item {position: relative;z-index: 1;}#sk-container-id-1 div.sk-parallel {display: flex;align-items: stretch;justify-content: center;background-color: white;position: relative;}#sk-container-id-1 div.sk-item::before, #sk-container-id-1 div.sk-parallel-item::before {content: \"\";position: absolute;border-left: 1px solid gray;box-sizing: border-box;top: 0;bottom: 0;left: 50%;z-index: -1;}#sk-container-id-1 div.sk-parallel-item {display: flex;flex-direction: column;z-index: 1;position: relative;background-color: white;}#sk-container-id-1 div.sk-parallel-item:first-child::after {align-self: flex-end;width: 50%;}#sk-container-id-1 div.sk-parallel-item:last-child::after {align-self: flex-start;width: 50%;}#sk-container-id-1 div.sk-parallel-item:only-child::after {width: 0;}#sk-container-id-1 div.sk-dashed-wrapped {border: 1px dashed gray;margin: 0 0.4em 0.5em 0.4em;box-sizing: border-box;padding-bottom: 0.4em;background-color: white;}#sk-container-id-1 div.sk-label label {font-family: monospace;font-weight: bold;display: inline-block;line-height: 1.2em;}#sk-container-id-1 div.sk-label-container {text-align: center;}#sk-container-id-1 div.sk-container {/* jupyter's `normalize.less` sets `[hidden] { display: none; }` but bootstrap.min.css set `[hidden] { display: none !important; }` so we also need the `!important` here to be able to override the default hidden behavior on the sphinx rendered scikit-learn.org. See: https://github.com/scikit-learn/scikit-learn/issues/21755 */display: inline-block !important;position: relative;}#sk-container-id-1 div.sk-text-repr-fallback {display: none;}</style><div id=\"sk-container-id-1\" class=\"sk-top-container\"><div class=\"sk-text-repr-fallback\"><pre>DecisionTreeClassifier(max_depth=5)</pre><b>In a Jupyter environment, please rerun this cell to show the HTML representation or trust the notebook. <br />On GitHub, the HTML representation is unable to render, please try loading this page with nbviewer.org.</b></div><div class=\"sk-container\" hidden><div class=\"sk-item\"><div class=\"sk-estimator sk-toggleable\"><input class=\"sk-toggleable__control sk-hidden--visually\" id=\"sk-estimator-id-1\" type=\"checkbox\" checked><label for=\"sk-estimator-id-1\" class=\"sk-toggleable__label sk-toggleable__label-arrow\">DecisionTreeClassifier</label><div class=\"sk-toggleable__content\"><pre>DecisionTreeClassifier(max_depth=5)</pre></div></div></div></div></div>"
      ],
      "text/plain": [
       "DecisionTreeClassifier(max_depth=5)"
      ]
     },
     "execution_count": 16,
     "metadata": {},
     "output_type": "execute_result"
    }
   ],
   "source": [
    "# compare with OHE data & scikit-learn classifier\n",
    "from sklearn.tree import DecisionTreeClassifier\n",
    "clf = DecisionTreeClassifier(max_depth=5)\n",
    "clf.fit(X_ohe_train,y_train)"
   ]
  },
  {
   "cell_type": "code",
   "execution_count": 17,
   "id": "5702885d",
   "metadata": {},
   "outputs": [],
   "source": [
    "# generate predictions\n",
    "yp = clf.predict(X_ohe_test)"
   ]
  },
  {
   "cell_type": "code",
   "execution_count": 18,
   "id": "ec04fbd4",
   "metadata": {},
   "outputs": [
    {
     "name": "stdout",
     "output_type": "stream",
     "text": [
      "accuracy: 0.86\n",
      "precision: 0.84\n",
      "recall: 0.92\n"
     ]
    }
   ],
   "source": [
    "# evaluate model performance\n",
    "print(\"accuracy: %.2f\" % accuracy_score(y_test,yp))\n",
    "print(\"precision: %.2f\" % precision_score(y_test,yp))\n",
    "print(\"recall: %.2f\" % recall_score(y_test,yp))"
   ]
  },
  {
   "cell_type": "markdown",
   "id": "e09a22cd",
   "metadata": {},
   "source": [
    "The results between the two models are approximately consistent, indicating that our custom implementation with a categorical feature works as hoped. This shows that it is possible to build Decision Trees that can handle categorical features, without the need to carry out a preprocessing step (like OHE).\n",
    "\n",
    "### Regression Model\n",
    "\n",
    "Let's test out the regression model, using simulated datasets consisting of 1000 samples, 5 predictive features, and 1 target. These datasets are comprised of two distinct populations, that are then combined. \n",
    "\n",
    "The first dataset distinguishes between these two populations with a single categorical column. The entries in this column are $a$ and $b$.\n",
    "\n",
    "The second dataset distinguishes between these two populations with one-hot-encoding. As a result, two columns are added to make this distinction."
   ]
  },
  {
   "cell_type": "code",
   "execution_count": 41,
   "id": "b6d2598e",
   "metadata": {},
   "outputs": [],
   "source": [
    "# create a classification datasets\n",
    "X1,y1 = make_regression(n_samples=500, n_features=5, n_targets=1, noise=0.1, random_state=42)\n",
    "X2,y2 = make_regression(n_samples=500, n_features=5, n_targets=1, bias=200.0, noise=0.2, random_state=24)\n",
    "# assemble dataset with categorical feature\n",
    "cat1   = np.array(['a' for _ in range(X1.shape[0])],dtype='object').reshape(-1,1)\n",
    "cat2   = np.array(['b' for _ in range(X1.shape[0])],dtype='object').reshape(-1,1)\n",
    "X1_cat = np.append(X1, cat1, axis=1)\n",
    "X2_cat = np.append(X2, cat2, axis=1)\n",
    "X_cat  = np.concatenate((X1_cat, X2_cat), axis=0)\n",
    "# assemble dataset with OHE feature\n",
    "cat1   = np.append(np.ones((X1.shape[0],1)), np.zeros((X1.shape[0],1)), axis=1)\n",
    "cat2   = np.append(np.zeros((X1.shape[0],1)), np.ones((X1.shape[0],1)), axis=1)\n",
    "X1_ohe = np.append(X1, cat1, axis=1)\n",
    "X2_ohe = np.append(X2, cat2, axis=1)\n",
    "X_ohe  = np.concatenate((X1_ohe, X2_ohe), axis=0)\n",
    "# assemble label\n",
    "y = np.concatenate((y1,y2), axis=0)"
   ]
  },
  {
   "cell_type": "code",
   "execution_count": 42,
   "id": "199e4bfd",
   "metadata": {},
   "outputs": [
    {
     "data": {
      "image/png": "[encoded data removed]",
      "text/plain": [
       "<Figure size 640x480 with 1 Axes>"
      ]
     },
     "metadata": {},
     "output_type": "display_data"
    }
   ],
   "source": [
    "# box plot of features\n",
    "plt.boxplot(np.append(X1, X2, axis=1))\n",
    "plt.xlabel('features')\n",
    "plt.ylabel('values')\n",
    "plt.title('Distributions in Features')\n",
    "plt.xticks([1, 2, 3, 4, 5, 6, 7, 8, 9, 10], \n",
    "           ['x1_a', 'x2_a', 'x3_a', 'x4_a', 'x5_a', 'x1_b', 'x2_b', 'x3_b', 'x4_b', 'x5_b'])\n",
    "plt.show()"
   ]
  },
  {
   "cell_type": "code",
   "execution_count": 58,
   "id": "1d715c4a",
   "metadata": {},
   "outputs": [
    {
     "data": {
      "image/png": "[encoded data removed]",
      "text/plain": [
       "<Figure size 640x480 with 1 Axes>"
      ]
     },
     "metadata": {},
     "output_type": "display_data"
    }
   ],
   "source": [
    "# histogram of target\n",
    "plt.hist(y,bins=50,label='a+b')\n",
    "plt.hist(y1,bins=50,label='a')\n",
    "plt.hist(y2,bins=50,label='b')\n",
    "plt.xlabel('y target')\n",
    "plt.ylabel('frequency')\n",
    "plt.title('Distributions in y Target')\n",
    "plt.legend()\n",
    "plt.show()"
   ]
  },
  {
   "cell_type": "code",
   "execution_count": 46,
   "id": "d4d81174",
   "metadata": {},
   "outputs": [
    {
     "data": {
      "text/plain": [
       "array([[0.5609194479412387, -0.3700110298821277, -0.29548031802916036,\n",
       "        -0.25879606266710237, 1.598647170504717, 'a'],\n",
       "       [-1.0243876413342898, -0.926930471578083, -0.2525681513931603,\n",
       "        -0.05952535606180008, -3.2412673400690726, 'a'],\n",
       "       [-2.650969808393012, 0.10643022769189683, 1.0915068519224618,\n",
       "        -0.2549772174208553, 1.5039929885826886, 'a']], dtype=object)"
      ]
     },
     "execution_count": 46,
     "metadata": {},
     "output_type": "execute_result"
    }
   ],
   "source": [
    "# view of predictor features with categorical column\n",
    "X_cat[:3,:]"
   ]
  },
  {
   "cell_type": "code",
   "execution_count": 47,
   "id": "bb1f898a",
   "metadata": {},
   "outputs": [
    {
     "data": {
      "text/plain": [
       "array([[ 0.56091945, -0.37001103, -0.29548032, -0.25879606,  1.59864717,\n",
       "         1.        ,  0.        ],\n",
       "       [-1.02438764, -0.92693047, -0.25256815, -0.05952536, -3.24126734,\n",
       "         1.        ,  0.        ],\n",
       "       [-2.65096981,  0.10643023,  1.09150685, -0.25497722,  1.50399299,\n",
       "         1.        ,  0.        ]])"
      ]
     },
     "execution_count": 47,
     "metadata": {},
     "output_type": "execute_result"
    }
   ],
   "source": [
    "# view of predictor features with OHE columns\n",
    "X_ohe[:3,:]"
   ]
  },
  {
   "cell_type": "code",
   "execution_count": 48,
   "id": "c54edbb7",
   "metadata": {},
   "outputs": [],
   "source": [
    "# do train/test split\n",
    "X_cat_train, X_cat_test, X_ohe_train, X_ohe_test, y_train, y_test = train_test_split(X_cat, \n",
    "                                                                                     X_ohe, \n",
    "                                                                                     y, \n",
    "                                                                                     test_size=0.2, \n",
    "                                                                                     random_state=42)"
   ]
  },
  {
   "cell_type": "code",
   "execution_count": 50,
   "id": "00e3c794",
   "metadata": {},
   "outputs": [],
   "source": [
    "# train an instance of the custom decision tree regressor\n",
    "rgr = DecisionTreeRegressor(max_depth=5)\n",
    "rgr.train(X_cat_train,y_train)"
   ]
  },
  {
   "cell_type": "code",
   "execution_count": 52,
   "id": "04e0e586",
   "metadata": {},
   "outputs": [
    {
     "data": {
      "text/plain": [
       "{0: 'numeric',\n",
       " 1: 'numeric',\n",
       " 2: 'numeric',\n",
       " 3: 'numeric',\n",
       " 4: 'numeric',\n",
       " 5: 'categorical'}"
      ]
     },
     "execution_count": 52,
     "metadata": {},
     "output_type": "execute_result"
    }
   ],
   "source": [
    "# view the learned schema\n",
    "rgr.schema"
   ]
  },
  {
   "cell_type": "code",
   "execution_count": 53,
   "id": "76cc6e18",
   "metadata": {},
   "outputs": [],
   "source": [
    "# generate predictions\n",
    "yp = rgr.predict(X_cat_test)"
   ]
  },
  {
   "cell_type": "code",
   "execution_count": 54,
   "id": "277df95d",
   "metadata": {},
   "outputs": [
    {
     "name": "stdout",
     "output_type": "stream",
     "text": [
      "mae: 66.58\n",
      "mse: 7157.99\n"
     ]
    }
   ],
   "source": [
    "# evaluate model performance\n",
    "print(\"mae: %.2f\" % mean_absolute_error(y_test,yp))\n",
    "print(\"mse: %.2f\" % mean_squared_error(y_test,yp))"
   ]
  },
  {
   "cell_type": "code",
   "execution_count": 55,
   "id": "d7c3d315",
   "metadata": {},
   "outputs": [
    {
     "data": {
      "text/html": [
       "<style>#sk-container-id-2 {color: black;background-color: white;}#sk-container-id-2 pre{padding: 0;}#sk-container-id-2 div.sk-toggleable {background-color: white;}#sk-container-id-2 label.sk-toggleable__label {cursor: pointer;display: block;width: 100%;margin-bottom: 0;padding: 0.3em;box-sizing: border-box;text-align: center;}#sk-container-id-2 label.sk-toggleable__label-arrow:before {content: \"▸\";float: left;margin-right: 0.25em;color: #696969;}#sk-container-id-2 label.sk-toggleable__label-arrow:hover:before {color: black;}#sk-container-id-2 div.sk-estimator:hover label.sk-toggleable__label-arrow:before {color: black;}#sk-container-id-2 div.sk-toggleable__content {max-height: 0;max-width: 0;overflow: hidden;text-align: left;background-color: #f0f8ff;}#sk-container-id-2 div.sk-toggleable__content pre {margin: 0.2em;color: black;border-radius: 0.25em;background-color: #f0f8ff;}#sk-container-id-2 input.sk-toggleable__control:checked~div.sk-toggleable__content {max-height: 200px;max-width: 100%;overflow: auto;}#sk-container-id-2 input.sk-toggleable__control:checked~label.sk-toggleable__label-arrow:before {content: \"▾\";}#sk-container-id-2 div.sk-estimator input.sk-toggleable__control:checked~label.sk-toggleable__label {background-color: #d4ebff;}#sk-container-id-2 div.sk-label input.sk-toggleable__control:checked~label.sk-toggleable__label {background-color: #d4ebff;}#sk-container-id-2 input.sk-hidden--visually {border: 0;clip: rect(1px 1px 1px 1px);clip: rect(1px, 1px, 1px, 1px);height: 1px;margin: -1px;overflow: hidden;padding: 0;position: absolute;width: 1px;}#sk-container-id-2 div.sk-estimator {font-family: monospace;background-color: #f0f8ff;border: 1px dotted black;border-radius: 0.25em;box-sizing: border-box;margin-bottom: 0.5em;}#sk-container-id-2 div.sk-estimator:hover {background-color: #d4ebff;}#sk-container-id-2 div.sk-parallel-item::after {content: \"\";width: 100%;border-bottom: 1px solid gray;flex-grow: 1;}#sk-container-id-2 div.sk-label:hover label.sk-toggleable__label {background-color: #d4ebff;}#sk-container-id-2 div.sk-serial::before {content: \"\";position: absolute;border-left: 1px solid gray;box-sizing: border-box;top: 0;bottom: 0;left: 50%;z-index: 0;}#sk-container-id-2 div.sk-serial {display: flex;flex-direction: column;align-items: center;background-color: white;padding-right: 0.2em;padding-left: 0.2em;position: relative;}#sk-container-id-2 div.sk-item {position: relative;z-index: 1;}#sk-container-id-2 div.sk-parallel {display: flex;align-items: stretch;justify-content: center;background-color: white;position: relative;}#sk-container-id-2 div.sk-item::before, #sk-container-id-2 div.sk-parallel-item::before {content: \"\";position: absolute;border-left: 1px solid gray;box-sizing: border-box;top: 0;bottom: 0;left: 50%;z-index: -1;}#sk-container-id-2 div.sk-parallel-item {display: flex;flex-direction: column;z-index: 1;position: relative;background-color: white;}#sk-container-id-2 div.sk-parallel-item:first-child::after {align-self: flex-end;width: 50%;}#sk-container-id-2 div.sk-parallel-item:last-child::after {align-self: flex-start;width: 50%;}#sk-container-id-2 div.sk-parallel-item:only-child::after {width: 0;}#sk-container-id-2 div.sk-dashed-wrapped {border: 1px dashed gray;margin: 0 0.4em 0.5em 0.4em;box-sizing: border-box;padding-bottom: 0.4em;background-color: white;}#sk-container-id-2 div.sk-label label {font-family: monospace;font-weight: bold;display: inline-block;line-height: 1.2em;}#sk-container-id-2 div.sk-label-container {text-align: center;}#sk-container-id-2 div.sk-container {/* jupyter's `normalize.less` sets `[hidden] { display: none; }` but bootstrap.min.css set `[hidden] { display: none !important; }` so we also need the `!important` here to be able to override the default hidden behavior on the sphinx rendered scikit-learn.org. See: https://github.com/scikit-learn/scikit-learn/issues/21755 */display: inline-block !important;position: relative;}#sk-container-id-2 div.sk-text-repr-fallback {display: none;}</style><div id=\"sk-container-id-2\" class=\"sk-top-container\"><div class=\"sk-text-repr-fallback\"><pre>DecisionTreeRegressor(max_depth=5)</pre><b>In a Jupyter environment, please rerun this cell to show the HTML representation or trust the notebook. <br />On GitHub, the HTML representation is unable to render, please try loading this page with nbviewer.org.</b></div><div class=\"sk-container\" hidden><div class=\"sk-item\"><div class=\"sk-estimator sk-toggleable\"><input class=\"sk-toggleable__control sk-hidden--visually\" id=\"sk-estimator-id-2\" type=\"checkbox\" checked><label for=\"sk-estimator-id-2\" class=\"sk-toggleable__label sk-toggleable__label-arrow\">DecisionTreeRegressor</label><div class=\"sk-toggleable__content\"><pre>DecisionTreeRegressor(max_depth=5)</pre></div></div></div></div></div>"
      ],
      "text/plain": [
       "DecisionTreeRegressor(max_depth=5)"
      ]
     },
     "execution_count": 55,
     "metadata": {},
     "output_type": "execute_result"
    }
   ],
   "source": [
    "# compare with OHE data & scikit-learn regressor\n",
    "from sklearn.tree import DecisionTreeRegressor\n",
    "rgr = DecisionTreeRegressor(max_depth=5)\n",
    "rgr.fit(X_ohe_train,y_train)"
   ]
  },
  {
   "cell_type": "code",
   "execution_count": 56,
   "id": "e9f290ee",
   "metadata": {},
   "outputs": [],
   "source": [
    "# generate predictions\n",
    "yp = rgr.predict(X_ohe_test)"
   ]
  },
  {
   "cell_type": "code",
   "execution_count": 57,
   "id": "48caaf3a",
   "metadata": {},
   "outputs": [
    {
     "name": "stdout",
     "output_type": "stream",
     "text": [
      "mae: 65.18\n",
      "mse: 6864.23\n"
     ]
    }
   ],
   "source": [
    "# evaluate model performance\n",
    "print(\"mae: %.2f\" % mean_absolute_error(y_test,yp))\n",
    "print(\"mse: %.2f\" % mean_squared_error(y_test,yp))"
   ]
  },
  {
   "cell_type": "markdown",
   "id": "5eff5e14",
   "metadata": {},
   "source": [
    "The results between the two models are approximately consistent, indicating that our custom implementation with a categorical feature works as hoped. This shows that it is possible to build Decision Trees that can handle categorical features, without the need to carry out a preprocessing step (like OHE)."
   ]
  }
 ],
 "metadata": {
  "kernelspec": {
   "display_name": "Python 3 (ipykernel)",
   "language": "python",
   "name": "python3"
  },
  "language_info": {
   "codemirror_mode": {
    "name": "ipython",
    "version": 3
   },
   "file_extension": ".py",
   "mimetype": "text/x-python",
   "name": "python",
   "nbconvert_exporter": "python",
   "pygments_lexer": "ipython3",
   "version": "3.8.16"
  }
 },
 "nbformat": 4,
 "nbformat_minor": 5
}
