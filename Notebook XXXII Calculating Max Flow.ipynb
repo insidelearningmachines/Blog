{
 "cells": [
  {
   "cell_type": "markdown",
   "id": "5a7078cb-6574-4950-8d9b-8208297de234",
   "metadata": {},
   "source": [
    "# Calculating Max Flow with 1 Simple Example\n",
    "\n",
    "In this notebook, we'll work through an implementation of Maximum Flow (**Max Flow**) on a simple directed graph. I will be following the Ford-Fulkerson approach towards this implementation. \n",
    "\n",
    "Maximum Flow refers to the carrying capacity between two nodes in a directed graph. These two nodes are termed the *source* and *target* here. Flow originates at the source, and terminates at the target. \n",
    "\n",
    "References: \n",
    "* Ford, L. R.; Fulkerson, D. R. (1956). *\"Maximal flow through a network\"*. Canadian Journal of Mathematics. 8: 399–404\n",
    "*  Edmonds, Jack; Karp, Richard M. (1972). *\"Theoretical improvements in algorithmic efficiency for network flow problems\"*. Journal of the ACM. 19 (2): 248–264"
   ]
  },
  {
   "cell_type": "code",
   "execution_count": 1,
   "id": "dcf7b0c5-4c28-4a36-be42-be6d71cd2c2f",
   "metadata": {},
   "outputs": [],
   "source": [
    "import numpy as np\n",
    "import pandas as pd\n",
    "from typing import Tuple, List"
   ]
  },
  {
   "cell_type": "markdown",
   "id": "7aa74e15-f330-4bf7-a225-010da0b3d7ea",
   "metadata": {},
   "source": [
    "## Ford-Fulkerson - Edmonds-Karp Algorithm\n",
    "\n",
    "In the associated blog article, I illustrate the concept of max flow. Here it is sufficient to state that the algorithm we will implement is as follows:\n",
    "1. Start with a directed graph, with each edge having a positive *capacity* $C_{edge}$ value associated with it. I assume that there is only 1 edge going from *source* to *target*\n",
    "2. Prepare a *residual graph*: this involves adding new edges to the graph with reversed direction, and an initial capacity of 0 \n",
    "3. Use BFS to identify a path through the residual graph from *source* to *target*, where the capacity for all edges involved is > 0\n",
    "4. Determine the minimum capacity $C_{min}$ along the discovered path\n",
    "5. Update the residual graph in the following way:\n",
    "    * For all edges (*source* to *target*) in path update the capacity as follows: $C_{edge} \\leftarrow C_{edge} - C_{min}$\n",
    "    * For all edges (*target* to *source*), update the capacity as follows: $C_{edge} \\leftarrow C_{edge} + C_{min}$\n",
    "6. Go back to step 3 above, and repeat for as along as there is a viable path from *source* to *target*\n",
    "\n",
    "## Implementation"
   ]
  },
  {
   "cell_type": "code",
   "execution_count": 2,
   "id": "d8e1f867-a6f0-47cd-99b7-064e7f42b9ed",
   "metadata": {},
   "outputs": [],
   "source": [
    "class MaxFlowGraph(object):\n",
    "\n",
    "    def __init__(self, edges: List[Tuple]) -> None:\n",
    "        self.edges = edges\n",
    "        nodes = set()\n",
    "        for edge in edges:\n",
    "            nodes.update(list(edge)[:-1])\n",
    "        self.nodes = list(nodes)\n",
    "        self.nodes.sort()\n",
    "        self.number_nodes = len(self.nodes)\n",
    "        self.reset_residual_graph()\n",
    "        \n",
    "    def reset_residual_graph(self) -> None:\n",
    "        self.residual_graph = self.edges.copy()\n",
    "        count = len(self.residual_graph)\n",
    "        for i in range(count):\n",
    "            edge = self.residual_graph[i]\n",
    "            self.residual_graph.append((edge[1],edge[0],0,))\n",
    "\n",
    "    def get_adjacency_matrix(self) -> np.array:\n",
    "        # work out adjacency matrix\n",
    "        O = np.zeros((self.number_nodes, self.number_nodes))\n",
    "        for edge in self.residual_graph:\n",
    "            src, dst, capacity = edge\n",
    "            if capacity > 0:\n",
    "                O[self.nodes.index(dst),self.nodes.index(src)] = 1\n",
    "        return O\n",
    "\n",
    "    def compute_residual_capacity_on_edge(self, src: str, dst: str, reduction_amount: float) -> None:\n",
    "        # here I assume there is only 1 edge from src to dst\n",
    "        for i, edge in enumerate(self.residual_graph):\n",
    "            edge_src, edge_dst, edge_capacity = edge\n",
    "            if (src == edge_src) and (dst == edge_dst) and (edge_capacity > 0):\n",
    "                self.residual_graph[i] = (edge_src, edge_dst, edge_capacity - reduction_amount,)\n",
    "            elif (src == edge_dst) and (dst == edge_src):\n",
    "                self.residual_graph[i] = (edge_src, edge_dst, edge_capacity + reduction_amount,)"
   ]
  },
  {
   "cell_type": "code",
   "execution_count": 3,
   "id": "b2ba6e10-451d-48d8-a6e2-015fd3f78835",
   "metadata": {},
   "outputs": [],
   "source": [
    "class BFS(object):\n",
    "\n",
    "    def __init__(self, graph: MaxFlowGraph) -> None:\n",
    "        self.graph = graph\n",
    "\n",
    "    def _prepare_for_traversal(self, source: str) -> None:\n",
    "        self.queue = [source]\n",
    "        self.visited = dict(zip(self.graph.nodes, len(self.graph.nodes) * [False]))\n",
    "        self.visited[source] = True\n",
    "\n",
    "    def _process_unvisited_neighbours(self, node: str) -> None:\n",
    "        node_index = self.graph.nodes.index(node)\n",
    "        neighbours_indices = self.graph.get_adjacency_matrix()[:,node_index].nonzero()[0].tolist()\n",
    "        neighbours = np.array(self.graph.nodes)[neighbours_indices].tolist()\n",
    "        for neighbour in neighbours:\n",
    "            if not self.visited[neighbour]:\n",
    "                self.queue.append(neighbour)\n",
    "                self.visited[neighbour] = True\n",
    "    \n",
    "    def traverse(self, source: str) -> None:\n",
    "        # prepare for the traversal\n",
    "        self._prepare_for_traversal(source)\n",
    "        # process queue\n",
    "        while self.queue:\n",
    "            # pop a node from the queue\n",
    "            node = self.queue.pop(0)\n",
    "            # go to each unvisited neighbour of node\n",
    "            self._process_unvisited_neighbours(node)"
   ]
  },
  {
   "cell_type": "code",
   "execution_count": 4,
   "id": "f983bcb4-c32c-489b-ba3f-d52db1aafe19",
   "metadata": {},
   "outputs": [],
   "source": [
    "class Path(object):\n",
    "\n",
    "    def __init__(self, label: str):\n",
    "        self.label = label\n",
    "        self.next_level = []\n",
    "\n",
    "class PathFinder(BFS):\n",
    "    \n",
    "    def _add_to_paths(self, paths: Path, node: str, neighbour: str) -> None:\n",
    "        if paths.label == node:\n",
    "            paths.next_level.append(Path(neighbour))\n",
    "        elif (paths.label != node) and paths.next_level:\n",
    "            for path in paths.next_level:\n",
    "                self._add_to_paths(path, node, neighbour)    \n",
    "    \n",
    "    def _process_unvisited_neighbours(self, node: str) -> None:\n",
    "        node_index = self.graph.nodes.index(node)\n",
    "        neighbours_indices = self.graph.get_adjacency_matrix()[:,node_index].nonzero()[0].tolist()\n",
    "        neighbours = np.array(self.graph.nodes)[neighbours_indices].tolist()\n",
    "        for neighbour in neighbours:\n",
    "            if not self.visited[neighbour]:\n",
    "                self.queue.append(neighbour)\n",
    "                self.visited[neighbour] = True\n",
    "                self._add_to_paths(self.paths, node, neighbour)\n",
    "\n",
    "    def _determine_shortest_path(self, paths: Path, target: str, path_string: str) -> None:\n",
    "        if paths.label == target:\n",
    "            self.shortest_path = path_string + target\n",
    "        elif paths.next_level:\n",
    "            for path in paths.next_level:\n",
    "                self._determine_shortest_path(path, target, path_string + paths.label)\n",
    "\n",
    "    def find_shortest_path(self, source: str, target: str) -> bool:\n",
    "        # initialize path string\n",
    "        self.shortest_path = \"\"\n",
    "        # define a Path instance to store all possible paths from source\n",
    "        self.paths = Path(source)\n",
    "        # traverse graph\n",
    "        self.traverse(source)\n",
    "        # identify shortest path that terminates at target\n",
    "        self._determine_shortest_path(self.paths, target, self.shortest_path)\n",
    "        # return status\n",
    "        if self.shortest_path:\n",
    "            return True\n",
    "        return False"
   ]
  },
  {
   "cell_type": "code",
   "execution_count": 5,
   "id": "6dcdb2b7-3f99-4eec-b4e6-cd6e58b49ec7",
   "metadata": {},
   "outputs": [],
   "source": [
    "# iterate over all possible paths, compute max flow\n",
    "def maxflow(pf: PathFinder, src: str, dst: str) -> float:\n",
    "    \n",
    "    maxflow = 0\n",
    "    while pf.find_shortest_path(src, dst):\n",
    "        # prepare path\n",
    "        path = pf.shortest_path\n",
    "        path = list(path)\n",
    "    \n",
    "        # get minimum capacity along path\n",
    "        dfEdges = pd.DataFrame(pf.graph.residual_graph, columns=['src', 'dst', 'capacity'])\n",
    "        min_capacity = float('inf')\n",
    "        for i in range(len(path)-1):\n",
    "            row = dfEdges[(dfEdges.src == path[i]) & (dfEdges.dst == path[i+1])]\n",
    "            if row.capacity.values[0] < min_capacity:\n",
    "                min_capacity = row.capacity.values[0]\n",
    "\n",
    "        # max flow\n",
    "        maxflow += min_capacity\n",
    "    \n",
    "        # compute residual graph\n",
    "        for i in range(len(path)-1):\n",
    "            pf.graph.compute_residual_capacity_on_edge(path[i], path[i+1], min_capacity)\n",
    "    \n",
    "    return maxflow"
   ]
  },
  {
   "cell_type": "markdown",
   "id": "9c1adfe5-95fa-469f-b5da-45d48246f7ba",
   "metadata": {},
   "source": [
    "## Test Implementation\n",
    "\n",
    "The example I will work through here is based off of the one outlined here: https://theory.stanford.edu/~tim/w16/l/l1.pdf"
   ]
  },
  {
   "cell_type": "code",
   "execution_count": 6,
   "id": "d7790268-e338-4780-b4b7-7dbc33e20629",
   "metadata": {},
   "outputs": [],
   "source": [
    "edges = [(\"A\", \"B\", 3),(\"B\", \"D\", 2),(\"A\", \"C\", 2),(\"B\", \"C\", 5),(\"C\", \"D\", 3)]"
   ]
  },
  {
   "cell_type": "code",
   "execution_count": 7,
   "id": "9c7ee3db-6b9b-4c5a-94b0-e71fa3cca3f1",
   "metadata": {},
   "outputs": [],
   "source": [
    "# create a graph instance\n",
    "graph = MaxFlowGraph(edges)"
   ]
  },
  {
   "cell_type": "code",
   "execution_count": 8,
   "id": "3df3eb3d-43d4-4a02-9b6b-062329a2862f",
   "metadata": {},
   "outputs": [
    {
     "data": {
      "text/plain": [
       "[('A', 'B', 3),\n",
       " ('B', 'D', 2),\n",
       " ('A', 'C', 2),\n",
       " ('B', 'C', 5),\n",
       " ('C', 'D', 3),\n",
       " ('B', 'A', 0),\n",
       " ('D', 'B', 0),\n",
       " ('C', 'A', 0),\n",
       " ('C', 'B', 0),\n",
       " ('D', 'C', 0)]"
      ]
     },
     "execution_count": 8,
     "metadata": {},
     "output_type": "execute_result"
    }
   ],
   "source": [
    "# view initial residual graph\n",
    "graph.residual_graph"
   ]
  },
  {
   "cell_type": "code",
   "execution_count": 9,
   "id": "a994c2c2-113a-4638-a7c6-e72bfd82e6ec",
   "metadata": {},
   "outputs": [
    {
     "data": {
      "text/plain": [
       "['A', 'B', 'C', 'D']"
      ]
     },
     "execution_count": 9,
     "metadata": {},
     "output_type": "execute_result"
    }
   ],
   "source": [
    "# view detected nodes\n",
    "graph.nodes"
   ]
  },
  {
   "cell_type": "code",
   "execution_count": 10,
   "id": "be9c2afd-dccd-4359-a067-23c49486c661",
   "metadata": {},
   "outputs": [
    {
     "data": {
      "text/plain": [
       "array([[0., 0., 0., 0.],\n",
       "       [1., 0., 0., 0.],\n",
       "       [1., 1., 0., 0.],\n",
       "       [0., 1., 1., 0.]])"
      ]
     },
     "execution_count": 10,
     "metadata": {},
     "output_type": "execute_result"
    }
   ],
   "source": [
    "# view initial adjacency matrix\n",
    "graph.get_adjacency_matrix()"
   ]
  },
  {
   "cell_type": "code",
   "execution_count": 11,
   "id": "0413c5a1-0994-46ab-aa8a-7bfdaa8a5eec",
   "metadata": {},
   "outputs": [],
   "source": [
    "# create a PathFinder instance\n",
    "pf = PathFinder(graph)"
   ]
  },
  {
   "cell_type": "code",
   "execution_count": 12,
   "id": "c3cb87d5-705d-488e-85b9-b2af392ed8ec",
   "metadata": {},
   "outputs": [
    {
     "data": {
      "text/plain": [
       "5"
      ]
     },
     "execution_count": 12,
     "metadata": {},
     "output_type": "execute_result"
    }
   ],
   "source": [
    "# compute maxflow\n",
    "maxflow(pf, 'A', 'D')"
   ]
  },
  {
   "cell_type": "code",
   "execution_count": 13,
   "id": "77987e9c-c46a-4c0c-baf0-d09f0e636592",
   "metadata": {},
   "outputs": [
    {
     "data": {
      "text/plain": [
       "[('A', 'B', 0),\n",
       " ('B', 'D', 0),\n",
       " ('A', 'C', 0),\n",
       " ('B', 'C', 4),\n",
       " ('C', 'D', 0),\n",
       " ('B', 'A', 3),\n",
       " ('D', 'B', 2),\n",
       " ('C', 'A', 2),\n",
       " ('C', 'B', 1),\n",
       " ('D', 'C', 3)]"
      ]
     },
     "execution_count": 13,
     "metadata": {},
     "output_type": "execute_result"
    }
   ],
   "source": [
    "# view final residual graph\n",
    "graph.residual_graph"
   ]
  },
  {
   "cell_type": "code",
   "execution_count": 14,
   "id": "e5c37c90-011c-43fc-90dc-9cc5a04fb2f6",
   "metadata": {},
   "outputs": [
    {
     "data": {
      "text/plain": [
       "array([[0., 1., 1., 0.],\n",
       "       [0., 0., 1., 1.],\n",
       "       [0., 1., 0., 1.],\n",
       "       [0., 0., 0., 0.]])"
      ]
     },
     "execution_count": 14,
     "metadata": {},
     "output_type": "execute_result"
    }
   ],
   "source": [
    "# view final adjacency matrix\n",
    "graph.get_adjacency_matrix()"
   ]
  },
  {
   "cell_type": "markdown",
   "id": "f10cae2e-fd96-4585-a654-2e5bb83c3025",
   "metadata": {},
   "source": [
    "## Conclusions\n",
    "\n",
    "We can verify above that our implementation works in obtaining the correct max flow value for the graph tested. We can also check to see the changes that occure to the residual graph, and adjacency matrix, after running the algorithm. These changes are an expected part of this implementation.\n",
    "\n",
    "Note to rerun maxflow, it is required to reset the residual graph. This can be done via the *reset_residual_graph* function."
   ]
  },
  {
   "cell_type": "code",
   "execution_count": null,
   "id": "c7729fa0-e2fe-4f12-a5c2-6ec81b62b2fe",
   "metadata": {},
   "outputs": [],
   "source": []
  }
 ],
 "metadata": {
  "kernelspec": {
   "display_name": "Python 3 (ipykernel)",
   "language": "python",
   "name": "python3"
  },
  "language_info": {
   "codemirror_mode": {
    "name": "ipython",
    "version": 3
   },
   "file_extension": ".py",
   "mimetype": "text/x-python",
   "name": "python",
   "nbconvert_exporter": "python",
   "pygments_lexer": "ipython3",
   "version": "3.9.19"
  }
 },
 "nbformat": 4,
 "nbformat_minor": 5
}
