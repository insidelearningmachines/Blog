{
 "cells": [
  {
   "cell_type": "markdown",
   "metadata": {},
   "source": [
    "# Random Forest\n",
    "\n",
    "In this notebook, I will implement a Random Forest ensemble algorithm, for both classification & regression problems. \n",
    "\n",
    "The data I will use in this notebook will be imported from scikit-learn. For testing the classifier, I will use the wine dataset. For the regression ensemble, I will use the boston housing prices dataset. "
   ]
  },
  {
   "cell_type": "code",
   "execution_count": 1,
   "metadata": {},
   "outputs": [],
   "source": [
    "## imports ##\n",
    "import numpy as np\n",
    "import pandas as pd\n",
    "import seaborn as sn\n",
    "import matplotlib.pyplot as plt\n",
    "from sklearn.base import clone\n",
    "from sklearn.datasets import load_wine,load_boston\n",
    "from sklearn.model_selection import StratifiedKFold,cross_validate\n",
    "from sklearn.metrics import accuracy_score,precision_score,recall_score,mean_absolute_error,mean_squared_error,r2_score,make_scorer\n",
    "from abc import ABC,abstractmethod\n",
    "from decisiontrees import DecisionTreeClassifier, DecisionTreeRegressor"
   ]
  },
  {
   "cell_type": "code",
   "execution_count": 2,
   "metadata": {},
   "outputs": [],
   "source": [
    "## define the random forest classes ##\n",
    "\n",
    "#base class for the random forest algorithm\n",
    "class RandomForest(ABC):\n",
    "    #initializer\n",
    "    def __init__(self,n_trees=100):\n",
    "        self.n_trees = n_trees\n",
    "        self.trees   = []\n",
    "        \n",
    "    #private function to make bootstrap samples\n",
    "    def __make_bootstraps(self,data):\n",
    "        #initialize output dictionary & unique value count\n",
    "        dc   = {}\n",
    "        unip = 0\n",
    "        #get sample size\n",
    "        b_size = data.shape[0]\n",
    "        #get list of row indexes\n",
    "        idx = [i for i in range(b_size)]\n",
    "        #loop through the required number of bootstraps\n",
    "        for b in range(self.n_trees):\n",
    "            #obtain boostrap samples with replacement\n",
    "            sidx   = np.random.choice(idx,replace=True,size=b_size)\n",
    "            b_samp = data[sidx,:]\n",
    "            #compute number of unique values contained in the bootstrap sample\n",
    "            unip  += len(set(sidx))\n",
    "            #obtain out-of-bag samples for the current b\n",
    "            oidx   = list(set(idx) - set(sidx))\n",
    "            o_samp = np.array([])\n",
    "            if oidx:\n",
    "                o_samp = data[oidx,:]\n",
    "            #store results\n",
    "            dc['boot_'+str(b)] = {'boot':b_samp,'test':o_samp}\n",
    "        #return the bootstrap results\n",
    "        return(dc)\n",
    "  \n",
    "    #public function to return model parameters\n",
    "    def get_params(self, deep = False):\n",
    "        return {'n_trees':self.n_trees}\n",
    "\n",
    "    #protected function to obtain the right decision tree\n",
    "    @abstractmethod\n",
    "    def _make_tree_model(self):\n",
    "        pass\n",
    "    \n",
    "    #protected function to train the ensemble\n",
    "    def _train(self,X_train,y_train):\n",
    "        #package the input data\n",
    "        training_data = np.concatenate((X_train,y_train.reshape(-1,1)),axis=1)\n",
    "        #make bootstrap samples\n",
    "        dcBoot = self.__make_bootstraps(training_data)\n",
    "        #iterate through each bootstrap sample & fit a model ##\n",
    "        tree_m = self._make_tree_model()\n",
    "        dcOob    = {}\n",
    "        for b in dcBoot:\n",
    "            #make a clone of the model\n",
    "            model = clone(tree_m)\n",
    "            #fit a decision tree model to the current sample\n",
    "            model.fit(dcBoot[b]['boot'][:,:-1],dcBoot[b]['boot'][:,-1].reshape(-1, 1))\n",
    "            #append the fitted model\n",
    "            self.trees.append(model)\n",
    "            #store the out-of-bag test set for the current bootstrap\n",
    "            if dcBoot[b]['test'].size:\n",
    "                dcOob[b] = dcBoot[b]['test']\n",
    "            else:\n",
    "                dcOob[b] = np.array([])\n",
    "        #return the oob data set\n",
    "        return(dcOob)\n",
    "       \n",
    "    #protected function to predict from the ensemble\n",
    "    def _predict(self,X):\n",
    "        #check we've fit the ensemble\n",
    "        if not self.trees:\n",
    "            print('You must train the ensemble before making predictions!')\n",
    "            return(None)\n",
    "        #loop through each fitted model\n",
    "        predictions = []\n",
    "        for m in self.trees:\n",
    "            #make predictions on the input X\n",
    "            yp = m.predict(X)\n",
    "            #append predictions to storage list\n",
    "            predictions.append(yp.reshape(-1,1))\n",
    "        #compute the ensemble prediction\n",
    "        ypred = np.mean(np.concatenate(predictions,axis=1),axis=1)\n",
    "        #return the prediction\n",
    "        return(ypred)"
   ]
  },
  {
   "cell_type": "code",
   "execution_count": 3,
   "metadata": {},
   "outputs": [],
   "source": [
    "#class for random forest classifier\n",
    "class RandomForestClassifier(RandomForest):\n",
    "    #initializer\n",
    "    def __init__(self,n_trees=100,max_depth=None,min_samples_split=2,loss='gini',balance_class_weights=False):\n",
    "        super().__init__(n_trees)\n",
    "        self.max_depth             = max_depth\n",
    "        self.min_samples_split     = min_samples_split\n",
    "        self.loss                  = loss\n",
    "        self.balance_class_weights = balance_class_weights\n",
    "        \n",
    "    #protected function to obtain the right decision tree\n",
    "    def _make_tree_model(self):\n",
    "        return(DecisionTreeClassifier(max_depth             = self.max_depth,\n",
    "                                      min_samples_split     = self.min_samples_split,\n",
    "                                      loss                  = self.loss,\n",
    "                                      balance_class_weights = self.balance_class_weights))\n",
    "    \n",
    "    #public function to return model parameters\n",
    "    def get_params(self, deep = False):\n",
    "        return {'n_trees':self.n_trees,\n",
    "                'max_depth':self.max_depth,\n",
    "                'min_samples_split':self.min_samples_split,\n",
    "                'loss':self.loss,\n",
    "                'balance_class_weights':self.balance_class_weights}\n",
    "    \n",
    "    #train the ensemble\n",
    "    def fit(self,X_train,y_train,print_metrics=False):\n",
    "        #call the protected training method\n",
    "        dcOob = self._train(X_train,y_train)\n",
    "        #if selected, compute the standard errors and print them\n",
    "        if print_metrics:\n",
    "            #initialise metric arrays\n",
    "            accs = np.array([])\n",
    "            pres = np.array([])\n",
    "            recs = np.array([])\n",
    "            #loop through each bootstrap sample\n",
    "            for b,m in zip(dcOob,self.trees):\n",
    "                #compute the predictions on the out-of-bag test set & compute metrics\n",
    "                if dcOob[b].size:\n",
    "                    yp  = m.predict(dcOob[b][:,:-1])\n",
    "                    acc = accuracy_score(dcOob[b][:,-1],yp)\n",
    "                    pre = precision_score(dcOob[b][:,-1],yp,average='weighted')   \n",
    "                    rec = recall_score(dcOob[b][:,-1],yp,average='weighted')\n",
    "                    #store the error metrics\n",
    "                    accs = np.concatenate((accs,acc.flatten()))\n",
    "                    pres = np.concatenate((pres,pre.flatten()))\n",
    "                    recs = np.concatenate((recs,rec.flatten()))\n",
    "            #print standard errors\n",
    "            print(\"Standard error in accuracy: %.2f\" % np.std(accs))\n",
    "            print(\"Standard error in precision: %.2f\" % np.std(pres))\n",
    "            print(\"Standard error in recall: %.2f\" % np.std(recs))\n",
    "            \n",
    "    #predict from the ensemble\n",
    "    def predict(self,X):\n",
    "        #call the protected prediction method\n",
    "        ypred = self._predict(X)\n",
    "        #convert the results into integer values & return\n",
    "        return(np.round(ypred).astype(int))"
   ]
  },
  {
   "cell_type": "code",
   "execution_count": 4,
   "metadata": {},
   "outputs": [],
   "source": [
    "#class for random forest regressor\n",
    "class RandomForestRegressor(RandomForest):\n",
    "    #initializer\n",
    "    def __init__(self,n_trees=100,max_depth=None,min_samples_split=2,loss='mse'):\n",
    "        super().__init__(n_trees)\n",
    "        self.max_depth             = max_depth\n",
    "        self.min_samples_split     = min_samples_split\n",
    "        self.loss                  = loss\n",
    "        \n",
    "    #protected function to obtain the right decision tree\n",
    "    def _make_tree_model(self):\n",
    "        return(DecisionTreeRegressor(self.max_depth,self.min_samples_split,self.loss))\n",
    "    \n",
    "    #public function to return model parameters\n",
    "    def get_params(self, deep = False):\n",
    "        return {'n_trees':self.n_trees,\n",
    "                'max_depth':self.max_depth,\n",
    "                'min_samples_split':self.min_samples_split,\n",
    "                'loss':self.loss}\n",
    "    \n",
    "    #train the ensemble\n",
    "    def fit(self,X_train,y_train,print_metrics=False):\n",
    "        #call the protected training method\n",
    "        dcOob = self._train(X_train,y_train)\n",
    "        #if selected, compute the standard errors and print them\n",
    "        if print_metrics:\n",
    "            #initialise metric arrays\n",
    "            maes = np.array([])\n",
    "            mses = np.array([])\n",
    "            r2ss = np.array([])\n",
    "            #loop through each bootstrap sample\n",
    "            for b,m in zip(dcOob,self.trees):\n",
    "                #compute the predictions on the out-of-bag test set & compute metrics\n",
    "                if dcOob[b].size:\n",
    "                    yp  = m.predict(dcOob[b][:,:-1])\n",
    "                    mae = mean_absolute_error(dcOob[b][:,-1],yp)\n",
    "                    mse = mean_squared_error(dcOob[b][:,-1],yp)   \n",
    "                    r2s = r2_score(dcOob[b][:,-1],yp)\n",
    "                    #store the error metrics\n",
    "                    maes = np.concatenate((maes,mae.flatten()))\n",
    "                    mses = np.concatenate((mses,mse.flatten()))\n",
    "                    r2ss = np.concatenate((r2ss,r2s.flatten()))\n",
    "            #print standard errors\n",
    "            print(\"Standard error in mean absolute error: %.2f\" % np.std(maes))\n",
    "            print(\"Standard error in mean squred error: %.2f\" % np.std(mses))\n",
    "            print(\"Standard error in r2 score: %.2f\" % np.std(r2ss))\n",
    "            \n",
    "    #predict from the ensemble\n",
    "    def predict(self,X):\n",
    "        #call the protected prediction method\n",
    "        ypred = self._predict(X)\n",
    "        #return the results\n",
    "        return(ypred)  "
   ]
  },
  {
   "cell_type": "markdown",
   "metadata": {},
   "source": [
    "## Wine Dataset - Classification\n",
    "\n",
    "First let's take a look at the available wine dataset. We'll import these data into the notebook, and then do some exploratory analysis."
   ]
  },
  {
   "cell_type": "code",
   "execution_count": 5,
   "metadata": {},
   "outputs": [],
   "source": [
    "#load the wine dataset\n",
    "dfX,sY = load_wine(return_X_y=True, as_frame=True)"
   ]
  },
  {
   "cell_type": "code",
   "execution_count": 6,
   "metadata": {},
   "outputs": [
    {
     "name": "stdout",
     "output_type": "stream",
     "text": [
      "Dimensions of X:  (178, 13)\n",
      "Dimensions of y:  (178,)\n"
     ]
    }
   ],
   "source": [
    "#check the dimensions of these data\n",
    "print('Dimensions of X: ',dfX.shape)\n",
    "print('Dimensions of y: ',sY.shape)"
   ]
  },
  {
   "cell_type": "code",
   "execution_count": 7,
   "metadata": {},
   "outputs": [
    {
     "name": "stdout",
     "output_type": "stream",
     "text": [
      "Classes in the label:  [0 1 2]\n"
     ]
    }
   ],
   "source": [
    "#what unique classes exist in the label variable?\n",
    "print('Classes in the label: ',sY.unique())"
   ]
  },
  {
   "cell_type": "code",
   "execution_count": 8,
   "metadata": {},
   "outputs": [
    {
     "data": {
      "image/png": "[encoded data removed]",
      "text/plain": [
       "<Figure size 432x288 with 1 Axes>"
      ]
     },
     "metadata": {
      "needs_background": "light"
     },
     "output_type": "display_data"
    }
   ],
   "source": [
    "#what is the frequency of the classes in the dataset?\n",
    "sY.hist()\n",
    "plt.show()"
   ]
  },
  {
   "cell_type": "code",
   "execution_count": 9,
   "metadata": {},
   "outputs": [
    {
     "data": {
      "text/html": [
       "<div>\n",
       "<style scoped>\n",
       "    .dataframe tbody tr th:only-of-type {\n",
       "        vertical-align: middle;\n",
       "    }\n",
       "\n",
       "    .dataframe tbody tr th {\n",
       "        vertical-align: top;\n",
       "    }\n",
       "\n",
       "    .dataframe thead th {\n",
       "        text-align: right;\n",
       "    }\n",
       "</style>\n",
       "<table border=\"1\" class=\"dataframe\">\n",
       "  <thead>\n",
       "    <tr style=\"text-align: right;\">\n",
       "      <th></th>\n",
       "      <th>alcohol</th>\n",
       "      <th>malic_acid</th>\n",
       "      <th>ash</th>\n",
       "      <th>alcalinity_of_ash</th>\n",
       "      <th>magnesium</th>\n",
       "      <th>total_phenols</th>\n",
       "      <th>flavanoids</th>\n",
       "      <th>nonflavanoid_phenols</th>\n",
       "      <th>proanthocyanins</th>\n",
       "      <th>color_intensity</th>\n",
       "      <th>hue</th>\n",
       "      <th>od280/od315_of_diluted_wines</th>\n",
       "      <th>proline</th>\n",
       "    </tr>\n",
       "  </thead>\n",
       "  <tbody>\n",
       "    <tr>\n",
       "      <th>0</th>\n",
       "      <td>14.23</td>\n",
       "      <td>1.71</td>\n",
       "      <td>2.43</td>\n",
       "      <td>15.6</td>\n",
       "      <td>127.0</td>\n",
       "      <td>2.80</td>\n",
       "      <td>3.06</td>\n",
       "      <td>0.28</td>\n",
       "      <td>2.29</td>\n",
       "      <td>5.64</td>\n",
       "      <td>1.04</td>\n",
       "      <td>3.92</td>\n",
       "      <td>1065.0</td>\n",
       "    </tr>\n",
       "    <tr>\n",
       "      <th>1</th>\n",
       "      <td>13.20</td>\n",
       "      <td>1.78</td>\n",
       "      <td>2.14</td>\n",
       "      <td>11.2</td>\n",
       "      <td>100.0</td>\n",
       "      <td>2.65</td>\n",
       "      <td>2.76</td>\n",
       "      <td>0.26</td>\n",
       "      <td>1.28</td>\n",
       "      <td>4.38</td>\n",
       "      <td>1.05</td>\n",
       "      <td>3.40</td>\n",
       "      <td>1050.0</td>\n",
       "    </tr>\n",
       "    <tr>\n",
       "      <th>2</th>\n",
       "      <td>13.16</td>\n",
       "      <td>2.36</td>\n",
       "      <td>2.67</td>\n",
       "      <td>18.6</td>\n",
       "      <td>101.0</td>\n",
       "      <td>2.80</td>\n",
       "      <td>3.24</td>\n",
       "      <td>0.30</td>\n",
       "      <td>2.81</td>\n",
       "      <td>5.68</td>\n",
       "      <td>1.03</td>\n",
       "      <td>3.17</td>\n",
       "      <td>1185.0</td>\n",
       "    </tr>\n",
       "    <tr>\n",
       "      <th>3</th>\n",
       "      <td>14.37</td>\n",
       "      <td>1.95</td>\n",
       "      <td>2.50</td>\n",
       "      <td>16.8</td>\n",
       "      <td>113.0</td>\n",
       "      <td>3.85</td>\n",
       "      <td>3.49</td>\n",
       "      <td>0.24</td>\n",
       "      <td>2.18</td>\n",
       "      <td>7.80</td>\n",
       "      <td>0.86</td>\n",
       "      <td>3.45</td>\n",
       "      <td>1480.0</td>\n",
       "    </tr>\n",
       "    <tr>\n",
       "      <th>4</th>\n",
       "      <td>13.24</td>\n",
       "      <td>2.59</td>\n",
       "      <td>2.87</td>\n",
       "      <td>21.0</td>\n",
       "      <td>118.0</td>\n",
       "      <td>2.80</td>\n",
       "      <td>2.69</td>\n",
       "      <td>0.39</td>\n",
       "      <td>1.82</td>\n",
       "      <td>4.32</td>\n",
       "      <td>1.04</td>\n",
       "      <td>2.93</td>\n",
       "      <td>735.0</td>\n",
       "    </tr>\n",
       "  </tbody>\n",
       "</table>\n",
       "</div>"
      ],
      "text/plain": [
       "   alcohol  malic_acid   ash  alcalinity_of_ash  magnesium  total_phenols  \\\n",
       "0    14.23        1.71  2.43               15.6      127.0           2.80   \n",
       "1    13.20        1.78  2.14               11.2      100.0           2.65   \n",
       "2    13.16        2.36  2.67               18.6      101.0           2.80   \n",
       "3    14.37        1.95  2.50               16.8      113.0           3.85   \n",
       "4    13.24        2.59  2.87               21.0      118.0           2.80   \n",
       "\n",
       "   flavanoids  nonflavanoid_phenols  proanthocyanins  color_intensity   hue  \\\n",
       "0        3.06                  0.28             2.29             5.64  1.04   \n",
       "1        2.76                  0.26             1.28             4.38  1.05   \n",
       "2        3.24                  0.30             2.81             5.68  1.03   \n",
       "3        3.49                  0.24             2.18             7.80  0.86   \n",
       "4        2.69                  0.39             1.82             4.32  1.04   \n",
       "\n",
       "   od280/od315_of_diluted_wines  proline  \n",
       "0                          3.92   1065.0  \n",
       "1                          3.40   1050.0  \n",
       "2                          3.17   1185.0  \n",
       "3                          3.45   1480.0  \n",
       "4                          2.93    735.0  "
      ]
     },
     "execution_count": 9,
     "metadata": {},
     "output_type": "execute_result"
    }
   ],
   "source": [
    "#view the first 5 rows of input features\n",
    "dfX.head(5)"
   ]
  },
  {
   "cell_type": "code",
   "execution_count": 10,
   "metadata": {},
   "outputs": [
    {
     "data": {
      "image/png": "[encoded data removed]",
      "text/plain": [
       "<Figure size 1440x720 with 1 Axes>"
      ]
     },
     "metadata": {
      "needs_background": "light"
     },
     "output_type": "display_data"
    }
   ],
   "source": [
    "#make a boxplot to view the distribution in these data\n",
    "dfX.boxplot(figsize=(20,10),rot=45)\n",
    "plt.show()"
   ]
  },
  {
   "cell_type": "code",
   "execution_count": 11,
   "metadata": {},
   "outputs": [
    {
     "data": {
      "image/png": "[encoded data removed]",
      "text/plain": [
       "<Figure size 720x720 with 2 Axes>"
      ]
     },
     "metadata": {
      "needs_background": "light"
     },
     "output_type": "display_data"
    }
   ],
   "source": [
    "## plot the pearson correlation for our input features ##\n",
    "fig, ax = plt.subplots(figsize = (10, 10)) \n",
    "dfCorr  = dfX.corr() \n",
    "sn.heatmap(dfCorr) \n",
    "plt.show()"
   ]
  },
  {
   "cell_type": "markdown",
   "metadata": {},
   "source": [
    "We have a total of 178 samples, with 13 input features. Each sample can be given one of 3 possible class labels, corresponding to 3 different wine qualities. These classes are unbalanced in the dataset. The spreads in these data vary from feature-to-feature, however there appears to be virtually no outliers present. Some input features appear to be highly correlated.\n",
    "\n",
    "Let's now identify features that show a high degree of colinearity (i.e. greater than 0.8):"
   ]
  },
  {
   "cell_type": "code",
   "execution_count": 12,
   "metadata": {},
   "outputs": [],
   "source": [
    "#convert all correlations to positive values\n",
    "dfCorr = dfCorr.abs()"
   ]
  },
  {
   "cell_type": "code",
   "execution_count": 13,
   "metadata": {},
   "outputs": [
    {
     "name": "stdout",
     "output_type": "stream",
     "text": [
      "highly correlated input features:  total_phenols  &  ['flavanoids']\n",
      "highly correlated input features:  flavanoids  &  ['total_phenols']\n"
     ]
    }
   ],
   "source": [
    "#loop through rows\n",
    "for index, sRow in dfCorr.iterrows():\n",
    "    #get the valid entries\n",
    "    sCorrs = sRow[sRow.index != index]\n",
    "    sCorrs = sCorrs[sCorrs > 0.8]\n",
    "    #print out results\n",
    "    if not sCorrs.empty:\n",
    "        print('highly correlated input features: ',index,' & ',sCorrs.index.values)"
   ]
  },
  {
   "cell_type": "markdown",
   "metadata": {},
   "source": [
    "Only two features show a high degree of colinearity, total_phenols & flavanoids. In situations where we have a large number of features (1000's or more), we could remove these to reduce the dimensionality of the data. However, with our present dataset we can safely proceed without dropping any features.\n",
    "\n",
    "We can now create an instance of our custom random forest classifier, and train it to view the standard error estimates:"
   ]
  },
  {
   "cell_type": "code",
   "execution_count": 14,
   "metadata": {},
   "outputs": [],
   "source": [
    "#create a random forest with balance class weights enabled\n",
    "rfc = RandomForestClassifier(balance_class_weights=True)"
   ]
  },
  {
   "cell_type": "code",
   "execution_count": 15,
   "metadata": {},
   "outputs": [
    {
     "name": "stdout",
     "output_type": "stream",
     "text": [
      "Standard error in accuracy: 0.06\n",
      "Standard error in precision: 0.05\n",
      "Standard error in recall: 0.06\n"
     ]
    }
   ],
   "source": [
    "## train the ensemble & view estimates for prediction error ##\n",
    "rfc.fit(dfX.values,sY.values,print_metrics=True)"
   ]
  },
  {
   "cell_type": "code",
   "execution_count": 16,
   "metadata": {},
   "outputs": [
    {
     "name": "stdout",
     "output_type": "stream",
     "text": [
      "Mean Accuracy: 0.97\n",
      "Mean Precision: 0.97\n",
      "Mean Recall: 0.97\n"
     ]
    }
   ],
   "source": [
    "## use k fold cross validation to measure performance ##\n",
    "scoring_metrics = {'accuracy': make_scorer(accuracy_score), \n",
    "                   'precision': make_scorer(precision_score, average='weighted'),\n",
    "                   'recall': make_scorer(recall_score, average='weighted')}\n",
    "dcScores        = cross_validate(rfc,dfX.values,sY.values,cv=StratifiedKFold(10),scoring=scoring_metrics)\n",
    "print('Mean Accuracy: %.2f' % np.mean(dcScores['test_accuracy']))\n",
    "print('Mean Precision: %.2f' % np.mean(dcScores['test_precision']))\n",
    "print('Mean Recall: %.2f' % np.mean(dcScores['test_recall']))"
   ]
  },
  {
   "cell_type": "markdown",
   "metadata": {},
   "source": [
    "These results look good. Note that here I'm just using the default hyperparameters for the random forest classifier. Let's now compare these results with the models available through scikit-learn. We will look at a Random Forest Classifer, a Bagging Classifier, and a Decision Tree Classifier:"
   ]
  },
  {
   "cell_type": "code",
   "execution_count": 26,
   "metadata": {},
   "outputs": [],
   "source": [
    "## import the scikit-learn models ##\n",
    "from sklearn.ensemble import RandomForestClassifier, BaggingClassifier \n",
    "from sklearn.tree import DecisionTreeClassifier"
   ]
  },
  {
   "cell_type": "code",
   "execution_count": 27,
   "metadata": {},
   "outputs": [],
   "source": [
    "#create a random forest with balanced class weights\n",
    "rfc = RandomForestClassifier(class_weight='balanced')"
   ]
  },
  {
   "cell_type": "code",
   "execution_count": 28,
   "metadata": {},
   "outputs": [
    {
     "name": "stdout",
     "output_type": "stream",
     "text": [
      "Mean Accuracy: 0.98\n",
      "Mean Precision: 0.98\n",
      "Mean Recall: 0.98\n"
     ]
    }
   ],
   "source": [
    "## use k fold cross validation to measure performance ##\n",
    "scoring_metrics = {'accuracy': make_scorer(accuracy_score), \n",
    "                   'precision': make_scorer(precision_score, average='weighted'),\n",
    "                   'recall': make_scorer(recall_score, average='weighted')}\n",
    "dcScores        = cross_validate(rfc,dfX.values,sY.values,cv=StratifiedKFold(10),scoring=scoring_metrics)\n",
    "print('Mean Accuracy: %.2f' % np.mean(dcScores['test_accuracy']))\n",
    "print('Mean Precision: %.2f' % np.mean(dcScores['test_precision']))\n",
    "print('Mean Recall: %.2f' % np.mean(dcScores['test_recall']))"
   ]
  },
  {
   "cell_type": "code",
   "execution_count": 29,
   "metadata": {},
   "outputs": [],
   "source": [
    "#create a bagging classifer with balanced class weights\n",
    "btc = BaggingClassifier(base_estimator=DecisionTreeClassifier(class_weight='balanced'),n_estimators=100)"
   ]
  },
  {
   "cell_type": "code",
   "execution_count": 30,
   "metadata": {},
   "outputs": [
    {
     "name": "stdout",
     "output_type": "stream",
     "text": [
      "Mean Accuracy: 0.94\n",
      "Mean Precision: 0.95\n",
      "Mean Recall: 0.94\n"
     ]
    }
   ],
   "source": [
    "## use k fold cross validation to measure performance ##\n",
    "scoring_metrics = {'accuracy': make_scorer(accuracy_score), \n",
    "                   'precision': make_scorer(precision_score, average='weighted'),\n",
    "                   'recall': make_scorer(recall_score, average='weighted')}\n",
    "dcScores        = cross_validate(btc,dfX.values,sY.values,cv=StratifiedKFold(10),scoring=scoring_metrics)\n",
    "print('Mean Accuracy: %.2f' % np.mean(dcScores['test_accuracy']))\n",
    "print('Mean Precision: %.2f' % np.mean(dcScores['test_precision']))\n",
    "print('Mean Recall: %.2f' % np.mean(dcScores['test_recall']))"
   ]
  },
  {
   "cell_type": "code",
   "execution_count": 31,
   "metadata": {},
   "outputs": [],
   "source": [
    "#create a decision tree classifer with balanced class weights\n",
    "dtc = DecisionTreeClassifier(class_weight='balanced')"
   ]
  },
  {
   "cell_type": "code",
   "execution_count": 32,
   "metadata": {},
   "outputs": [
    {
     "name": "stdout",
     "output_type": "stream",
     "text": [
      "Mean Accuracy: 0.89\n",
      "Mean Precision: 0.92\n",
      "Mean Recall: 0.89\n"
     ]
    }
   ],
   "source": [
    "## use k fold cross validation to measure performance ##\n",
    "scoring_metrics = {'accuracy': make_scorer(accuracy_score), \n",
    "                   'precision': make_scorer(precision_score, average='weighted'),\n",
    "                   'recall': make_scorer(recall_score, average='weighted')}\n",
    "dcScores        = cross_validate(dtc,dfX.values,sY.values,cv=StratifiedKFold(10),scoring=scoring_metrics)\n",
    "print('Mean Accuracy: %.2f' % np.mean(dcScores['test_accuracy']))\n",
    "print('Mean Precision: %.2f' % np.mean(dcScores['test_precision']))\n",
    "print('Mean Recall: %.2f' % np.mean(dcScores['test_recall']))"
   ]
  },
  {
   "cell_type": "markdown",
   "metadata": {},
   "source": [
    "Model | Accuracy | Precision | Recall\n",
    "--- | --- | --- | ---\n",
    "Custom Random Forest | 0.97 | 0.97 | 0.97\n",
    "Scikit-Learn Random Forest | 0.98 | 0.98 | 0.98\n",
    "Scikit-Learn Bagging Classifier | 0.94 | 0.95 | 0.94\n",
    "Scikit-Learn Decision Tree Classifier | 0.89 | 0.92 | 0.89\n",
    "\n",
    "The results show that our custom built random forest classifier performs similarily to the model available through scikit-learn. In addition, we can see that the random forest algorithm performs better than the bagging classifier, and the decision tree algorithm.\n",
    "\n",
    "## Boston House Prices Dataset - Regression\n",
    "\n",
    "We can now look at a regression problem, the boston house prices dataset. Let's import these data into the notebook, and do some exploratory analysis."
   ]
  },
  {
   "cell_type": "code",
   "execution_count": 17,
   "metadata": {},
   "outputs": [],
   "source": [
    "#load the boston dataset\n",
    "data = load_boston()\n",
    "#obtain input data\n",
    "X = data.data\n",
    "#obtain labels\n",
    "Y = data.target\n",
    "#obtain input labels\n",
    "names = data.feature_names\n",
    "#convert input features to dataframe\n",
    "dfX = pd.DataFrame(X,columns=names)"
   ]
  },
  {
   "cell_type": "code",
   "execution_count": 18,
   "metadata": {},
   "outputs": [
    {
     "name": "stdout",
     "output_type": "stream",
     "text": [
      "Dimensions of X:  (506, 13)\n",
      "Dimensions of y:  (506,)\n"
     ]
    }
   ],
   "source": [
    "#check the dimensions of these data\n",
    "print('Dimensions of X: ',dfX.shape)\n",
    "print('Dimensions of y: ',Y.shape)"
   ]
  },
  {
   "cell_type": "code",
   "execution_count": 19,
   "metadata": {},
   "outputs": [
    {
     "data": {
      "image/png": "[encoded data removed]",
      "text/plain": [
       "<Figure size 432x288 with 1 Axes>"
      ]
     },
     "metadata": {
      "needs_background": "light"
     },
     "output_type": "display_data"
    }
   ],
   "source": [
    "#produce a histogram of the target labels\n",
    "plt.hist(Y)\n",
    "plt.xlabel('Median Price $1000')\n",
    "plt.ylabel('Frequency')\n",
    "plt.title('Histogram of Boston House Prices in $1000')\n",
    "plt.show()"
   ]
  },
  {
   "cell_type": "code",
   "execution_count": 20,
   "metadata": {},
   "outputs": [
    {
     "data": {
      "text/html": [
       "<div>\n",
       "<style scoped>\n",
       "    .dataframe tbody tr th:only-of-type {\n",
       "        vertical-align: middle;\n",
       "    }\n",
       "\n",
       "    .dataframe tbody tr th {\n",
       "        vertical-align: top;\n",
       "    }\n",
       "\n",
       "    .dataframe thead th {\n",
       "        text-align: right;\n",
       "    }\n",
       "</style>\n",
       "<table border=\"1\" class=\"dataframe\">\n",
       "  <thead>\n",
       "    <tr style=\"text-align: right;\">\n",
       "      <th></th>\n",
       "      <th>CRIM</th>\n",
       "      <th>ZN</th>\n",
       "      <th>INDUS</th>\n",
       "      <th>CHAS</th>\n",
       "      <th>NOX</th>\n",
       "      <th>RM</th>\n",
       "      <th>AGE</th>\n",
       "      <th>DIS</th>\n",
       "      <th>RAD</th>\n",
       "      <th>TAX</th>\n",
       "      <th>PTRATIO</th>\n",
       "      <th>B</th>\n",
       "      <th>LSTAT</th>\n",
       "    </tr>\n",
       "  </thead>\n",
       "  <tbody>\n",
       "    <tr>\n",
       "      <th>0</th>\n",
       "      <td>0.00632</td>\n",
       "      <td>18.0</td>\n",
       "      <td>2.31</td>\n",
       "      <td>0.0</td>\n",
       "      <td>0.538</td>\n",
       "      <td>6.575</td>\n",
       "      <td>65.2</td>\n",
       "      <td>4.0900</td>\n",
       "      <td>1.0</td>\n",
       "      <td>296.0</td>\n",
       "      <td>15.3</td>\n",
       "      <td>396.90</td>\n",
       "      <td>4.98</td>\n",
       "    </tr>\n",
       "    <tr>\n",
       "      <th>1</th>\n",
       "      <td>0.02731</td>\n",
       "      <td>0.0</td>\n",
       "      <td>7.07</td>\n",
       "      <td>0.0</td>\n",
       "      <td>0.469</td>\n",
       "      <td>6.421</td>\n",
       "      <td>78.9</td>\n",
       "      <td>4.9671</td>\n",
       "      <td>2.0</td>\n",
       "      <td>242.0</td>\n",
       "      <td>17.8</td>\n",
       "      <td>396.90</td>\n",
       "      <td>9.14</td>\n",
       "    </tr>\n",
       "    <tr>\n",
       "      <th>2</th>\n",
       "      <td>0.02729</td>\n",
       "      <td>0.0</td>\n",
       "      <td>7.07</td>\n",
       "      <td>0.0</td>\n",
       "      <td>0.469</td>\n",
       "      <td>7.185</td>\n",
       "      <td>61.1</td>\n",
       "      <td>4.9671</td>\n",
       "      <td>2.0</td>\n",
       "      <td>242.0</td>\n",
       "      <td>17.8</td>\n",
       "      <td>392.83</td>\n",
       "      <td>4.03</td>\n",
       "    </tr>\n",
       "    <tr>\n",
       "      <th>3</th>\n",
       "      <td>0.03237</td>\n",
       "      <td>0.0</td>\n",
       "      <td>2.18</td>\n",
       "      <td>0.0</td>\n",
       "      <td>0.458</td>\n",
       "      <td>6.998</td>\n",
       "      <td>45.8</td>\n",
       "      <td>6.0622</td>\n",
       "      <td>3.0</td>\n",
       "      <td>222.0</td>\n",
       "      <td>18.7</td>\n",
       "      <td>394.63</td>\n",
       "      <td>2.94</td>\n",
       "    </tr>\n",
       "    <tr>\n",
       "      <th>4</th>\n",
       "      <td>0.06905</td>\n",
       "      <td>0.0</td>\n",
       "      <td>2.18</td>\n",
       "      <td>0.0</td>\n",
       "      <td>0.458</td>\n",
       "      <td>7.147</td>\n",
       "      <td>54.2</td>\n",
       "      <td>6.0622</td>\n",
       "      <td>3.0</td>\n",
       "      <td>222.0</td>\n",
       "      <td>18.7</td>\n",
       "      <td>396.90</td>\n",
       "      <td>5.33</td>\n",
       "    </tr>\n",
       "  </tbody>\n",
       "</table>\n",
       "</div>"
      ],
      "text/plain": [
       "      CRIM    ZN  INDUS  CHAS    NOX     RM   AGE     DIS  RAD    TAX  \\\n",
       "0  0.00632  18.0   2.31   0.0  0.538  6.575  65.2  4.0900  1.0  296.0   \n",
       "1  0.02731   0.0   7.07   0.0  0.469  6.421  78.9  4.9671  2.0  242.0   \n",
       "2  0.02729   0.0   7.07   0.0  0.469  7.185  61.1  4.9671  2.0  242.0   \n",
       "3  0.03237   0.0   2.18   0.0  0.458  6.998  45.8  6.0622  3.0  222.0   \n",
       "4  0.06905   0.0   2.18   0.0  0.458  7.147  54.2  6.0622  3.0  222.0   \n",
       "\n",
       "   PTRATIO       B  LSTAT  \n",
       "0     15.3  396.90   4.98  \n",
       "1     17.8  396.90   9.14  \n",
       "2     17.8  392.83   4.03  \n",
       "3     18.7  394.63   2.94  \n",
       "4     18.7  396.90   5.33  "
      ]
     },
     "execution_count": 20,
     "metadata": {},
     "output_type": "execute_result"
    }
   ],
   "source": [
    "#view the first 5 rows of input features\n",
    "dfX.head(5)"
   ]
  },
  {
   "cell_type": "code",
   "execution_count": 21,
   "metadata": {},
   "outputs": [
    {
     "data": {
      "image/png": "[encoded data removed]",
      "text/plain": [
       "<Figure size 1440x720 with 1 Axes>"
      ]
     },
     "metadata": {
      "needs_background": "light"
     },
     "output_type": "display_data"
    }
   ],
   "source": [
    "#make a boxplot to view the distribution in these data\n",
    "dfX.boxplot(figsize=(20,10),rot=45)\n",
    "plt.show()"
   ]
  },
  {
   "cell_type": "code",
   "execution_count": 22,
   "metadata": {},
   "outputs": [
    {
     "data": {
      "image/png": "[encoded data removed]",
      "text/plain": [
       "<Figure size 720x720 with 2 Axes>"
      ]
     },
     "metadata": {
      "needs_background": "light"
     },
     "output_type": "display_data"
    }
   ],
   "source": [
    "## plot the pearson correlation for our input features ##\n",
    "fig, ax = plt.subplots(figsize = (10, 10)) \n",
    "dfCorr  = dfX.corr() \n",
    "sn.heatmap(dfCorr) \n",
    "plt.show()"
   ]
  },
  {
   "cell_type": "markdown",
   "metadata": {},
   "source": [
    "We have a total of 506 samples, with 13 input features. The target $y$ represents the median house price in $\\$$1000's USD. Note that these data were published in 1978, and therefore refect dollars from that time period. The distribution peaks around $\\$$20,000, however there is a secondary minor peak around $\\$$50,000. The spreads in these data vary from feature-to-feature, with many outliers present in CRIM, ZN, and B. Some input features appear to be highly correlated.\n",
    "\n",
    "Let's now identify features that show a high degree of colinearity (i.e. greater than 0.8):"
   ]
  },
  {
   "cell_type": "code",
   "execution_count": 23,
   "metadata": {},
   "outputs": [],
   "source": [
    "#convert all correlations to positive values\n",
    "dfCorr = dfCorr.abs()"
   ]
  },
  {
   "cell_type": "code",
   "execution_count": 24,
   "metadata": {},
   "outputs": [
    {
     "name": "stdout",
     "output_type": "stream",
     "text": [
      "highly correlated input features:  RAD  &  ['TAX']\n",
      "highly correlated input features:  TAX  &  ['RAD']\n"
     ]
    }
   ],
   "source": [
    "#loop through rows\n",
    "for index, sRow in dfCorr.iterrows():\n",
    "    #get the valid entries\n",
    "    sCorrs = sRow[sRow.index != index]\n",
    "    sCorrs = sCorrs[sCorrs > 0.8]\n",
    "    #print out results\n",
    "    if not sCorrs.empty:\n",
    "        print('highly correlated input features: ',index,' & ',sCorrs.index.values)"
   ]
  },
  {
   "cell_type": "markdown",
   "metadata": {},
   "source": [
    "Like the case with the wine dataset, only two features show a high degree of colinearity, RAD & TAX. In situations where we have a large number of features (1000's or more), we could remove these to reduce the dimensionality of the data. However, with our present dataset we can safely proceed without dropping any features.\n",
    "\n",
    "We can now create an instance of our custom random forest regressor, and train it to view the standard error estimates:"
   ]
  },
  {
   "cell_type": "code",
   "execution_count": 25,
   "metadata": {},
   "outputs": [],
   "source": [
    "#create a random forest with default values\n",
    "rfr = RandomForestRegressor()"
   ]
  },
  {
   "cell_type": "code",
   "execution_count": 26,
   "metadata": {},
   "outputs": [
    {
     "name": "stdout",
     "output_type": "stream",
     "text": [
      "Standard error in mean absolute error: 0.37\n",
      "Standard error in mean squred error: 9.14\n",
      "Standard error in r2 score: 0.11\n"
     ]
    }
   ],
   "source": [
    "## train the ensemble & view estimates for prediction error ##\n",
    "rfr.fit(dfX.values,Y,print_metrics=True)"
   ]
  },
  {
   "cell_type": "code",
   "execution_count": 27,
   "metadata": {},
   "outputs": [
    {
     "name": "stdout",
     "output_type": "stream",
     "text": [
      "Mean MAE: 3.05\n",
      "Mean MSE: 21.47\n",
      "Mean R2: 0.55\n"
     ]
    }
   ],
   "source": [
    "## use k fold cross validation to measure performance ##\n",
    "scoring_metrics = {'mae': make_scorer(mean_absolute_error), \n",
    "                   'mse': make_scorer(mean_squared_error),\n",
    "                   'r2': make_scorer(r2_score)}\n",
    "dcScores        = cross_validate(rfr,dfX.values,Y,cv=10,scoring=scoring_metrics)\n",
    "print('Mean MAE: %.2f' % np.mean(dcScores['test_mae']))\n",
    "print('Mean MSE: %.2f' % np.mean(dcScores['test_mse']))\n",
    "print('Mean R2: %.2f' % np.mean(dcScores['test_r2']))"
   ]
  },
  {
   "cell_type": "markdown",
   "metadata": {},
   "source": [
    "These results look reasonable. Note that no hyperparameters tuning was done, like with the random forest classifier. It is also important to notice the negative $R^2$ score: this implies the model is introducing more variation than is present in the data. However, the $R^2$ metric is supposed to be used strictly for linear models, and as such this value may not be representative of the true performance of the random forest model. \n",
    "\n",
    "Let's now compare these results with the models available through scikit-learn. We will look at a Random Forest Regressor, a Bagging Regressor, and a Decision Tree Regressor:"
   ]
  },
  {
   "cell_type": "code",
   "execution_count": 28,
   "metadata": {},
   "outputs": [],
   "source": [
    "## import the scikit-learn models ##\n",
    "from sklearn.ensemble import RandomForestRegressor, BaggingRegressor \n",
    "from sklearn.tree import DecisionTreeRegressor"
   ]
  },
  {
   "cell_type": "code",
   "execution_count": 29,
   "metadata": {},
   "outputs": [],
   "source": [
    "#create a random forest with default values\n",
    "rfr = RandomForestRegressor(max_features='sqrt')"
   ]
  },
  {
   "cell_type": "code",
   "execution_count": 30,
   "metadata": {},
   "outputs": [
    {
     "name": "stdout",
     "output_type": "stream",
     "text": [
      "Mean MAE: 3.01\n",
      "Mean MSE: 20.10\n",
      "Mean R2: 0.55\n"
     ]
    }
   ],
   "source": [
    "## use k fold cross validation to measure performance ##\n",
    "scoring_metrics = {'mae': make_scorer(mean_absolute_error), \n",
    "                   'mse': make_scorer(mean_squared_error),\n",
    "                   'r2': make_scorer(r2_score)}\n",
    "dcScores        = cross_validate(rfr,dfX.values,Y,cv=10,scoring=scoring_metrics)\n",
    "print('Mean MAE: %.2f' % np.mean(dcScores['test_mae']))\n",
    "print('Mean MSE: %.2f' % np.mean(dcScores['test_mse']))\n",
    "print('Mean R2: %.2f' % np.mean(dcScores['test_r2']))"
   ]
  },
  {
   "cell_type": "code",
   "execution_count": 31,
   "metadata": {},
   "outputs": [],
   "source": [
    "#create a bagging regressor \n",
    "btr = BaggingRegressor(base_estimator=DecisionTreeRegressor(),n_estimators=100)"
   ]
  },
  {
   "cell_type": "code",
   "execution_count": 32,
   "metadata": {},
   "outputs": [
    {
     "name": "stdout",
     "output_type": "stream",
     "text": [
      "Mean MAE: 3.00\n",
      "Mean MSE: 21.77\n",
      "Mean R2: 0.51\n"
     ]
    }
   ],
   "source": [
    "## use k fold cross validation to measure performance ##\n",
    "scoring_metrics = {'mae': make_scorer(mean_absolute_error), \n",
    "                   'mse': make_scorer(mean_squared_error),\n",
    "                   'r2': make_scorer(r2_score)}\n",
    "dcScores        = cross_validate(btr,dfX.values,Y,cv=10,scoring=scoring_metrics)\n",
    "print('Mean MAE: %.2f' % np.mean(dcScores['test_mae']))\n",
    "print('Mean MSE: %.2f' % np.mean(dcScores['test_mse']))\n",
    "print('Mean R2: %.2f' % np.mean(dcScores['test_r2']))"
   ]
  },
  {
   "cell_type": "code",
   "execution_count": 33,
   "metadata": {},
   "outputs": [],
   "source": [
    "#create a decision tree regressor \n",
    "dtr = DecisionTreeRegressor()"
   ]
  },
  {
   "cell_type": "code",
   "execution_count": 34,
   "metadata": {},
   "outputs": [
    {
     "name": "stdout",
     "output_type": "stream",
     "text": [
      "Mean MAE: 3.98\n",
      "Mean MSE: 38.95\n",
      "Mean R2: -0.07\n"
     ]
    }
   ],
   "source": [
    "## use k fold cross validation to measure performance ##\n",
    "scoring_metrics = {'mae': make_scorer(mean_absolute_error), \n",
    "                   'mse': make_scorer(mean_squared_error),\n",
    "                   'r2': make_scorer(r2_score)}\n",
    "dcScores        = cross_validate(dtr,dfX.values,Y,cv=10,scoring=scoring_metrics)\n",
    "print('Mean MAE: %.2f' % np.mean(dcScores['test_mae']))\n",
    "print('Mean MSE: %.2f' % np.mean(dcScores['test_mse']))\n",
    "print('Mean R2: %.2f' % np.mean(dcScores['test_r2']))"
   ]
  },
  {
   "cell_type": "markdown",
   "metadata": {},
   "source": [
    "Model | MAE | MSE | R2\n",
    "--- | --- | --- | ---\n",
    "Custom Random Forest | 3.05 | 21.47 | 0.55\n",
    "Scikit-Learn Random Forest | 3.01 | 20.10 | 0.55\n",
    "Scikit-Learn Bagging Regressor | 3.00 | 21.77 | 0.51\n",
    "Scikit-Learn Decision Tree Regressor | 3.98 | 38.95 | -0.07\n",
    "\n",
    "The results show that our custom built random forest regressor performs similarily to the model available through scikit-learn in terms of the MAE and $R^2$ scores. The MSE result is a bit better with the scikit-learn model, indicating that this model is better at handling outliers. In addition, we can see that the random forest algorithm performs better than the bagging regressor (in terms of MSE & $R^2$), and the decision tree algorithm."
   ]
  },
  {
   "cell_type": "code",
   "execution_count": null,
   "metadata": {},
   "outputs": [],
   "source": []
  }
 ],
 "metadata": {
  "kernelspec": {
   "display_name": "Python 3",
   "language": "python",
   "name": "python3"
  },
  "language_info": {
   "codemirror_mode": {
    "name": "ipython",
    "version": 3
   },
   "file_extension": ".py",
   "mimetype": "text/x-python",
   "name": "python",
   "nbconvert_exporter": "python",
   "pygments_lexer": "ipython3",
   "version": "3.6.12"
  }
 },
 "nbformat": 4,
 "nbformat_minor": 4
}
