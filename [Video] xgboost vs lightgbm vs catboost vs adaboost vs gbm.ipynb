{
 "cells": [
  {
   "cell_type": "markdown",
   "id": "b2e8595f-3f0f-4f0e-9e90-a11919b133b0",
   "metadata": {},
   "source": [
    "# XGBoost vs LightGBM vs Catboost vs Adaboost vs GBM\n",
    "\n",
    "This notebook compares the performance of 5 different Python packages for boosting ensembles. These include:\n",
    "\n",
    "* xgboost\n",
    "* lightgbm\n",
    "* catboost\n",
    "* adaboost (scikit-learn)\n",
    "* gbm (scikit-learn)\n",
    "\n",
    "These packages represent different algorithmic, and implementation, variations on boosting. \n",
    "\n",
    "Let's compare these packages in terms of predictive performance, training time, and preparation required on a simple classification dataset. "
   ]
  },
  {
   "cell_type": "code",
   "execution_count": 1,
   "id": "a1594338-5ba7-4f0c-bdf4-4d1f58d542ee",
   "metadata": {},
   "outputs": [],
   "source": [
    "import time\n",
    "import pandas as pd\n",
    "from sklearn.metrics import (\n",
    "    accuracy_score,\n",
    "    precision_score,\n",
    "    recall_score,\n",
    "    f1_score\n",
    ")\n",
    "from sklearn.preprocessing import OrdinalEncoder\n",
    "from sklearn.model_selection import train_test_split\n",
    "from xgboost import XGBClassifier\n",
    "from lightgbm import LGBMClassifier\n",
    "from catboost import CatBoostClassifier\n",
    "from sklearn.tree import DecisionTreeClassifier\n",
    "from sklearn.ensemble import AdaBoostClassifier\n",
    "from sklearn.ensemble import GradientBoostingClassifier"
   ]
  },
  {
   "cell_type": "markdown",
   "id": "78b47020-3c95-446c-8b70-26bf9edbbc72",
   "metadata": {},
   "source": [
    "## Read in and Prepare Data\n",
    "\n",
    "Data that will be used is the Breast Cancer dataset from the UC Irvine Machine Learning repository (https://archive.ics.uci.edu/dataset/14/breast+cancer): \n",
    "\n",
    "Zwitter,Matjaz and Soklic,Milan. (1988). Breast Cancer. UCI Machine Learning Repository. https://doi.org/10.24432/C51P4M."
   ]
  },
  {
   "cell_type": "code",
   "execution_count": 2,
   "id": "56ad4a04-a807-414f-8ce8-d6ade9617b4f",
   "metadata": {},
   "outputs": [],
   "source": [
    "data = pd.read_csv(\n",
    "    './breast+cancer/breast-cancer.data',\n",
    "    names=[\n",
    "        'class',\n",
    "        'age',\n",
    "        'menopause',\n",
    "        'tumor-size',\n",
    "        'inv-nodes',\n",
    "        'node-caps',\n",
    "        'deg-malig',\n",
    "        'breast',\n",
    "        'breast-quad',\n",
    "        'irradiat'\n",
    "    ]\n",
    ")"
   ]
  },
  {
   "cell_type": "code",
   "execution_count": 3,
   "id": "e374f60f-25ab-4974-b63b-abdabf2d9054",
   "metadata": {},
   "outputs": [
    {
     "data": {
      "text/plain": [
       "(286, 10)"
      ]
     },
     "execution_count": 3,
     "metadata": {},
     "output_type": "execute_result"
    }
   ],
   "source": [
    "data.shape"
   ]
  },
  {
   "cell_type": "code",
   "execution_count": 4,
   "id": "012b925c-7020-4b07-b6ae-e9e3fc45ae0b",
   "metadata": {},
   "outputs": [
    {
     "data": {
      "text/html": [
       "<div>\n",
       "<style scoped>\n",
       "    .dataframe tbody tr th:only-of-type {\n",
       "        vertical-align: middle;\n",
       "    }\n",
       "\n",
       "    .dataframe tbody tr th {\n",
       "        vertical-align: top;\n",
       "    }\n",
       "\n",
       "    .dataframe thead th {\n",
       "        text-align: right;\n",
       "    }\n",
       "</style>\n",
       "<table border=\"1\" class=\"dataframe\">\n",
       "  <thead>\n",
       "    <tr style=\"text-align: right;\">\n",
       "      <th></th>\n",
       "      <th>class</th>\n",
       "      <th>age</th>\n",
       "      <th>menopause</th>\n",
       "      <th>tumor-size</th>\n",
       "      <th>inv-nodes</th>\n",
       "      <th>node-caps</th>\n",
       "      <th>deg-malig</th>\n",
       "      <th>breast</th>\n",
       "      <th>breast-quad</th>\n",
       "      <th>irradiat</th>\n",
       "    </tr>\n",
       "  </thead>\n",
       "  <tbody>\n",
       "    <tr>\n",
       "      <th>0</th>\n",
       "      <td>no-recurrence-events</td>\n",
       "      <td>30-39</td>\n",
       "      <td>premeno</td>\n",
       "      <td>30-34</td>\n",
       "      <td>0-2</td>\n",
       "      <td>no</td>\n",
       "      <td>3</td>\n",
       "      <td>left</td>\n",
       "      <td>left_low</td>\n",
       "      <td>no</td>\n",
       "    </tr>\n",
       "    <tr>\n",
       "      <th>1</th>\n",
       "      <td>no-recurrence-events</td>\n",
       "      <td>40-49</td>\n",
       "      <td>premeno</td>\n",
       "      <td>20-24</td>\n",
       "      <td>0-2</td>\n",
       "      <td>no</td>\n",
       "      <td>2</td>\n",
       "      <td>right</td>\n",
       "      <td>right_up</td>\n",
       "      <td>no</td>\n",
       "    </tr>\n",
       "    <tr>\n",
       "      <th>2</th>\n",
       "      <td>no-recurrence-events</td>\n",
       "      <td>40-49</td>\n",
       "      <td>premeno</td>\n",
       "      <td>20-24</td>\n",
       "      <td>0-2</td>\n",
       "      <td>no</td>\n",
       "      <td>2</td>\n",
       "      <td>left</td>\n",
       "      <td>left_low</td>\n",
       "      <td>no</td>\n",
       "    </tr>\n",
       "    <tr>\n",
       "      <th>3</th>\n",
       "      <td>no-recurrence-events</td>\n",
       "      <td>60-69</td>\n",
       "      <td>ge40</td>\n",
       "      <td>15-19</td>\n",
       "      <td>0-2</td>\n",
       "      <td>no</td>\n",
       "      <td>2</td>\n",
       "      <td>right</td>\n",
       "      <td>left_up</td>\n",
       "      <td>no</td>\n",
       "    </tr>\n",
       "    <tr>\n",
       "      <th>4</th>\n",
       "      <td>no-recurrence-events</td>\n",
       "      <td>40-49</td>\n",
       "      <td>premeno</td>\n",
       "      <td>0-4</td>\n",
       "      <td>0-2</td>\n",
       "      <td>no</td>\n",
       "      <td>2</td>\n",
       "      <td>right</td>\n",
       "      <td>right_low</td>\n",
       "      <td>no</td>\n",
       "    </tr>\n",
       "  </tbody>\n",
       "</table>\n",
       "</div>"
      ],
      "text/plain": [
       "                  class    age menopause tumor-size inv-nodes node-caps  \\\n",
       "0  no-recurrence-events  30-39   premeno      30-34       0-2        no   \n",
       "1  no-recurrence-events  40-49   premeno      20-24       0-2        no   \n",
       "2  no-recurrence-events  40-49   premeno      20-24       0-2        no   \n",
       "3  no-recurrence-events  60-69      ge40      15-19       0-2        no   \n",
       "4  no-recurrence-events  40-49   premeno        0-4       0-2        no   \n",
       "\n",
       "   deg-malig breast breast-quad irradiat  \n",
       "0          3   left    left_low       no  \n",
       "1          2  right    right_up       no  \n",
       "2          2   left    left_low       no  \n",
       "3          2  right     left_up       no  \n",
       "4          2  right   right_low       no  "
      ]
     },
     "execution_count": 4,
     "metadata": {},
     "output_type": "execute_result"
    }
   ],
   "source": [
    "data.head(5)"
   ]
  },
  {
   "cell_type": "markdown",
   "id": "857a2c34-bbcb-4a10-aee4-7f87df0b3697",
   "metadata": {},
   "source": [
    "The 'class' column is our target, whereas all the other columns are predictor features. We can make some quick observations:\n",
    "\n",
    "* features 'age', 'menopause', 'tumor-size', 'inv-nodes', and 'deg-malig' are ordeal\n",
    "* features 'node-caps', 'breast', 'breast-quad', and 'irradiat' are categorical\n",
    "\n",
    "In addition, the website states there are missing values for 'node-caps' and 'breast-quad'. Let's check this out:"
   ]
  },
  {
   "cell_type": "code",
   "execution_count": 5,
   "id": "03372f1f-6ee5-4ca2-a818-ccd4124da84e",
   "metadata": {},
   "outputs": [
    {
     "data": {
      "text/plain": [
       "array(['no', 'yes', '?'], dtype=object)"
      ]
     },
     "execution_count": 5,
     "metadata": {},
     "output_type": "execute_result"
    }
   ],
   "source": [
    "data['node-caps'].unique()"
   ]
  },
  {
   "cell_type": "code",
   "execution_count": 6,
   "id": "dca534b8-de91-493f-b101-32542111d6c0",
   "metadata": {},
   "outputs": [
    {
     "data": {
      "text/plain": [
       "8"
      ]
     },
     "execution_count": 6,
     "metadata": {},
     "output_type": "execute_result"
    }
   ],
   "source": [
    "data[data['node-caps']=='?'].shape[0]"
   ]
  },
  {
   "cell_type": "code",
   "execution_count": 7,
   "id": "42aecec8-eb6f-411b-9f79-bdb7f70e57bd",
   "metadata": {},
   "outputs": [
    {
     "data": {
      "text/plain": [
       "array(['left_low', 'right_up', 'left_up', 'right_low', 'central', '?'],\n",
       "      dtype=object)"
      ]
     },
     "execution_count": 7,
     "metadata": {},
     "output_type": "execute_result"
    }
   ],
   "source": [
    "data['breast-quad'].unique()"
   ]
  },
  {
   "cell_type": "code",
   "execution_count": 8,
   "id": "28915631-d1aa-45f1-81b7-8321608a520c",
   "metadata": {},
   "outputs": [
    {
     "data": {
      "text/plain": [
       "1"
      ]
     },
     "execution_count": 8,
     "metadata": {},
     "output_type": "execute_result"
    }
   ],
   "source": [
    "data[data['breast-quad']=='?'].shape[0]"
   ]
  },
  {
   "cell_type": "markdown",
   "id": "4ffe661b-59c5-4ba1-b923-773d531aa6e8",
   "metadata": {},
   "source": [
    "Let's fill in the missing values with the mode for each feature:"
   ]
  },
  {
   "cell_type": "code",
   "execution_count": 9,
   "id": "e98d4fe1-1600-4221-83cd-f61c0b4798bf",
   "metadata": {},
   "outputs": [],
   "source": [
    "data.loc[data['node-caps']=='?','node-caps'] = data['node-caps'].mode().values[0]"
   ]
  },
  {
   "cell_type": "code",
   "execution_count": 10,
   "id": "0ad80ba9-31f4-4da8-b1d9-66f9cd18c323",
   "metadata": {},
   "outputs": [],
   "source": [
    "data.loc[data['breast-quad']=='?','breast-quad'] = data['breast-quad'].mode().values[0]"
   ]
  },
  {
   "cell_type": "markdown",
   "id": "01325df9-cbfb-45c7-b4a6-24aaaf3d434a",
   "metadata": {},
   "source": [
    "Now we can separate the target and predictor features:"
   ]
  },
  {
   "cell_type": "code",
   "execution_count": 11,
   "id": "cf89ae84-2209-48af-93f3-4e58ecc57d5f",
   "metadata": {},
   "outputs": [],
   "source": [
    "y = data['class']\n",
    "X = data.drop('class',axis=1)"
   ]
  },
  {
   "cell_type": "markdown",
   "id": "f178636c-b6ff-413b-a911-c746c47c6f44",
   "metadata": {},
   "source": [
    "Ordeal columns need to be transformed into numerical values according to their order:"
   ]
  },
  {
   "cell_type": "code",
   "execution_count": 12,
   "id": "e1d58ad7-cb61-4310-8ecb-857c963cc9b7",
   "metadata": {},
   "outputs": [],
   "source": [
    "age = ['10-19', '20-29', '30-39', '40-49', '50-59', '60-69', '70-79', '80-89', '90-99']\n",
    "menopause = ['lt40', 'ge40', 'premeno']\n",
    "tumor_size = ['0-4', '5-9', '10-14', '15-19', '20-24', '25-29', '30-34', '35-39', '40-44', '45-49', '50-54', '55-59']\n",
    "inv_nodes = ['0-2', '3-5', '6-8', '9-11', '12-14', '15-17', '18-20', '21-23', '24-26', '27-29', '30-32', '33-35', '36-39']"
   ]
  },
  {
   "cell_type": "code",
   "execution_count": 13,
   "id": "678b8a8e-31ae-43d4-be90-82b5db934e5a",
   "metadata": {},
   "outputs": [],
   "source": [
    "encoder = OrdinalEncoder(categories=[age,menopause,tumor_size,inv_nodes])"
   ]
  },
  {
   "cell_type": "code",
   "execution_count": 14,
   "id": "7f5e0b54-db08-420e-ba3a-2bce4e9dd3b8",
   "metadata": {},
   "outputs": [],
   "source": [
    "X.loc[:,['age','menopause','tumor-size','inv-nodes']] = encoder.fit_transform(X[['age','menopause','tumor-size','inv-nodes']])"
   ]
  },
  {
   "cell_type": "code",
   "execution_count": 15,
   "id": "d053d88f-59f0-4f54-a05f-425f8bf28b04",
   "metadata": {},
   "outputs": [
    {
     "data": {
      "text/html": [
       "<div>\n",
       "<style scoped>\n",
       "    .dataframe tbody tr th:only-of-type {\n",
       "        vertical-align: middle;\n",
       "    }\n",
       "\n",
       "    .dataframe tbody tr th {\n",
       "        vertical-align: top;\n",
       "    }\n",
       "\n",
       "    .dataframe thead th {\n",
       "        text-align: right;\n",
       "    }\n",
       "</style>\n",
       "<table border=\"1\" class=\"dataframe\">\n",
       "  <thead>\n",
       "    <tr style=\"text-align: right;\">\n",
       "      <th></th>\n",
       "      <th>age</th>\n",
       "      <th>menopause</th>\n",
       "      <th>tumor-size</th>\n",
       "      <th>inv-nodes</th>\n",
       "      <th>node-caps</th>\n",
       "      <th>deg-malig</th>\n",
       "      <th>breast</th>\n",
       "      <th>breast-quad</th>\n",
       "      <th>irradiat</th>\n",
       "    </tr>\n",
       "  </thead>\n",
       "  <tbody>\n",
       "    <tr>\n",
       "      <th>0</th>\n",
       "      <td>2.0</td>\n",
       "      <td>2.0</td>\n",
       "      <td>6.0</td>\n",
       "      <td>0.0</td>\n",
       "      <td>no</td>\n",
       "      <td>3</td>\n",
       "      <td>left</td>\n",
       "      <td>left_low</td>\n",
       "      <td>no</td>\n",
       "    </tr>\n",
       "    <tr>\n",
       "      <th>1</th>\n",
       "      <td>3.0</td>\n",
       "      <td>2.0</td>\n",
       "      <td>4.0</td>\n",
       "      <td>0.0</td>\n",
       "      <td>no</td>\n",
       "      <td>2</td>\n",
       "      <td>right</td>\n",
       "      <td>right_up</td>\n",
       "      <td>no</td>\n",
       "    </tr>\n",
       "    <tr>\n",
       "      <th>2</th>\n",
       "      <td>3.0</td>\n",
       "      <td>2.0</td>\n",
       "      <td>4.0</td>\n",
       "      <td>0.0</td>\n",
       "      <td>no</td>\n",
       "      <td>2</td>\n",
       "      <td>left</td>\n",
       "      <td>left_low</td>\n",
       "      <td>no</td>\n",
       "    </tr>\n",
       "    <tr>\n",
       "      <th>3</th>\n",
       "      <td>5.0</td>\n",
       "      <td>1.0</td>\n",
       "      <td>3.0</td>\n",
       "      <td>0.0</td>\n",
       "      <td>no</td>\n",
       "      <td>2</td>\n",
       "      <td>right</td>\n",
       "      <td>left_up</td>\n",
       "      <td>no</td>\n",
       "    </tr>\n",
       "    <tr>\n",
       "      <th>4</th>\n",
       "      <td>3.0</td>\n",
       "      <td>2.0</td>\n",
       "      <td>0.0</td>\n",
       "      <td>0.0</td>\n",
       "      <td>no</td>\n",
       "      <td>2</td>\n",
       "      <td>right</td>\n",
       "      <td>right_low</td>\n",
       "      <td>no</td>\n",
       "    </tr>\n",
       "  </tbody>\n",
       "</table>\n",
       "</div>"
      ],
      "text/plain": [
       "   age menopause tumor-size inv-nodes node-caps  deg-malig breast breast-quad  \\\n",
       "0  2.0       2.0        6.0       0.0        no          3   left    left_low   \n",
       "1  3.0       2.0        4.0       0.0        no          2  right    right_up   \n",
       "2  3.0       2.0        4.0       0.0        no          2   left    left_low   \n",
       "3  5.0       1.0        3.0       0.0        no          2  right     left_up   \n",
       "4  3.0       2.0        0.0       0.0        no          2  right   right_low   \n",
       "\n",
       "  irradiat  \n",
       "0       no  \n",
       "1       no  \n",
       "2       no  \n",
       "3       no  \n",
       "4       no  "
      ]
     },
     "execution_count": 15,
     "metadata": {},
     "output_type": "execute_result"
    }
   ],
   "source": [
    "X.head(5)"
   ]
  },
  {
   "cell_type": "markdown",
   "id": "fc30ed78-3609-4a54-a5ed-e11ebf1a1ffc",
   "metadata": {},
   "source": [
    "Enforce datatypes in our columns:"
   ]
  },
  {
   "cell_type": "code",
   "execution_count": 16,
   "id": "92fbe092-3a9a-44ca-9d78-9511cdf383db",
   "metadata": {},
   "outputs": [],
   "source": [
    "for cat in X.columns.values:\n",
    "    if cat in ['node-caps', 'breast', 'breast-quad', 'irradiat']:\n",
    "        X[cat] = X[cat].astype('category')\n",
    "    else:\n",
    "        X[cat] = X[cat].astype('int')"
   ]
  },
  {
   "cell_type": "markdown",
   "id": "96946c34-02dd-4ab6-a152-b7ca817a2e80",
   "metadata": {},
   "source": [
    "Finally, convert target into numerical values:"
   ]
  },
  {
   "cell_type": "code",
   "execution_count": 17,
   "id": "dc844b4f-7489-4698-afc1-d9581d7b4aa6",
   "metadata": {},
   "outputs": [
    {
     "data": {
      "text/plain": [
       "array(['no-recurrence-events', 'recurrence-events'], dtype=object)"
      ]
     },
     "execution_count": 17,
     "metadata": {},
     "output_type": "execute_result"
    }
   ],
   "source": [
    "y.unique()"
   ]
  },
  {
   "cell_type": "code",
   "execution_count": 18,
   "id": "70a09fb4-29b2-4d0a-953e-49fa3c63a706",
   "metadata": {},
   "outputs": [],
   "source": [
    "y.mask(y=='no-recurrence-events', 0, inplace=True)\n",
    "y.mask(y=='recurrence-events', 1, inplace=True)"
   ]
  },
  {
   "cell_type": "code",
   "execution_count": 19,
   "id": "4e5c3e8c-f2ea-4f8b-b315-88b1e1c6a8dd",
   "metadata": {},
   "outputs": [
    {
     "data": {
      "text/plain": [
       "array([0, 1], dtype=object)"
      ]
     },
     "execution_count": 19,
     "metadata": {},
     "output_type": "execute_result"
    }
   ],
   "source": [
    "y.unique()"
   ]
  },
  {
   "cell_type": "markdown",
   "id": "32a6112f-9e49-4cff-92e0-2279cd94ec2d",
   "metadata": {},
   "source": [
    "Class labels balance?"
   ]
  },
  {
   "cell_type": "code",
   "execution_count": 20,
   "id": "a30389d7-1721-4f90-a4b3-5a87ff3d15ea",
   "metadata": {},
   "outputs": [
    {
     "data": {
      "text/plain": [
       "286"
      ]
     },
     "execution_count": 20,
     "metadata": {},
     "output_type": "execute_result"
    }
   ],
   "source": [
    "y.shape[0]"
   ]
  },
  {
   "cell_type": "code",
   "execution_count": 21,
   "id": "2ac9a84e-f3ac-4473-b6a9-7344c0120a59",
   "metadata": {},
   "outputs": [
    {
     "data": {
      "text/plain": [
       "201"
      ]
     },
     "execution_count": 21,
     "metadata": {},
     "output_type": "execute_result"
    }
   ],
   "source": [
    "y[y==0].shape[0]"
   ]
  },
  {
   "cell_type": "code",
   "execution_count": 22,
   "id": "5e02324f-c296-4959-a884-74273a5c9b18",
   "metadata": {},
   "outputs": [
    {
     "data": {
      "text/plain": [
       "85"
      ]
     },
     "execution_count": 22,
     "metadata": {},
     "output_type": "execute_result"
    }
   ],
   "source": [
    "y[y==1].shape[0]"
   ]
  },
  {
   "cell_type": "code",
   "execution_count": 23,
   "id": "cd5e40b2-857b-40f6-9eee-9d0fdc3809a5",
   "metadata": {},
   "outputs": [],
   "source": [
    "def balanced_train_test_split(X, y, test_size):\n",
    "    X_train, X_test, y_train, y_test = train_test_split(X, y, test_size=test_size, random_state=42)\n",
    "    # balance the classes of the training data\n",
    "    D_train = X_train.copy()\n",
    "    D_train['y'] = y_train \n",
    "    D0 = D_train[D_train.y == 0]\n",
    "    D1 = D_train[D_train.y == 1]\n",
    "    n_samples = int(X_train.shape[0]/2)\n",
    "    D0 = D0.sample(n=n_samples,replace=True,random_state=42)\n",
    "    D1 = D1.sample(n=n_samples,replace=True,random_state=42)\n",
    "    D_train = pd.concat([D0,D1])\n",
    "    y_train = D_train['y']\n",
    "    X_train = D_train.drop('y',axis=1)\n",
    "    return (X_train,X_test,y_train,y_test)"
   ]
  },
  {
   "cell_type": "markdown",
   "id": "b3c5c3fa-5d91-4884-a739-627b1356852d",
   "metadata": {},
   "source": [
    "## XGBoost"
   ]
  },
  {
   "cell_type": "code",
   "execution_count": 24,
   "id": "b6c3b19b-e945-4555-b0b9-1fdb7af54301",
   "metadata": {},
   "outputs": [],
   "source": [
    "X_train, X_test, y_train, y_test = balanced_train_test_split(X, y, test_size=0.2)"
   ]
  },
  {
   "cell_type": "markdown",
   "id": "7d1dc6dd-8873-4053-95d3-fbada384298d",
   "metadata": {},
   "source": [
    "Now let's try out the experimental *enable_categorical* feature with XGBoost:"
   ]
  },
  {
   "cell_type": "code",
   "execution_count": 25,
   "id": "7a7fb99f-a964-461a-90dc-2264a04d3c8c",
   "metadata": {},
   "outputs": [
    {
     "name": "stdout",
     "output_type": "stream",
     "text": [
      "training time duration: 0.30\n"
     ]
    }
   ],
   "source": [
    "start_time = time.time()\n",
    "model = XGBClassifier(\n",
    "    learning_rate=0.01, \n",
    "    max_depth=5, \n",
    "    n_estimators=500, \n",
    "    enable_categorical=True, \n",
    "    random_state=42\n",
    ")\n",
    "model.fit(X_train,y_train)\n",
    "print(f\"training time duration: {time.time() - start_time:.2f}\")"
   ]
  },
  {
   "cell_type": "code",
   "execution_count": 26,
   "id": "e58bf737-8e1e-4653-9614-c1f34fb85ba2",
   "metadata": {},
   "outputs": [
    {
     "name": "stdout",
     "output_type": "stream",
     "text": [
      "accuracy score: 0.66\n",
      "precision score: 0.52\n",
      "recall score: 0.62\n",
      "f1 score: 0.57\n"
     ]
    }
   ],
   "source": [
    "y_test = y_test.values.tolist()\n",
    "y_pred = model.predict(X_test).tolist()\n",
    "print(f'accuracy score: {accuracy_score(y_test,y_pred):.2f}')\n",
    "print(f'precision score: {precision_score(y_test,y_pred):.2f}')\n",
    "print(f'recall score: {recall_score(y_test,y_pred):.2f}')\n",
    "print(f'f1 score: {f1_score(y_test,y_pred):.2f}')"
   ]
  },
  {
   "cell_type": "markdown",
   "id": "29ab4975-f74b-4a21-b251-2348d28ed3e7",
   "metadata": {},
   "source": [
    "## Catboost"
   ]
  },
  {
   "cell_type": "code",
   "execution_count": 27,
   "id": "4f27da9f-64db-4f83-86da-11315dd8c822",
   "metadata": {},
   "outputs": [
    {
     "name": "stdout",
     "output_type": "stream",
     "text": [
      "training time duration: 0.30\n"
     ]
    }
   ],
   "source": [
    "start_time = time.time()\n",
    "model = CatBoostClassifier(\n",
    "    learning_rate=0.01, \n",
    "    max_depth=5, \n",
    "    n_estimators=500, \n",
    "    cat_features=['node-caps', 'breast', 'breast-quad', 'irradiat'], \n",
    "    verbose=0,\n",
    "    random_state=42\n",
    ")\n",
    "model.fit(X_train,y_train)\n",
    "print(f\"training time duration: {time.time() - start_time:.2f}\")"
   ]
  },
  {
   "cell_type": "code",
   "execution_count": 28,
   "id": "fa6290a6-8ab5-41c3-8e8b-f8c3d77260ee",
   "metadata": {},
   "outputs": [
    {
     "name": "stdout",
     "output_type": "stream",
     "text": [
      "accuracy score: 0.64\n",
      "precision score: 0.50\n",
      "recall score: 0.52\n",
      "f1 score: 0.51\n"
     ]
    }
   ],
   "source": [
    "y_pred = model.predict(X_test).tolist()\n",
    "print(f'accuracy score: {accuracy_score(y_test,y_pred):.2f}')\n",
    "print(f'precision score: {precision_score(y_test,y_pred):.2f}')\n",
    "print(f'recall score: {recall_score(y_test,y_pred):.2f}')\n",
    "print(f'f1 score: {f1_score(y_test,y_pred):.2f}')"
   ]
  },
  {
   "cell_type": "markdown",
   "id": "1b2f5114-e94c-4862-9728-099c7e7fb03d",
   "metadata": {},
   "source": [
    "## LightGBM"
   ]
  },
  {
   "cell_type": "code",
   "execution_count": 29,
   "id": "5f7a248a-1990-47c9-a0e4-50ba00204691",
   "metadata": {},
   "outputs": [],
   "source": [
    "# OHE the categorical features, then do train-test split\n",
    "Xohe = pd.get_dummies(X,columns=['node-caps', 'breast', 'breast-quad', 'irradiat']).astype(int)\n",
    "X_train, X_test, y_train, y_test = balanced_train_test_split(Xohe, y, test_size=0.2)"
   ]
  },
  {
   "cell_type": "code",
   "execution_count": 30,
   "id": "1ca339d5-ff88-4d80-a427-bcf3c7af9596",
   "metadata": {},
   "outputs": [
    {
     "name": "stdout",
     "output_type": "stream",
     "text": [
      "training time duration: 0.28\n"
     ]
    }
   ],
   "source": [
    "start_time = time.time()\n",
    "model = LGBMClassifier(learning_rate=0.01, max_depth=5, n_estimators=500, verbose=-1, random_state=42)\n",
    "model.fit(X_train,y_train.astype(int))\n",
    "print(f\"training time duration: {time.time() - start_time:.2f}\")"
   ]
  },
  {
   "cell_type": "code",
   "execution_count": 31,
   "id": "13dc3b76-ff31-4ccb-b490-e3b781b46717",
   "metadata": {},
   "outputs": [
    {
     "name": "stdout",
     "output_type": "stream",
     "text": [
      "accuracy score: 0.67\n",
      "precision score: 0.54\n",
      "recall score: 0.62\n",
      "f1 score: 0.58\n"
     ]
    }
   ],
   "source": [
    "y_test = y_test.values.tolist()\n",
    "y_pred = model.predict(X_test).tolist()\n",
    "print(f'accuracy score: {accuracy_score(y_test,y_pred):.2f}')\n",
    "print(f'precision score: {precision_score(y_test,y_pred):.2f}')\n",
    "print(f'recall score: {recall_score(y_test,y_pred):.2f}')\n",
    "print(f'f1 score: {f1_score(y_test,y_pred):.2f}')"
   ]
  },
  {
   "cell_type": "markdown",
   "id": "95ebcfea-7b8d-49d3-9f5c-4434f8e4c7fe",
   "metadata": {},
   "source": [
    "## Adaboost"
   ]
  },
  {
   "cell_type": "code",
   "execution_count": 32,
   "id": "ca1d8fd5-510d-4175-8df6-33e0ef9932a7",
   "metadata": {},
   "outputs": [
    {
     "name": "stdout",
     "output_type": "stream",
     "text": [
      "training time duration: 0.29\n"
     ]
    }
   ],
   "source": [
    "start_time = time.time()\n",
    "model = AdaBoostClassifier(\n",
    "    DecisionTreeClassifier(max_depth=5),\n",
    "    algorithm='SAMME',\n",
    "    learning_rate=0.01, \n",
    "    n_estimators=500, \n",
    "    random_state=42\n",
    ")\n",
    "model.fit(X_train,y_train.astype(int))\n",
    "print(f\"training time duration: {time.time() - start_time:.2f}\")"
   ]
  },
  {
   "cell_type": "code",
   "execution_count": 33,
   "id": "d2b572f8-3261-44ac-a38a-9f16935ae131",
   "metadata": {},
   "outputs": [
    {
     "name": "stdout",
     "output_type": "stream",
     "text": [
      "accuracy score: 0.71\n",
      "precision score: 0.59\n",
      "recall score: 0.62\n",
      "f1 score: 0.60\n"
     ]
    }
   ],
   "source": [
    "y_pred = model.predict(X_test).tolist()\n",
    "print(f'accuracy score: {accuracy_score(y_test,y_pred):.2f}')\n",
    "print(f'precision score: {precision_score(y_test,y_pred):.2f}')\n",
    "print(f'recall score: {recall_score(y_test,y_pred):.2f}')\n",
    "print(f'f1 score: {f1_score(y_test,y_pred):.2f}')"
   ]
  },
  {
   "cell_type": "markdown",
   "id": "d2a007da-8706-4862-a9b5-15c3e95bbff2",
   "metadata": {},
   "source": [
    "## GBM"
   ]
  },
  {
   "cell_type": "code",
   "execution_count": 34,
   "id": "d9328192-8142-4b30-ab3d-da461e58ad7c",
   "metadata": {},
   "outputs": [
    {
     "name": "stdout",
     "output_type": "stream",
     "text": [
      "training time duration: 0.31\n"
     ]
    }
   ],
   "source": [
    "start_time = time.time()\n",
    "model = GradientBoostingClassifier(\n",
    "    max_depth=5,\n",
    "    learning_rate=0.01, \n",
    "    n_estimators=500, \n",
    "    random_state=42\n",
    ")\n",
    "model.fit(X_train,y_train.astype(int))\n",
    "print(f\"training time duration: {time.time() - start_time:.2f}\")"
   ]
  },
  {
   "cell_type": "code",
   "execution_count": 35,
   "id": "4283a1f5-2244-443d-8422-57fc51d99dcb",
   "metadata": {},
   "outputs": [
    {
     "name": "stdout",
     "output_type": "stream",
     "text": [
      "accuracy score: 0.62\n",
      "precision score: 0.48\n",
      "recall score: 0.57\n",
      "f1 score: 0.52\n"
     ]
    }
   ],
   "source": [
    "y_pred = model.predict(X_test).tolist()\n",
    "print(f'accuracy score: {accuracy_score(y_test,y_pred):.2f}')\n",
    "print(f'precision score: {precision_score(y_test,y_pred):.2f}')\n",
    "print(f'recall score: {recall_score(y_test,y_pred):.2f}')\n",
    "print(f'f1 score: {f1_score(y_test,y_pred):.2f}')"
   ]
  },
  {
   "cell_type": "markdown",
   "id": "b9446a32-22d8-48b1-9acc-7eadf2883b27",
   "metadata": {},
   "source": [
    "Model | Training Time | Accuracy | Precision | Recall | F1\n",
    "--- | --- | --- | --- | --- | ---\n",
    "xgboost | 0.29 | 0.66 | 0.52 | 0.62 | 0.57\n",
    "catboost | 0.29 | 0.64 | 0.50 | 0.52 | 0.51\n",
    "lightgbm | 0.27 | 0.67 | 0.54 | 0.62 | 0.58\n",
    "adaboost | 0.29 | 0.71 | 0.59 | 0.62 | 0.60\n",
    "gbm | 0.31 | 0.62 | 0.48 | 0.57 | 0.52"
   ]
  },
  {
   "cell_type": "code",
   "execution_count": null,
   "id": "c7f8b5d8-53f1-4075-8868-727cecbbdcf7",
   "metadata": {},
   "outputs": [],
   "source": []
  }
 ],
 "metadata": {
  "kernelspec": {
   "display_name": "Python 3 (ipykernel)",
   "language": "python",
   "name": "python3"
  },
  "language_info": {
   "codemirror_mode": {
    "name": "ipython",
    "version": 3
   },
   "file_extension": ".py",
   "mimetype": "text/x-python",
   "name": "python",
   "nbconvert_exporter": "python",
   "pygments_lexer": "ipython3",
   "version": "3.9.19"
  }
 },
 "nbformat": 4,
 "nbformat_minor": 5
}
