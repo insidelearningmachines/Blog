{
 "cells": [
  {
   "cell_type": "markdown",
   "id": "65862fb3",
   "metadata": {},
   "source": [
    "# Gradient Boost Regression\n",
    "\n",
    "In this notebook, I will work through the implementation of a Gradient Boost Tree Regressor. Specifically, the algorithm implemented will be **Algorithm 3: LAD_TreeBoost** (see Friedman 2001). I will use the diabetes dataset, available on scikit-learn, to test this code."
   ]
  },
  {
   "cell_type": "code",
   "execution_count": 1,
   "id": "30b96e55",
   "metadata": {},
   "outputs": [],
   "source": [
    "## imports ##\n",
    "import numpy as np\n",
    "import pandas as pd\n",
    "from typing import Dict, List, Tuple\n",
    "import matplotlib.pyplot as plt\n",
    "from sklearn.datasets import load_diabetes\n",
    "from sklearn.model_selection import cross_validate\n",
    "from sklearn.tree import DecisionTreeRegressor\n",
    "from sklearn.metrics import mean_squared_error,mean_absolute_error,make_scorer\n",
    "from sklearn.ensemble import RandomForestRegressor, AdaBoostRegressor"
   ]
  },
  {
   "cell_type": "markdown",
   "id": "3e7f6541",
   "metadata": {},
   "source": [
    "Let's now create a class that will encapsulate the Gradient Boost Tree Regression algorithm:"
   ]
  },
  {
   "cell_type": "code",
   "execution_count": 2,
   "id": "1cf3ced5",
   "metadata": {},
   "outputs": [],
   "source": [
    "## gradient boost tree regressor ##\n",
    "class GradientBoostTreeRegressor(object):\n",
    "    #initialiser\n",
    "    def __init__(self, n_elements : int = 100, max_depth : int = 1) -> None:\n",
    "        self.max_depth     = max_depth\n",
    "        self.n_elements    = n_elements\n",
    "        self.f             = []\n",
    "        self.regions       = []\n",
    "        self.gammas        = []\n",
    "        self.mean_loss     = []\n",
    "        self.e0            = 0\n",
    "        \n",
    "    #destructor\n",
    "    def __del__(self) -> None:\n",
    "        del self.max_depth\n",
    "        del self.n_elements\n",
    "        del self.f\n",
    "        del self.regions\n",
    "        del self.gammas\n",
    "        del self.mean_loss\n",
    "        del self.e0\n",
    "        \n",
    "    #private function to group data points & compute gamma parameters\n",
    "    def __compute_gammas(self, yp : np.array, y_train : np.array, e : np.array) -> Tuple[np.array,Dict]:\n",
    "        #initialise global gamma array\n",
    "        gamma_jm = np.zeros((y_train.shape[0]))\n",
    "        #iterate through each unique predicted value/region\n",
    "        regions = np.unique(yp)\n",
    "        gamma   = {}\n",
    "        for r in regions:\n",
    "            #compute index for r\n",
    "            idx = yp == r\n",
    "            #isolate relevant data points\n",
    "            e_r = e[idx]\n",
    "            y_r = y_train[idx]\n",
    "            #compute the optimal gamma parameters for region r\n",
    "            gamma_r = np.median(y_r - e_r)\n",
    "            #populate the global gamma array\n",
    "            gamma_jm[idx] = gamma_r\n",
    "            #set the unique region <-> gamma pairs\n",
    "            gamma[r] = gamma_r\n",
    "        #append the regions to internal storage\n",
    "        self.regions.append(regions)\n",
    "        #return\n",
    "        return((gamma_jm,gamma))\n",
    "    \n",
    "    #public function to train the ensemble\n",
    "    def fit(self, X_train : np.array, y_train : np.array) -> None:\n",
    "        #reset the internal class members\n",
    "        self.f             = []\n",
    "        self.regions       = []\n",
    "        self.model_weights = []\n",
    "        self.mean_loss     = []\n",
    "        #initialise the ensemble & store initialisation\n",
    "        e0      = np.median(y_train)\n",
    "        self.e0 = np.copy(e0)\n",
    "        e       = np.ones(y_train.shape[0]) * e0\n",
    "        #loop through the specified number of iterations in the ensemble\n",
    "        for _ in range(self.n_elements):\n",
    "            #store mae loss\n",
    "            self.mean_loss.append(np.mean(np.abs(y_train - e)))\n",
    "            #compute the gradients of our loss function\n",
    "            g = np.sign(y_train - e)\n",
    "            #initialise a weak learner & train\n",
    "            model = DecisionTreeRegressor(max_depth=self.max_depth)\n",
    "            model.fit(X_train,g)\n",
    "            #compute optimal gamma coefficients\n",
    "            yp             = model.predict(X_train)\n",
    "            gamma_jm,gamma = self.__compute_gammas(yp,y_train,e)\n",
    "            #update the ensemble\n",
    "            e += gamma_jm\n",
    "            #store trained ensemble elements\n",
    "            self.f.append(model)\n",
    "            self.gammas.append(gamma)\n",
    "            \n",
    "    #public function to generate predictions\n",
    "    def predict(self, X_test : np.array) -> np.array:\n",
    "        #initialise predictions\n",
    "        y_pred = np.ones(X_test.shape[0]) * np.copy(self.e0)\n",
    "        #cycle through each element in the ensemble\n",
    "        for model,gamma,regions in zip(self.f,self.gammas,self.regions):\n",
    "            #produce predictions using model\n",
    "            y = model.predict(X_test)\n",
    "            #cycle through each unique leaf node for model m\n",
    "            for r in regions:\n",
    "                #updates for region r\n",
    "                idx = y == r\n",
    "                y_pred[idx] += gamma[r] \n",
    "        #return predictions\n",
    "        return(y_pred)\n",
    "           \n",
    "    #public function to return mean training loss\n",
    "    def get_loss(self) -> List:\n",
    "        return(self.mean_loss)\n",
    " \n",
    "    #public function to return model parameters\n",
    "    def get_params(self, deep : bool = False) -> Dict:\n",
    "        return {'n_elements':self.n_elements,\n",
    "                'max_depth':self.max_depth}"
   ]
  },
  {
   "cell_type": "markdown",
   "id": "4cd92be5",
   "metadata": {},
   "source": [
    "## Gradient Boost Regression\n",
    "\n",
    "### Load Regression Dataset\n",
    "\n",
    "Here I'll load the diabetes dataset, available from scikit-learn. As I have already explored these data in the article on Adaboost Regression, I won't repeat it here.\n",
    "\n",
    "A full description of this dataset is available here: https://scikit-learn.org/stable/datasets/toy_dataset.html#diabetes-dataset. The features in the predictor dataframe are as follows:\n",
    "\n",
    "* **age** age in years\n",
    "* **sex**\n",
    "* **bmi** body mass index\n",
    "* **bp** average blood pressure\n",
    "* **s1** tc, total serum cholesterol\n",
    "* **s2** ldl, low-density lipoproteins\n",
    "* **s3** hdl, high-density lipoproteins\n",
    "* **s4** tch, total cholesterol / HDL\n",
    "* **s5** ltg, possibly log of serum triglycerides level\n",
    "* **s6** glu, blood sugar level\n",
    "\n",
    "The target is a quantitative measure of disease progression one year after baseline.\n",
    "\n",
    "Let's begin by loading in these data:"
   ]
  },
  {
   "cell_type": "code",
   "execution_count": 3,
   "id": "15b667b7",
   "metadata": {},
   "outputs": [],
   "source": [
    "## load regression dataset ##\n",
    "dfX,sy = load_diabetes(return_X_y=True,as_frame=True)"
   ]
  },
  {
   "cell_type": "markdown",
   "id": "193f5c46",
   "metadata": {},
   "source": [
    "### Investigate Training Loss\n",
    "\n",
    "Here I want to look at how the training loss evolves as decision trees are added to the ensemble. In addition, I want to see what affect increasing the maximum depth, of the aforementioned decision trees, will have.  The loss function displayed is the *mean absolute error*  $\\sum_i^N abs(y^{pred}_i - y^{true}_i)$, at each iteration during training.\n",
    "\n",
    "Now I will declare an instance of our custom gradient boost tree regressor for a series of *max_depth* values. Following each declaration, I will train the model on the raw data features, since decision trees typically require little in the way of preparatory feature engineering:"
   ]
  },
  {
   "cell_type": "code",
   "execution_count": 4,
   "id": "275ef423",
   "metadata": {},
   "outputs": [],
   "source": [
    "## train the gradient boost regressor with default max_depth ##\n",
    "rgr = GradientBoostTreeRegressor(n_elements=100)\n",
    "rgr.fit(dfX.values,sy.values)"
   ]
  },
  {
   "cell_type": "code",
   "execution_count": 5,
   "id": "ba2e5f83",
   "metadata": {},
   "outputs": [],
   "source": [
    "## collect loss ##\n",
    "loss1 = rgr.get_loss()"
   ]
  },
  {
   "cell_type": "code",
   "execution_count": 6,
   "id": "02efacb9",
   "metadata": {},
   "outputs": [],
   "source": [
    "## train the gradient boost regressor with max_depth = 2 ##\n",
    "rgr = GradientBoostTreeRegressor(n_elements=100, max_depth=2)\n",
    "rgr.fit(dfX.values,sy.values)"
   ]
  },
  {
   "cell_type": "code",
   "execution_count": 7,
   "id": "4d8ab968",
   "metadata": {},
   "outputs": [],
   "source": [
    "## collect loss ##\n",
    "loss2 = rgr.get_loss()"
   ]
  },
  {
   "cell_type": "code",
   "execution_count": 8,
   "id": "af5a6b93",
   "metadata": {},
   "outputs": [],
   "source": [
    "## train the gradient boost regressor with max_depth = 3 ##\n",
    "rgr = GradientBoostTreeRegressor(n_elements=100, max_depth=3)\n",
    "rgr.fit(dfX.values,sy.values)"
   ]
  },
  {
   "cell_type": "code",
   "execution_count": 9,
   "id": "f93fcbcd",
   "metadata": {},
   "outputs": [],
   "source": [
    "## collect loss ##\n",
    "loss3 = rgr.get_loss()"
   ]
  },
  {
   "cell_type": "code",
   "execution_count": 10,
   "id": "da84d031",
   "metadata": {},
   "outputs": [],
   "source": [
    "## train the gradient boost regressor with max_depth = 4 ##\n",
    "rgr = GradientBoostTreeRegressor(n_elements=100, max_depth=4)\n",
    "rgr.fit(dfX.values,sy.values)"
   ]
  },
  {
   "cell_type": "code",
   "execution_count": 11,
   "id": "d100b60d",
   "metadata": {},
   "outputs": [],
   "source": [
    "## collect loss ##\n",
    "loss4 = rgr.get_loss()"
   ]
  },
  {
   "cell_type": "code",
   "execution_count": 12,
   "id": "801d1481",
   "metadata": {},
   "outputs": [
    {
     "data": {
      "image/png": "[encoded data removed]",
      "text/plain": [
       "<Figure size 432x288 with 1 Axes>"
      ]
     },
     "metadata": {
      "needs_background": "light"
     },
     "output_type": "display_data"
    }
   ],
   "source": [
    "## plot different training losses ##\n",
    "plt.plot(loss1,label='max_depth=1')\n",
    "plt.plot(loss2,label='max_depth=2')\n",
    "plt.plot(loss3,label='max_depth=3')\n",
    "plt.plot(loss4,label='max_depth=4')\n",
    "plt.title('Training Loss by Boosting Iteration')\n",
    "plt.xlabel('Number of Component Trees')\n",
    "plt.ylabel('MAE Loss')\n",
    "plt.legend()\n",
    "plt.show()"
   ]
  },
  {
   "cell_type": "markdown",
   "id": "4fe44c5f",
   "metadata": {},
   "source": [
    "It is apparent that each model starts with a large loss value, which then declines rapidly before flattening out. It isn't too surprising to see that ensembles with deeper trees achieve lower training losses. These models are expressive enough such that the data can be more accurately modelled earlier in the boosting sequence, while the boosting procedure tackles any bias present. \n",
    "\n",
    "### Investigate Performance\n",
    "\n",
    "**Note**: rerunning these cells will show some fluctuation in the results\n",
    "\n",
    "Here I will use 10-fold cross-validation to measure the performance of the Gradient Boost regressor. I will set the maximum number of elements to 20, and use a maximum depth of 1:"
   ]
  },
  {
   "cell_type": "code",
   "execution_count": 13,
   "id": "29d13ce6",
   "metadata": {},
   "outputs": [],
   "source": [
    "## define the scoring metrics ##\n",
    "scoring_metrics = {'mse' : make_scorer(mean_squared_error), \n",
    "                   'mae': make_scorer(mean_absolute_error)}"
   ]
  },
  {
   "cell_type": "code",
   "execution_count": 14,
   "id": "fbf489ff",
   "metadata": {},
   "outputs": [
    {
     "name": "stdout",
     "output_type": "stream",
     "text": [
      "Mean MSE: 3548.21\n",
      "Mean MAE: 46.56\n"
     ]
    }
   ],
   "source": [
    "## perform cross-validation for n_elements = 20 & max_depth=1 ##\n",
    "#define the model\n",
    "rgr = GradientBoostTreeRegressor(n_elements=20,max_depth=1)\n",
    "#cross validate\n",
    "dcScores = cross_validate(rgr,dfX.values,sy.values,cv=10,scoring=scoring_metrics)\n",
    "#report results\n",
    "print('Mean MSE: %.2f' % np.mean(dcScores['test_mse']))\n",
    "print('Mean MAE: %.2f' % np.mean(dcScores['test_mae']))"
   ]
  },
  {
   "cell_type": "markdown",
   "id": "9a7f78f3",
   "metadata": {},
   "source": [
    "We can compare these results with the Gradient Boost regressor available from scikit-learn:"
   ]
  },
  {
   "cell_type": "code",
   "execution_count": 15,
   "id": "bd21bdb9",
   "metadata": {},
   "outputs": [],
   "source": [
    "from sklearn.ensemble import GradientBoostingRegressor"
   ]
  },
  {
   "cell_type": "code",
   "execution_count": 16,
   "id": "7f6bda6b",
   "metadata": {},
   "outputs": [
    {
     "name": "stdout",
     "output_type": "stream",
     "text": [
      "Mean MSE: 3549.82\n",
      "Mean MAE: 46.65\n"
     ]
    }
   ],
   "source": [
    "## perform cross-validation for n_estimators = 20 & max_depth=1 ##\n",
    "#define the model\n",
    "rgr = GradientBoostingRegressor(n_estimators=20,max_depth=1,loss='lad',learning_rate=1.0)\n",
    "#cross validate\n",
    "dcScores = cross_validate(rgr,dfX.values,sy.values,cv=10,scoring=scoring_metrics)\n",
    "#report results\n",
    "print('Mean MSE: %.2f' % np.mean(dcScores['test_mse']))\n",
    "print('Mean MAE: %.2f' % np.mean(dcScores['test_mae']))"
   ]
  },
  {
   "cell_type": "markdown",
   "id": "57d3084b",
   "metadata": {},
   "source": [
    "We can see that both Gradient Boost implementations perform approximately equivalently. Small differences between the two sets of results should be expected, due to the stochastic nature of the analysis. \n",
    "\n",
    "Now let's compare our results with a lone decision tree weak learner, a Random Forest Regressor with 20 constituent estimators, and an Adaboost Regressor also with 20 constituent estimators:"
   ]
  },
  {
   "cell_type": "code",
   "execution_count": 17,
   "id": "05679ca1",
   "metadata": {},
   "outputs": [
    {
     "name": "stdout",
     "output_type": "stream",
     "text": [
      "Mean MSE: 4751.55\n",
      "Mean MAE: 56.68\n"
     ]
    }
   ],
   "source": [
    "#cross validation for lone decision tree regressor of depth 1\n",
    "dcScores = cross_validate(DecisionTreeRegressor(max_depth=1),dfX.values,sy.values,cv=10,scoring=scoring_metrics)\n",
    "#report results\n",
    "print('Mean MSE: %.2f' % np.mean(dcScores['test_mse']))\n",
    "print('Mean MAE: %.2f' % np.mean(dcScores['test_mae']))"
   ]
  },
  {
   "cell_type": "code",
   "execution_count": 18,
   "id": "8b7c81d7",
   "metadata": {},
   "outputs": [
    {
     "name": "stdout",
     "output_type": "stream",
     "text": [
      "Mean MSE: 3839.32\n",
      "Mean MAE: 51.68\n"
     ]
    }
   ],
   "source": [
    "## perform cross-validation for random forest regressor of n_estimators=20 and max_depth=1 ##\n",
    "#define the model\n",
    "rgr = RandomForestRegressor(n_estimators=20,max_depth=1)\n",
    "#cross validate\n",
    "dcScores = cross_validate(rgr,dfX.values,sy.values,cv=10,scoring=scoring_metrics)\n",
    "#report results\n",
    "print('Mean MSE: %.2f' % np.mean(dcScores['test_mse']))\n",
    "print('Mean MAE: %.2f' % np.mean(dcScores['test_mae']))"
   ]
  },
  {
   "cell_type": "code",
   "execution_count": 19,
   "id": "9d23a978",
   "metadata": {},
   "outputs": [
    {
     "name": "stdout",
     "output_type": "stream",
     "text": [
      "Mean MSE: 3758.68\n",
      "Mean MAE: 51.71\n"
     ]
    }
   ],
   "source": [
    "## perform cross-validation for linear loss & n_estimators=20 ##\n",
    "#define the model\n",
    "rgr = AdaBoostRegressor(base_estimator=DecisionTreeRegressor(max_depth=1), loss='linear', n_estimators=20)\n",
    "#cross validate\n",
    "dcScores = cross_validate(rgr,dfX.values,sy.values,cv=10,scoring=scoring_metrics)\n",
    "#report results\n",
    "print('Mean MSE: %.2f' % np.mean(dcScores['test_mse']))\n",
    "print('Mean MAE: %.2f' % np.mean(dcScores['test_mae']))"
   ]
  },
  {
   "cell_type": "markdown",
   "id": "1ac59ebb",
   "metadata": {},
   "source": [
    "Model | Number of Elements | MSE | MAE \n",
    "--- | --- | --- | ---\n",
    "Custom Gradient Boost | 20 | 3548.21 | 46.56\n",
    "Scikit-learn Gradient Boost | 20 | 3549.82 | 46.65\n",
    "Decision Stump | NA | 4751.55 | 56.68\n",
    "Scikit-Learn Random Forest | 20 | 3839.32 | 51.68\n",
    "Scikit-Learn Adaboost | 20 | 3758.68 | 51.71\n",
    "\n",
    "It is clear that the Gradient Boost Ensembles are the best performing models in this comparison. Adaboost takes second place, followed closely by the Random Forest. Unsurprisingly, the lone Decision Stump is the worst performing model attempted.\n",
    "\n",
    "This small analysis demonstrates the predictive potential of Gradient Boosters. It is easy to understand why they have become popular for many applications and online competitions."
   ]
  }
 ],
 "metadata": {
  "kernelspec": {
   "display_name": "Python 3",
   "language": "python",
   "name": "python3"
  },
  "language_info": {
   "codemirror_mode": {
    "name": "ipython",
    "version": 3
   },
   "file_extension": ".py",
   "mimetype": "text/x-python",
   "name": "python",
   "nbconvert_exporter": "python",
   "pygments_lexer": "ipython3",
   "version": "3.6.12"
  }
 },
 "nbformat": 4,
 "nbformat_minor": 5
}
