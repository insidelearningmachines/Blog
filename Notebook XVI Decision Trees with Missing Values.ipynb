{
 "cells": [
  {
   "cell_type": "markdown",
   "metadata": {},
   "source": [
    "# Decision Trees & Missing Values\n",
    "\n",
    "In this notebook I will implement decision tree models that can handle missing values. Examples will be considered for both classification and regression cases. Synethetic data will be used to test both use cases. The implemented models will be compared to the decision trees available through scikit-learn."
   ]
  },
  {
   "cell_type": "code",
   "execution_count": 1,
   "metadata": {},
   "outputs": [],
   "source": [
    "# imports\n",
    "from __future__ import annotations\n",
    "from typing import Tuple\n",
    "from abc import ABC,abstractmethod\n",
    "from scipy import stats\n",
    "from random import choices\n",
    "import numpy as np\n",
    "import matplotlib.pyplot as plt\n",
    "from sklearn.model_selection import train_test_split\n",
    "from sklearn.datasets import make_classification,make_regression\n",
    "from sklearn.metrics import accuracy_score,precision_score,recall_score,mean_squared_error,mean_absolute_error"
   ]
  },
  {
   "cell_type": "code",
   "execution_count": 2,
   "metadata": {},
   "outputs": [],
   "source": [
    "class Node(object):\n",
    "    \"\"\"\n",
    "    Class to define & control tree nodes\n",
    "    \"\"\"\n",
    "    \n",
    "    def __init__(self) -> None:\n",
    "        \"\"\"\n",
    "        Initializer for a Node class instance\n",
    "        \"\"\"\n",
    "        self.__split    = None\n",
    "        self.__feature  = None\n",
    "        self.__left     = None\n",
    "        self.__right    = None\n",
    "        self.leaf_value = None\n",
    "\n",
    "    def set_params(self, split: float, feature: int) -> None:\n",
    "        \"\"\"\n",
    "        Set the split & feature parameters for this node\n",
    "        \n",
    "        Input:\n",
    "            split   -> value to split feature on\n",
    "            feature -> index of feature to be used in splitting \n",
    "        \"\"\"\n",
    "        self.__split   = split\n",
    "        self.__feature = feature\n",
    "        \n",
    "    def get_params(self) -> Tuple[float,int]:\n",
    "        \"\"\"\n",
    "        Get the split & feature parameters for this node\n",
    "        \n",
    "        Output:\n",
    "            Tuple containing (split,feature) pair\n",
    "        \"\"\"\n",
    "        return(self.__split, self.__feature)    \n",
    "        \n",
    "    def set_children(self, left: Node, right: Node) -> None:\n",
    "        \"\"\"\n",
    "        Set the left/right child nodes for the current node\n",
    "        \n",
    "        Inputs:\n",
    "            left  -> LHS child node\n",
    "            right -> RHS child node\n",
    "        \"\"\"\n",
    "        self.__left  = left\n",
    "        self.__right = right\n",
    "        \n",
    "    def get_left_node(self) -> Node:\n",
    "        \"\"\"\n",
    "        Get the left child node\n",
    "        \n",
    "        Output:\n",
    "            LHS child node\n",
    "        \"\"\"\n",
    "        return(self.__left)\n",
    "    \n",
    "    def get_right_node(self) -> Node:\n",
    "        \"\"\"\n",
    "        Get the RHS child node\n",
    "        \n",
    "        Output:\n",
    "            RHS child node\n",
    "        \"\"\"\n",
    "        return(self.__right)"
   ]
  },
  {
   "cell_type": "code",
   "execution_count": 3,
   "metadata": {},
   "outputs": [],
   "source": [
    "class DecisionTree(ABC):\n",
    "    \"\"\"\n",
    "    Base class to encompass the CART algorithm\n",
    "    \"\"\"\n",
    "    \n",
    "    def __init__(self, max_depth: int=None, min_samples_split: int=2, nans_go_right=True) -> None:\n",
    "        \"\"\"\n",
    "        Initializer\n",
    "        \n",
    "        Inputs:\n",
    "            max_depth         -> maximum depth the tree can grow\n",
    "            min_samples_split -> minimum number of samples required to split a node\n",
    "            nans_go_right     -> boolean to determine where NaN values in predictors are allocated\n",
    "        \"\"\"\n",
    "        self.tree              = None\n",
    "        self.max_depth         = max_depth\n",
    "        self.min_samples_split = min_samples_split\n",
    "        self.nans_go_right     = nans_go_right\n",
    "        \n",
    "    @abstractmethod\n",
    "    def _impurity(self, D: np.array) -> None:\n",
    "        \"\"\"\n",
    "        Protected function to define the impurity\n",
    "        \"\"\"\n",
    "        pass\n",
    "        \n",
    "    @abstractmethod\n",
    "    def _leaf_value(self, D: np.array) -> None:\n",
    "        \"\"\"\n",
    "        Protected function to compute the value at a leaf node\n",
    "        \"\"\"\n",
    "        pass\n",
    "        \n",
    "    def __split_right(self, feature_col: np.array, split_point: float) -> np.array:\n",
    "        \"\"\"\n",
    "        Private function to determine which elements in the feature column go to the child right node\n",
    "        \n",
    "        Inputs:\n",
    "            feature_col -> feature column to analyse\n",
    "            split_point -> split point for the feature column\n",
    "        Outputs:\n",
    "            numpy array of boolean values\n",
    "        \"\"\"\n",
    "        return (feature_col > split_point) | (np.isnan(feature_col) & self.nans_go_right)\n",
    " \n",
    "    def __split_left(self, feature_col: np.array, split_point: float) -> np.array:\n",
    "        \"\"\"\n",
    "        Private function to determine which elements in the feature column go to the child left node\n",
    "        \n",
    "        Inputs:\n",
    "            feature_col -> feature column to analyse\n",
    "            split_point -> split point for the feature column\n",
    "        Outputs:\n",
    "            numpy array of boolean values\n",
    "        \"\"\"\n",
    "        return (feature_col <= split_point) | (np.isnan(feature_col) & (not self.nans_go_right))\n",
    "\n",
    "    def __grow(self, node: Node, D: np.array, level: int) -> None:\n",
    "        \"\"\"\n",
    "        Private recursive function to grow the tree during training\n",
    "        \n",
    "        Inputs:\n",
    "            node  -> input tree node\n",
    "            D     -> sample of data at node \n",
    "            level -> depth level in the tree for node\n",
    "        \"\"\"\n",
    "        # are we in a leaf node?\n",
    "        depth = (self.max_depth is None) or (self.max_depth >= (level+1))\n",
    "        msamp = (self.min_samples_split <= D.shape[0])\n",
    "        cls   = D[:,-1]\n",
    "        n_cls = np.unique(cls[~np.isnan(cls)]).shape[0] != 1\n",
    "        \n",
    "        # not a leaf node\n",
    "        if depth and msamp and n_cls:\n",
    "        \n",
    "            # initialize the function parameters\n",
    "            ip_node = None\n",
    "            feature = None\n",
    "            split   = None\n",
    "            left_D  = None\n",
    "            right_D = None\n",
    "            # iterate through the possible feature/split combinations\n",
    "            for f in range(D.shape[1]-1):\n",
    "                f_values = D[:,f]\n",
    "                for s in np.unique(f_values[~np.isnan(f_values)]):\n",
    "                    # for the current (f,s) combination, split the dataset\n",
    "                    D_l = D[self.__split_left(D[:,f],s)]\n",
    "                    D_r = D[self.__split_right(D[:,f],s)]\n",
    "                    # ensure we have non-empty arrays\n",
    "                    if D_l.size and D_r.size:\n",
    "                        # calculate the impurity\n",
    "                        ip  = (D_l.shape[0]/D.shape[0])*self._impurity(D_l) + (D_r.shape[0]/D.shape[0])*self._impurity(D_r)\n",
    "                        # now update the impurity and choice of (f,s)\n",
    "                        if (ip_node is None) or (ip < ip_node):\n",
    "                            ip_node = ip\n",
    "                            feature = f\n",
    "                            split   = s\n",
    "                            left_D  = D_l\n",
    "                            right_D = D_r\n",
    "            # set the current node's parameters\n",
    "            node.set_params(split,feature)\n",
    "            # declare child nodes\n",
    "            left_node  = Node()\n",
    "            right_node = Node()\n",
    "            node.set_children(left_node,right_node)\n",
    "            # investigate child nodes\n",
    "            self.__grow(node.get_left_node(),left_D,level+1)\n",
    "            self.__grow(node.get_right_node(),right_D,level+1)\n",
    "                        \n",
    "        # is a leaf node\n",
    "        else:\n",
    "            \n",
    "            # set the node value & return\n",
    "            node.leaf_value = self._leaf_value(D)\n",
    "            return\n",
    "     \n",
    "    def __traverse(self, node: Node, Xrow: np.array) -> int | float:\n",
    "        \"\"\"\n",
    "        Private recursive function to traverse the (trained) tree\n",
    "        \n",
    "        Inputs:\n",
    "            node -> current node in the tree\n",
    "            Xrow -> data sample being considered\n",
    "        Output:\n",
    "            leaf value corresponding to Xrow\n",
    "        \"\"\"        \n",
    "        # check if we're in a leaf node?\n",
    "        if node.leaf_value is None:\n",
    "            # get parameters at the node\n",
    "            (s,f) = node.get_params()\n",
    "            # decide to go left or right?\n",
    "            if (self.__split_left(Xrow[f],s)):\n",
    "                return(self.__traverse(node.get_left_node(),Xrow))\n",
    "            else:\n",
    "                # note nan's in Xrow will go right\n",
    "                return(self.__traverse(node.get_right_node(),Xrow))\n",
    "        else:\n",
    "            # return the leaf value\n",
    "            return(node.leaf_value)\n",
    "    \n",
    "    def train(self, Xin: np.array, Yin: np.array) -> None:\n",
    "        \"\"\"\n",
    "        Train the CART model\n",
    "        \n",
    "        Inputs:\n",
    "            Xin -> input set of predictor features\n",
    "            Yin -> input set of labels\n",
    "        \"\"\"        \n",
    "        # prepare the input data\n",
    "        D            = np.concatenate((Xin,Yin.reshape(-1,1)),axis=1)\n",
    "        D[D == None] = np.nan\n",
    "        D            = D.astype('float64')\n",
    "        # set the root node of the tree\n",
    "        self.tree = Node()\n",
    "        # build the tree\n",
    "        self.__grow(self.tree,D,1)\n",
    "        \n",
    "    def predict(self, Xin: np.array) -> np.array:\n",
    "        \"\"\"\n",
    "        Make predictions from the trained CART model\n",
    "        \n",
    "        Input:\n",
    "            Xin -> input set of predictor features\n",
    "        Output:\n",
    "            array of prediction values\n",
    "        \"\"\"\n",
    "        # prepare the input data\n",
    "        Xin[Xin == None] = np.nan\n",
    "        Xin              = Xin.astype('float64')\n",
    "        # iterate through the rows of Xin\n",
    "        p = []\n",
    "        for r in range(Xin.shape[0]):\n",
    "            p.append(self.__traverse(self.tree,Xin[r,:]))\n",
    "        # return predictions\n",
    "        return(np.array(p).flatten())"
   ]
  },
  {
   "cell_type": "code",
   "execution_count": 4,
   "metadata": {},
   "outputs": [],
   "source": [
    "class DecisionTreeClassifier(DecisionTree):\n",
    "    \"\"\"\n",
    "    Decision Tree Classifier\n",
    "    \"\"\"\n",
    "    \n",
    "    def __init__(self, max_depth: int=None, min_samples_split: int=2, nans_go_right=True, loss: str='gini') -> None:\n",
    "        \"\"\"\n",
    "        Initializer\n",
    "        \n",
    "        Inputs:\n",
    "            max_depth         -> maximum depth the tree can grow\n",
    "            min_samples_split -> minimum number of samples required to split a node\n",
    "            nans_go_right     -> boolean to determine where NaN values in predictors are allocated\n",
    "            loss              -> loss function to use during training\n",
    "        \"\"\"\n",
    "        DecisionTree.__init__(self,max_depth,min_samples_split,nans_go_right)\n",
    "        self.loss = loss   \n",
    "    \n",
    "    def __gini(self, D: np.array) -> float:\n",
    "        \"\"\"\n",
    "        Private function to define the gini impurity\n",
    "        \n",
    "        Input:\n",
    "            D -> data to compute the gini impurity over\n",
    "        Output:\n",
    "            Gini impurity for D\n",
    "        \"\"\"        \n",
    "        # initialize the output\n",
    "        G = 0\n",
    "        # iterate through the unique classes\n",
    "        cls = D[:,-1]\n",
    "        for c in np.unique(cls[~np.isnan(cls)]):\n",
    "            # compute p for the current c\n",
    "            p = D[D[:,-1]==c].shape[0]/D.shape[0]\n",
    "            # compute term for the current c\n",
    "            G += p*(1-p)\n",
    "        # return gini impurity\n",
    "        return(G)\n",
    "    \n",
    "    def __entropy(self, D: np.array) -> float:\n",
    "        \"\"\"\n",
    "        Private function to define the shannon entropy\n",
    "        \n",
    "        Input:\n",
    "            D -> data to compute the shannon entropy over\n",
    "        Output:\n",
    "            Shannon entropy for D\n",
    "        \"\"\"        \n",
    "        # initialize the output\n",
    "        H = 0\n",
    "        # iterate through the unique classes\n",
    "        cls = D[:,-1]\n",
    "        for c in np.unique(cls[~np.isnan(cls)]):\n",
    "            # compute p for the current c\n",
    "            p = D[D[:,-1]==c].shape[0]/D.shape[0]\n",
    "            # compute term for the current c\n",
    "            H -= p*np.log2(p)\n",
    "        # return entropy\n",
    "        return(H)\n",
    "    \n",
    "    def _impurity(self, D: np.array) -> float:\n",
    "        \"\"\"\n",
    "        Protected function to define the impurity\n",
    "        \n",
    "        Input:\n",
    "            D -> data to compute the impurity metric over\n",
    "        Output:\n",
    "            Impurity metric for D        \n",
    "        \"\"\"        \n",
    "        # use the selected loss function to calculate the node impurity\n",
    "        ip = None\n",
    "        if self.loss == 'gini':\n",
    "            ip = self.__gini(D)\n",
    "        elif self.loss == 'entropy':\n",
    "            ip = self.__entropy(D)\n",
    "        # return results\n",
    "        return(ip)\n",
    "    \n",
    "    def _leaf_value(self, D: np.array) -> int:\n",
    "        \"\"\"\n",
    "        Protected function to compute the value at a leaf node\n",
    "        \n",
    "        Input:\n",
    "            D -> data to compute the leaf value\n",
    "        Output:\n",
    "            Mode of D         \n",
    "        \"\"\"        \n",
    "        return(stats.mode(D[:,-1],keepdims=False,nan_policy='omit')[0])"
   ]
  },
  {
   "cell_type": "code",
   "execution_count": 5,
   "metadata": {},
   "outputs": [],
   "source": [
    "class DecisionTreeRegressor(DecisionTree):\n",
    "    \"\"\"\n",
    "    Decision Tree Regressor\n",
    "    \"\"\"\n",
    "    \n",
    "    def __init__(self, max_depth: int=None, min_samples_split: int=2, nans_go_right=True, loss: str='mse') -> None:\n",
    "        \"\"\"\n",
    "        Initializer\n",
    "        \n",
    "        Inputs:\n",
    "            max_depth         -> maximum depth the tree can grow\n",
    "            min_samples_split -> minimum number of samples required to split a node\n",
    "            nans_go_right     -> boolean to determine where NaN values in predictors are allocated\n",
    "            loss              -> loss function to use during training\n",
    "        \"\"\"        \n",
    "        DecisionTree.__init__(self,max_depth,min_samples_split,nans_go_right)\n",
    "        self.loss = loss   \n",
    "    \n",
    "    def __mse(self, D: np.array) -> float:\n",
    "        \"\"\"\n",
    "        Private function to define the mean squared error\n",
    "        \n",
    "        Input:\n",
    "            D -> data to compute the MSE over\n",
    "        Output:\n",
    "            Mean squared error over D\n",
    "        \"\"\"\n",
    "        # compute the mean target for the node\n",
    "        y_m = np.mean(D[:,-1],where=~np.isnan(D[:,-1]))\n",
    "        # compute the mean squared error wrt the mean\n",
    "        E = np.sum((D[:,-1] - y_m)**2,where=~np.isnan(D[:,-1]))/D.shape[0]\n",
    "        # return mse\n",
    "        return(E)\n",
    "    \n",
    "    def __mae(self, D: np.array) -> float:\n",
    "        \"\"\"\n",
    "        Private function to define the mean absolute error\n",
    "        \n",
    "        Input:\n",
    "            D -> data to compute the MAE over\n",
    "        Output:\n",
    "            Mean absolute error over D\n",
    "        \"\"\"\n",
    "        # compute the mean target for the node\n",
    "        y_m = np.mean(D[:,-1],where=~np.isnan(D[:,-1]))\n",
    "        # compute the mean absolute error wrt the mean\n",
    "        E = np.sum(np.abs(D[:,-1] - y_m),where=~np.isnan(D[:,-1]))/D.shape[0]\n",
    "        # return mae\n",
    "        return(E)\n",
    "    \n",
    "    def _impurity(self, D: np.array) -> float:\n",
    "        \"\"\"\n",
    "        Protected function to define the impurity\n",
    "        \n",
    "        Input:\n",
    "            D -> data to compute the impurity metric over\n",
    "        Output:\n",
    "            Impurity metric for D        \n",
    "        \"\"\"            \n",
    "        # use the selected loss function to calculate the node impurity\n",
    "        ip = None\n",
    "        if self.loss == 'mse':\n",
    "            ip = self.__mse(D)\n",
    "        elif self.loss == 'mae':\n",
    "            ip = self.__mae(D)\n",
    "        # return results\n",
    "        return(ip)\n",
    "    \n",
    "    def _leaf_value(self, D: np.array) -> float:\n",
    "        \"\"\"\n",
    "        Protected function to compute the value at a leaf node\n",
    "        \n",
    "        Input:\n",
    "            D -> data to compute the leaf value\n",
    "        Output:\n",
    "            Mean of D           \n",
    "        \"\"\"\n",
    "        return(np.mean(D[:,-1],where=~np.isnan(D[:,-1])))"
   ]
  },
  {
   "cell_type": "code",
   "execution_count": 6,
   "metadata": {},
   "outputs": [],
   "source": [
    "def add_missing_values_to_X(X: np.array, n_nan: int=0) -> np.array:\n",
    "    \"\"\"\n",
    "    Function to add missing values to predictor values X\n",
    "    \n",
    "    Inputs:\n",
    "        X      -> set of predictor values\n",
    "        n_nan  -> number of np.nan values to introduce\n",
    "    Outputs:\n",
    "        X with np.nan values introduced\n",
    "    \"\"\"\n",
    "    # setup indices lists\n",
    "    idx_x = [x_i for x_i in range(X.shape[0])]\n",
    "    idx_y = [y_i for y_i in range(X.shape[1])]\n",
    "    # add np.nan values\n",
    "    idx_nan_x = choices(idx_x,k=n_nan)\n",
    "    idx_nan_y = choices(idx_y,k=n_nan)\n",
    "    X[idx_nan_x,idx_nan_y] = np.nan\n",
    "    # return\n",
    "    return(X)\n",
    "\n",
    "def add_missing_values_to_y(y: np.array, n_nan: int=0) -> np.array:\n",
    "    \"\"\"\n",
    "    Function to add missing values to label values y\n",
    "    \n",
    "    Inputs:\n",
    "        y      -> set of label values\n",
    "        n_nan  -> number of np.nan values to introduce\n",
    "    Outputs:\n",
    "        y with np.nan values introduced\n",
    "    \"\"\"\n",
    "    # set type to float64\n",
    "    y = y.astype('float64')\n",
    "    # setup indices list\n",
    "    idx = [x_i for x_i in range(y.shape[0])]\n",
    "    # add np.nan values\n",
    "    idx_nan = choices(idx,k=n_nan)\n",
    "    y[idx_nan] = np.nan\n",
    "    # return\n",
    "    return(y)"
   ]
  },
  {
   "cell_type": "markdown",
   "metadata": {},
   "source": [
    "### Classification Model\n",
    "\n",
    "Let's test out the classification model, using a simulated dataset consisting of 1000 samples, 8 predictive features, and 2 distinct class labels. Note that only 5 of the 8 predictive features are informative."
   ]
  },
  {
   "cell_type": "code",
   "execution_count": 7,
   "metadata": {},
   "outputs": [],
   "source": [
    "# create a classification dataset\n",
    "X,y = make_classification(n_samples=1000, n_features=8, n_informative=5, n_classes=2, random_state=42)"
   ]
  },
  {
   "cell_type": "code",
   "execution_count": 8,
   "metadata": {},
   "outputs": [
    {
     "name": "stdout",
     "output_type": "stream",
     "text": [
      "Percentage of y=0:  0.498\n",
      "Percentage of y=1:  0.502\n"
     ]
    }
   ],
   "source": [
    "# is the dataset balanced?\n",
    "print('Percentage of y=0: ',y[y==0].shape[0]/y.shape[0])\n",
    "print('Percentage of y=1: ',y[y==1].shape[0]/y.shape[0])"
   ]
  },
  {
   "cell_type": "markdown",
   "metadata": {},
   "source": [
    "Clearly this dataset is balanced. Let's take a look at how the predictors are distributed."
   ]
  },
  {
   "cell_type": "code",
   "execution_count": 9,
   "metadata": {},
   "outputs": [
    {
     "data": {
      "image/png": "[encoded data removed]",
      "text/plain": [
       "<Figure size 640x480 with 1 Axes>"
      ]
     },
     "metadata": {},
     "output_type": "display_data"
    }
   ],
   "source": [
    "# box plot of features\n",
    "plt.boxplot(X)\n",
    "plt.xlabel('features')\n",
    "plt.ylabel('values')\n",
    "plt.title('Distributions in Features')\n",
    "plt.xticks([1, 2, 3, 4, 5, 6, 7, 8], ['x1', 'x2', 'x3', 'x4', 'x5', 'x6', 'x7', 'x8'])\n",
    "plt.show()"
   ]
  },
  {
   "cell_type": "markdown",
   "metadata": {},
   "source": [
    "What we need to do now is introduce some missing values, to test that our implementation can handle these."
   ]
  },
  {
   "cell_type": "code",
   "execution_count": 10,
   "metadata": {},
   "outputs": [],
   "source": [
    "# add missing values to predictors\n",
    "X = add_missing_values_to_X(X, n_nan=20)"
   ]
  },
  {
   "cell_type": "code",
   "execution_count": 11,
   "metadata": {},
   "outputs": [],
   "source": [
    "# add missing values to labels\n",
    "y = add_missing_values_to_y(y, n_nan=2)"
   ]
  },
  {
   "cell_type": "markdown",
   "metadata": {},
   "source": [
    "Last step now is to do the train/test split."
   ]
  },
  {
   "cell_type": "code",
   "execution_count": 12,
   "metadata": {},
   "outputs": [],
   "source": [
    "# do train/test split\n",
    "X_train, X_test, y_train, y_test = train_test_split(X, y, test_size=0.2, random_state=42)"
   ]
  },
  {
   "cell_type": "markdown",
   "metadata": {},
   "source": [
    "Now let's test out our Decision Tree Classifier."
   ]
  },
  {
   "cell_type": "code",
   "execution_count": 13,
   "metadata": {},
   "outputs": [],
   "source": [
    "# declare the classifier and train the model\n",
    "clf = DecisionTreeClassifier(max_depth=5, loss='gini')\n",
    "clf.train(X_train,y_train)"
   ]
  },
  {
   "cell_type": "code",
   "execution_count": 14,
   "metadata": {},
   "outputs": [],
   "source": [
    "# generate predictions\n",
    "yp = clf.predict(X_test)"
   ]
  },
  {
   "cell_type": "code",
   "execution_count": 15,
   "metadata": {},
   "outputs": [
    {
     "name": "stdout",
     "output_type": "stream",
     "text": [
      "accuracy: 0.85\n",
      "precision: 0.85\n",
      "recall: 0.89\n"
     ]
    }
   ],
   "source": [
    "# evaluate model performance\n",
    "idx    = ~np.isnan(y_test)\n",
    "y_test = y_test[idx]\n",
    "yp     = yp[idx]\n",
    "print(\"accuracy: %.2f\" % accuracy_score(y_test,yp))\n",
    "print(\"precision: %.2f\" % precision_score(y_test,yp))\n",
    "print(\"recall: %.2f\" % recall_score(y_test,yp))"
   ]
  },
  {
   "cell_type": "markdown",
   "metadata": {},
   "source": [
    "We can see that our implementation works, and yields good results. If you try to train the scikit-learn Decision Tree Classifier on these data, you will see it generates a ValueError exception."
   ]
  },
  {
   "cell_type": "markdown",
   "metadata": {},
   "source": [
    "### Regression Model\n",
    "\n",
    "We can repeat the above example, but this time for the Decision Tree Regressor implementation. We can create a simulated dataset consisting of 1000 samples, 8 predictive features, and a single target with gaussian noise introduced. Note that only 5 of the 8 predictive features are informative."
   ]
  },
  {
   "cell_type": "code",
   "execution_count": 16,
   "metadata": {},
   "outputs": [],
   "source": [
    "# create a regression dataset\n",
    "X,y = make_regression(n_samples=1000, n_features=8, n_informative=5, n_targets=1, noise=0.3, random_state=42)"
   ]
  },
  {
   "cell_type": "markdown",
   "metadata": {},
   "source": [
    "Let's look to see how the predictors and target are distributed."
   ]
  },
  {
   "cell_type": "code",
   "execution_count": 17,
   "metadata": {},
   "outputs": [
    {
     "data": {
      "image/png": "[encoded data removed]",
      "text/plain": [
       "<Figure size 640x480 with 1 Axes>"
      ]
     },
     "metadata": {},
     "output_type": "display_data"
    }
   ],
   "source": [
    "# box plot of features\n",
    "plt.boxplot(X)\n",
    "plt.xlabel('features')\n",
    "plt.ylabel('values')\n",
    "plt.title('Distributions in Features')\n",
    "plt.xticks([1, 2, 3, 4, 5, 6, 7, 8], ['x1', 'x2', 'x3', 'x4', 'x5', 'x6', 'x7', 'x8'])\n",
    "plt.show()"
   ]
  },
  {
   "cell_type": "code",
   "execution_count": 18,
   "metadata": {},
   "outputs": [
    {
     "data": {
      "image/png": "[encoded data removed]",
      "text/plain": [
       "<Figure size 640x480 with 1 Axes>"
      ]
     },
     "metadata": {},
     "output_type": "display_data"
    }
   ],
   "source": [
    "# histogram of label\n",
    "plt.hist(y,bins=50)\n",
    "plt.xlabel('y label')\n",
    "plt.ylabel('frequency')\n",
    "plt.title('Distribution in y Label')\n",
    "plt.show()"
   ]
  },
  {
   "cell_type": "markdown",
   "metadata": {},
   "source": [
    "What we need to do now is introduce some missing values, to test that our implementation can handle these."
   ]
  },
  {
   "cell_type": "code",
   "execution_count": 19,
   "metadata": {},
   "outputs": [],
   "source": [
    "# add missing values to predictors\n",
    "X = add_missing_values_to_X(X, n_nan=5)"
   ]
  },
  {
   "cell_type": "code",
   "execution_count": 20,
   "metadata": {},
   "outputs": [],
   "source": [
    "# add missing values to labels\n",
    "y = add_missing_values_to_y(y, n_nan=2)"
   ]
  },
  {
   "cell_type": "markdown",
   "metadata": {},
   "source": [
    "We can now proceed to do a train-test split."
   ]
  },
  {
   "cell_type": "code",
   "execution_count": 21,
   "metadata": {},
   "outputs": [],
   "source": [
    "# do train/test split\n",
    "X_train, X_test, y_train, y_test = train_test_split(X, y, test_size=0.2, random_state=42)"
   ]
  },
  {
   "cell_type": "markdown",
   "metadata": {},
   "source": [
    "Now let's test out our Decision Tree Regressor."
   ]
  },
  {
   "cell_type": "code",
   "execution_count": 22,
   "metadata": {},
   "outputs": [],
   "source": [
    "# declare the regressor and train the model\n",
    "rgr = DecisionTreeRegressor(max_depth=5, loss='mae', nans_go_right=False)\n",
    "rgr.train(X_train,y_train)"
   ]
  },
  {
   "cell_type": "code",
   "execution_count": 23,
   "metadata": {},
   "outputs": [],
   "source": [
    "# make predictions\n",
    "yp = rgr.predict(X_test)"
   ]
  },
  {
   "cell_type": "code",
   "execution_count": 24,
   "metadata": {},
   "outputs": [
    {
     "name": "stdout",
     "output_type": "stream",
     "text": [
      "rmse: 69.51\n",
      "mae: 53.80\n"
     ]
    }
   ],
   "source": [
    "# evaluate model performance\n",
    "idx    = ~np.isnan(y_test)\n",
    "y_test = y_test[idx]\n",
    "yp     = yp[idx]\n",
    "print(\"rmse: %.2f\" % np.sqrt(mean_squared_error(y_test,yp)))\n",
    "print(\"mae: %.2f\" % mean_absolute_error(y_test,yp))"
   ]
  },
  {
   "cell_type": "markdown",
   "metadata": {},
   "source": [
    "Like before, we can see that our implementation works and yields reasonable results. If you try to train the scikit-learn Decision Tree Regressor on these data, you will see it generates a ValueError exception."
   ]
  }
 ],
 "metadata": {
  "kernelspec": {
   "display_name": "Python 3 (ipykernel)",
   "language": "python",
   "name": "python3"
  },
  "language_info": {
   "codemirror_mode": {
    "name": "ipython",
    "version": 3
   },
   "file_extension": ".py",
   "mimetype": "text/x-python",
   "name": "python",
   "nbconvert_exporter": "python",
   "pygments_lexer": "ipython3",
   "version": "3.8.16"
  }
 },
 "nbformat": 4,
 "nbformat_minor": 4
}
