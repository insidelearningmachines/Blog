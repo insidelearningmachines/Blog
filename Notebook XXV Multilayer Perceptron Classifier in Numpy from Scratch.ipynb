{
 "cells": [
  {
   "cell_type": "markdown",
   "id": "db1e170d",
   "metadata": {},
   "source": [
    "# Multilayer Perceptron Classifier in Numpy from Scratch\n",
    "\n",
    "In this notebook, I will implement a Neural Network from scratch using the Numpy library. The exact type of Neural Network we will build is a Multilayer Perceptron, also known as a Feedforward Neural Network. This is a densely connected Neural Network, that was described in detail in previous articles. Our Neural Network will be designed to handle classification problems involving datasets with 3 predictor input features, and a single binary output.\n",
    "\n",
    "Let's start by importing the necessary packages we will need into this notebook:"
   ]
  },
  {
   "cell_type": "code",
   "execution_count": 1,
   "id": "23a2a01e",
   "metadata": {},
   "outputs": [],
   "source": [
    "# imports\n",
    "from typing import List, Tuple\n",
    "import numpy as np\n",
    "from sklearn.datasets import make_classification\n",
    "from sklearn.model_selection import train_test_split\n",
    "from sklearn.metrics import accuracy_score, f1_score\n",
    "import matplotlib.pyplot as plt"
   ]
  },
  {
   "cell_type": "markdown",
   "id": "30eda7af",
   "metadata": {},
   "source": [
    "Now we can create our implementation. The Neural Network we will build will tackle classification problems, and will be encapsulated in a single class called **MLP351Classifier**. The following simplifying assumptions will be made for this model:\n",
    "\n",
    "1) The sigmoid activation function will be used for all hidden and output neurons\n",
    "2) The cross-entropy loss function, described in a previous article (https://insidelearningmachines.com/cross_entropy_loss/), will be used during training\n",
    "3) I'm fixing the Neural Network to have an input layer with 3 neurons, a single hidden layer with 5 neurons, and an output layer with 1 neuron\n",
    "\n",
    "## Model Implementation"
   ]
  },
  {
   "cell_type": "code",
   "execution_count": 2,
   "id": "1bae83ef",
   "metadata": {},
   "outputs": [],
   "source": [
    "class MLP351Classifier(object):\n",
    "    \"\"\"\n",
    "    Class to encapsulate a Multilayer Perceptron / FeedForward Neural Network classifier\n",
    "    \"\"\"\n",
    "    \n",
    "    def __init__(self, lr: float=1e-2, epoches: int=100) -> None:\n",
    "        \"\"\"\n",
    "        Initialiser function for a class instance\n",
    "        \n",
    "        Inputs:\n",
    "            lr      -> learning rate\n",
    "            epoches -> number of epoches to use during training\n",
    "        \"\"\"\n",
    "        self.lr      = lr\n",
    "        self.epoches = epoches\n",
    "        self.layers  = [3,5,1]\n",
    "        self.weights = []\n",
    "        self.biases  = []\n",
    "        self.loss    = []\n",
    "        \n",
    "    def __del__(self) -> None:\n",
    "        \"\"\"\n",
    "        Destructor function for a class instance\n",
    "        \"\"\"\n",
    "        del self.lr\n",
    "        del self.epoches\n",
    "        del self.layers\n",
    "        del self.weights\n",
    "        del self.biases\n",
    "        del self.loss\n",
    "        \n",
    "    def _loss(self, y_true: np.array, y_pred: np.array) -> np.array:\n",
    "        \"\"\"\n",
    "        Function to compute cross-entropy loss per sample\n",
    "        \n",
    "        Inputs:\n",
    "            y_true -> numpy array of true labels\n",
    "            y_pred -> numpy array of prediction values\n",
    "        Output:\n",
    "            loss value\n",
    "        \"\"\"\n",
    "        return -y_true*np.log2(y_pred) - (1 - y_true)*np.log2(1 - y_pred)\n",
    "    \n",
    "    def _derivative_loss(self, y_true: np.array, y_pred: np.array) -> np.array:\n",
    "        \"\"\"\n",
    "        Function to compute the derivative of the cross-entropy loss per sample\n",
    "        \n",
    "        Inputs:\n",
    "            y_true -> numpy array of true labels\n",
    "            y_pred -> numpy array of prediction values\n",
    "        Output:\n",
    "            loss value\n",
    "        \"\"\"\n",
    "        return -(1/np.log(2))*( (y_true/y_pred) - ((1-y_true)/(1-y_pred)) )\n",
    "    \n",
    "    def _sigmoid(self, z: np.array) -> np.array:\n",
    "        \"\"\"\n",
    "        Function to compute sigmoid activation function\n",
    "        \n",
    "        Input:\n",
    "            z -> input dot product w*x + b\n",
    "        Output:\n",
    "            determined activation\n",
    "        \"\"\"\n",
    "        return 1/(1+np.exp(-z))\n",
    "    \n",
    "    def _derivative_sigmoid(self, z: np.array) -> np.array:\n",
    "        \"\"\"\n",
    "        Function to compute the derivative of the sigmoid activation function\n",
    "        \n",
    "        Input:\n",
    "            z -> input dot product w*x + b\n",
    "        Output:\n",
    "            determined derivative of activation\n",
    "        \"\"\"\n",
    "        return self._sigmoid(z)*(1 - self._sigmoid(z))\n",
    "    \n",
    "    def _forward_pass(self, X: np.array) -> Tuple[List[np.array], List[np.array]]:\n",
    "        \"\"\"\n",
    "        Function to perform forward pass through the network\n",
    "        \n",
    "        Input:\n",
    "            X -> numpy array of input predictive features with assumed shape [number_features, number_samples]\n",
    "        Output:\n",
    "            list of activations & derivatives for each layer\n",
    "        \"\"\" \n",
    "        # record from input layer\n",
    "        input_to_layer = np.copy(X)\n",
    "        activations    = [input_to_layer]\n",
    "        derivatives    = [np.zeros(X.shape)]\n",
    "        \n",
    "        # hidden layer\n",
    "        z_i = np.matmul(self.weights[0],input_to_layer) + self.biases[0]\n",
    "        input_to_layer = self._sigmoid(z_i)\n",
    "        activations.append(input_to_layer)\n",
    "        derivatives.append(self._derivative_sigmoid(z_i))\n",
    "        \n",
    "        # output layer\n",
    "        z_i = np.matmul(self.weights[1],input_to_layer) + self.biases[1]\n",
    "        input_to_layer = self._sigmoid(z_i)\n",
    "        activations.append(input_to_layer)\n",
    "        derivatives.append(self._derivative_sigmoid(z_i))\n",
    "        \n",
    "        # return results\n",
    "        return(activations, derivatives)\n",
    "    \n",
    "    def _backward_pass(self, \n",
    "                       activations: List[np.array], \n",
    "                       derivatives: List[np.array], \n",
    "                       y: np.array) -> Tuple[List[np.array], List[np.array]]:\n",
    "        \"\"\"\n",
    "        Function to perform backward pass through the network\n",
    "        \n",
    "        Inputs:\n",
    "            activations -> list of activations from each layer in the network\n",
    "            derivatives -> list of derivatives from each layer in the network\n",
    "            y           -> numpy array of target values \n",
    "                           with assumed shape [number_samples, output dimension]\n",
    "        Output:\n",
    "            list of numpy arrays containing the derivates of the loss function wrt layer weights\n",
    "        \"\"\" \n",
    "        # record loss\n",
    "        self.loss.append((1/y.shape[1])*np.sum(self._loss(y, activations[-1])))\n",
    "        \n",
    "        # output layer\n",
    "        dl_dy2 = self._derivative_loss(y, activations[2])\n",
    "        dl_dz2 = np.multiply(dl_dy2, derivatives[2])\n",
    "        dl_dw2 = (1/y.shape[1])*np.matmul(dl_dz2, activations[1].T)\n",
    "        dl_db2 = (1/y.shape[1])*np.sum(dl_dz2, axis=1)\n",
    "        \n",
    "        # hidden layer\n",
    "        dl_dy1 = np.matmul(self.weights[1].T, dl_dz2)\n",
    "        dl_dz1 = np.multiply(dl_dy1, derivatives[1])\n",
    "        dl_dw1 = (1/y.shape[1])*np.matmul(dl_dz1, activations[0].T)\n",
    "        dl_db1 = (1/y.shape[1])*np.sum(dl_dz1, axis=1)\n",
    "        \n",
    "        # return derivatives\n",
    "        return([dl_dw1, dl_dw2], [dl_db1, dl_db2])\n",
    "    \n",
    "    def _update_weights(self, dl_dw: List[np.array], dl_db: List[np.array]) -> None:\n",
    "        \"\"\"\n",
    "        Function to apply update rule to model weights\n",
    "        \n",
    "        Input:\n",
    "            dl_dw -> list of numpy arrays containing loss derivatives wrt weights\n",
    "        \"\"\"\n",
    "        self.weights[0] -= self.lr*dl_dw[0]\n",
    "        self.weights[1] -= self.lr*dl_dw[1]\n",
    "        self.biases[0]  -= self.lr*dl_db[0].reshape(-1,1)\n",
    "        self.biases[1]  -= self.lr*dl_db[1].reshape(-1,1)\n",
    "        \n",
    "    def fit(self, X: np.array, y: np.array) -> None:\n",
    "        \"\"\"\n",
    "        Function to train a class instance\n",
    "        \n",
    "        Inputs:\n",
    "            X -> numpy array of input predictive features with assumed shape [number_samples, number_features]\n",
    "            y -> numpy array of target values with assumed shape [number_samples, output dimension]\n",
    "        \"\"\"\n",
    "        # initialise the model parameters\n",
    "        self.weights.clear()\n",
    "        self.biases.clear()\n",
    "        self.loss.clear() \n",
    "        for idx in range(len(self.layers)-1):\n",
    "            self.weights.append(np.random.randn(self.layers[idx+1], self.layers[idx]) * 0.1)\n",
    "            self.biases.append(np.random.randn(self.layers[idx+1], 1) * 0.1)         \n",
    "        # loop through each epoch\n",
    "        for _ in range(self.epoches):\n",
    "            # do forward pass through the network\n",
    "            activations, derivatives = self._forward_pass(X.T)\n",
    "            # do backward pass through the network\n",
    "            dl_dw, dl_db = self._backward_pass(activations, derivatives, y.T)\n",
    "            # update weights\n",
    "            self._update_weights(dl_dw, dl_db)   \n",
    "            \n",
    "    def predict(self, X: np.array) -> np.array:\n",
    "        \"\"\"\n",
    "        Function to produce predictions from a trained class instance\n",
    "        \n",
    "        Input:\n",
    "            X -> numpy array of input predictive features with assumed shape [number_samples, number_features]\n",
    "        Output:\n",
    "            numpy array of model predictions\n",
    "        \"\"\"\n",
    "        # do forward pass through the network\n",
    "        activations, _ = self._forward_pass(X.T)\n",
    "        # return predictions\n",
    "        return np.rint(activations[2]).reshape(-1)"
   ]
  },
  {
   "cell_type": "markdown",
   "id": "d268be47",
   "metadata": {},
   "source": [
    "## Create Dataset\n",
    "\n",
    "Let's produce a dataset with 10000 samples, consisting of 3 predictive input features, of which 2 are informative and the remainder is redundant. The target will consist of a single binary output:"
   ]
  },
  {
   "cell_type": "code",
   "execution_count": 3,
   "id": "960b5c1c",
   "metadata": {},
   "outputs": [],
   "source": [
    "# generate a dataset\n",
    "X,y = make_classification(n_samples=10000, n_features=3, n_informative=2, n_redundant=1, random_state=42)"
   ]
  },
  {
   "cell_type": "markdown",
   "id": "682500e6",
   "metadata": {},
   "source": [
    "We can produce some box plots to get a sense of the distribution in the input predictive features:"
   ]
  },
  {
   "cell_type": "code",
   "execution_count": 4,
   "id": "274fd874",
   "metadata": {},
   "outputs": [
    {
     "data": {
      "image/png": "[encoded data removed]",
      "text/plain": [
       "<Figure size 640x480 with 1 Axes>"
      ]
     },
     "metadata": {},
     "output_type": "display_data"
    }
   ],
   "source": [
    "plt.boxplot(X)\n",
    "plt.title(\"Distribution of Input Predictive Features\")\n",
    "plt.xlabel(\"feature\")\n",
    "plt.ylabel(\"input unit\")\n",
    "plt.show()"
   ]
  },
  {
   "cell_type": "markdown",
   "id": "bac4bab2",
   "metadata": {},
   "source": [
    "... and a histogram of the true labels:"
   ]
  },
  {
   "cell_type": "code",
   "execution_count": 5,
   "id": "00353faa",
   "metadata": {},
   "outputs": [
    {
     "data": {
      "image/png": "[encoded data removed]",
      "text/plain": [
       "<Figure size 640x480 with 1 Axes>"
      ]
     },
     "metadata": {},
     "output_type": "display_data"
    }
   ],
   "source": [
    "plt.hist(y)\n",
    "plt.title(\"Distribution of Labels\")\n",
    "plt.xlabel(\"class\")\n",
    "plt.ylabel(\"output unit\")\n",
    "plt.show()"
   ]
  },
  {
   "cell_type": "markdown",
   "id": "47cf8f5d",
   "metadata": {},
   "source": [
    "The input features 2 & 3 appear to be approximately zero-centered, whereas feature 1 as a median that is clearly a positive value. The range for each feature varies, with the narrowest range belonging to feature 2 $(-2,+2)$ and the broadest with feature 3 $(-4,+4)$. Outliers are present for each feature, with the largest concentration being with feature 2.\n",
    "\n",
    "The true labels $(0$ and $1)$ are roughly evenly split in these data.\n",
    "\n",
    "Finally, we can do a train-test split, with 80% of the data being allocated for training:"
   ]
  },
  {
   "cell_type": "code",
   "execution_count": 6,
   "id": "3005fc55",
   "metadata": {},
   "outputs": [],
   "source": [
    "# perform train-test split\n",
    "X_train, X_test, y_train, y_test = train_test_split(X, y, test_size=0.2, random_state=42)"
   ]
  },
  {
   "cell_type": "markdown",
   "id": "3cfcc866",
   "metadata": {},
   "source": [
    "## Test Model\n",
    "\n",
    "Now let's create an instance of our implemented class, and train it on the training data. I'll use a learning rate of 1.0, and we'll train for 2000 epochs:"
   ]
  },
  {
   "cell_type": "code",
   "execution_count": 11,
   "id": "be7d072d",
   "metadata": {},
   "outputs": [],
   "source": [
    "# train the classifier\n",
    "model = MLP351Classifier(lr=1.0,epoches=2000)\n",
    "model.fit(X_train,y_train.reshape(-1,1))"
   ]
  },
  {
   "cell_type": "code",
   "execution_count": 12,
   "id": "7564847f",
   "metadata": {},
   "outputs": [
    {
     "data": {
      "image/png": "[encoded data removed]",
      "text/plain": [
       "<Figure size 640x480 with 1 Axes>"
      ]
     },
     "metadata": {},
     "output_type": "display_data"
    }
   ],
   "source": [
    "# plot the training loss\n",
    "plt.plot(model.loss)\n",
    "plt.title(\"Training Loss\")\n",
    "plt.xlabel(\"epochs\")\n",
    "plt.ylabel(\"loss\")\n",
    "plt.show()"
   ]
  },
  {
   "cell_type": "markdown",
   "id": "08118d42",
   "metadata": {},
   "source": [
    "Plotting the training loss shows a rapid decline at first, followed by a gradual decline for ~500 epochs. The loss then gentily slopes down from epoch 500 to 2000. This shows that our training procedure is working. Now let's evaluate how well our classifier performs in making predictions:"
   ]
  },
  {
   "cell_type": "code",
   "execution_count": 13,
   "id": "be2b7d8d",
   "metadata": {},
   "outputs": [],
   "source": [
    "# generate predictions\n",
    "y_pred = model.predict(X_test)"
   ]
  },
  {
   "cell_type": "code",
   "execution_count": 14,
   "id": "d6a74cd2",
   "metadata": {},
   "outputs": [
    {
     "name": "stdout",
     "output_type": "stream",
     "text": [
      "accuracy: 0.93 and F1 score: 0.93\n"
     ]
    }
   ],
   "source": [
    "# evaluate model performance\n",
    "print(f\"accuracy: {accuracy_score(y_test, y_pred):.2f} and F1 score: {f1_score(y_test, y_pred):.2f}\")"
   ]
  },
  {
   "cell_type": "markdown",
   "id": "b3258a41",
   "metadata": {},
   "source": [
    "The accuracy and F1 results indicates that our classifier functions reasonably well on the test data provided. "
   ]
  }
 ],
 "metadata": {
  "kernelspec": {
   "display_name": "Python 3 (ipykernel)",
   "language": "python",
   "name": "python3"
  },
  "language_info": {
   "codemirror_mode": {
    "name": "ipython",
    "version": 3
   },
   "file_extension": ".py",
   "mimetype": "text/x-python",
   "name": "python",
   "nbconvert_exporter": "python",
   "pygments_lexer": "ipython3",
   "version": "3.8.16"
  }
 },
 "nbformat": 4,
 "nbformat_minor": 5
}
