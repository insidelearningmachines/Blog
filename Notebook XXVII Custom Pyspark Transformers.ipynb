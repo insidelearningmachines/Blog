{
 "cells": [
  {
   "cell_type": "markdown",
   "id": "f3eacd33-d0f5-4d5f-b6fe-19dddb016748",
   "metadata": {},
   "source": [
    "# Pyspark Transformers\n",
    "\n",
    "In this notebook, we'll work through the construction of our own Transformer in Pyspark. Transformers act on an input dataframe to yield a modified version of the same dataframe. They form a key component to pipelines, where a series of transformers can be chained together to perform all the required data processing. \n",
    "\n",
    "The aim of this pipeline will be to make use of a Decision Tree Regressor to predict housing values. We will make use of the **California Housing Prices** dataset. These data were briefly explored in Notebook XXVI, and as such I won't repeat that analysis here.\n",
    "\n",
    "We can start by importing the necessary packages, and setting up our spark session:"
   ]
  },
  {
   "cell_type": "code",
   "execution_count": 1,
   "id": "f1486164-6da9-4c14-b330-e753b98c0bfa",
   "metadata": {},
   "outputs": [],
   "source": [
    "import findspark\n",
    "findspark.init(\"/opt/homebrew/Cellar/apache-spark/3.5.0/libexec\")"
   ]
  },
  {
   "cell_type": "code",
   "execution_count": null,
   "id": "598a691a-d512-4808-939b-f13444e1b0f6",
   "metadata": {},
   "outputs": [],
   "source": [
    "from sklearn.datasets import fetch_california_housing\n",
    "from typing import Any\n",
    "import matplotlib.pyplot as plt\n",
    "from pyspark.sql import SparkSession\n",
    "from pyspark import keyword_only\n",
    "from pyspark.sql import functions as F\n",
    "from pyspark.sql import dataframe as DataFrame\n",
    "from pyspark.ml import Transformer, Pipeline \n",
    "from pyspark.ml.pipeline import PipelineModel\n",
    "from pyspark.ml.param.shared import HasInputCols, HasOutputCol, Param, Params, TypeConverters\n",
    "from pyspark.ml.util import DefaultParamsReadable, DefaultParamsWritable\n",
    "from pyspark.ml.feature import VectorAssembler\n",
    "from pyspark.ml.regression import DecisionTreeRegressor\n",
    "spark = SparkSession.builder.appName(\"test\").getOrCreate()"
   ]
  },
  {
   "cell_type": "markdown",
   "id": "5b654b00-377f-4066-a32a-11caf662a4ea",
   "metadata": {},
   "source": [
    "## Dataset\n",
    "\n",
    "Now let's obtain the data we will work with. A description of the data can be found here: https://scikit-learn.org/stable/modules/generated/sklearn.datasets.fetch_california_housing.html#sklearn.datasets.fetch_california_housing"
   ]
  },
  {
   "cell_type": "code",
   "execution_count": 3,
   "id": "50557976-0ea5-4d53-80a1-b487df0127b4",
   "metadata": {},
   "outputs": [],
   "source": [
    "# obtain data\n",
    "data = fetch_california_housing(as_frame=True)\n",
    "dfX = data[\"data\"]\n",
    "sY = data[\"target\"]"
   ]
  },
  {
   "cell_type": "code",
   "execution_count": 4,
   "id": "0788de8f-25c0-4871-99c0-283b681241bd",
   "metadata": {},
   "outputs": [
    {
     "data": {
      "text/html": [
       "<div>\n",
       "<style scoped>\n",
       "    .dataframe tbody tr th:only-of-type {\n",
       "        vertical-align: middle;\n",
       "    }\n",
       "\n",
       "    .dataframe tbody tr th {\n",
       "        vertical-align: top;\n",
       "    }\n",
       "\n",
       "    .dataframe thead th {\n",
       "        text-align: right;\n",
       "    }\n",
       "</style>\n",
       "<table border=\"1\" class=\"dataframe\">\n",
       "  <thead>\n",
       "    <tr style=\"text-align: right;\">\n",
       "      <th></th>\n",
       "      <th>MedInc</th>\n",
       "      <th>HouseAge</th>\n",
       "      <th>AveRooms</th>\n",
       "      <th>AveBedrms</th>\n",
       "      <th>Population</th>\n",
       "      <th>AveOccup</th>\n",
       "      <th>Latitude</th>\n",
       "      <th>Longitude</th>\n",
       "    </tr>\n",
       "  </thead>\n",
       "  <tbody>\n",
       "    <tr>\n",
       "      <th>0</th>\n",
       "      <td>8.3252</td>\n",
       "      <td>41.0</td>\n",
       "      <td>6.984127</td>\n",
       "      <td>1.023810</td>\n",
       "      <td>322.0</td>\n",
       "      <td>2.555556</td>\n",
       "      <td>37.88</td>\n",
       "      <td>-122.23</td>\n",
       "    </tr>\n",
       "    <tr>\n",
       "      <th>1</th>\n",
       "      <td>8.3014</td>\n",
       "      <td>21.0</td>\n",
       "      <td>6.238137</td>\n",
       "      <td>0.971880</td>\n",
       "      <td>2401.0</td>\n",
       "      <td>2.109842</td>\n",
       "      <td>37.86</td>\n",
       "      <td>-122.22</td>\n",
       "    </tr>\n",
       "    <tr>\n",
       "      <th>2</th>\n",
       "      <td>7.2574</td>\n",
       "      <td>52.0</td>\n",
       "      <td>8.288136</td>\n",
       "      <td>1.073446</td>\n",
       "      <td>496.0</td>\n",
       "      <td>2.802260</td>\n",
       "      <td>37.85</td>\n",
       "      <td>-122.24</td>\n",
       "    </tr>\n",
       "    <tr>\n",
       "      <th>3</th>\n",
       "      <td>5.6431</td>\n",
       "      <td>52.0</td>\n",
       "      <td>5.817352</td>\n",
       "      <td>1.073059</td>\n",
       "      <td>558.0</td>\n",
       "      <td>2.547945</td>\n",
       "      <td>37.85</td>\n",
       "      <td>-122.25</td>\n",
       "    </tr>\n",
       "    <tr>\n",
       "      <th>4</th>\n",
       "      <td>3.8462</td>\n",
       "      <td>52.0</td>\n",
       "      <td>6.281853</td>\n",
       "      <td>1.081081</td>\n",
       "      <td>565.0</td>\n",
       "      <td>2.181467</td>\n",
       "      <td>37.85</td>\n",
       "      <td>-122.25</td>\n",
       "    </tr>\n",
       "  </tbody>\n",
       "</table>\n",
       "</div>"
      ],
      "text/plain": [
       "   MedInc  HouseAge  AveRooms  AveBedrms  Population  AveOccup  Latitude  \\\n",
       "0  8.3252      41.0  6.984127   1.023810       322.0  2.555556     37.88   \n",
       "1  8.3014      21.0  6.238137   0.971880      2401.0  2.109842     37.86   \n",
       "2  7.2574      52.0  8.288136   1.073446       496.0  2.802260     37.85   \n",
       "3  5.6431      52.0  5.817352   1.073059       558.0  2.547945     37.85   \n",
       "4  3.8462      52.0  6.281853   1.081081       565.0  2.181467     37.85   \n",
       "\n",
       "   Longitude  \n",
       "0    -122.23  \n",
       "1    -122.22  \n",
       "2    -122.24  \n",
       "3    -122.25  \n",
       "4    -122.25  "
      ]
     },
     "execution_count": 4,
     "metadata": {},
     "output_type": "execute_result"
    }
   ],
   "source": [
    "dfX.head(5)"
   ]
  },
  {
   "cell_type": "markdown",
   "id": "80cbe69c-b063-4154-9858-6e4248d51edd",
   "metadata": {},
   "source": [
    "Since I'll be using a Decision Tree to model these data, the preprocessing work we'll have to do is minimal. Nonetheless, here we will focus on the Latitude and Longitude columns, and attempt to convert these values into categories based on their rough groupings. Our custom Transformer will aim to do just that.\n",
    "\n",
    "First let's take a peek to see what our distribution of Latitude and Longitude looks like:"
   ]
  },
  {
   "cell_type": "code",
   "execution_count": 5,
   "id": "f5ea325f-8419-4f1a-8ff7-52b1cdb93af5",
   "metadata": {},
   "outputs": [
    {
     "data": {
      "image/png": "[encoded data removed]",
      "text/plain": [
       "<Figure size 640x480 with 1 Axes>"
      ]
     },
     "metadata": {},
     "output_type": "display_data"
    }
   ],
   "source": [
    "dfX.plot.scatter(x='Longitude',y='Latitude')\n",
    "plt.show()"
   ]
  },
  {
   "cell_type": "markdown",
   "id": "55cfdba5-c0d6-489e-a993-9be7b982c665",
   "metadata": {},
   "source": [
    "We can make out the rough shape of California in this plot. It is evident that the distribution is grouped at various points on the map. Normally, we would assign labels to these groupings through some data-driven technique (e.g. KMeans). However, for the purpose of this demonstration I will build a simple Transformer to handle this task. The Transformer will partition the data based upon very simple hand-written rules. The figure below illustrates how labels will be assigned based on geographical location:"
   ]
  },
  {
   "cell_type": "code",
   "execution_count": 6,
   "id": "90face1c-b117-48d0-920b-ca7dd3389ac5",
   "metadata": {},
   "outputs": [
    {
     "data": {
      "image/png": "[encoded data removed]",
      "text/plain": [
       "<Figure size 640x480 with 1 Axes>"
      ]
     },
     "metadata": {},
     "output_type": "display_data"
    }
   ],
   "source": [
    "dfX.plot.scatter(x='Longitude',y='Latitude')\n",
    "plt.hlines(y=35, xmin=-124, xmax=-114, color='red')\n",
    "plt.vlines(x=-120.5, ymin=35, ymax=42, color='red')\n",
    "plt.show()"
   ]
  },
  {
   "cell_type": "markdown",
   "id": "05c6b2ef-6991-4b62-978b-a17e3bcb1fb3",
   "metadata": {},
   "source": [
    "The Latitude and Longitude points in the data will be split into 3 groups. These are labelled as: \n",
    "1. South\n",
    "2. North\n",
    "3. Interior\n",
    "\n",
    "All points at or below Latitude 35 will be assigned to group 1 (South). All points above Latitude 35, and less than or equal to Longitude -120.5 we be assigned to group 2 (North). All remaining points are given to group 3 (Interior).\n",
    "\n",
    "Before proceeding, let's place our data into a pyspark dataframe:"
   ]
  },
  {
   "cell_type": "code",
   "execution_count": 7,
   "id": "f5575a85-89dd-4269-84ce-688f8b5cffb8",
   "metadata": {},
   "outputs": [
    {
     "name": "stdout",
     "output_type": "stream",
     "text": [
      "+------+--------+------------------+------------------+----------+------------------+--------+---------+-----------+\n",
      "|MedInc|HouseAge|          AveRooms|         AveBedrms|Population|          AveOccup|Latitude|Longitude|MedHouseVal|\n",
      "+------+--------+------------------+------------------+----------+------------------+--------+---------+-----------+\n",
      "|8.3252|    41.0| 6.984126984126984|1.0238095238095237|     322.0|2.5555555555555554|   37.88|  -122.23|      4.526|\n",
      "|8.3014|    21.0| 6.238137082601054|0.9718804920913884|    2401.0| 2.109841827768014|   37.86|  -122.22|      3.585|\n",
      "|7.2574|    52.0| 8.288135593220339| 1.073446327683616|     496.0|2.8022598870056497|   37.85|  -122.24|      3.521|\n",
      "|5.6431|    52.0|5.8173515981735155|1.0730593607305936|     558.0| 2.547945205479452|   37.85|  -122.25|      3.413|\n",
      "|3.8462|    52.0| 6.281853281853282|1.0810810810810811|     565.0|2.1814671814671813|   37.85|  -122.25|      3.422|\n",
      "+------+--------+------------------+------------------+----------+------------------+--------+---------+-----------+\n",
      "only showing top 5 rows\n",
      "\n"
     ]
    }
   ],
   "source": [
    "dfX[\"MedHouseVal\"] = sY\n",
    "df = spark.createDataFrame(dfX)\n",
    "df.show(5)"
   ]
  },
  {
   "cell_type": "markdown",
   "id": "fe84f27c-03d8-4b45-bbe5-a99c9d84efe5",
   "metadata": {},
   "source": [
    "## Custom Transformer\n",
    "\n",
    "Now that we know what needs to be done, let's build a new transformer *AssignRegion*:"
   ]
  },
  {
   "cell_type": "code",
   "execution_count": 8,
   "id": "10510283-9ec0-40ad-a2ab-594c5852724c",
   "metadata": {},
   "outputs": [],
   "source": [
    "class AssignRegion(Transformer, HasInputCols, HasOutputCol, DefaultParamsReadable, DefaultParamsWritable):\n",
    "    \"\"\"\n",
    "    Class to convert latitude and longitude into a geographical region within California (either 1, 2, or 3)\n",
    "    \"\"\"\n",
    "    verbose = Param(\n",
    "        Params._dummy(),\n",
    "        \"verbose\",\n",
    "        \"Boolean to determine if transformer prints out status when running.\",\n",
    "        typeConverter=TypeConverters.toBoolean,\n",
    "    )\n",
    "    \n",
    "    @keyword_only\n",
    "    def __init__(self,\n",
    "                 inputCols: list=[],\n",
    "                 outputCol: str='',\n",
    "                 verbose: bool=False) -> None:\n",
    "        \"\"\"\n",
    "        Function to initialise the class instance\n",
    "        \"\"\"\n",
    "        super().__init__()\n",
    "        self._setDefault(inputCols=[], outputCol='', verbose=False)\n",
    "        kwargs = self._input_kwargs\n",
    "        self.set_params(**kwargs)\n",
    "\n",
    "    @keyword_only\n",
    "    def set_params(self,\n",
    "                   inputCols: list=[],\n",
    "                   outputCol: str='',\n",
    "                   verbose: bool=False) -> None:\n",
    "        kwargs = self._input_kwargs\n",
    "        self._set(**kwargs)\n",
    "\n",
    "    def setVerbose(self, new_verbose: bool) -> Any:\n",
    "        return self.setParams(verbose=new_verbose)\n",
    "\n",
    "    def getVerbose(self) -> bool:\n",
    "        return self.getOrDefault(self.verbose)\n",
    "    \n",
    "    def _transform(self, df: DataFrame) -> DataFrame:\n",
    "        \"\"\"\n",
    "        Function to determine the region based off of the latitude and longitude values\n",
    "        \"\"\"\n",
    "        # read in the transformer parameters\n",
    "        inputCols = self.getInputCols()\n",
    "        outputCol = self.getOutputCol()\n",
    "        verbose = self.getVerbose()\n",
    "\n",
    "        # return the dataframe with geographical regions included\n",
    "        try:\n",
    "            df = df.withColumn(outputCol, \n",
    "                               F.when( F.col(inputCols[0]) <= 35, 1 )\n",
    "                               .when( (F.col(inputCols[0]) > 35) & (F.col(inputCols[1]) <= -120.5), 2 )\n",
    "                               .otherwise(3)\n",
    "                              )\n",
    "            if verbose:\n",
    "                print(\"Our transformer works!\")\n",
    "        except Exception as e:\n",
    "            if verbose:\n",
    "                print(f\"Something went wrong, {e}\")\n",
    "            pass\n",
    "        return df"
   ]
  },
  {
   "cell_type": "markdown",
   "id": "c5868437-f8e3-429b-a214-95885da5390c",
   "metadata": {},
   "source": [
    "We can now test out our transformer to verify that it works:"
   ]
  },
  {
   "cell_type": "code",
   "execution_count": 9,
   "id": "e0f4d39e-d0aa-452f-809e-33efc79edbee",
   "metadata": {},
   "outputs": [],
   "source": [
    "t = AssignRegion(inputCols=['Latitude','Longitude'], outputCol='Region', verbose=True)"
   ]
  },
  {
   "cell_type": "code",
   "execution_count": 10,
   "id": "a1f2c593-c7ff-4b58-8db4-3cf712a332ac",
   "metadata": {},
   "outputs": [
    {
     "name": "stdout",
     "output_type": "stream",
     "text": [
      "Our transformer works!\n"
     ]
    }
   ],
   "source": [
    "df = t.transform(df)"
   ]
  },
  {
   "cell_type": "code",
   "execution_count": 11,
   "id": "f9c28476-818c-484a-ad98-9d55ede23d77",
   "metadata": {},
   "outputs": [
    {
     "name": "stdout",
     "output_type": "stream",
     "text": [
      "+------+-----+\n",
      "|Region|count|\n",
      "+------+-----+\n",
      "|     3| 1604|\n",
      "|     2| 7742|\n",
      "|     1|11294|\n",
      "+------+-----+\n",
      "\n"
     ]
    }
   ],
   "source": [
    "df.groupby('Region').count().show()"
   ]
  },
  {
   "cell_type": "markdown",
   "id": "6e7ba076-47eb-4fdc-be1d-cc47a51fd52d",
   "metadata": {},
   "source": [
    "Our simple transformer appears to be working with our data.\n",
    "\n",
    "## Using our Transformer in a Pipeline\n",
    "\n",
    "The strength of writing our own Transformers comes when applying them within a machine learning pipeline. Here we'll now incorporate the class we wrote above into a pipeline for modelling our data."
   ]
  },
  {
   "cell_type": "code",
   "execution_count": 12,
   "id": "c47c8c9f-4178-490d-8995-4df8019f9858",
   "metadata": {},
   "outputs": [],
   "source": [
    "# split the data into training and test sets\n",
    "n_count = df.count()\n",
    "dfTrain = df.limit(int(n_count*0.8))\n",
    "dfTest  = df.subtract(dfTrain)"
   ]
  },
  {
   "cell_type": "code",
   "execution_count": 13,
   "id": "bb3aa9dd-26c5-4d3b-9d8e-904992da25f5",
   "metadata": {},
   "outputs": [],
   "source": [
    "# define the pipeline\n",
    "cols = dfTrain.columns\n",
    "cols.remove('MedHouseVal')\n",
    "cols.remove('Latitude')\n",
    "cols.remove('Longitude')\n",
    "pipeline = Pipeline(stages=[\n",
    "    AssignRegion(inputCols=['Latitude','Longitude'], outputCol='Region'),\n",
    "    VectorAssembler(inputCols = cols, outputCol=\"Features\"),\n",
    "    DecisionTreeRegressor(featuresCol = 'Features', labelCol = 'MedHouseVal', maxDepth = 5)\n",
    "])"
   ]
  },
  {
   "cell_type": "code",
   "execution_count": 14,
   "id": "1bcf41ae-abbf-40cf-8f48-f566786565a7",
   "metadata": {},
   "outputs": [],
   "source": [
    "# train the pipeline\n",
    "model = pipeline.fit(dfTrain)"
   ]
  },
  {
   "cell_type": "code",
   "execution_count": 15,
   "id": "98d9533a-3172-4a1c-8f84-0b55b050fce7",
   "metadata": {},
   "outputs": [],
   "source": [
    "# make predictions on the test set\n",
    "dfPred = model.transform(dfTest)"
   ]
  },
  {
   "cell_type": "code",
   "execution_count": 16,
   "id": "72a25c30-deb7-4d39-a3f9-01ebfb1bc43c",
   "metadata": {},
   "outputs": [
    {
     "name": "stdout",
     "output_type": "stream",
     "text": [
      "+-----------+------------------+\n",
      "|MedHouseVal|        prediction|\n",
      "+-----------+------------------+\n",
      "|      3.619|2.6983262462462463|\n",
      "|      1.294| 1.201572023330652|\n",
      "|      1.316|1.8120041983795725|\n",
      "|        1.5| 1.919721346153846|\n",
      "|      1.906|1.5383615362318832|\n",
      "+-----------+------------------+\n",
      "only showing top 5 rows\n",
      "\n"
     ]
    }
   ],
   "source": [
    "dfPred.select(\"MedHouseVal\",\"prediction\").show(5)"
   ]
  },
  {
   "cell_type": "code",
   "execution_count": 17,
   "id": "4ca93aac-1e6c-4be1-b591-1d331ac66fa4",
   "metadata": {},
   "outputs": [
    {
     "name": "stdout",
     "output_type": "stream",
     "text": [
      "+------------------+\n",
      "|               MSE|\n",
      "+------------------+\n",
      "|0.5813261692227581|\n",
      "+------------------+\n",
      "\n"
     ]
    }
   ],
   "source": [
    "n_samples = dfPred.count()\n",
    "dfPred.select( (1/n_samples * F.sum(F.pow(F.col(\"MedHouseVal\") - F.col(\"prediction\"),2))).alias(\"MSE\") ).show()"
   ]
  },
  {
   "cell_type": "markdown",
   "id": "cc626de1-a462-4b83-a8be-cbe36aaac592",
   "metadata": {},
   "source": [
    "It is evident that the pipeline model is working as expected. \n",
    "\n",
    "Another nice benefit of pipelines is that we can save our entire workflow, for use at a later time. To save our current pipeline:"
   ]
  },
  {
   "cell_type": "code",
   "execution_count": 18,
   "id": "78fe21bd-da55-42d9-aba9-99118616017e",
   "metadata": {},
   "outputs": [],
   "source": [
    "# write the trained model to disk\n",
    "model.write().overwrite().save(\"./trained_pipeline\")"
   ]
  },
  {
   "cell_type": "code",
   "execution_count": 19,
   "id": "c9bbc618-bd94-4e86-a851-97d9719d8e89",
   "metadata": {},
   "outputs": [],
   "source": [
    "# load the saved model, and confirm it works\n",
    "model2 = PipelineModel.load(\"./trained_pipeline\")"
   ]
  },
  {
   "cell_type": "code",
   "execution_count": 20,
   "id": "b0870b72-e6ec-4ce6-b3f5-278d33cdd96d",
   "metadata": {},
   "outputs": [
    {
     "name": "stdout",
     "output_type": "stream",
     "text": [
      "+-----------+------------------+\n",
      "|MedHouseVal|        prediction|\n",
      "+-----------+------------------+\n",
      "|      3.619|2.6983262462462463|\n",
      "|      1.294| 1.201572023330652|\n",
      "|      1.316|1.8120041983795725|\n",
      "|        1.5| 1.919721346153846|\n",
      "|      1.906|1.5383615362318832|\n",
      "+-----------+------------------+\n",
      "only showing top 5 rows\n",
      "\n"
     ]
    }
   ],
   "source": [
    "dfPred = model2.transform(dfTest)\n",
    "dfPred.select(\"MedHouseVal\",\"prediction\").show(5)"
   ]
  },
  {
   "cell_type": "markdown",
   "id": "7128e3da-33ce-43f1-b95d-6eb9469f8f35",
   "metadata": {},
   "source": [
    "This result is exactly the same as that obtained above."
   ]
  },
  {
   "cell_type": "code",
   "execution_count": 21,
   "id": "b1d00922-9217-4799-a9a3-d6beb1e8e4c5",
   "metadata": {},
   "outputs": [],
   "source": [
    "spark.stop()"
   ]
  },
  {
   "cell_type": "code",
   "execution_count": null,
   "id": "036edc6b-aa10-47c8-ba2b-405669d3fd77",
   "metadata": {},
   "outputs": [],
   "source": []
  }
 ],
 "metadata": {
  "kernelspec": {
   "display_name": "Python 3 (ipykernel)",
   "language": "python",
   "name": "python3"
  },
  "language_info": {
   "codemirror_mode": {
    "name": "ipython",
    "version": 3
   },
   "file_extension": ".py",
   "mimetype": "text/x-python",
   "name": "python",
   "nbconvert_exporter": "python",
   "pygments_lexer": "ipython3",
   "version": "3.9.18"
  }
 },
 "nbformat": 4,
 "nbformat_minor": 5
}
