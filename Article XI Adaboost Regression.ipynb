{
 "cells": [
  {
   "cell_type": "markdown",
   "id": "6121d7d4",
   "metadata": {},
   "source": [
    "# Adaboost Regression\n",
    "\n",
    "In this notebook, I will work through the implementation of a Adaboost regressor. Specifically, the algorithm implemented will be Adaboost.R2 (see Drucker 1997). I will use the california housing dataset to test this code."
   ]
  },
  {
   "cell_type": "code",
   "execution_count": 1,
   "id": "8cf5a332",
   "metadata": {},
   "outputs": [],
   "source": [
    "## imports ##\n",
    "import numpy as np\n",
    "import pandas as pd\n",
    "import seaborn as sn \n",
    "from typing import Dict, Any, List, Tuple\n",
    "from sklearn.base import clone\n",
    "import matplotlib.pyplot as plt\n",
    "from sklearn.datasets import load_diabetes\n",
    "from sklearn.model_selection import cross_validate\n",
    "from sklearn.tree import DecisionTreeRegressor\n",
    "from sklearn.metrics import mean_squared_error,mean_absolute_error,make_scorer\n",
    "from sklearn.ensemble import RandomForestRegressor"
   ]
  },
  {
   "cell_type": "markdown",
   "id": "9fe2c682",
   "metadata": {},
   "source": [
    "Let's now create a class that will encapsulate the Adaboost algorithm:"
   ]
  },
  {
   "cell_type": "code",
   "execution_count": 2,
   "id": "6a80fc78",
   "metadata": {},
   "outputs": [],
   "source": [
    "## adaboost regressor ##\n",
    "class AdaBoostRegressor(object):\n",
    "    #initialiser\n",
    "    def __init__(self, \n",
    "                 weak_learner : Any, \n",
    "                 n_elements : int = 100, \n",
    "                 loss : str = 'linear') -> None:\n",
    "        self.weak_learner    = weak_learner\n",
    "        self.n_elements      = n_elements\n",
    "        self.loss_type       = loss\n",
    "        self.f               = []\n",
    "        self.model_weights   = []\n",
    "        self.mean_loss       = []\n",
    "        \n",
    "    #destructor\n",
    "    def __del__(self) -> None:\n",
    "        del self.weak_learner\n",
    "        del self.n_elements\n",
    "        del self.loss_type\n",
    "        del self.f\n",
    "        del self.model_weights\n",
    "        del self.mean_loss\n",
    "       \n",
    "    #private linear loss function\n",
    "    def __linear_loss(self,y_pred : np.array, y_train : np.array) -> np.array:\n",
    "        #compute the square loss function\n",
    "        loss = np.abs(y_pred - y_train)\n",
    "        loss /= np.max(loss)\n",
    "        #return computed loss\n",
    "        return(loss)\n",
    "    \n",
    "    #private square loss function\n",
    "    def __square_loss(self,y_pred : np.array, y_train : np.array) -> np.array:\n",
    "        #compute the square loss function\n",
    "        loss = np.abs(y_pred - y_train)\n",
    "        loss = np.power(loss/np.max(loss),2)\n",
    "        #return computed loss\n",
    "        return(loss)    \n",
    "    \n",
    "    #private exponential loss function\n",
    "    def __exponential_loss(self,y_pred : np.array, y_train : np.array) -> np.array:\n",
    "        #compute the square loss function\n",
    "        loss = np.abs(y_pred - y_train)\n",
    "        loss = 1 - np.exp(-loss/np.max(loss))\n",
    "        #return computed loss\n",
    "        return(loss)    \n",
    "    \n",
    "    #private loss function\n",
    "    def __compute_loss(self,y_pred : np.array, y_train : np.array) -> np.array:\n",
    "        #select correct loss function\n",
    "        if self.loss_type == 'linear':\n",
    "            loss = self.__linear_loss(y_pred,y_train)\n",
    "        elif self.loss_type == 'square':\n",
    "            loss = self.__square_loss(y_pred,y_train)\n",
    "        elif self.loss_type == 'exponential':\n",
    "            loss = self.__exponential_loss(y_pred,y_train)\n",
    "        else:\n",
    "            raise ValueError('Incorrect loss type entered, must be linear, square, or exponential')\n",
    "        #return computed loss\n",
    "        return(loss)\n",
    "    \n",
    "    #private function to compute model weights\n",
    "    def __compute_beta(self, p : np.array, loss : np.array) -> Tuple[float,float]:\n",
    "        #compute the mean loss\n",
    "        mean_loss = np.sum(np.multiply(loss,p))\n",
    "        #calculate beta\n",
    "        beta = mean_loss/(1-mean_loss)\n",
    "        #store model weights & mean loss\n",
    "        self.model_weights.append(np.log(1.0/beta))\n",
    "        self.mean_loss.append(mean_loss)\n",
    "        #return computed beta & mean loss\n",
    "        return(beta,mean_loss)\n",
    "\n",
    "    #private function to compute weighted median\n",
    "    def __weighted_median(self, y_samp : np.array) -> np.array:\n",
    "        #sort sample predictions column-wise\n",
    "        samp_idx = np.argsort(y_samp,axis=0)\n",
    "        sorted_y = y_samp[samp_idx.T]\n",
    "        sorted_y = np.array([sorted_y[i,:,i] for i in range(sorted_y.shape[0])]).T\n",
    "        #sort the model weights according to samp_idx\n",
    "        sorted_mw = np.array(self.model_weights)[samp_idx]\n",
    "        #do cumulative summation on columns\n",
    "        cumsum_mw = np.cumsum(sorted_mw,axis=0)\n",
    "        #solve inequality\n",
    "        pred_idx = cumsum_mw >= 0.5*cumsum_mw[-1,:]\n",
    "        pred_idx = pred_idx.argmax(axis=0)\n",
    "        #return weighted medians\n",
    "        return(sorted_y[pred_idx].diagonal())\n",
    "    \n",
    "    #public function to train the ensemble\n",
    "    def fit(self, X_train : np.array, y_train : np.array) -> None:\n",
    "        #initialise sample weights, model weights, mean loss, & model array\n",
    "        w                  = np.ones((y_train.shape[0]))\n",
    "        self.f             = []\n",
    "        self.model_weights = []\n",
    "        self.mean_loss     = []\n",
    "        #loop through the specified number of iterations in the ensemble\n",
    "        for _ in range(self.n_elements):\n",
    "            #make a copy of the weak learner\n",
    "            model = clone(self.weak_learner)\n",
    "            #calculate probabilities for each sample\n",
    "            p = w/np.sum(w)\n",
    "            #sample training set according to p\n",
    "            idx = np.random.choice(y_train.shape[0],y_train.shape[0],replace=True,p=p)\n",
    "            X = X_train[idx]\n",
    "            y = y_train[idx]\n",
    "            #fit the current weak learner on the boostrapped dataset\n",
    "            model.fit(X,y)\n",
    "            #obtain predictions from the current weak learner on the entire dataset\n",
    "            y_pred = model.predict(X_train)\n",
    "            #compute the loss\n",
    "            loss = self.__compute_loss(y_pred,y_train)\n",
    "            #compute the adaptive weight\n",
    "            beta,mean_loss = self.__compute_beta(p,loss)\n",
    "            #check our mean loss\n",
    "            if mean_loss >= 0.5:\n",
    "                break\n",
    "            #update sample weights\n",
    "            w *= np.power(beta,1-loss)\n",
    "            #append resulting model\n",
    "            self.f.append(model)\n",
    "    \n",
    "    #public function to return mean training loss\n",
    "    def get_loss(self) -> List:\n",
    "        return(self.mean_loss)\n",
    " \n",
    "    #public function to return model parameters\n",
    "    def get_params(self, deep : bool = False) -> Dict:\n",
    "        return {'weak_learner':self.weak_learner,\n",
    "                'n_elements':self.n_elements,\n",
    "                'loss':self.loss_type}\n",
    "\n",
    "    #public function to generate predictions\n",
    "    def predict(self, X_test : np.array) -> np.array:\n",
    "        #obtain sample predictions for each memeber of the ensemble\n",
    "        y_samp = np.array([model.predict(X_test) for model in self.f])\n",
    "        #do weighted median over the samples\n",
    "        y_pred = self.__weighted_median(y_samp)\n",
    "        #return predictions\n",
    "        return(y_pred)"
   ]
  },
  {
   "cell_type": "markdown",
   "id": "7b462b04",
   "metadata": {},
   "source": [
    "## Adaboost Regression\n",
    "\n",
    "### Load Regression Dataset and Data Exploration\n",
    "\n",
    "Here I'll load the diabetes dataset, available from scikit-learn. Let's proceed with this step, and follow up with some exploration of these data:"
   ]
  },
  {
   "cell_type": "code",
   "execution_count": 3,
   "id": "05b26b22",
   "metadata": {},
   "outputs": [],
   "source": [
    "## load regression dataset ##\n",
    "dfX,sy = load_diabetes(return_X_y=True,as_frame=True)"
   ]
  },
  {
   "cell_type": "code",
   "execution_count": 4,
   "id": "21ccf9fb",
   "metadata": {},
   "outputs": [
    {
     "data": {
      "text/html": [
       "<div>\n",
       "<style scoped>\n",
       "    .dataframe tbody tr th:only-of-type {\n",
       "        vertical-align: middle;\n",
       "    }\n",
       "\n",
       "    .dataframe tbody tr th {\n",
       "        vertical-align: top;\n",
       "    }\n",
       "\n",
       "    .dataframe thead th {\n",
       "        text-align: right;\n",
       "    }\n",
       "</style>\n",
       "<table border=\"1\" class=\"dataframe\">\n",
       "  <thead>\n",
       "    <tr style=\"text-align: right;\">\n",
       "      <th></th>\n",
       "      <th>age</th>\n",
       "      <th>sex</th>\n",
       "      <th>bmi</th>\n",
       "      <th>bp</th>\n",
       "      <th>s1</th>\n",
       "      <th>s2</th>\n",
       "      <th>s3</th>\n",
       "      <th>s4</th>\n",
       "      <th>s5</th>\n",
       "      <th>s6</th>\n",
       "    </tr>\n",
       "  </thead>\n",
       "  <tbody>\n",
       "    <tr>\n",
       "      <th>0</th>\n",
       "      <td>0.038076</td>\n",
       "      <td>0.050680</td>\n",
       "      <td>0.061696</td>\n",
       "      <td>0.021872</td>\n",
       "      <td>-0.044223</td>\n",
       "      <td>-0.034821</td>\n",
       "      <td>-0.043401</td>\n",
       "      <td>-0.002592</td>\n",
       "      <td>0.019908</td>\n",
       "      <td>-0.017646</td>\n",
       "    </tr>\n",
       "    <tr>\n",
       "      <th>1</th>\n",
       "      <td>-0.001882</td>\n",
       "      <td>-0.044642</td>\n",
       "      <td>-0.051474</td>\n",
       "      <td>-0.026328</td>\n",
       "      <td>-0.008449</td>\n",
       "      <td>-0.019163</td>\n",
       "      <td>0.074412</td>\n",
       "      <td>-0.039493</td>\n",
       "      <td>-0.068330</td>\n",
       "      <td>-0.092204</td>\n",
       "    </tr>\n",
       "    <tr>\n",
       "      <th>2</th>\n",
       "      <td>0.085299</td>\n",
       "      <td>0.050680</td>\n",
       "      <td>0.044451</td>\n",
       "      <td>-0.005671</td>\n",
       "      <td>-0.045599</td>\n",
       "      <td>-0.034194</td>\n",
       "      <td>-0.032356</td>\n",
       "      <td>-0.002592</td>\n",
       "      <td>0.002864</td>\n",
       "      <td>-0.025930</td>\n",
       "    </tr>\n",
       "    <tr>\n",
       "      <th>3</th>\n",
       "      <td>-0.089063</td>\n",
       "      <td>-0.044642</td>\n",
       "      <td>-0.011595</td>\n",
       "      <td>-0.036656</td>\n",
       "      <td>0.012191</td>\n",
       "      <td>0.024991</td>\n",
       "      <td>-0.036038</td>\n",
       "      <td>0.034309</td>\n",
       "      <td>0.022692</td>\n",
       "      <td>-0.009362</td>\n",
       "    </tr>\n",
       "    <tr>\n",
       "      <th>4</th>\n",
       "      <td>0.005383</td>\n",
       "      <td>-0.044642</td>\n",
       "      <td>-0.036385</td>\n",
       "      <td>0.021872</td>\n",
       "      <td>0.003935</td>\n",
       "      <td>0.015596</td>\n",
       "      <td>0.008142</td>\n",
       "      <td>-0.002592</td>\n",
       "      <td>-0.031991</td>\n",
       "      <td>-0.046641</td>\n",
       "    </tr>\n",
       "  </tbody>\n",
       "</table>\n",
       "</div>"
      ],
      "text/plain": [
       "        age       sex       bmi        bp        s1        s2        s3  \\\n",
       "0  0.038076  0.050680  0.061696  0.021872 -0.044223 -0.034821 -0.043401   \n",
       "1 -0.001882 -0.044642 -0.051474 -0.026328 -0.008449 -0.019163  0.074412   \n",
       "2  0.085299  0.050680  0.044451 -0.005671 -0.045599 -0.034194 -0.032356   \n",
       "3 -0.089063 -0.044642 -0.011595 -0.036656  0.012191  0.024991 -0.036038   \n",
       "4  0.005383 -0.044642 -0.036385  0.021872  0.003935  0.015596  0.008142   \n",
       "\n",
       "         s4        s5        s6  \n",
       "0 -0.002592  0.019908 -0.017646  \n",
       "1 -0.039493 -0.068330 -0.092204  \n",
       "2 -0.002592  0.002864 -0.025930  \n",
       "3  0.034309  0.022692 -0.009362  \n",
       "4 -0.002592 -0.031991 -0.046641  "
      ]
     },
     "execution_count": 4,
     "metadata": {},
     "output_type": "execute_result"
    }
   ],
   "source": [
    "## initial view of predictors ##\n",
    "dfX.head(5)"
   ]
  },
  {
   "cell_type": "code",
   "execution_count": 5,
   "id": "763338df",
   "metadata": {},
   "outputs": [
    {
     "data": {
      "text/plain": [
       "0    151.0\n",
       "1     75.0\n",
       "2    141.0\n",
       "3    206.0\n",
       "4    135.0\n",
       "Name: target, dtype: float64"
      ]
     },
     "execution_count": 5,
     "metadata": {},
     "output_type": "execute_result"
    }
   ],
   "source": [
    "## initial view of targets ##\n",
    "sy.head(5)"
   ]
  },
  {
   "cell_type": "markdown",
   "id": "05a65301",
   "metadata": {},
   "source": [
    "A full description of this dataset is available here: https://scikit-learn.org/stable/datasets/toy_dataset.html#diabetes-dataset. The features in the predictor dataframe are as follows:\n",
    "\n",
    "* **age** age in years\n",
    "* **sex**\n",
    "* **bmi** body mass index\n",
    "* **bp** average blood pressure\n",
    "* **s1** tc, total serum cholesterol\n",
    "* **s2** ldl, low-density lipoproteins\n",
    "* **s3** hdl, high-density lipoproteins\n",
    "* **s4** tch, total cholesterol / HDL\n",
    "* **s5** ltg, possibly log of serum triglycerides level\n",
    "* **s6** glu, blood sugar level\n",
    "\n",
    "The target is a quantitative measure of disease progression one year after baseline.\n",
    "\n",
    "Let's make some plots to illustrate the distributions in the available data:"
   ]
  },
  {
   "cell_type": "code",
   "execution_count": 6,
   "id": "43ac75e3",
   "metadata": {},
   "outputs": [
    {
     "data": {
      "image/png": "[encoded data removed]",
      "text/plain": [
       "<Figure size 1080x720 with 12 Axes>"
      ]
     },
     "metadata": {
      "needs_background": "light"
     },
     "output_type": "display_data"
    }
   ],
   "source": [
    "## histogram plot of predictors & targets ##\n",
    "df = dfX.copy()\n",
    "df['Target'] = sy\n",
    "df.hist(bins=30,figsize=(15,10))\n",
    "plt.show()"
   ]
  },
  {
   "cell_type": "code",
   "execution_count": 7,
   "id": "2bba5e82",
   "metadata": {},
   "outputs": [
    {
     "data": {
      "image/png": "[encoded data removed]",
      "text/plain": [
       "<Figure size 1080x720 with 1 Axes>"
      ]
     },
     "metadata": {
      "needs_background": "light"
     },
     "output_type": "display_data"
    }
   ],
   "source": [
    "## boxplot of predictors ##\n",
    "df.boxplot(column=dfX.columns.values.tolist(),figsize=(15,10))\n",
    "plt.show()"
   ]
  },
  {
   "cell_type": "markdown",
   "id": "a1cdabae",
   "metadata": {},
   "source": [
    "The features follow various different distributions, and many show the presence of outliers. Outliers are apparent for bmi, s1, s2, s3, s4, s5, and s6. Note that the predictors have already been mean centered and scaled by the standard deviation such that the sum of squares equals 1.\n",
    "\n",
    "To what degree are these features correlated? Let's take a look using the Pearson correlation:"
   ]
  },
  {
   "cell_type": "code",
   "execution_count": 8,
   "id": "c747fe19",
   "metadata": {},
   "outputs": [
    {
     "data": {
      "image/png": "[encoded data removed]",
      "text/plain": [
       "<Figure size 576x576 with 2 Axes>"
      ]
     },
     "metadata": {
      "needs_background": "light"
     },
     "output_type": "display_data"
    }
   ],
   "source": [
    "## plot the pearson correlation for our data ##\n",
    "fig, ax = plt.subplots(figsize = (8, 8)) \n",
    "dfCorr  = df.corr() \n",
    "sn.heatmap(dfCorr) \n",
    "plt.show()"
   ]
  },
  {
   "cell_type": "markdown",
   "id": "847246c3",
   "metadata": {},
   "source": [
    "The heatmap indicates some interesting points: \n",
    "\n",
    "* s3 appears to be consistently anti-correlated with all other features + Target \n",
    "* s1 & s2 appear to be highly correlated\n",
    "* The Target does not appear to be strongly correlated/anti-correlated with any single feature over the others\n",
    "\n",
    "### Investigate Training Loss\n",
    "\n",
    "At this stage, I want to look at how the training loss evolves as weak learners are added to the ensemble. The training loss has an odd shape, since we divide by the supremum. As we iterate through he ensemble, it is expected that the loss should start off near 0.0 and progress towards 0.5. At a loss of 0.5, the update rule for the sample weights no longer works, and as such training stops. The loss is expected to evolve this way since with each successive weak learner, the difference between the supremum and $abs(y^{pred}_i - y^{true}_i)$, for all $i$, should shrink. \n",
    "\n",
    "I will start with initialising the weak learner, which will be a regression decision stump:"
   ]
  },
  {
   "cell_type": "code",
   "execution_count": 9,
   "id": "f2d8dd86",
   "metadata": {},
   "outputs": [],
   "source": [
    "## initialize a weak learner ##\n",
    "weak_m = DecisionTreeRegressor(max_depth=1)"
   ]
  },
  {
   "cell_type": "markdown",
   "id": "b63d5529",
   "metadata": {},
   "source": [
    "I will train the model on the raw data features, since decision trees typically require little feature engineering:"
   ]
  },
  {
   "cell_type": "code",
   "execution_count": 10,
   "id": "1583bb4d",
   "metadata": {},
   "outputs": [],
   "source": [
    "## train the adaboost classifier ##\n",
    "rgr = AdaBoostRegressor(weak_learner=weak_m, loss='linear')\n",
    "rgr.fit(dfX.values,sy.values)"
   ]
  },
  {
   "cell_type": "code",
   "execution_count": 11,
   "id": "74d1add6",
   "metadata": {},
   "outputs": [],
   "source": [
    "## get linear loss ##\n",
    "linear_loss = rgr.get_loss()"
   ]
  },
  {
   "cell_type": "code",
   "execution_count": 12,
   "id": "211ba7cf",
   "metadata": {},
   "outputs": [],
   "source": [
    "## train the adaboost classifier ##\n",
    "rgr = AdaBoostRegressor(weak_learner=weak_m, loss='square')\n",
    "rgr.fit(dfX.values,sy.values)"
   ]
  },
  {
   "cell_type": "code",
   "execution_count": 13,
   "id": "6570ecf5",
   "metadata": {},
   "outputs": [],
   "source": [
    "## get square loss ##\n",
    "square_loss = rgr.get_loss()"
   ]
  },
  {
   "cell_type": "code",
   "execution_count": 14,
   "id": "fe7ddf68",
   "metadata": {},
   "outputs": [],
   "source": [
    "## train the adaboost classifier ##\n",
    "rgr = AdaBoostRegressor(weak_learner=weak_m, loss='exponential')\n",
    "rgr.fit(dfX.values,sy.values)"
   ]
  },
  {
   "cell_type": "code",
   "execution_count": 15,
   "id": "109ed74a",
   "metadata": {},
   "outputs": [],
   "source": [
    "## get exponential loss ##\n",
    "exp_loss = rgr.get_loss()"
   ]
  },
  {
   "cell_type": "code",
   "execution_count": 16,
   "id": "fb9f2d7a",
   "metadata": {},
   "outputs": [
    {
     "data": {
      "image/png": "[encoded data removed]",
      "text/plain": [
       "<Figure size 432x288 with 1 Axes>"
      ]
     },
     "metadata": {
      "needs_background": "light"
     },
     "output_type": "display_data"
    }
   ],
   "source": [
    "## plot the training loss ##\n",
    "plt.plot(linear_loss,label='linear')\n",
    "plt.plot(square_loss,label='square')\n",
    "plt.plot(exp_loss,label='exponential')\n",
    "plt.title('Training Loss by Boosting Iteration')\n",
    "plt.xlabel('Number of Component Trees')\n",
    "plt.ylabel('Loss')\n",
    "plt.legend()\n",
    "plt.show()"
   ]
  },
  {
   "cell_type": "markdown",
   "id": "106cbbc2",
   "metadata": {},
   "source": [
    "The linear and square loss functions terminate at around 20 and 40 weak learners, respectively. It is at this point  where the loss reaches 0.5 from an initial low value. The exponential loss does not reach 0.5, for the default number of weak learners in our Adaboost implementation (100). As such, training does not terminate early when using this loss function.\n",
    "\n",
    "Regardless of the choice of loss function, the implementation appears to be functioning as we would expect. The loss starts at a low value, and proceeds towards 0.5 as more weak learner models are added to the ensemble. Once the loss reaches 0.5, training is terminated.\n",
    "\n",
    "### Investigate Performance\n",
    "\n",
    "**Note**: rerunning these cells will show some fluctuation in the results\n",
    "\n",
    "Here I will use 10-fold cross-validation to measure the performance of the Adaboost regressor. I will use the linear loss, and set the maximum number of elements to 20:"
   ]
  },
  {
   "cell_type": "code",
   "execution_count": 17,
   "id": "94b7bea5",
   "metadata": {},
   "outputs": [],
   "source": [
    "## define the scoring metrics ##\n",
    "scoring_metrics = {'mse' : make_scorer(mean_squared_error), \n",
    "                   'mae': make_scorer(mean_absolute_error)}"
   ]
  },
  {
   "cell_type": "code",
   "execution_count": 18,
   "id": "b58c06e1",
   "metadata": {},
   "outputs": [
    {
     "name": "stdout",
     "output_type": "stream",
     "text": [
      "Mean MSE: 3725.16\n",
      "Mean MAE: 51.34\n"
     ]
    }
   ],
   "source": [
    "## perform cross-validation for linear loss & n_elements = 20 ##\n",
    "#define the model\n",
    "rgr = AdaBoostRegressor(weak_learner=weak_m, loss='linear', n_elements=20)\n",
    "#cross validate\n",
    "dcScores = cross_validate(rgr,dfX.values,sy.values,cv=10,scoring=scoring_metrics)\n",
    "#report results\n",
    "print('Mean MSE: %.2f' % np.mean(dcScores['test_mse']))\n",
    "print('Mean MAE: %.2f' % np.mean(dcScores['test_mae']))"
   ]
  },
  {
   "cell_type": "markdown",
   "id": "ff32f580",
   "metadata": {},
   "source": [
    "We can compare these results with the Adaboost regressor available from scikit-learn:"
   ]
  },
  {
   "cell_type": "code",
   "execution_count": 19,
   "id": "8878e413",
   "metadata": {},
   "outputs": [],
   "source": [
    "## import adaboost regressor from scikit-learn ##\n",
    "from sklearn.ensemble import AdaBoostRegressor"
   ]
  },
  {
   "cell_type": "code",
   "execution_count": 20,
   "id": "f1091d73",
   "metadata": {},
   "outputs": [
    {
     "name": "stdout",
     "output_type": "stream",
     "text": [
      "Mean MSE: 3826.99\n",
      "Mean MAE: 52.50\n"
     ]
    }
   ],
   "source": [
    "## perform cross-validation for linear loss & n_elements=20 ##\n",
    "#define the model\n",
    "rgr = AdaBoostRegressor(base_estimator=weak_m, loss='linear', n_estimators=20)\n",
    "#cross validate\n",
    "dcScores = cross_validate(rgr,dfX.values,sy.values,cv=10,scoring=scoring_metrics)\n",
    "#report results\n",
    "print('Mean MSE: %.2f' % np.mean(dcScores['test_mse']))\n",
    "print('Mean MAE: %.2f' % np.mean(dcScores['test_mae']))"
   ]
  },
  {
   "cell_type": "markdown",
   "id": "d84e8dcd",
   "metadata": {},
   "source": [
    "We can see there is a small difference between the two Adaboost models. Note both Adaboost regressors are based on the same R2 algorithm.\n",
    "\n",
    "Now let's compare our results with a lone weak learner, and a Random Forest Regressor with 20 constituent weak learners:"
   ]
  },
  {
   "cell_type": "code",
   "execution_count": 21,
   "id": "180db7b2",
   "metadata": {},
   "outputs": [
    {
     "name": "stdout",
     "output_type": "stream",
     "text": [
      "Mean MSE: 4751.55\n",
      "Mean MAE: 56.68\n"
     ]
    }
   ],
   "source": [
    "#cross validate\n",
    "dcScores = cross_validate(weak_m,dfX.values,sy.values,cv=10,scoring=scoring_metrics)\n",
    "#report results\n",
    "print('Mean MSE: %.2f' % np.mean(dcScores['test_mse']))\n",
    "print('Mean MAE: %.2f' % np.mean(dcScores['test_mae']))"
   ]
  },
  {
   "cell_type": "code",
   "execution_count": 22,
   "id": "2461f738",
   "metadata": {},
   "outputs": [
    {
     "name": "stdout",
     "output_type": "stream",
     "text": [
      "Mean MSE: 3652.78\n",
      "Mean MAE: 48.87\n"
     ]
    }
   ],
   "source": [
    "## perform cross-validation for n_elements=20 ##\n",
    "#define the model\n",
    "rgr = RandomForestRegressor(n_estimators=20)\n",
    "#cross validate\n",
    "dcScores = cross_validate(rgr,dfX.values,sy.values,cv=10,scoring=scoring_metrics)\n",
    "#report results\n",
    "print('Mean MSE: %.2f' % np.mean(dcScores['test_mse']))\n",
    "print('Mean MAE: %.2f' % np.mean(dcScores['test_mae']))"
   ]
  },
  {
   "cell_type": "markdown",
   "id": "b4cb55c8",
   "metadata": {},
   "source": [
    "Model | Number of Elements | MSE | MAE \n",
    "--- | --- | --- | ---\n",
    "Custom Adaboost | 20 | 3725.16 | 51.34\n",
    "Scikit-learn Adaboost | 20 | 3826.99 | 52.50\n",
    "Decision Stump | NA | 4751.55 | 56.68\n",
    "Scikit-Learn Random Forest | 20 | 3652.78 | 48.87\n",
    "\n",
    "The Random Forest Regressor yields the best overall results from this comparison. Our Custom Adaboost implementation produces slightly better results than the Scikit-Learn version, however this is likely due to chance and re-running these cells could result in a different conclusion. The lone Decision Tree Regressor shows the worst overall performance. \n",
    "\n",
    "The fact that Random Forest outperforms Adaboost, in this case, is likely due to the data available for this problem and the constituent models being used for each ensemble. Remember that boosting is meant to tackle bias, whereas Random Forest aims at reducing variance. For this example, it appears that placing a focus on treating variance yields better results. "
   ]
  },
  {
   "cell_type": "code",
   "execution_count": null,
   "id": "42634dd0",
   "metadata": {},
   "outputs": [],
   "source": []
  }
 ],
 "metadata": {
  "kernelspec": {
   "display_name": "Python 3",
   "language": "python",
   "name": "python3"
  },
  "language_info": {
   "codemirror_mode": {
    "name": "ipython",
    "version": 3
   },
   "file_extension": ".py",
   "mimetype": "text/x-python",
   "name": "python",
   "nbconvert_exporter": "python",
   "pygments_lexer": "ipython3",
   "version": "3.6.12"
  }
 },
 "nbformat": 4,
 "nbformat_minor": 5
}
