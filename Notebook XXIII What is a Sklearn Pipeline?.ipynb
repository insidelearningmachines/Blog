{
 "cells": [
  {
   "cell_type": "markdown",
   "id": "cb763456",
   "metadata": {},
   "source": [
    "# What is a Sklearn Pipeline? 2 Examples in Python\n",
    "\n",
    "In this notebook, I will cover scikit-learn pipelines. The purpose of this notebook is to illustrate why it is a good idea to include pipelines in a machine learning project, and how you can do so.\n",
    "\n",
    "Pipelines provide a means by which data-processing code can be organised in a project. These consist of a sequential list of transformers, with an estimator at the end of the sequence. Each transformer must include 'fit' and 'transform' methods, whereas the final estimator only needs a 'fit' method."
   ]
  },
  {
   "cell_type": "code",
   "execution_count": 1,
   "id": "d5015620",
   "metadata": {},
   "outputs": [],
   "source": [
    "# imports\n",
    "import numpy as np\n",
    "import pandas as pd\n",
    "import matplotlib.pyplot as plt\n",
    "from sklearn.base import BaseEstimator, TransformerMixin\n",
    "from sklearn.preprocessing import StandardScaler\n",
    "from sklearn.datasets import make_classification\n",
    "from sklearn.model_selection import train_test_split\n",
    "from sklearn.pipeline import Pipeline\n",
    "from sklearn.linear_model import LogisticRegression\n",
    "from sklearn.decomposition import PCA\n",
    "from sklearn.metrics import (accuracy_score, \n",
    "                             precision_score, \n",
    "                             recall_score, \n",
    "                             f1_score, \n",
    "                             confusion_matrix, \n",
    "                             ConfusionMatrixDisplay)"
   ]
  },
  {
   "cell_type": "markdown",
   "id": "c956d13b",
   "metadata": {},
   "source": [
    "## Example 1\n",
    "\n",
    "Let's construct a simple dataset we can make use of, and then apply a series of transformers to the data with a final estimator."
   ]
  },
  {
   "cell_type": "code",
   "execution_count": 2,
   "id": "708b30bb",
   "metadata": {},
   "outputs": [],
   "source": [
    "# build a toy dataset with numeric predictor features\n",
    "X,y = make_classification(n_samples=10000, \n",
    "                          n_features=20, \n",
    "                          n_informative=10, \n",
    "                          n_redundant=5, \n",
    "                          shift=10, \n",
    "                          scale=5, \n",
    "                          random_state=42)"
   ]
  },
  {
   "cell_type": "code",
   "execution_count": 3,
   "id": "fac2485c",
   "metadata": {},
   "outputs": [],
   "source": [
    "# do train-test split\n",
    "X_train, X_test, y_train, y_test = train_test_split(X, y, test_size=0.2, random_state=42)"
   ]
  },
  {
   "cell_type": "code",
   "execution_count": 4,
   "id": "24e15cee",
   "metadata": {},
   "outputs": [],
   "source": [
    "# assemble a pipeline\n",
    "pipe = Pipeline(steps=[('scaler', StandardScaler()), \n",
    "                       ('pca', PCA(n_components=10)), \n",
    "                       ('lr', LogisticRegression())])"
   ]
  },
  {
   "cell_type": "code",
   "execution_count": 5,
   "id": "d4a30ee9",
   "metadata": {},
   "outputs": [],
   "source": [
    "# train the pipeline and test the result\n",
    "pipe.fit(X_train, y_train)\n",
    "# produce predictions\n",
    "y_pred = pipe.predict(X_test)"
   ]
  },
  {
   "cell_type": "code",
   "execution_count": 6,
   "id": "a8d4bb47",
   "metadata": {},
   "outputs": [
    {
     "name": "stdout",
     "output_type": "stream",
     "text": [
      "accuracy: 0.81\n",
      "precision: 0.81\n",
      "recall: 0.78\n",
      "f1: 0.80\n"
     ]
    }
   ],
   "source": [
    "# display resulting metrics\n",
    "print(f\"accuracy: {accuracy_score(y_test,y_pred):.2f}\")\n",
    "print(f\"precision: {precision_score(y_test,y_pred):.2f}\") \n",
    "print(f\"recall: {recall_score(y_test,y_pred):.2f}\")\n",
    "print(f\"f1: {f1_score(y_test,y_pred):.2f}\")"
   ]
  },
  {
   "cell_type": "code",
   "execution_count": 7,
   "id": "65776aab",
   "metadata": {},
   "outputs": [
    {
     "data": {
      "image/png": "[encoded data removed]",
      "text/plain": [
       "<Figure size 640x480 with 2 Axes>"
      ]
     },
     "metadata": {},
     "output_type": "display_data"
    }
   ],
   "source": [
    "# display a confusion matrix\n",
    "cm = confusion_matrix(y_test, y_pred, labels=pipe.classes_)\n",
    "disp = ConfusionMatrixDisplay(confusion_matrix=cm, display_labels=pipe.classes_)\n",
    "disp.plot()\n",
    "plt.show()"
   ]
  },
  {
   "cell_type": "markdown",
   "id": "71dce22a",
   "metadata": {},
   "source": [
    "We can see that our pipeline is working, and we get some nice results! Let's now move on to our second example...\n",
    "\n",
    "## Example 2\n",
    "\n",
    "Let's add an additional predictive feature to our dataset, that will be categorical in nature: "
   ]
  },
  {
   "cell_type": "code",
   "execution_count": 8,
   "id": "4c50efd0",
   "metadata": {},
   "outputs": [],
   "source": [
    "# create new categorical column & add it to the list of predictors\n",
    "dfX = pd.DataFrame(X, columns = [f\"col_{i+1}\" for i in range(X.shape[1])])\n",
    "dfX[f\"col_{X.shape[1]+1}\"] = np.where(y == 0, \"red\", \"blue\").reshape(-1,1)"
   ]
  },
  {
   "cell_type": "code",
   "execution_count": 9,
   "id": "aa71c469",
   "metadata": {},
   "outputs": [
    {
     "data": {
      "text/html": [
       "<div>\n",
       "<style scoped>\n",
       "    .dataframe tbody tr th:only-of-type {\n",
       "        vertical-align: middle;\n",
       "    }\n",
       "\n",
       "    .dataframe tbody tr th {\n",
       "        vertical-align: top;\n",
       "    }\n",
       "\n",
       "    .dataframe thead th {\n",
       "        text-align: right;\n",
       "    }\n",
       "</style>\n",
       "<table border=\"1\" class=\"dataframe\">\n",
       "  <thead>\n",
       "    <tr style=\"text-align: right;\">\n",
       "      <th></th>\n",
       "      <th>col_1</th>\n",
       "      <th>col_2</th>\n",
       "      <th>col_3</th>\n",
       "      <th>col_4</th>\n",
       "      <th>col_5</th>\n",
       "      <th>col_6</th>\n",
       "      <th>col_7</th>\n",
       "      <th>col_8</th>\n",
       "      <th>col_9</th>\n",
       "      <th>col_10</th>\n",
       "      <th>...</th>\n",
       "      <th>col_12</th>\n",
       "      <th>col_13</th>\n",
       "      <th>col_14</th>\n",
       "      <th>col_15</th>\n",
       "      <th>col_16</th>\n",
       "      <th>col_17</th>\n",
       "      <th>col_18</th>\n",
       "      <th>col_19</th>\n",
       "      <th>col_20</th>\n",
       "      <th>col_21</th>\n",
       "    </tr>\n",
       "  </thead>\n",
       "  <tbody>\n",
       "    <tr>\n",
       "      <th>0</th>\n",
       "      <td>58.584044</td>\n",
       "      <td>52.067364</td>\n",
       "      <td>44.286444</td>\n",
       "      <td>29.668701</td>\n",
       "      <td>54.692255</td>\n",
       "      <td>50.194197</td>\n",
       "      <td>27.295917</td>\n",
       "      <td>43.726045</td>\n",
       "      <td>49.030151</td>\n",
       "      <td>46.556252</td>\n",
       "      <td>...</td>\n",
       "      <td>53.501270</td>\n",
       "      <td>49.318032</td>\n",
       "      <td>53.465520</td>\n",
       "      <td>55.884285</td>\n",
       "      <td>63.038168</td>\n",
       "      <td>42.789004</td>\n",
       "      <td>51.850297</td>\n",
       "      <td>52.052089</td>\n",
       "      <td>56.966599</td>\n",
       "      <td>red</td>\n",
       "    </tr>\n",
       "    <tr>\n",
       "      <th>1</th>\n",
       "      <td>43.155229</td>\n",
       "      <td>55.558848</td>\n",
       "      <td>64.347381</td>\n",
       "      <td>37.509342</td>\n",
       "      <td>44.399732</td>\n",
       "      <td>53.772581</td>\n",
       "      <td>43.661497</td>\n",
       "      <td>66.727674</td>\n",
       "      <td>53.747941</td>\n",
       "      <td>50.840828</td>\n",
       "      <td>...</td>\n",
       "      <td>45.161063</td>\n",
       "      <td>41.094080</td>\n",
       "      <td>64.979548</td>\n",
       "      <td>38.044689</td>\n",
       "      <td>58.023225</td>\n",
       "      <td>33.330973</td>\n",
       "      <td>52.820739</td>\n",
       "      <td>48.693852</td>\n",
       "      <td>54.066125</td>\n",
       "      <td>red</td>\n",
       "    </tr>\n",
       "    <tr>\n",
       "      <th>2</th>\n",
       "      <td>53.796561</td>\n",
       "      <td>47.446331</td>\n",
       "      <td>38.047910</td>\n",
       "      <td>62.049478</td>\n",
       "      <td>57.506958</td>\n",
       "      <td>45.630952</td>\n",
       "      <td>17.519921</td>\n",
       "      <td>54.343029</td>\n",
       "      <td>53.078513</td>\n",
       "      <td>41.806291</td>\n",
       "      <td>...</td>\n",
       "      <td>51.693418</td>\n",
       "      <td>44.976918</td>\n",
       "      <td>55.172328</td>\n",
       "      <td>46.111035</td>\n",
       "      <td>51.421137</td>\n",
       "      <td>50.900929</td>\n",
       "      <td>47.107519</td>\n",
       "      <td>76.028824</td>\n",
       "      <td>20.718042</td>\n",
       "      <td>blue</td>\n",
       "    </tr>\n",
       "    <tr>\n",
       "      <th>3</th>\n",
       "      <td>44.954812</td>\n",
       "      <td>47.595999</td>\n",
       "      <td>51.577698</td>\n",
       "      <td>52.230242</td>\n",
       "      <td>44.275950</td>\n",
       "      <td>47.971451</td>\n",
       "      <td>52.896253</td>\n",
       "      <td>54.283889</td>\n",
       "      <td>48.218078</td>\n",
       "      <td>50.984722</td>\n",
       "      <td>...</td>\n",
       "      <td>53.903390</td>\n",
       "      <td>46.207899</td>\n",
       "      <td>63.544992</td>\n",
       "      <td>61.317802</td>\n",
       "      <td>31.083178</td>\n",
       "      <td>35.764121</td>\n",
       "      <td>70.782798</td>\n",
       "      <td>37.268595</td>\n",
       "      <td>74.211729</td>\n",
       "      <td>red</td>\n",
       "    </tr>\n",
       "    <tr>\n",
       "      <th>4</th>\n",
       "      <td>34.113668</td>\n",
       "      <td>48.994326</td>\n",
       "      <td>69.724700</td>\n",
       "      <td>50.176694</td>\n",
       "      <td>64.372031</td>\n",
       "      <td>49.270625</td>\n",
       "      <td>46.617304</td>\n",
       "      <td>46.896209</td>\n",
       "      <td>43.257541</td>\n",
       "      <td>49.834789</td>\n",
       "      <td>...</td>\n",
       "      <td>47.299368</td>\n",
       "      <td>34.168186</td>\n",
       "      <td>40.431245</td>\n",
       "      <td>47.349832</td>\n",
       "      <td>52.196725</td>\n",
       "      <td>51.815421</td>\n",
       "      <td>37.712093</td>\n",
       "      <td>49.870919</td>\n",
       "      <td>37.415112</td>\n",
       "      <td>blue</td>\n",
       "    </tr>\n",
       "  </tbody>\n",
       "</table>\n",
       "<p>5 rows × 21 columns</p>\n",
       "</div>"
      ],
      "text/plain": [
       "       col_1      col_2      col_3      col_4      col_5      col_6  \\\n",
       "0  58.584044  52.067364  44.286444  29.668701  54.692255  50.194197   \n",
       "1  43.155229  55.558848  64.347381  37.509342  44.399732  53.772581   \n",
       "2  53.796561  47.446331  38.047910  62.049478  57.506958  45.630952   \n",
       "3  44.954812  47.595999  51.577698  52.230242  44.275950  47.971451   \n",
       "4  34.113668  48.994326  69.724700  50.176694  64.372031  49.270625   \n",
       "\n",
       "       col_7      col_8      col_9     col_10  ...     col_12     col_13  \\\n",
       "0  27.295917  43.726045  49.030151  46.556252  ...  53.501270  49.318032   \n",
       "1  43.661497  66.727674  53.747941  50.840828  ...  45.161063  41.094080   \n",
       "2  17.519921  54.343029  53.078513  41.806291  ...  51.693418  44.976918   \n",
       "3  52.896253  54.283889  48.218078  50.984722  ...  53.903390  46.207899   \n",
       "4  46.617304  46.896209  43.257541  49.834789  ...  47.299368  34.168186   \n",
       "\n",
       "      col_14     col_15     col_16     col_17     col_18     col_19  \\\n",
       "0  53.465520  55.884285  63.038168  42.789004  51.850297  52.052089   \n",
       "1  64.979548  38.044689  58.023225  33.330973  52.820739  48.693852   \n",
       "2  55.172328  46.111035  51.421137  50.900929  47.107519  76.028824   \n",
       "3  63.544992  61.317802  31.083178  35.764121  70.782798  37.268595   \n",
       "4  40.431245  47.349832  52.196725  51.815421  37.712093  49.870919   \n",
       "\n",
       "      col_20  col_21  \n",
       "0  56.966599     red  \n",
       "1  54.066125     red  \n",
       "2  20.718042    blue  \n",
       "3  74.211729     red  \n",
       "4  37.415112    blue  \n",
       "\n",
       "[5 rows x 21 columns]"
      ]
     },
     "execution_count": 9,
     "metadata": {},
     "output_type": "execute_result"
    }
   ],
   "source": [
    "dfX.head(5)"
   ]
  },
  {
   "cell_type": "markdown",
   "id": "8b3c02aa",
   "metadata": {},
   "source": [
    "We'll now need to create a new transformer, that will be capable of handling the new column."
   ]
  },
  {
   "cell_type": "code",
   "execution_count": 10,
   "id": "3ae7f58e",
   "metadata": {},
   "outputs": [],
   "source": [
    "class NewTransformer(BaseEstimator, TransformerMixin):\n",
    "    \"\"\"\n",
    "    Class to handle revised dataset with a categorical feature with 2 unique values\n",
    "    \"\"\"\n",
    "    def __init__(self) -> None:\n",
    "        self.categorical_cols = []\n",
    "        \n",
    "    def fit(self, dfX: pd.DataFrame, y=None) -> None:\n",
    "        \"\"\"\n",
    "        Fit method for our new transformer. \n",
    "        \n",
    "        Inputs:\n",
    "            dfX -> pandas dataframe of predictor features\n",
    "            y -> numpy array of labels (not used)\n",
    "        \"\"\"\n",
    "        for col in dfX.select_dtypes(['object']):\n",
    "            self.categorical_cols.append(col)\n",
    "            \n",
    "        return self\n",
    "            \n",
    "    def transform(self, dfX: pd.DataFrame) -> np.array:\n",
    "        \"\"\"\n",
    "        Transform method for our new transformer\n",
    "        \n",
    "        Input:\n",
    "            dfX -> pandas dataframe of predictor features\n",
    "        Output:\n",
    "            numpy array of transformed values\n",
    "        \"\"\"\n",
    "        return pd.get_dummies(dfX, \n",
    "                              columns=self.categorical_cols, \n",
    "                              drop_first=True).values"
   ]
  },
  {
   "cell_type": "markdown",
   "id": "deaafcbc",
   "metadata": {},
   "source": [
    "Now let's repeat the analysis done earlier, but with an additional stage in our pipeline to include the new transformer:"
   ]
  },
  {
   "cell_type": "code",
   "execution_count": 11,
   "id": "c889c658",
   "metadata": {},
   "outputs": [],
   "source": [
    "# do train-test split\n",
    "X_train, X_test, y_train, y_test = train_test_split(dfX, y, test_size=0.2, random_state=42)"
   ]
  },
  {
   "cell_type": "code",
   "execution_count": 12,
   "id": "6c62c9c3",
   "metadata": {},
   "outputs": [],
   "source": [
    "# assemble a pipeline\n",
    "pipe = Pipeline(steps=[('ohe', NewTransformer()), \n",
    "                       ('scaler', StandardScaler()), \n",
    "                       ('pca', PCA(n_components=10)), \n",
    "                       ('lr', LogisticRegression())])"
   ]
  },
  {
   "cell_type": "code",
   "execution_count": 13,
   "id": "2279e8cf",
   "metadata": {},
   "outputs": [],
   "source": [
    "# train the pipeline and test the result\n",
    "pipe.fit(X_train, y_train)\n",
    "# produce predictions\n",
    "y_pred = pipe.predict(X_test)"
   ]
  },
  {
   "cell_type": "code",
   "execution_count": 14,
   "id": "67ff9f1f",
   "metadata": {},
   "outputs": [
    {
     "name": "stdout",
     "output_type": "stream",
     "text": [
      "accuracy: 0.93\n",
      "precision: 0.93\n",
      "recall: 0.93\n",
      "f1: 0.93\n"
     ]
    }
   ],
   "source": [
    "# display resulting metrics\n",
    "print(f\"accuracy: {accuracy_score(y_test,y_pred):.2f}\")\n",
    "print(f\"precision: {precision_score(y_test,y_pred):.2f}\") \n",
    "print(f\"recall: {recall_score(y_test,y_pred):.2f}\")\n",
    "print(f\"f1: {f1_score(y_test,y_pred):.2f}\")"
   ]
  },
  {
   "cell_type": "code",
   "execution_count": 15,
   "id": "aa12ca69",
   "metadata": {},
   "outputs": [
    {
     "data": {
      "image/png": "[encoded data removed]",
      "text/plain": [
       "<Figure size 640x480 with 2 Axes>"
      ]
     },
     "metadata": {},
     "output_type": "display_data"
    }
   ],
   "source": [
    "# display a confusion matrix\n",
    "cm = confusion_matrix(y_test, y_pred, labels=pipe.classes_)\n",
    "disp = ConfusionMatrixDisplay(confusion_matrix=cm, display_labels=pipe.classes_)\n",
    "disp.plot()\n",
    "plt.show()"
   ]
  },
  {
   "cell_type": "markdown",
   "id": "874c5ac1",
   "metadata": {},
   "source": [
    "We can see that the inclusion of the extra feature has dramatically improved the performance of our classifier. This shouldn't be too surprising: the categorical feature maps 1-to-1 to our label! Regardless of the outcome, this example illustrates how you can build your own custom transformers to use within a scikit-learn pipeline."
   ]
  },
  {
   "cell_type": "code",
   "execution_count": null,
   "id": "a07335fe",
   "metadata": {},
   "outputs": [],
   "source": []
  }
 ],
 "metadata": {
  "kernelspec": {
   "display_name": "Python 3 (ipykernel)",
   "language": "python",
   "name": "python3"
  },
  "language_info": {
   "codemirror_mode": {
    "name": "ipython",
    "version": 3
   },
   "file_extension": ".py",
   "mimetype": "text/x-python",
   "name": "python",
   "nbconvert_exporter": "python",
   "pygments_lexer": "ipython3",
   "version": "3.8.16"
  }
 },
 "nbformat": 4,
 "nbformat_minor": 5
}
