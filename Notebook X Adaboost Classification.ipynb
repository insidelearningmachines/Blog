{
 "cells": [
  {
   "cell_type": "markdown",
   "id": "6121d7d4",
   "metadata": {},
   "source": [
    "# Adaboost Classification\n",
    "\n",
    "In this notebook, I will work through the implementation of a adaboost classifier. Specifically, the algorithm implemented will be as specified in Freund & Schapire 1997. I will use the breast cancer classification dataset to test this code."
   ]
  },
  {
   "cell_type": "code",
   "execution_count": 1,
   "id": "8cf5a332",
   "metadata": {},
   "outputs": [],
   "source": [
    "## imports ##\n",
    "import numpy as np\n",
    "import pandas as pd\n",
    "from typing import Dict, Any, List, Tuple\n",
    "from sklearn.base import clone\n",
    "import matplotlib.pyplot as plt\n",
    "from sklearn.datasets import load_breast_cancer\n",
    "from sklearn.model_selection import StratifiedKFold,cross_validate\n",
    "from sklearn.tree import DecisionTreeClassifier\n",
    "from sklearn.metrics import accuracy_score,precision_score,recall_score,f1_score,make_scorer\n",
    "from sklearn.ensemble import RandomForestClassifier"
   ]
  },
  {
   "cell_type": "markdown",
   "id": "9fe2c682",
   "metadata": {},
   "source": [
    "Let's now create a class that will encapsulate the adaboost algorithm:"
   ]
  },
  {
   "cell_type": "code",
   "execution_count": 2,
   "id": "6a80fc78",
   "metadata": {},
   "outputs": [],
   "source": [
    "## adaboost classifier ##\n",
    "class AdaBoostClassifier(object):\n",
    "    #initializer\n",
    "    def __init__(self, \n",
    "                 weak_learner : Any, \n",
    "                 n_elements : int = 100, \n",
    "                 record_training_metrics : bool = False) -> None:\n",
    "        self.weak_learner    = weak_learner\n",
    "        self.n_elements      = n_elements\n",
    "        self.f               = []\n",
    "        self.model_weights   = []\n",
    "        self.f1s             = []\n",
    "        self.mean_loss       = []\n",
    "        self.record_training = record_training_metrics\n",
    "        \n",
    "    #destructor\n",
    "    def __del__(self) -> None:\n",
    "        del self.weak_learner\n",
    "        del self.n_elements\n",
    "        del self.f\n",
    "        del self.model_weights\n",
    "        del self.f1s\n",
    "        del self.mean_loss\n",
    "        del self.record_training\n",
    "       \n",
    "    #private loss function\n",
    "    def __compute_loss(self,y_pred : np.array, y_train : np.array) -> np.array:\n",
    "        #compute the loss function\n",
    "        loss = (y_pred != y_train).astype(int)\n",
    "        #return computed loss\n",
    "        return(loss)\n",
    "    \n",
    "    #private function to compute model weights\n",
    "    def __compute_alpha(self, w : np.array, loss : np.array) -> float:\n",
    "        #compute the error rate\n",
    "        err = np.sum(np.multiply(w,loss)) / np.sum(w)\n",
    "        #compute the adaptive weight\n",
    "        alpha = np.log((1-err)/err)\n",
    "        #store alpha\n",
    "        self.model_weights.append(alpha)\n",
    "        #return computed alpha\n",
    "        return(alpha)\n",
    "\n",
    "    #private function to compute training metrics for n-trained weak learners\n",
    "    def __compute_training_metrics(self, X_train : np.array, y_train : np.array) -> Tuple[float,float]:\n",
    "        #initialize output\n",
    "        y_pred = np.zeros((X_train.shape[0]))\n",
    "        #traverse ensemble to generate predictions\n",
    "        for model,mw in zip(self.f,self.model_weights):\n",
    "            y_pred += mw*model.predict(X_train)\n",
    "        #perform sign operation\n",
    "        y_pred = np.round(y_pred).astype(int)\n",
    "        y_pred = np.where(y_pred<=0,-1,1)\n",
    "        #compute metrics\n",
    "        f1   = f1_score(y_train,y_pred)\n",
    "        loss = np.mean(self.__compute_loss(y_pred,y_train))\n",
    "        #return computed metrics\n",
    "        return(f1,loss)\n",
    "    \n",
    "    #public function to train the ensemble\n",
    "    def fit(self, X_train : np.array, y_train : np.array) -> None:\n",
    "        #check that y_train consists of {-1,1}\n",
    "        if (np.unique(y_train).shape[0] != 2) or (np.min(y_train) != -1) or (np.max(y_train) != 1):\n",
    "            raise Exception('Training labels are not formatted to {-1,+1}')\n",
    "        #initialize sample weights, residuals, & model array\n",
    "        w              = np.ones((y_train.shape[0])) / y_train.shape[0]\n",
    "        self.residuals = []\n",
    "        self.f         = []\n",
    "        #loop through the specified number of iterations in the ensemble\n",
    "        for _ in range(self.n_elements):\n",
    "            #make a copy of the weak learner\n",
    "            model = clone(self.weak_learner)\n",
    "            #fit the current weak learner on the dataset\n",
    "            model.fit(X_train,y_train,sample_weight=w)\n",
    "            #obtain predictions from the current weak learner\n",
    "            y_pred = model.predict(X_train)\n",
    "            #compute the loss\n",
    "            loss = self.__compute_loss(y_pred,y_train)\n",
    "            #compute the adaptive weight\n",
    "            alpha = self.__compute_alpha(w,loss)\n",
    "            #update sample weights\n",
    "            w *= np.exp(alpha*loss)\n",
    "            #append resulting model\n",
    "            self.f.append(model)\n",
    "            #append current training metrics\n",
    "            if self.record_training:\n",
    "                f1,mean_loss = self.__compute_training_metrics(X_train,y_train)\n",
    "                self.f1s.append(f1)\n",
    "                self.mean_loss.append(mean_loss)\n",
    "        \n",
    "    #public function to return training f1 scores\n",
    "    def get_f1s(self) -> List:\n",
    "        return(self.f1s)\n",
    "    \n",
    "    #public function to return mean training loss\n",
    "    def get_loss(self) -> List:\n",
    "        return(self.mean_loss)\n",
    " \n",
    "    #public function to return model parameters\n",
    "    def get_params(self, deep : bool = False) -> Dict:\n",
    "        return {'weak_learner':self.weak_learner,\n",
    "                'n_elements':self.n_elements,\n",
    "                'record_training_metrics':self.record_training}\n",
    "\n",
    "    #public function to generate predictions\n",
    "    def predict(self, X_test : np.array) -> np.array:\n",
    "        #initialize output\n",
    "        y_pred = np.zeros((X_test.shape[0]))\n",
    "        #traverse ensemble to generate predictions\n",
    "        for model,mw in zip(self.f,self.model_weights):\n",
    "            y_pred += mw*model.predict(X_test)\n",
    "        #perform sign operation\n",
    "        y_pred = np.round(y_pred).astype(int)\n",
    "        y_pred = np.where(y_pred<=0,-1,1)\n",
    "        #return predictions\n",
    "        return(y_pred)"
   ]
  },
  {
   "cell_type": "markdown",
   "id": "7b462b04",
   "metadata": {},
   "source": [
    "## Adaboost Classification\n",
    "\n",
    "### Load Classification Dataset\n",
    "\n",
    "Here I'll load the breast cancer dataset. Note I already analysed these data in Article II - Logistic Regression."
   ]
  },
  {
   "cell_type": "code",
   "execution_count": 3,
   "id": "05b26b22",
   "metadata": {},
   "outputs": [],
   "source": [
    "## load classification dataset ##\n",
    "data = load_breast_cancer()\n",
    "X    = data.data\n",
    "y    = data.target"
   ]
  },
  {
   "cell_type": "code",
   "execution_count": 4,
   "id": "46aa8c4a",
   "metadata": {},
   "outputs": [],
   "source": [
    "#properly format labels\n",
    "y = np.where(y==0,-1,1)"
   ]
  },
  {
   "cell_type": "markdown",
   "id": "a5ea41f9",
   "metadata": {},
   "source": [
    "### Investigate Training Metrics\n",
    "\n",
    "In this section, I want to check the effects of increasing ensemble size. Specifically, we'll check that the F1 score of the ensemble increases as more weak learners are added. Conversely, the loss should decrease as more weak learners are added to the ensemble. I will also initialise the weak learner, which in our case will be a classification decision stump:"
   ]
  },
  {
   "cell_type": "code",
   "execution_count": 5,
   "id": "f2d8dd86",
   "metadata": {},
   "outputs": [],
   "source": [
    "## initialize a weak learner ##\n",
    "weak_m = DecisionTreeClassifier(max_depth=1)"
   ]
  },
  {
   "cell_type": "code",
   "execution_count": 6,
   "id": "1583bb4d",
   "metadata": {},
   "outputs": [],
   "source": [
    "## train the adaboost classifier ##\n",
    "clf = AdaBoostClassifier(weak_learner=weak_m, record_training_metrics=True)\n",
    "clf.fit(X,y)"
   ]
  },
  {
   "cell_type": "code",
   "execution_count": 7,
   "id": "95a3a53a",
   "metadata": {},
   "outputs": [],
   "source": [
    "## get training metrics ##\n",
    "#obtain F1 scores\n",
    "f1 = clf.get_f1s()\n",
    "#obtain loss\n",
    "loss = clf.get_loss()"
   ]
  },
  {
   "cell_type": "code",
   "execution_count": 8,
   "id": "ff6a968c",
   "metadata": {},
   "outputs": [
    {
     "data": {
      "image/png": "[encoded data removed]",
      "text/plain": [
       "<Figure size 432x288 with 1 Axes>"
      ]
     },
     "metadata": {
      "needs_background": "light"
     },
     "output_type": "display_data"
    }
   ],
   "source": [
    "## plot the training F1 scores ##\n",
    "plt.plot(f1)\n",
    "plt.title('Training F1 score by Number of Component Trees')\n",
    "plt.xlabel('Number of Component Trees')\n",
    "plt.ylabel('F1 Score')\n",
    "plt.show()"
   ]
  },
  {
   "cell_type": "code",
   "execution_count": 9,
   "id": "2e40c473",
   "metadata": {},
   "outputs": [
    {
     "data": {
      "image/png": "[encoded data removed]",
      "text/plain": [
       "<Figure size 432x288 with 1 Axes>"
      ]
     },
     "metadata": {
      "needs_background": "light"
     },
     "output_type": "display_data"
    }
   ],
   "source": [
    "## plot the training loss ##\n",
    "plt.plot(loss)\n",
    "plt.title('Training Loss by Number of Component Trees')\n",
    "plt.xlabel('Number of Component Trees')\n",
    "plt.ylabel('Loss')\n",
    "plt.show()"
   ]
  },
  {
   "cell_type": "markdown",
   "id": "f736db46",
   "metadata": {},
   "source": [
    "The plots indicate our implementation of Adaboost is functioning as we would expect: the F1 score increases, and the loss decreases, as the number of trees included in the ensemble becomes larger. Optimal performance appears to be reached at an ensemble size of approximately 35 trees.\n",
    "\n",
    "### Investigate Performance\n",
    "\n",
    "Here I will use 10-fold cross-validation to measure the performance of the adaboost classifier:"
   ]
  },
  {
   "cell_type": "code",
   "execution_count": 10,
   "id": "0767ae82",
   "metadata": {},
   "outputs": [],
   "source": [
    "## define the scoring metrics ##\n",
    "scoring_metrics = {'accuracy' : make_scorer(accuracy_score), \n",
    "                   'precision': make_scorer(precision_score),\n",
    "                   'recall'   : make_scorer(recall_score),\n",
    "                   'f1'       : make_scorer(f1_score)}"
   ]
  },
  {
   "cell_type": "code",
   "execution_count": 11,
   "id": "1e41e0ed",
   "metadata": {},
   "outputs": [
    {
     "name": "stdout",
     "output_type": "stream",
     "text": [
      "Mean Accuracy: 0.97\n",
      "Mean Precision: 0.97\n",
      "Mean Recall: 0.98\n",
      "Mean F1: 0.97\n"
     ]
    }
   ],
   "source": [
    "## perform cross-validation for n_elements=35 ##\n",
    "#define the model\n",
    "clf = AdaBoostClassifier(weak_learner=weak_m, n_elements=35)\n",
    "#cross validate\n",
    "dcScores = cross_validate(clf,X,y,cv=StratifiedKFold(10),scoring=scoring_metrics)\n",
    "#report results\n",
    "print('Mean Accuracy: %.2f' % np.mean(dcScores['test_accuracy']))\n",
    "print('Mean Precision: %.2f' % np.mean(dcScores['test_precision']))\n",
    "print('Mean Recall: %.2f' % np.mean(dcScores['test_recall']))\n",
    "print('Mean F1: %.2f' % np.mean(dcScores['test_f1']))"
   ]
  },
  {
   "cell_type": "markdown",
   "id": "79560bb0",
   "metadata": {},
   "source": [
    "We can compare these results with the Adaboost classifier available from scikit-learn:"
   ]
  },
  {
   "cell_type": "code",
   "execution_count": 12,
   "id": "ccc8463d",
   "metadata": {},
   "outputs": [],
   "source": [
    "## import adaboost classifier from scikit-learn ##\n",
    "from sklearn.ensemble import AdaBoostClassifier"
   ]
  },
  {
   "cell_type": "code",
   "execution_count": 13,
   "id": "1a707b79",
   "metadata": {},
   "outputs": [
    {
     "name": "stdout",
     "output_type": "stream",
     "text": [
      "Mean Accuracy: 0.96\n",
      "Mean Precision: 0.96\n",
      "Mean Recall: 0.97\n",
      "Mean F1: 0.97\n"
     ]
    }
   ],
   "source": [
    "## perform cross-validation for n_estimators=35 ##\n",
    "#define the model\n",
    "clf = AdaBoostClassifier(base_estimator=weak_m, n_estimators=35)\n",
    "#cross validate\n",
    "dcScores = cross_validate(clf,X,y,cv=StratifiedKFold(10),scoring=scoring_metrics)\n",
    "#report results\n",
    "print('Mean Accuracy: %.2f' % np.mean(dcScores['test_accuracy']))\n",
    "print('Mean Precision: %.2f' % np.mean(dcScores['test_precision']))\n",
    "print('Mean Recall: %.2f' % np.mean(dcScores['test_recall']))\n",
    "print('Mean F1: %.2f' % np.mean(dcScores['test_f1']))"
   ]
  },
  {
   "cell_type": "markdown",
   "id": "53db7af8",
   "metadata": {},
   "source": [
    "We can see there is a slight difference between the two Adaboost models, with better performance seen with the model implemented in this notebook. Note however that the Adaboost classifier available through scikit-learn does not follow the Freund & Schapire 1997 algorithm, but instead follows the SAMME.R implementation.\n",
    "\n",
    "Now let's compare our results with a lone weak learner, and a Random Forest Classifier with default hyper parameters:"
   ]
  },
  {
   "cell_type": "code",
   "execution_count": 14,
   "id": "9fb87fe4",
   "metadata": {},
   "outputs": [
    {
     "name": "stdout",
     "output_type": "stream",
     "text": [
      "Mean Accuracy: 0.89\n",
      "Mean Precision: 0.89\n",
      "Mean Recall: 0.95\n",
      "Mean F1: 0.91\n"
     ]
    }
   ],
   "source": [
    "#cross validate\n",
    "dcScores = cross_validate(weak_m,X,y,cv=StratifiedKFold(10),scoring=scoring_metrics)\n",
    "#report results\n",
    "print('Mean Accuracy: %.2f' % np.mean(dcScores['test_accuracy']))\n",
    "print('Mean Precision: %.2f' % np.mean(dcScores['test_precision']))\n",
    "print('Mean Recall: %.2f' % np.mean(dcScores['test_recall']))\n",
    "print('Mean F1: %.2f' % np.mean(dcScores['test_f1']))"
   ]
  },
  {
   "cell_type": "code",
   "execution_count": 15,
   "id": "8c085f51",
   "metadata": {},
   "outputs": [
    {
     "name": "stdout",
     "output_type": "stream",
     "text": [
      "Mean Accuracy: 0.97\n",
      "Mean Precision: 0.97\n",
      "Mean Recall: 0.98\n",
      "Mean F1: 0.97\n"
     ]
    }
   ],
   "source": [
    "#declare random forest\n",
    "clf = RandomForestClassifier()\n",
    "#cross validate\n",
    "dcScores = cross_validate(clf,X,y,cv=StratifiedKFold(10),scoring=scoring_metrics)\n",
    "#report results\n",
    "print('Mean Accuracy: %.2f' % np.mean(dcScores['test_accuracy']))\n",
    "print('Mean Precision: %.2f' % np.mean(dcScores['test_precision']))\n",
    "print('Mean Recall: %.2f' % np.mean(dcScores['test_recall']))\n",
    "print('Mean F1: %.2f' % np.mean(dcScores['test_f1']))"
   ]
  },
  {
   "cell_type": "markdown",
   "id": "e6fd9e80",
   "metadata": {},
   "source": [
    "Model | Number of Elements | Accuracy | Precision | Recall | F1\n",
    "--- | --- | --- | --- | --- | ---\n",
    "Custom Adaboost | 35 | 0.97 | 0.97 | 0.98 | 0.97\n",
    "Scikit-learn Adaboost | 35 | 0.96 | 0.96 | 0.97 | 0.97\n",
    "Decision Stump | NA | 0.89 | 0.89 | 0.95 | 0.91\n",
    "Scikit-Learn Random Forest | 100 | 0.97 | 0.97 | 0.98 | 0.97\n",
    "\n",
    "Our implementation of the Adaboost algorithm, along with the Random Forest yields the best overall results from this comparison. However, the scikit-learn Adaboost model performs only marginally worse. Note that the Random Forest Classifier includes 100 individual trees by default. Unsurprising, the lone Decision Stump yields the worst results."
   ]
  },
  {
   "cell_type": "code",
   "execution_count": null,
   "id": "319bda5e",
   "metadata": {},
   "outputs": [],
   "source": []
  }
 ],
 "metadata": {
  "kernelspec": {
   "display_name": "Python 3",
   "language": "python",
   "name": "python3"
  },
  "language_info": {
   "codemirror_mode": {
    "name": "ipython",
    "version": 3
   },
   "file_extension": ".py",
   "mimetype": "text/x-python",
   "name": "python",
   "nbconvert_exporter": "python",
   "pygments_lexer": "ipython3",
   "version": "3.6.12"
  }
 },
 "nbformat": 4,
 "nbformat_minor": 5
}
