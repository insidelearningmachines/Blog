{
 "cells": [
  {
   "cell_type": "markdown",
   "id": "b1d3391a-5ba4-400b-8cb3-d61d1c4f42cf",
   "metadata": {},
   "source": [
    "# Introduction to Shapley Values\n",
    "\n",
    "In this notebook, we'll introduce Shapley Values, and their application to machine learning. The focus here will be to take the theoretical definitions, and convert them into a tangible example worked in Python code.\n",
    "\n",
    "## Motivation\n",
    "\n",
    "Machine learning and AI have seen increasing adoption in industry over the past decade. This technology is being used to automate processes within a wide variety of industries, ranging from finance, to retail, manufacturing, and health care to name a few. Much of this increasing adoption is driven by: \n",
    "1. The increasing availability of data\n",
    "2. The inhanced computational power that is available\n",
    "\n",
    "Both points above allow the creation of increasingly more complex machine learning models. These models allow for inhanced prediction quality and accuracy, however they are notoriously difficule to understand! How does the model generate the predictions that it does, in terms that (non-technicial) stakeholders can understand?\n",
    "\n",
    "This is where **Shapley Values** come in. These quantify what input predictor features contribute to each individual model output. These were introduced by Lloyd Shapley in 1953:\n",
    "\n",
    "Lloyd Shapley. A Value for N-Person Games. *Contributions to the Theory of Games*, pages 307–317, 1953.\n",
    "\n",
    "## Classic Definition\n",
    "\n",
    "The Shapley Value $\\phi_i$, for one feature $i$ out of all available features $F$, is defined mathematically as:\n",
    "\n",
    "$$\\phi_i = \\sum_{S \\subseteq F \\backslash \\{i\\}} \\frac{|S|!(|F|-|S|-1)!}{|F|!} [v(S\\cup\\{i\\})-v(S)]$$\n",
    "\n",
    "where:\n",
    "* $S$ is a subset of the total possible features $F$, minus the feature we're focusing on $i$\n",
    "* $v$ is a value function, based off of the model output for a single sample of interest $x$ \n",
    "\n",
    "The value function $v$ is typically expressed in the following form:\n",
    "\n",
    "$$v(S) = y_p(x_S) - \\hat{y}(X_S)$$\n",
    "\n",
    "where:\n",
    "* $y_p(x_S)$ is the model output for a single sample $x_S$ that includes $S$ features\n",
    "* $\\hat{y}(X_S)$ is the expected model output over all available samples $X_S$ with $S$ features. Note $x_S \\in X_S$  \n",
    "\n",
    "The definition above was originally developed within the context of Game Theory. However, here I've altered the terminology to be representative of the machine learning scenario we are interested in.\n",
    "\n",
    "## Worked Python Example\n",
    "\n",
    "Let's now work through an example, to make these concepts tangible:"
   ]
  },
  {
   "cell_type": "code",
   "execution_count": 2,
   "id": "66427a8d-7fa7-4322-bf4f-d5c7a22ae6f6",
   "metadata": {},
   "outputs": [],
   "source": [
    "# imports\n",
    "import math\n",
    "import numpy as np\n",
    "from itertools import combinations\n",
    "import matplotlib.pyplot as plt\n",
    "from sklearn.datasets import make_regression\n",
    "from sklearn.preprocessing import StandardScaler\n",
    "from sklearn.linear_model import LinearRegression"
   ]
  },
  {
   "cell_type": "code",
   "execution_count": 3,
   "id": "e9407668-e4e4-45e0-89fb-7c4a2a2f00bb",
   "metadata": {},
   "outputs": [],
   "source": [
    "# create a simple regression dataset\n",
    "X, y = make_regression(n_samples=10, n_features=3, noise=1, random_state=42)"
   ]
  },
  {
   "cell_type": "code",
   "execution_count": 4,
   "id": "b65ffd4f-77e7-4fb8-9842-b576e948c268",
   "metadata": {},
   "outputs": [
    {
     "data": {
      "text/plain": [
       "array([[ 0.76743473,  1.57921282, -0.46947439],\n",
       "       [-0.23415337,  1.52302986, -0.23413696],\n",
       "       [ 0.11092259, -0.54438272, -1.15099358],\n",
       "       [-0.60063869,  0.37569802, -0.29169375],\n",
       "       [-1.91328024,  0.24196227, -1.72491783],\n",
       "       [-1.01283112, -0.56228753,  0.31424733],\n",
       "       [-0.1382643 ,  0.49671415,  0.64768854],\n",
       "       [-0.46341769,  0.54256004, -0.46572975],\n",
       "       [-1.4123037 , -0.90802408,  1.46564877],\n",
       "       [ 0.0675282 , -0.2257763 , -1.42474819]])"
      ]
     },
     "execution_count": 4,
     "metadata": {},
     "output_type": "execute_result"
    }
   ],
   "source": [
    "X"
   ]
  },
  {
   "cell_type": "code",
   "execution_count": 5,
   "id": "a989ae53-0008-40f2-b1e7-718897b41d80",
   "metadata": {},
   "outputs": [
    {
     "data": {
      "text/plain": [
       "array([ 135.87495442,   91.04151968,  -46.19406261,   -3.4087805 ,\n",
       "        -89.97336122,  -78.12657288,   35.27171292,   11.43196996,\n",
       "       -103.62807383,  -28.66982502])"
      ]
     },
     "execution_count": 5,
     "metadata": {},
     "output_type": "execute_result"
    }
   ],
   "source": [
    "y"
   ]
  },
  {
   "cell_type": "code",
   "execution_count": 6,
   "id": "3a5cae0f-69e9-4b21-9fe0-cc1b324fef5b",
   "metadata": {},
   "outputs": [],
   "source": [
    "# scale the input predictor features\n",
    "scaler = StandardScaler()\n",
    "X = scaler.fit_transform(X)"
   ]
  },
  {
   "cell_type": "code",
   "execution_count": 7,
   "id": "c6e8305c-36e0-4505-8f85-0bd34bb4162b",
   "metadata": {},
   "outputs": [],
   "source": [
    "# declare a model instance\n",
    "model = LinearRegression()"
   ]
  },
  {
   "cell_type": "code",
   "execution_count": 9,
   "id": "5fb1189d-28b2-4719-ae34-0e1610f48673",
   "metadata": {},
   "outputs": [],
   "source": [
    "def val(S: list, x_j: np.array, X: np.array, y: np.array, model: object) -> float:\n",
    "    \"\"\"\n",
    "    Value function for use in the calculation of the Shapley value\n",
    "    \"\"\"\n",
    "    if S:\n",
    "        model.fit(X[:,S],y)\n",
    "        return model.predict(x_j.reshape(1,-1)[:,S]) - np.mean(model.predict(X[:,S]))\n",
    "    else:\n",
    "        return 0.0"
   ]
  },
  {
   "cell_type": "code",
   "execution_count": 10,
   "id": "e5e93fd7-d82c-4a80-a871-f0f2b6491c3c",
   "metadata": {},
   "outputs": [],
   "source": [
    "def subsets(features: list) -> list:\n",
    "    \"\"\"\n",
    "    Function to return all possible subsets for the input list of features\n",
    "    \"\"\"\n",
    "    subset_combinations = list()\n",
    "    for n in range(len(features) + 1):\n",
    "        subset_combinations += list(combinations (features, n))\n",
    "    return subset_combinations"
   ]
  },
  {
   "cell_type": "code",
   "execution_count": 11,
   "id": "9ba6ca52-a4b2-45a5-a1d1-1b70f858ae9e",
   "metadata": {},
   "outputs": [],
   "source": [
    "def shapley(x_j: np.array, i: int, X: np.array, y: np.array, model: object) -> float:\n",
    "    \"\"\"\n",
    "    Ultimate function to compute the Shapley value for a sample of interest x_j, and feature i\n",
    "    \"\"\"\n",
    "    # determine feature names, and count how many there are\n",
    "    F = [f for f in range(X.shape[1])]\n",
    "    F_count = len(F)\n",
    "    # remove the feature of interest i from F\n",
    "    F.remove(i)\n",
    "    # loop over each subset in S\n",
    "    phi = 0\n",
    "    for S in subsets(F):\n",
    "        # compute weight\n",
    "        S_count = len(S)\n",
    "        w = math.factorial(S_count)*math.factorial(F_count - S_count - 1)/math.factorial(F_count)\n",
    "        # compute difference in value function\n",
    "        diff_value = val(list(S + (i,)), x_j, X, y, model) - val(list(S), x_j, X, y, model)\n",
    "        # add results\n",
    "        phi += w*diff_value\n",
    "    return phi[0]"
   ]
  },
  {
   "cell_type": "markdown",
   "id": "c38d6c29-3174-434a-a4bd-d0dab2b17087",
   "metadata": {},
   "source": [
    "We can manually work through the calculations for a single sample in detail:"
   ]
  },
  {
   "cell_type": "code",
   "execution_count": 12,
   "id": "ac2c33bc-a9ed-4783-9d46-f503c706248f",
   "metadata": {},
   "outputs": [],
   "source": [
    "# obtain a sample\n",
    "x_1 = X[1,:]"
   ]
  },
  {
   "cell_type": "code",
   "execution_count": 13,
   "id": "50b5ca45-e6f6-44bb-9609-09d72403e8c3",
   "metadata": {},
   "outputs": [
    {
     "data": {
      "text/plain": [
       "3.008446860031037"
      ]
     },
     "execution_count": 13,
     "metadata": {},
     "output_type": "execute_result"
    }
   ],
   "source": [
    "# shapley value for feature 0\n",
    "s_0 = shapley(x_1, 0, X, y, model)\n",
    "s_0"
   ]
  },
  {
   "cell_type": "code",
   "execution_count": 14,
   "id": "4915efba-20b2-4690-b3ac-080c58bb09b0",
   "metadata": {},
   "outputs": [
    {
     "data": {
      "text/plain": [
       "93.13370588107563"
      ]
     },
     "execution_count": 14,
     "metadata": {},
     "output_type": "execute_result"
    }
   ],
   "source": [
    "# shapley value for feature 1\n",
    "s_1 = shapley(x_1, 1, X, y, model)\n",
    "s_1"
   ]
  },
  {
   "cell_type": "code",
   "execution_count": 15,
   "id": "80a33fe4-6ee1-4827-be89-5a1d6e3ce84b",
   "metadata": {},
   "outputs": [
    {
     "data": {
      "text/plain": [
       "2.092127584279774"
      ]
     },
     "execution_count": 15,
     "metadata": {},
     "output_type": "execute_result"
    }
   ],
   "source": [
    "# shapley value for feature 2\n",
    "s_2 = shapley(x_1, 2, X, y, model)\n",
    "s_2"
   ]
  },
  {
   "cell_type": "code",
   "execution_count": 16,
   "id": "62c59ff3-7e07-47ee-8467-d63b5edfe892",
   "metadata": {},
   "outputs": [
    {
     "data": {
      "image/png": "[encoded data removed]",
      "text/plain": [
       "<Figure size 640x480 with 1 Axes>"
      ]
     },
     "metadata": {},
     "output_type": "display_data"
    }
   ],
   "source": [
    "# plot the feature shapley values for x_j\n",
    "fig, ax = plt.subplots()\n",
    "\n",
    "features = ['0', '1', '2']\n",
    "values = [s_0, s_1, s_2]\n",
    "bar_colors = ['tab:red', 'tab:blue', 'tab:green']\n",
    "\n",
    "ax.bar(features, values, color=bar_colors)\n",
    "ax.set_xlabel('feature')\n",
    "ax.set_ylabel('shapley value')\n",
    "ax.set_title('Shapley Values for Sample x_j')\n",
    "\n",
    "plt.show()"
   ]
  },
  {
   "cell_type": "markdown",
   "id": "aed148fd-aa5c-4ffa-b46b-d2ae7e433fb7",
   "metadata": {},
   "source": [
    "Sanity check, do the Shapley Values $\\phi_i$ sum to the difference between $y_p(x) - \\hat{y}(X)$?"
   ]
  },
  {
   "cell_type": "code",
   "execution_count": 17,
   "id": "8ee5647b-109a-4633-982a-1249ff5f7b21",
   "metadata": {},
   "outputs": [
    {
     "data": {
      "text/plain": [
       "98.23428032538645"
      ]
     },
     "execution_count": 17,
     "metadata": {},
     "output_type": "execute_result"
    }
   ],
   "source": [
    "shapley(x_1, 0, X, y, model) + shapley(x_1, 1, X, y, model) + shapley(x_1, 2, X, y, model)"
   ]
  },
  {
   "cell_type": "code",
   "execution_count": 18,
   "id": "e4006e1d-d561-4fa7-b7eb-dc4da234ed44",
   "metadata": {},
   "outputs": [
    {
     "data": {
      "text/plain": [
       "array([98.23428033])"
      ]
     },
     "execution_count": 18,
     "metadata": {},
     "output_type": "execute_result"
    }
   ],
   "source": [
    "model.fit(X,y)\n",
    "model.predict(x_1.reshape(1,-1)) - np.mean(model.predict(X))"
   ]
  },
  {
   "cell_type": "markdown",
   "id": "a6a64d63-6cfd-4f9a-904d-c1f3ecb3ad23",
   "metadata": {},
   "source": [
    "What are the expected Shapley Values for all samples in $X$? And how do these compare with our model parameters?"
   ]
  },
  {
   "cell_type": "code",
   "execution_count": 19,
   "id": "5637c744-d917-4bc5-8ba7-306a5bf1d685",
   "metadata": {},
   "outputs": [],
   "source": [
    "results = {0:[],1:[],2:[]}\n",
    "for j in range(X.shape[0]):\n",
    "    x_j = X[j,:]\n",
    "    for i in range(X.shape[1]):\n",
    "        results[i].append(shapley(x_j, i, X, y, model))"
   ]
  },
  {
   "cell_type": "code",
   "execution_count": 20,
   "id": "66247b37-9ea0-414e-8b08-a0f52b1cf1fd",
   "metadata": {},
   "outputs": [
    {
     "data": {
      "image/png": "[encoded data removed]",
      "text/plain": [
       "<Figure size 640x480 with 1 Axes>"
      ]
     },
     "metadata": {},
     "output_type": "display_data"
    }
   ],
   "source": [
    "plt.hist(results[0], alpha=0.5, bins=10, label='0')\n",
    "plt.hist(results[1], alpha=0.5, bins=10, label='1')\n",
    "plt.hist(results[2], alpha=0.5, bins=10, label='2')\n",
    "plt.xlabel('shapley value')\n",
    "plt.ylabel('count')\n",
    "plt.title('Distribution of Shapley Values for all Features')\n",
    "plt.legend(title='features')\n",
    "plt.show()"
   ]
  },
  {
   "cell_type": "code",
   "execution_count": 21,
   "id": "46222ed4-e38f-43c3-a09e-ecc74ffc6c0c",
   "metadata": {},
   "outputs": [
    {
     "data": {
      "text/plain": [
       "array([33.17695477, 54.12190107, 11.73925815])"
      ]
     },
     "execution_count": 21,
     "metadata": {},
     "output_type": "execute_result"
    }
   ],
   "source": [
    "model.fit(X,y)\n",
    "model.coef_"
   ]
  },
  {
   "cell_type": "markdown",
   "id": "e4943183-e0e1-4e44-b70a-8198ea566803",
   "metadata": {},
   "source": [
    "## Concluding Remarks\n",
    "\n",
    "The above results demonstrate that our implementation works, and the results that we get are consistent with our inituition for this linear model. In other words, features with larger model coefficients tend to be allocated larger absolute shapley values. Note that the calculation of the Shapley Value is completely model agnostic. \n",
    "\n",
    "### So What's Wrong with our Approach?\n",
    "\n",
    "There are a couple of reasons why using the \"classic\" Shapley Value definition isn't suitable for machine learning:\n",
    "1. The number of subsets $S$ we need to iterate over becomes exponentially larger as $F$ increases\n",
    "2. Retraining our model for each value function call isn't very sensible: many models will not function on just a subset of features, and the training times can be quite long!\n",
    "\n",
    "Due to these reasons, in practice approximate sampling methods are used for machine learning problems. In a subsequent video, I'll cover how this works.  "
   ]
  },
  {
   "cell_type": "code",
   "execution_count": null,
   "id": "f0005ae8-1690-4be2-9168-15dce895fbfd",
   "metadata": {},
   "outputs": [],
   "source": []
  }
 ],
 "metadata": {
  "kernelspec": {
   "display_name": "Python 3 (ipykernel)",
   "language": "python",
   "name": "python3"
  },
  "language_info": {
   "codemirror_mode": {
    "name": "ipython",
    "version": 3
   },
   "file_extension": ".py",
   "mimetype": "text/x-python",
   "name": "python",
   "nbconvert_exporter": "python",
   "pygments_lexer": "ipython3",
   "version": "3.9.19"
  }
 },
 "nbformat": 4,
 "nbformat_minor": 5
}
