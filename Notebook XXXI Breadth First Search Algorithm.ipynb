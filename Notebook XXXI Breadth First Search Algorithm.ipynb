{
 "cells": [
  {
   "cell_type": "markdown",
   "id": "d166486b-b9a2-4c91-a5a8-beb0cae72f05",
   "metadata": {},
   "source": [
    "# Graph Traversal - Breadth First Search (BFS) Algorithm\n",
    "\n",
    "In this notebook, we'll implement the Breadth First Search (BFS) algorithm for graph traversal. Although BFS can be applied to undirected & directed graphs, in the example worked below we will use a directed graph.\n",
    "\n",
    "There are various applications for the BFS algorithm, some examples of which include:\n",
    "* finding paths between nodes in a graph\n",
    "* identifying connections between components in a graph\n",
    "* calculating max-flow between sets of source and target nodes\n",
    "* solving shortest path problems\n",
    "\n",
    "The algorithm was first published in 1959 by Edward F. Moore: \"The shortest path through a maze\". Proceedings of the International Symposium on the Theory of Switching. Harvard University Press. pp. 285–292."
   ]
  },
  {
   "cell_type": "code",
   "execution_count": 1,
   "id": "d42c538d-9057-4165-9ecc-aef6c0aaf57e",
   "metadata": {},
   "outputs": [],
   "source": [
    "from typing import List\n",
    "import sknetwork as skn\n",
    "import numpy as np\n",
    "from IPython.display import SVG"
   ]
  },
  {
   "cell_type": "markdown",
   "id": "695d0d01-762e-419b-a988-b567897f0f68",
   "metadata": {},
   "source": [
    "And now we can run the notebook from the PageRank post to load in the objects implemented there:"
   ]
  },
  {
   "cell_type": "code",
   "execution_count": 2,
   "id": "bb336deb-49e1-448e-a6fe-b3a1b2864871",
   "metadata": {},
   "outputs": [],
   "source": [
    "%run Notebook\\ XXIX\\ Learn\\ the\\ PageRank\\ Algorithm\\ with\\ 1\\ Simple\\ Example.ipynb"
   ]
  },
  {
   "cell_type": "code",
   "execution_count": 3,
   "id": "cbff764f-a9bf-4165-a867-1955ee1bf485",
   "metadata": {},
   "outputs": [
    {
     "data": {
      "text/plain": [
       "[('A', 'B'),\n",
       " ('B', 'D'),\n",
       " ('D', 'A'),\n",
       " ('D', 'C'),\n",
       " ('A', 'C'),\n",
       " ('C', 'A'),\n",
       " ('D', 'E'),\n",
       " ('F', 'D')]"
      ]
     },
     "execution_count": 3,
     "metadata": {},
     "output_type": "execute_result"
    }
   ],
   "source": [
    "# view the edges imported from the XXIX notebook\n",
    "edges"
   ]
  },
  {
   "cell_type": "code",
   "execution_count": 4,
   "id": "7df55813-5b2c-43ff-bc05-5926c1286a66",
   "metadata": {},
   "outputs": [],
   "source": [
    "graph = skn.data.from_edge_list(edges, directed=True)"
   ]
  },
  {
   "cell_type": "code",
   "execution_count": 5,
   "id": "cbcfc7aa-1394-4282-8bf5-83e7cfa017e2",
   "metadata": {},
   "outputs": [
    {
     "data": {
      "image/svg+xml": [
       "<svg xmlns=\"http://www.w3.org/2000/svg\" width=\"452.0\" height=\"352\">\n",
       "<defs><marker id=\"arrow-gray\" markerWidth=\"10\" markerHeight=\"10\" refX=\"9\" refY=\"3\" orient=\"auto\">\n",
       "<path d=\"M0,0 L0,6 L9,3 z\" fill=\"gray\"/></marker></defs>\n",
       "<path stroke-width=\"1\" stroke=\"gray\" d=\"M 54 245 152 328\" marker-end=\"url(#arrow-gray)\"/>\n",
       "<path stroke-width=\"1\" stroke=\"gray\" d=\"M 54 245 28 160\" marker-end=\"url(#arrow-gray)\"/>\n",
       "<path stroke-width=\"1\" stroke=\"gray\" d=\"M 157 332 215 190\" marker-end=\"url(#arrow-gray)\"/>\n",
       "<path stroke-width=\"1\" stroke=\"gray\" d=\"M 26 154 52 239\" marker-end=\"url(#arrow-gray)\"/>\n",
       "<path stroke-width=\"1\" stroke=\"gray\" d=\"M 217 184 60 243\" marker-end=\"url(#arrow-gray)\"/>\n",
       "<path stroke-width=\"1\" stroke=\"gray\" d=\"M 217 184 32 155\" marker-end=\"url(#arrow-gray)\"/>\n",
       "<path stroke-width=\"1\" stroke=\"gray\" d=\"M 217 184 297 38\" marker-end=\"url(#arrow-gray)\"/>\n",
       "<path stroke-width=\"1\" stroke=\"gray\" d=\"M 426 219 223 185\" marker-end=\"url(#arrow-gray)\"/>\n",
       "<circle cx=\"54\" cy=\"245\" r=\"7.0\" style=\"fill:gray;stroke:black;stroke-width:1.0\"/>\n",
       "<circle cx=\"157\" cy=\"332\" r=\"7.0\" style=\"fill:gray;stroke:black;stroke-width:1.0\"/>\n",
       "<circle cx=\"26\" cy=\"154\" r=\"7.0\" style=\"fill:gray;stroke:black;stroke-width:1.0\"/>\n",
       "<circle cx=\"217\" cy=\"184\" r=\"7.0\" style=\"fill:gray;stroke:black;stroke-width:1.0\"/>\n",
       "<circle cx=\"300\" cy=\"32\" r=\"7.0\" style=\"fill:gray;stroke:black;stroke-width:1.0\"/>\n",
       "<circle cx=\"426\" cy=\"219\" r=\"7.0\" style=\"fill:gray;stroke:black;stroke-width:1.0\"/>\n",
       "<text text-anchor=\"middle\" x=\"54\" y=\"235\" font-size=\"12\">A</text><text text-anchor=\"middle\" x=\"157\" y=\"322\" font-size=\"12\">B</text><text text-anchor=\"middle\" x=\"26\" y=\"144\" font-size=\"12\">C</text><text text-anchor=\"middle\" x=\"217\" y=\"174\" font-size=\"12\">D</text><text text-anchor=\"middle\" x=\"300\" y=\"22\" font-size=\"12\">E</text><text text-anchor=\"middle\" x=\"426\" y=\"209\" font-size=\"12\">F</text></svg>"
      ],
      "text/plain": [
       "<IPython.core.display.SVG object>"
      ]
     },
     "execution_count": 5,
     "metadata": {},
     "output_type": "execute_result"
    }
   ],
   "source": [
    "image = skn.visualization.graphs.visualize_graph(adjacency=graph.adjacency, names=graph.names, name_position='above')\n",
    "SVG(image)"
   ]
  },
  {
   "cell_type": "markdown",
   "id": "3eb73f77-c4c5-4f70-a6b0-da03fbb5136c",
   "metadata": {},
   "source": [
    "## The Algorithm\n",
    "\n",
    "The BFS algorithm is a technique for traversing a graph, given a starting node from which to begin. The general strategy is to explore all possible neighbouring nodes that are the same number of \"hops\", or edges, away from the starting node before looking at nodes that are more distant.\n",
    "\n",
    "One consideration we need to keep in mind is the presence of cycles in the graph: this could lead to an infinite traversal if not accounted for. As such, we know right away that we will need to keep track of the nodes already visited while passing through the graph. \n",
    "\n",
    "BFS is executed in the following fashion:\n",
    "* Initialize by creating a **queue** object $q$ and enter the starting node $s$ into this queue. Also mark all nodes in the graph as \"not visited\"\n",
    "* While $q$ is not empty:\n",
    "    * Pop a node $n$ from $q$, and perform whatever calculations are needed at that node\n",
    "    * For each unvisited neighbour of $n$:\n",
    "        * Add the neighbour into $q$\n",
    "        * Mark the neighbour as visited\n",
    "\n",
    "## Implementation\n",
    "\n",
    "Let's implement a BFS class to encapsulate the algorithm defined above:"
   ]
  },
  {
   "cell_type": "code",
   "execution_count": 6,
   "id": "7fd9e7d0-6a6c-468c-9a20-beb2a8eb9c06",
   "metadata": {},
   "outputs": [],
   "source": [
    "class BFS(object):\n",
    "\n",
    "    def __init__(self, graph: Graph) -> None:\n",
    "        self.graph = graph\n",
    "\n",
    "    def _prepare_for_traversal(self, source: str) -> None:\n",
    "        self.queue = [source]\n",
    "        self.visited = dict(zip(self.graph.nodes, len(self.graph.nodes) * [False]))\n",
    "        self.visited[source] = True\n",
    "\n",
    "    def _computations_on_node(self, node: str) -> None:\n",
    "        print(f\"Processing node {node}\")\n",
    "\n",
    "    def _process_unvisited_neighbours(self, node: str) -> None:\n",
    "        node_index = self.graph.nodes.index(node)\n",
    "        neighbours_indices = self.graph.get_modified_adjacency_matrix()[:,node_index].nonzero()[0].tolist()\n",
    "        neighbours = np.array(self.graph.nodes)[neighbours_indices].tolist()\n",
    "        for neighbour in neighbours:\n",
    "            if not self.visited[neighbour]:\n",
    "                self.queue.append(neighbour)\n",
    "                self.visited[neighbour] = True\n",
    "    \n",
    "    def traverse(self, source: str) -> None:\n",
    "        # prepare for the traversal\n",
    "        self._prepare_for_traversal(source)\n",
    "        # process queue\n",
    "        while self.queue:\n",
    "            # pop a node from the queue, and perform desired actions on the node\n",
    "            node = self.queue.pop(0)\n",
    "            self._computations_on_node(node)\n",
    "            # go to each unvisited neighbour of node\n",
    "            self._process_unvisited_neighbours(node)"
   ]
  },
  {
   "cell_type": "code",
   "execution_count": 7,
   "id": "213453e8-8174-4bc8-bc12-0b2f970e2a4f",
   "metadata": {},
   "outputs": [],
   "source": [
    "# create a graph instance\n",
    "graph = Graph(edges)"
   ]
  },
  {
   "cell_type": "code",
   "execution_count": 8,
   "id": "238fce3b-d1ab-4947-8170-eed3831cf6ab",
   "metadata": {},
   "outputs": [],
   "source": [
    "# create a BFS instance\n",
    "bfs = BFS(graph)"
   ]
  },
  {
   "cell_type": "markdown",
   "id": "9b5776ee-3b0a-4c4d-bb6f-cf87da710155",
   "metadata": {},
   "source": [
    "We can experiement with a few different source node choices:"
   ]
  },
  {
   "cell_type": "code",
   "execution_count": 9,
   "id": "d2559e92-dc29-4162-9e14-4cad5a0443fe",
   "metadata": {},
   "outputs": [
    {
     "name": "stdout",
     "output_type": "stream",
     "text": [
      "Processing node A\n",
      "Processing node B\n",
      "Processing node C\n",
      "Processing node D\n",
      "Processing node E\n"
     ]
    }
   ],
   "source": [
    "bfs.traverse('A')"
   ]
  },
  {
   "cell_type": "code",
   "execution_count": 10,
   "id": "c8b00045-8e8d-40be-8cb0-a32d74750857",
   "metadata": {},
   "outputs": [
    {
     "name": "stdout",
     "output_type": "stream",
     "text": [
      "Processing node D\n",
      "Processing node A\n",
      "Processing node C\n",
      "Processing node E\n",
      "Processing node B\n"
     ]
    }
   ],
   "source": [
    "bfs.traverse('D')"
   ]
  },
  {
   "cell_type": "code",
   "execution_count": 11,
   "id": "a6331513-350e-4b10-8c8c-d8b79655724a",
   "metadata": {},
   "outputs": [
    {
     "name": "stdout",
     "output_type": "stream",
     "text": [
      "Processing node F\n",
      "Processing node D\n",
      "Processing node A\n",
      "Processing node C\n",
      "Processing node E\n",
      "Processing node B\n"
     ]
    }
   ],
   "source": [
    "bfs.traverse('F')"
   ]
  },
  {
   "cell_type": "markdown",
   "id": "c993a7ab-9755-47db-8e7d-1c0afbcef640",
   "metadata": {},
   "source": [
    "Node F only appears in our results when it is set as a source node. This makes sense as we are working with a directed graph, and F has no incoming edges.\n",
    "\n",
    "To make this a bit more tangeable, let's see if we can extend BFS to map out the shortest path between 2 nodes:"
   ]
  },
  {
   "cell_type": "code",
   "execution_count": 12,
   "id": "d8fe1fb4-8bca-40cc-be0a-d7e8bb84b716",
   "metadata": {},
   "outputs": [],
   "source": [
    "class Path(object):\n",
    "\n",
    "    def __init__(self, label: str):\n",
    "        self.label = label\n",
    "        self.next_level = []\n",
    "\n",
    "class PathFinder(BFS):\n",
    "    \n",
    "    def _add_to_paths(self, paths: Path, node: str, neighbour: str) -> None:\n",
    "        if paths.label == node:\n",
    "            paths.next_level.append(Path(neighbour))\n",
    "        elif (paths.label != node) and paths.next_level:\n",
    "            for path in paths.next_level:\n",
    "                self._add_to_paths(path, node, neighbour)    \n",
    "    \n",
    "    def _process_unvisited_neighbours(self, node: str) -> None:\n",
    "        node_index = self.graph.nodes.index(node)\n",
    "        neighbours_indices = self.graph.get_modified_adjacency_matrix()[:,node_index].nonzero()[0].tolist()\n",
    "        neighbours = np.array(self.graph.nodes)[neighbours_indices].tolist()\n",
    "        for neighbour in neighbours:\n",
    "            if not self.visited[neighbour]:\n",
    "                self.queue.append(neighbour)\n",
    "                self.visited[neighbour] = True\n",
    "                self._add_to_paths(self.paths, node, neighbour)\n",
    "\n",
    "    def _determine_shortest_path(self, paths: Path, target: str, path_string: str) -> None:\n",
    "        if paths.label == target:\n",
    "            self.shortest_path = path_string + target\n",
    "        elif paths.next_level:\n",
    "            for path in paths.next_level:\n",
    "                self._determine_shortest_path(path, target, path_string + paths.label)\n",
    "    \n",
    "    def find_shortest_path(self, source: str, target: str) -> str:\n",
    "        # initialize path string\n",
    "        self.shortest_path = \"\"\n",
    "        # define a Path instance to store all possible paths from source\n",
    "        self.paths = Path(source)\n",
    "        # traverse graph\n",
    "        self.traverse(source)\n",
    "        # identify shortest path that terminates at target\n",
    "        self._determine_shortest_path(self.paths, target, self.shortest_path)\n",
    "        # return shortest path\n",
    "        return self.shortest_path"
   ]
  },
  {
   "cell_type": "code",
   "execution_count": 13,
   "id": "d36cc24c-d98f-451f-9be0-25d430e432fc",
   "metadata": {},
   "outputs": [],
   "source": [
    "# create a PathFinder instance\n",
    "pf = PathFinder(graph)"
   ]
  },
  {
   "cell_type": "markdown",
   "id": "78c4052c-41d9-4737-9bd2-299b46d67c48",
   "metadata": {},
   "source": [
    "Let's experiment with a few different node pairs:"
   ]
  },
  {
   "cell_type": "code",
   "execution_count": 14,
   "id": "af14e466-3291-4b41-9800-66502071d3da",
   "metadata": {},
   "outputs": [
    {
     "name": "stdout",
     "output_type": "stream",
     "text": [
      "Processing node F\n",
      "Processing node D\n",
      "Processing node A\n",
      "Processing node C\n",
      "Processing node E\n",
      "Processing node B\n"
     ]
    },
    {
     "data": {
      "text/plain": [
       "'FDE'"
      ]
     },
     "execution_count": 14,
     "metadata": {},
     "output_type": "execute_result"
    }
   ],
   "source": [
    "pf.find_shortest_path('F','E')"
   ]
  },
  {
   "cell_type": "code",
   "execution_count": 15,
   "id": "66028c09-b1e8-4534-93b2-81b9556acc39",
   "metadata": {},
   "outputs": [
    {
     "name": "stdout",
     "output_type": "stream",
     "text": [
      "Processing node A\n",
      "Processing node B\n",
      "Processing node C\n",
      "Processing node D\n",
      "Processing node E\n"
     ]
    },
    {
     "data": {
      "text/plain": [
       "''"
      ]
     },
     "execution_count": 15,
     "metadata": {},
     "output_type": "execute_result"
    }
   ],
   "source": [
    "pf.find_shortest_path('A','F')"
   ]
  },
  {
   "cell_type": "code",
   "execution_count": 16,
   "id": "dfe620e8-2871-4001-9949-2af2df4cf153",
   "metadata": {},
   "outputs": [
    {
     "name": "stdout",
     "output_type": "stream",
     "text": [
      "Processing node A\n",
      "Processing node B\n",
      "Processing node C\n",
      "Processing node D\n",
      "Processing node E\n"
     ]
    },
    {
     "data": {
      "text/plain": [
       "'ABDE'"
      ]
     },
     "execution_count": 16,
     "metadata": {},
     "output_type": "execute_result"
    }
   ],
   "source": [
    "pf.find_shortest_path('A','E')"
   ]
  },
  {
   "cell_type": "markdown",
   "id": "f27ca645-01e2-4cf4-a189-5332dbe37e7f",
   "metadata": {},
   "source": [
    "It is apparent that our new class **PathFinder** is able to map out the shortest path between two nodes in our directed graph, if such a path exists."
   ]
  }
 ],
 "metadata": {
  "kernelspec": {
   "display_name": "Python 3 (ipykernel)",
   "language": "python",
   "name": "python3"
  },
  "language_info": {
   "codemirror_mode": {
    "name": "ipython",
    "version": 3
   },
   "file_extension": ".py",
   "mimetype": "text/x-python",
   "name": "python",
   "nbconvert_exporter": "python",
   "pygments_lexer": "ipython3",
   "version": "3.9.19"
  }
 },
 "nbformat": 4,
 "nbformat_minor": 5
}
