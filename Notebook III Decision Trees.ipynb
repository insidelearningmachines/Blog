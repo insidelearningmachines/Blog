{
 "cells": [
  {
   "cell_type": "markdown",
   "metadata": {},
   "source": [
    "# Decision Trees\n",
    "\n",
    "In this notebook I will implement decision tree models for both classification and regression.  I will use the breast cancer dataset from Article II to test the classification model, while the regression model will be tested using synthetic data.  Both implemented models will be compared to the decision trees available through scikit-learn."
   ]
  },
  {
   "cell_type": "code",
   "execution_count": 1,
   "metadata": {},
   "outputs": [],
   "source": [
    "# imports\n",
    "from __future__ import annotations\n",
    "from typing import Tuple\n",
    "from abc import ABC,abstractmethod\n",
    "from scipy import stats\n",
    "import numpy as np\n",
    "import pandas as pd\n",
    "import matplotlib.pyplot as plt\n",
    "from sklearn.model_selection import train_test_split\n",
    "from sklearn.datasets import load_breast_cancer,make_regression\n",
    "from sklearn.metrics import accuracy_score,precision_score,recall_score,mean_squared_error,mean_absolute_error,r2_score"
   ]
  },
  {
   "cell_type": "code",
   "execution_count": 2,
   "metadata": {},
   "outputs": [],
   "source": [
    "class Node(object):\n",
    "    \"\"\"\n",
    "    Class to define & control tree nodes\n",
    "    \"\"\"\n",
    "    \n",
    "    def __init__(self) -> None:\n",
    "        \"\"\"\n",
    "        Initializer for a Node class instance\n",
    "        \"\"\"\n",
    "        self.__split    = None\n",
    "        self.__feature  = None\n",
    "        self.__left     = None\n",
    "        self.__right    = None\n",
    "        self.leaf_value = None\n",
    "\n",
    "    def set_params(self, split: float, feature: int) -> None:\n",
    "        \"\"\"\n",
    "        Set the split & feature parameters for this node\n",
    "        \n",
    "        Input:\n",
    "            split   -> value to split feature on\n",
    "            feature -> index of feature to be used in splitting \n",
    "        \"\"\"\n",
    "        self.__split   = split\n",
    "        self.__feature = feature\n",
    "        \n",
    "    def get_params(self) -> Tuple[float,int]:\n",
    "        \"\"\"\n",
    "        Get the split & feature parameters for this node\n",
    "        \n",
    "        Output:\n",
    "            Tuple containing (split,feature) pair\n",
    "        \"\"\"\n",
    "        return(self.__split, self.__feature)    \n",
    "        \n",
    "    def set_children(self, left: Node, right: Node) -> None:\n",
    "        \"\"\"\n",
    "        Set the left/right child nodes for the current node\n",
    "        \n",
    "        Inputs:\n",
    "            left  -> LHS child node\n",
    "            right -> RHS child node\n",
    "        \"\"\"\n",
    "        self.__left  = left\n",
    "        self.__right = right\n",
    "        \n",
    "    def get_left_node(self) -> Node:\n",
    "        \"\"\"\n",
    "        Get the left child node\n",
    "        \n",
    "        Output:\n",
    "            LHS child node\n",
    "        \"\"\"\n",
    "        return(self.__left)\n",
    "    \n",
    "    def get_right_node(self) -> Node:\n",
    "        \"\"\"\n",
    "        Get the RHS child node\n",
    "        \n",
    "        Output:\n",
    "            RHS child node\n",
    "        \"\"\"\n",
    "        return(self.__right)"
   ]
  },
  {
   "cell_type": "code",
   "execution_count": 3,
   "metadata": {},
   "outputs": [],
   "source": [
    "class DecisionTree(ABC):\n",
    "    \"\"\"\n",
    "    Base class to encompass the CART algorithm\n",
    "    \"\"\"\n",
    "    \n",
    "    def __init__(self, max_depth: int=None, min_samples_split: int=2) -> None:\n",
    "        \"\"\"\n",
    "        Initializer\n",
    "        \n",
    "        Inputs:\n",
    "            max_depth         -> maximum depth the tree can grow\n",
    "            min_samples_split -> minimum number of samples required to split a node\n",
    "        \"\"\"\n",
    "        self.tree              = None\n",
    "        self.max_depth         = max_depth\n",
    "        self.min_samples_split = min_samples_split\n",
    "        \n",
    "    @abstractmethod\n",
    "    def _impurity(self, D: np.array) -> None:\n",
    "        \"\"\"\n",
    "        Protected function to define the impurity\n",
    "        \"\"\"\n",
    "        pass\n",
    "        \n",
    "    @abstractmethod\n",
    "    def _leaf_value(self, D: np.array) -> None:\n",
    "        \"\"\"\n",
    "        Protected function to compute the value at a leaf node\n",
    "        \"\"\"\n",
    "        pass\n",
    "        \n",
    "    def __grow(self, node: Node, D: np.array, level: int) -> None:\n",
    "        \"\"\"\n",
    "        Private recursive function to grow the tree during training\n",
    "        \n",
    "        Inputs:\n",
    "            node  -> input tree node\n",
    "            D     -> sample of data at node \n",
    "            level -> depth level in the tree for node\n",
    "        \"\"\"\n",
    "        # are we in a leaf node?\n",
    "        depth = (self.max_depth is None) or (self.max_depth >= (level+1))\n",
    "        msamp = (self.min_samples_split <= D.shape[0])\n",
    "        n_cls = np.unique(D[:,-1]).shape[0] != 1\n",
    "        \n",
    "        # not a leaf node\n",
    "        if depth and msamp and n_cls:\n",
    "        \n",
    "            # initialize the function parameters\n",
    "            ip_node = None\n",
    "            feature = None\n",
    "            split   = None\n",
    "            left_D  = None\n",
    "            right_D = None\n",
    "            # iterate through the possible feature/split combinations\n",
    "            for f in range(D.shape[1]-1):\n",
    "                for s in np.unique(D[:,f]):\n",
    "                    # for the current (f,s) combination, split the dataset\n",
    "                    D_l = D[D[:,f]<=s]\n",
    "                    D_r = D[D[:,f]>s]\n",
    "                    # ensure we have non-empty arrays\n",
    "                    if D_l.size and D_r.size:\n",
    "                        # calculate the impurity\n",
    "                        ip  = (D_l.shape[0]/D.shape[0])*self._impurity(D_l) + (D_r.shape[0]/D.shape[0])*self._impurity(D_r)\n",
    "                        # now update the impurity and choice of (f,s)\n",
    "                        if (ip_node is None) or (ip < ip_node):\n",
    "                            ip_node = ip\n",
    "                            feature = f\n",
    "                            split   = s\n",
    "                            left_D  = D_l\n",
    "                            right_D = D_r\n",
    "            # set the current node's parameters\n",
    "            node.set_params(split,feature)\n",
    "            # declare child nodes\n",
    "            left_node  = Node()\n",
    "            right_node = Node()\n",
    "            node.set_children(left_node,right_node)\n",
    "            # investigate child nodes\n",
    "            self.__grow(node.get_left_node(),left_D,level+1)\n",
    "            self.__grow(node.get_right_node(),right_D,level+1)\n",
    "                        \n",
    "        # is a leaf node\n",
    "        else:\n",
    "            \n",
    "            # set the node value & return\n",
    "            node.leaf_value = self._leaf_value(D)\n",
    "            return\n",
    "     \n",
    "    def __traverse(self, node: Node, Xrow: np.array) -> int | float:\n",
    "        \"\"\"\n",
    "        Private recursive function to traverse the (trained) tree\n",
    "        \n",
    "        Inputs:\n",
    "            node -> current node in the tree\n",
    "            Xrow -> data sample being considered\n",
    "        Output:\n",
    "            leaf value corresponding to Xrow\n",
    "        \"\"\"        \n",
    "        # check if we're in a leaf node?\n",
    "        if node.leaf_value is None:\n",
    "            # get parameters at the node\n",
    "            (s,f) = node.get_params()\n",
    "            # decide to go left or right?\n",
    "            if (Xrow[f] <= s):\n",
    "                return(self.__traverse(node.get_left_node(),Xrow))\n",
    "            else:\n",
    "                return(self.__traverse(node.get_right_node(),Xrow))\n",
    "        else:\n",
    "            # return the leaf value\n",
    "            return(node.leaf_value)\n",
    "    \n",
    "    def train(self, Xin: np.array, Yin: np.array) -> None:\n",
    "        \"\"\"\n",
    "        Train the CART model\n",
    "        \n",
    "        Inputs:\n",
    "            Xin -> input set of predictor features\n",
    "            Yin -> input set of labels\n",
    "        \"\"\"        \n",
    "        # prepare the input data\n",
    "        D = np.concatenate((Xin,Yin.reshape(-1,1)),axis=1)\n",
    "        # set the root node of the tree\n",
    "        self.tree = Node()\n",
    "        # build the tree\n",
    "        self.__grow(self.tree,D,1)\n",
    "        \n",
    "    def predict(self, Xin: np.array) -> np.array:\n",
    "        \"\"\"\n",
    "        Make predictions from the trained CART model\n",
    "        \n",
    "        Input:\n",
    "            Xin -> input set of predictor features\n",
    "        Output:\n",
    "            array of prediction values\n",
    "        \"\"\"\n",
    "        # iterate through the rows of Xin\n",
    "        p = []\n",
    "        for r in range(Xin.shape[0]):\n",
    "            p.append(self.__traverse(self.tree,Xin[r,:]))\n",
    "        # return predictions\n",
    "        return(np.array(p).flatten())"
   ]
  },
  {
   "cell_type": "code",
   "execution_count": 4,
   "metadata": {},
   "outputs": [],
   "source": [
    "class DecisionTreeClassifier(DecisionTree):\n",
    "    \"\"\"\n",
    "    Decision Tree Classifier\n",
    "    \"\"\"\n",
    "    \n",
    "    def __init__(self, max_depth: int=None, min_samples_split: int=2, loss: str='gini') -> None:\n",
    "        \"\"\"\n",
    "        Initializer\n",
    "        \n",
    "        Inputs:\n",
    "            max_depth         -> maximum depth the tree can grow\n",
    "            min_samples_split -> minimum number of samples required to split a node\n",
    "            loss              -> loss function to use during training\n",
    "        \"\"\"\n",
    "        DecisionTree.__init__(self,max_depth,min_samples_split)\n",
    "        self.loss = loss   \n",
    "    \n",
    "    def __gini(self, D: np.array) -> float:\n",
    "        \"\"\"\n",
    "        Private function to define the gini impurity\n",
    "        \n",
    "        Input:\n",
    "            D -> data to compute the gini impurity over\n",
    "        Output:\n",
    "            Gini impurity for D\n",
    "        \"\"\"        \n",
    "        # initialize the output\n",
    "        G = 0\n",
    "        # iterate through the unique classes\n",
    "        for c in np.unique(D[:,-1]):\n",
    "            # compute p for the current c\n",
    "            p = D[D[:,-1]==c].shape[0]/D.shape[0]\n",
    "            # compute term for the current c\n",
    "            G += p*(1-p)\n",
    "        # return gini impurity\n",
    "        return(G)\n",
    "    \n",
    "    def __entropy(self, D: np.array) -> float:\n",
    "        \"\"\"\n",
    "        Private function to define the shannon entropy\n",
    "        \n",
    "        Input:\n",
    "            D -> data to compute the shannon entropy over\n",
    "        Output:\n",
    "            Shannon entropy for D\n",
    "        \"\"\"        \n",
    "        # initialize the output\n",
    "        H = 0\n",
    "        # iterate through the unique classes\n",
    "        for c in np.unique(D[:,-1]):\n",
    "            # compute p for the current c\n",
    "            p = D[D[:,-1]==c].shape[0]/D.shape[0]\n",
    "            # compute term for the current c\n",
    "            H -= p*np.log2(p)\n",
    "        # return entropy\n",
    "        return(H)\n",
    "    \n",
    "    def _impurity(self, D: np.array) -> float:\n",
    "        \"\"\"\n",
    "        Protected function to define the impurity\n",
    "        \n",
    "        Input:\n",
    "            D -> data to compute the impurity metric over\n",
    "        Output:\n",
    "            Impurity metric for D        \n",
    "        \"\"\"        \n",
    "        # use the selected loss function to calculate the node impurity\n",
    "        ip = None\n",
    "        if self.loss == 'gini':\n",
    "            ip = self.__gini(D)\n",
    "        elif self.loss == 'entropy':\n",
    "            ip = self.__entropy(D)\n",
    "        # return results\n",
    "        return(ip)\n",
    "    \n",
    "    def _leaf_value(self, D: np.array) -> int:\n",
    "        \"\"\"\n",
    "        Protected function to compute the value at a leaf node\n",
    "        \n",
    "        Input:\n",
    "            D -> data to compute the leaf value\n",
    "        Output:\n",
    "            Mode of D         \n",
    "        \"\"\"        \n",
    "        return(stats.mode(D[:,-1],keepdims=False)[0])"
   ]
  },
  {
   "cell_type": "code",
   "execution_count": 5,
   "metadata": {},
   "outputs": [],
   "source": [
    "class DecisionTreeRegressor(DecisionTree):\n",
    "    \"\"\"\n",
    "    Decision Tree Regressor\n",
    "    \"\"\"\n",
    "    \n",
    "    def __init__(self, max_depth: int=None, min_samples_split: int=2, loss: str='mse') -> None:\n",
    "        \"\"\"\n",
    "        Initializer\n",
    "        \n",
    "        Inputs:\n",
    "            max_depth         -> maximum depth the tree can grow\n",
    "            min_samples_split -> minimum number of samples required to split a node\n",
    "            loss              -> loss function to use during training\n",
    "        \"\"\"        \n",
    "        DecisionTree.__init__(self,max_depth,min_samples_split)\n",
    "        self.loss = loss   \n",
    "    \n",
    "    def __mse(self, D: np.array) -> float:\n",
    "        \"\"\"\n",
    "        Private function to define the mean squared error\n",
    "        \n",
    "        Input:\n",
    "            D -> data to compute the MSE over\n",
    "        Output:\n",
    "            Mean squared error over D\n",
    "        \"\"\"\n",
    "        # compute the mean target for the node\n",
    "        y_m = np.mean(D[:,-1])\n",
    "        # compute the mean squared error wrt the mean\n",
    "        E = np.sum((D[:,-1] - y_m)**2)/D.shape[0]\n",
    "        # return mse\n",
    "        return(E)\n",
    "    \n",
    "    def __mae(self, D: np.array) -> float:\n",
    "        \"\"\"\n",
    "        Private function to define the mean absolute error\n",
    "        \n",
    "        Input:\n",
    "            D -> data to compute the MAE over\n",
    "        Output:\n",
    "            Mean absolute error over D\n",
    "        \"\"\"\n",
    "        # compute the mean target for the node\n",
    "        y_m = np.mean(D[:,-1])\n",
    "        # compute the mean absolute error wrt the mean\n",
    "        E = np.sum(np.abs(D[:,-1] - y_m))/D.shape[0]\n",
    "        # return mae\n",
    "        return(E)\n",
    "    \n",
    "    def _impurity(self, D: np.array) -> float:\n",
    "        \"\"\"\n",
    "        Protected function to define the impurity\n",
    "        \n",
    "        Input:\n",
    "            D -> data to compute the impurity metric over\n",
    "        Output:\n",
    "            Impurity metric for D        \n",
    "        \"\"\"            \n",
    "        # use the selected loss function to calculate the node impurity\n",
    "        ip = None\n",
    "        if self.loss == 'mse':\n",
    "            ip = self.__mse(D)\n",
    "        elif self.loss == 'mae':\n",
    "            ip = self.__mae(D)\n",
    "        # return results\n",
    "        return(ip)\n",
    "    \n",
    "    def _leaf_value(self, D: np.array) -> float:\n",
    "        \"\"\"\n",
    "        Protected function to compute the value at a leaf node\n",
    "        \n",
    "        Input:\n",
    "            D -> data to compute the leaf value\n",
    "        Output:\n",
    "            Mean of D           \n",
    "        \"\"\"\n",
    "        return(np.mean(D[:,-1]))"
   ]
  },
  {
   "cell_type": "markdown",
   "metadata": {},
   "source": [
    "### Classification Model\n",
    "\n",
    "Let's test out the classification model, using the breast cancer dataset we already examined in Article II"
   ]
  },
  {
   "cell_type": "code",
   "execution_count": 6,
   "metadata": {},
   "outputs": [],
   "source": [
    "# load classification dataset\n",
    "data = load_breast_cancer()\n",
    "X    = data.data\n",
    "y    = data.target"
   ]
  },
  {
   "cell_type": "code",
   "execution_count": 7,
   "metadata": {},
   "outputs": [
    {
     "name": "stdout",
     "output_type": "stream",
     "text": [
      "shape of X:  (569, 30)\n",
      "shape of y:  (569,)\n"
     ]
    }
   ],
   "source": [
    "# what is the shape of the dataset?\n",
    "print('shape of X: ',X.shape)\n",
    "print('shape of y: ',y.shape)"
   ]
  },
  {
   "cell_type": "code",
   "execution_count": 8,
   "metadata": {},
   "outputs": [
    {
     "data": {
      "image/png": "[encoded data removed]",
      "text/plain": [
       "<Figure size 640x480 with 1 Axes>"
      ]
     },
     "metadata": {},
     "output_type": "display_data"
    },
    {
     "name": "stdout",
     "output_type": "stream",
     "text": [
      "Percentage of y=0:  0.37258347978910367\n",
      "Percentage of y=1:  0.6274165202108963\n"
     ]
    }
   ],
   "source": [
    "# is the dataset balanced?\n",
    "plt.hist(y)\n",
    "plt.xlabel('classes')\n",
    "plt.ylabel('counts')\n",
    "plt.show()\n",
    "\n",
    "print('Percentage of y=0: ',y[y==0].shape[0]/y.shape[0])\n",
    "print('Percentage of y=1: ',y[y==1].shape[0]/y.shape[0])"
   ]
  },
  {
   "cell_type": "markdown",
   "metadata": {},
   "source": [
    "Clearly this dataset isn't balanced. We will need to account for this prior to training. I'll do this by selecting samples for training based upon their class values, ensuring I get an equal number for each class.  I want to use 60% of the data for training, and test the results on the remaining 40%."
   ]
  },
  {
   "cell_type": "code",
   "execution_count": 9,
   "metadata": {},
   "outputs": [
    {
     "data": {
      "text/plain": [
       "171"
      ]
     },
     "execution_count": 9,
     "metadata": {},
     "output_type": "execute_result"
    }
   ],
   "source": [
    "# how many samples do I need per class for training?\n",
    "nsampclass = int(np.round(y.shape[0]*0.6/2,decimals=0))\n",
    "nsampclass"
   ]
  },
  {
   "cell_type": "code",
   "execution_count": 10,
   "metadata": {},
   "outputs": [],
   "source": [
    "# partition the training data by label\n",
    "y0 = y[y==0]\n",
    "y1 = y[y==1]\n",
    "X0 = X[y==0]\n",
    "X1 = X[y==1]\n",
    "# select the elements to remove at random\n",
    "idx0 = np.random.choice([i for i in range(y0.shape[0])],size=nsampclass,replace=False)\n",
    "idx1 = np.random.choice([i for i in range(y1.shape[0])],size=nsampclass,replace=False)\n",
    "# select samples for training\n",
    "y_train0 = y0[idx0]\n",
    "y_train1 = y1[idx1]\n",
    "X_train0 = X0[idx0,:]\n",
    "X_train1 = X1[idx1,:]\n",
    "y_train  = np.concatenate((y_train0,y_train1))\n",
    "X_train  = np.concatenate((X_train0,X_train1))\n",
    "# use remainder for testing\n",
    "y_test0 = np.delete(y0,idx0)\n",
    "y_test1 = np.delete(y1,idx1)\n",
    "X_test0 = np.delete(X0,idx0,axis=0)\n",
    "X_test1 = np.delete(X1,idx1,axis=0)\n",
    "y_test  = np.concatenate((y_test0,y_test1))\n",
    "X_test  = np.concatenate((X_test0,X_test1))"
   ]
  },
  {
   "cell_type": "code",
   "execution_count": 11,
   "metadata": {},
   "outputs": [
    {
     "data": {
      "image/png": "[encoded data removed]",
      "text/plain": [
       "<Figure size 640x480 with 1 Axes>"
      ]
     },
     "metadata": {},
     "output_type": "display_data"
    },
    {
     "name": "stdout",
     "output_type": "stream",
     "text": [
      "Percentage of y=0:  0.5\n",
      "Percentage of y=1:  0.5\n"
     ]
    }
   ],
   "source": [
    "# is the training dataset balanced now?\n",
    "plt.hist(y_train)\n",
    "plt.xlabel('classes')\n",
    "plt.ylabel('counts')\n",
    "plt.show()\n",
    "\n",
    "print('Percentage of y=0: ',y_train[y_train==0].shape[0]/y_train.shape[0])\n",
    "print('Percentage of y=1: ',y_train[y_train==1].shape[0]/y_train.shape[0])"
   ]
  },
  {
   "cell_type": "code",
   "execution_count": 12,
   "metadata": {},
   "outputs": [
    {
     "data": {
      "image/png": "[encoded data removed]",
      "text/plain": [
       "<Figure size 640x480 with 1 Axes>"
      ]
     },
     "metadata": {},
     "output_type": "display_data"
    },
    {
     "name": "stdout",
     "output_type": "stream",
     "text": [
      "Percentage of y=0:  0.18061674008810572\n",
      "Percentage of y=1:  0.8193832599118943\n"
     ]
    }
   ],
   "source": [
    "# what is the proportion of class 0/1 in the test set?\n",
    "plt.hist(y_test)\n",
    "plt.xlabel('classes')\n",
    "plt.ylabel('counts')\n",
    "plt.show()\n",
    "\n",
    "print('Percentage of y=0: ',y_test[y_test==0].shape[0]/y_test.shape[0])\n",
    "print('Percentage of y=1: ',y_test[y_test==1].shape[0]/y_test.shape[0])"
   ]
  },
  {
   "cell_type": "markdown",
   "metadata": {},
   "source": [
    "Great, we can see that now there are an equal number of samples for both classes in the training dataset.  Since our feature space is relatively small (30), we will not consider dimension reduction as part of this analysis."
   ]
  },
  {
   "cell_type": "code",
   "execution_count": 13,
   "metadata": {},
   "outputs": [],
   "source": [
    "# declare the classifier and train the model\n",
    "clf = DecisionTreeClassifier(max_depth=5,loss='gini')\n",
    "clf.train(X_train,y_train)"
   ]
  },
  {
   "cell_type": "code",
   "execution_count": 14,
   "metadata": {},
   "outputs": [],
   "source": [
    "# generate predictions\n",
    "yp = clf.predict(X_test)"
   ]
  },
  {
   "cell_type": "code",
   "execution_count": 15,
   "metadata": {},
   "outputs": [
    {
     "name": "stdout",
     "output_type": "stream",
     "text": [
      "accuracy: 0.93\n",
      "precision: 0.98\n",
      "recall: 0.93\n"
     ]
    }
   ],
   "source": [
    "# evaluate model performance\n",
    "print(\"accuracy: %.2f\" % accuracy_score(y_test,yp))\n",
    "print(\"precision: %.2f\" % precision_score(y_test,yp))\n",
    "print(\"recall: %.2f\" % recall_score(y_test,yp))"
   ]
  },
  {
   "cell_type": "markdown",
   "metadata": {},
   "source": [
    "Below let's compare with the results from the scikit-learn decision tree classifier:"
   ]
  },
  {
   "cell_type": "code",
   "execution_count": 16,
   "metadata": {},
   "outputs": [],
   "source": [
    "# import the scikit-learn model\n",
    "from sklearn.tree import DecisionTreeClassifier"
   ]
  },
  {
   "cell_type": "code",
   "execution_count": 17,
   "metadata": {},
   "outputs": [
    {
     "data": {
      "text/html": [
       "<style>#sk-container-id-1 {color: black;background-color: white;}#sk-container-id-1 pre{padding: 0;}#sk-container-id-1 div.sk-toggleable {background-color: white;}#sk-container-id-1 label.sk-toggleable__label {cursor: pointer;display: block;width: 100%;margin-bottom: 0;padding: 0.3em;box-sizing: border-box;text-align: center;}#sk-container-id-1 label.sk-toggleable__label-arrow:before {content: \"▸\";float: left;margin-right: 0.25em;color: #696969;}#sk-container-id-1 label.sk-toggleable__label-arrow:hover:before {color: black;}#sk-container-id-1 div.sk-estimator:hover label.sk-toggleable__label-arrow:before {color: black;}#sk-container-id-1 div.sk-toggleable__content {max-height: 0;max-width: 0;overflow: hidden;text-align: left;background-color: #f0f8ff;}#sk-container-id-1 div.sk-toggleable__content pre {margin: 0.2em;color: black;border-radius: 0.25em;background-color: #f0f8ff;}#sk-container-id-1 input.sk-toggleable__control:checked~div.sk-toggleable__content {max-height: 200px;max-width: 100%;overflow: auto;}#sk-container-id-1 input.sk-toggleable__control:checked~label.sk-toggleable__label-arrow:before {content: \"▾\";}#sk-container-id-1 div.sk-estimator input.sk-toggleable__control:checked~label.sk-toggleable__label {background-color: #d4ebff;}#sk-container-id-1 div.sk-label input.sk-toggleable__control:checked~label.sk-toggleable__label {background-color: #d4ebff;}#sk-container-id-1 input.sk-hidden--visually {border: 0;clip: rect(1px 1px 1px 1px);clip: rect(1px, 1px, 1px, 1px);height: 1px;margin: -1px;overflow: hidden;padding: 0;position: absolute;width: 1px;}#sk-container-id-1 div.sk-estimator {font-family: monospace;background-color: #f0f8ff;border: 1px dotted black;border-radius: 0.25em;box-sizing: border-box;margin-bottom: 0.5em;}#sk-container-id-1 div.sk-estimator:hover {background-color: #d4ebff;}#sk-container-id-1 div.sk-parallel-item::after {content: \"\";width: 100%;border-bottom: 1px solid gray;flex-grow: 1;}#sk-container-id-1 div.sk-label:hover label.sk-toggleable__label {background-color: #d4ebff;}#sk-container-id-1 div.sk-serial::before {content: \"\";position: absolute;border-left: 1px solid gray;box-sizing: border-box;top: 0;bottom: 0;left: 50%;z-index: 0;}#sk-container-id-1 div.sk-serial {display: flex;flex-direction: column;align-items: center;background-color: white;padding-right: 0.2em;padding-left: 0.2em;position: relative;}#sk-container-id-1 div.sk-item {position: relative;z-index: 1;}#sk-container-id-1 div.sk-parallel {display: flex;align-items: stretch;justify-content: center;background-color: white;position: relative;}#sk-container-id-1 div.sk-item::before, #sk-container-id-1 div.sk-parallel-item::before {content: \"\";position: absolute;border-left: 1px solid gray;box-sizing: border-box;top: 0;bottom: 0;left: 50%;z-index: -1;}#sk-container-id-1 div.sk-parallel-item {display: flex;flex-direction: column;z-index: 1;position: relative;background-color: white;}#sk-container-id-1 div.sk-parallel-item:first-child::after {align-self: flex-end;width: 50%;}#sk-container-id-1 div.sk-parallel-item:last-child::after {align-self: flex-start;width: 50%;}#sk-container-id-1 div.sk-parallel-item:only-child::after {width: 0;}#sk-container-id-1 div.sk-dashed-wrapped {border: 1px dashed gray;margin: 0 0.4em 0.5em 0.4em;box-sizing: border-box;padding-bottom: 0.4em;background-color: white;}#sk-container-id-1 div.sk-label label {font-family: monospace;font-weight: bold;display: inline-block;line-height: 1.2em;}#sk-container-id-1 div.sk-label-container {text-align: center;}#sk-container-id-1 div.sk-container {/* jupyter's `normalize.less` sets `[hidden] { display: none; }` but bootstrap.min.css set `[hidden] { display: none !important; }` so we also need the `!important` here to be able to override the default hidden behavior on the sphinx rendered scikit-learn.org. See: https://github.com/scikit-learn/scikit-learn/issues/21755 */display: inline-block !important;position: relative;}#sk-container-id-1 div.sk-text-repr-fallback {display: none;}</style><div id=\"sk-container-id-1\" class=\"sk-top-container\"><div class=\"sk-text-repr-fallback\"><pre>DecisionTreeClassifier(max_depth=5)</pre><b>In a Jupyter environment, please rerun this cell to show the HTML representation or trust the notebook. <br />On GitHub, the HTML representation is unable to render, please try loading this page with nbviewer.org.</b></div><div class=\"sk-container\" hidden><div class=\"sk-item\"><div class=\"sk-estimator sk-toggleable\"><input class=\"sk-toggleable__control sk-hidden--visually\" id=\"sk-estimator-id-1\" type=\"checkbox\" checked><label for=\"sk-estimator-id-1\" class=\"sk-toggleable__label sk-toggleable__label-arrow\">DecisionTreeClassifier</label><div class=\"sk-toggleable__content\"><pre>DecisionTreeClassifier(max_depth=5)</pre></div></div></div></div></div>"
      ],
      "text/plain": [
       "DecisionTreeClassifier(max_depth=5)"
      ]
     },
     "execution_count": 17,
     "metadata": {},
     "output_type": "execute_result"
    }
   ],
   "source": [
    "# declare the classifier and train the model\n",
    "clf = DecisionTreeClassifier(max_depth=5,criterion='gini')\n",
    "clf.fit(X_train,y_train)"
   ]
  },
  {
   "cell_type": "code",
   "execution_count": 18,
   "metadata": {},
   "outputs": [],
   "source": [
    "# generate predictions\n",
    "yp = clf.predict(X_test)"
   ]
  },
  {
   "cell_type": "code",
   "execution_count": 19,
   "metadata": {},
   "outputs": [
    {
     "name": "stdout",
     "output_type": "stream",
     "text": [
      "accuracy: 0.91\n",
      "precision: 0.97\n",
      "recall: 0.92\n"
     ]
    }
   ],
   "source": [
    "# evaluate model performance\n",
    "print(\"accuracy: %.2f\" % accuracy_score(y_test,yp))\n",
    "print(\"precision: %.2f\" % precision_score(y_test,yp))\n",
    "print(\"recall: %.2f\" % recall_score(y_test,yp))"
   ]
  },
  {
   "cell_type": "markdown",
   "metadata": {},
   "source": [
    "Now let's tabulate the classifier results:\n",
    "\n",
    "Model | Impurity Metric | Depth | Accuracy | Precision | Recall\n",
    "-- | -- | -- | -- | -- | --\n",
    "Custom | Gini | 5 | 0.93 | 0.98 | 0.93\n",
    "Scikit | Gini | 5 | 0.93 | 0.98 | 0.93\n",
    "Custom | Entropy | 5 | 0.93 | 0.97 | 0.95\n",
    "Scikit | Entropy | 5 | 0.92 | 0.98 | 0.92\n",
    "Custom | Gini | 10 | 0.90 | 0.98 | 0.90\n",
    "Scikit | Gini | 10 | 0.93 | 0.98 | 0.93\n",
    "Custom | Entropy | 10 | 0.91 | 0.98 | 0.91\n",
    "Scikit | Entropy | 10 | 0.91 | 0.96 | 0.93\n",
    "\n",
    "The results indicate the scikit-learn model and our custom built classifier are roughly compariable for all hyperparameter configurations attempted. Note the model shows signs of overfitting when the maximum tree depth is set to 10. Let's move on to test the performance of our regressor."
   ]
  },
  {
   "cell_type": "markdown",
   "metadata": {},
   "source": [
    "### Regression Model\n",
    "\n",
    "We can check the performance of the regression tree model on a dummy dataset generated using the make_regression function from scikit-learn.  The dataset will consist of 8 features in total, 5 of which will be informative for the single target.  The standard deviation in the noise is set to 1, and a total of 1000 samples is generated."
   ]
  },
  {
   "cell_type": "code",
   "execution_count": 20,
   "metadata": {},
   "outputs": [],
   "source": [
    "# create a regression dataset\n",
    "X,y = make_regression(n_samples=1000, n_features=8, n_informative=5, n_targets=1, noise=1, random_state=42)"
   ]
  },
  {
   "cell_type": "code",
   "execution_count": 21,
   "metadata": {},
   "outputs": [],
   "source": [
    "# do train/test split\n",
    "X_train, X_test, y_train, y_test = train_test_split(X, y, test_size=0.3, random_state=42)"
   ]
  },
  {
   "cell_type": "code",
   "execution_count": 22,
   "metadata": {},
   "outputs": [],
   "source": [
    "# declare the regressor and train the model\n",
    "rgr = DecisionTreeRegressor(max_depth=5,loss='mae')\n",
    "rgr.train(X_train,y_train)"
   ]
  },
  {
   "cell_type": "code",
   "execution_count": 23,
   "metadata": {},
   "outputs": [],
   "source": [
    "# make predictions\n",
    "yp = rgr.predict(X_test)"
   ]
  },
  {
   "cell_type": "code",
   "execution_count": 24,
   "metadata": {},
   "outputs": [
    {
     "name": "stdout",
     "output_type": "stream",
     "text": [
      "rmse: 70.04\n",
      "mae: 56.44\n",
      "r2: 0.68\n"
     ]
    }
   ],
   "source": [
    "# evaluate model performance\n",
    "print(\"rmse: %.2f\" % np.sqrt(mean_squared_error(y_test,yp)))\n",
    "print(\"mae: %.2f\" % mean_absolute_error(y_test,yp))\n",
    "print(\"r2: %.2f\" % r2_score(y_test,yp))"
   ]
  },
  {
   "cell_type": "code",
   "execution_count": 25,
   "metadata": {},
   "outputs": [],
   "source": [
    "# import the scikit-learn model\n",
    "from sklearn.tree import DecisionTreeRegressor"
   ]
  },
  {
   "cell_type": "code",
   "execution_count": 28,
   "metadata": {},
   "outputs": [
    {
     "data": {
      "text/html": [
       "<style>#sk-container-id-3 {color: black;background-color: white;}#sk-container-id-3 pre{padding: 0;}#sk-container-id-3 div.sk-toggleable {background-color: white;}#sk-container-id-3 label.sk-toggleable__label {cursor: pointer;display: block;width: 100%;margin-bottom: 0;padding: 0.3em;box-sizing: border-box;text-align: center;}#sk-container-id-3 label.sk-toggleable__label-arrow:before {content: \"▸\";float: left;margin-right: 0.25em;color: #696969;}#sk-container-id-3 label.sk-toggleable__label-arrow:hover:before {color: black;}#sk-container-id-3 div.sk-estimator:hover label.sk-toggleable__label-arrow:before {color: black;}#sk-container-id-3 div.sk-toggleable__content {max-height: 0;max-width: 0;overflow: hidden;text-align: left;background-color: #f0f8ff;}#sk-container-id-3 div.sk-toggleable__content pre {margin: 0.2em;color: black;border-radius: 0.25em;background-color: #f0f8ff;}#sk-container-id-3 input.sk-toggleable__control:checked~div.sk-toggleable__content {max-height: 200px;max-width: 100%;overflow: auto;}#sk-container-id-3 input.sk-toggleable__control:checked~label.sk-toggleable__label-arrow:before {content: \"▾\";}#sk-container-id-3 div.sk-estimator input.sk-toggleable__control:checked~label.sk-toggleable__label {background-color: #d4ebff;}#sk-container-id-3 div.sk-label input.sk-toggleable__control:checked~label.sk-toggleable__label {background-color: #d4ebff;}#sk-container-id-3 input.sk-hidden--visually {border: 0;clip: rect(1px 1px 1px 1px);clip: rect(1px, 1px, 1px, 1px);height: 1px;margin: -1px;overflow: hidden;padding: 0;position: absolute;width: 1px;}#sk-container-id-3 div.sk-estimator {font-family: monospace;background-color: #f0f8ff;border: 1px dotted black;border-radius: 0.25em;box-sizing: border-box;margin-bottom: 0.5em;}#sk-container-id-3 div.sk-estimator:hover {background-color: #d4ebff;}#sk-container-id-3 div.sk-parallel-item::after {content: \"\";width: 100%;border-bottom: 1px solid gray;flex-grow: 1;}#sk-container-id-3 div.sk-label:hover label.sk-toggleable__label {background-color: #d4ebff;}#sk-container-id-3 div.sk-serial::before {content: \"\";position: absolute;border-left: 1px solid gray;box-sizing: border-box;top: 0;bottom: 0;left: 50%;z-index: 0;}#sk-container-id-3 div.sk-serial {display: flex;flex-direction: column;align-items: center;background-color: white;padding-right: 0.2em;padding-left: 0.2em;position: relative;}#sk-container-id-3 div.sk-item {position: relative;z-index: 1;}#sk-container-id-3 div.sk-parallel {display: flex;align-items: stretch;justify-content: center;background-color: white;position: relative;}#sk-container-id-3 div.sk-item::before, #sk-container-id-3 div.sk-parallel-item::before {content: \"\";position: absolute;border-left: 1px solid gray;box-sizing: border-box;top: 0;bottom: 0;left: 50%;z-index: -1;}#sk-container-id-3 div.sk-parallel-item {display: flex;flex-direction: column;z-index: 1;position: relative;background-color: white;}#sk-container-id-3 div.sk-parallel-item:first-child::after {align-self: flex-end;width: 50%;}#sk-container-id-3 div.sk-parallel-item:last-child::after {align-self: flex-start;width: 50%;}#sk-container-id-3 div.sk-parallel-item:only-child::after {width: 0;}#sk-container-id-3 div.sk-dashed-wrapped {border: 1px dashed gray;margin: 0 0.4em 0.5em 0.4em;box-sizing: border-box;padding-bottom: 0.4em;background-color: white;}#sk-container-id-3 div.sk-label label {font-family: monospace;font-weight: bold;display: inline-block;line-height: 1.2em;}#sk-container-id-3 div.sk-label-container {text-align: center;}#sk-container-id-3 div.sk-container {/* jupyter's `normalize.less` sets `[hidden] { display: none; }` but bootstrap.min.css set `[hidden] { display: none !important; }` so we also need the `!important` here to be able to override the default hidden behavior on the sphinx rendered scikit-learn.org. See: https://github.com/scikit-learn/scikit-learn/issues/21755 */display: inline-block !important;position: relative;}#sk-container-id-3 div.sk-text-repr-fallback {display: none;}</style><div id=\"sk-container-id-3\" class=\"sk-top-container\"><div class=\"sk-text-repr-fallback\"><pre>DecisionTreeRegressor(criterion=&#x27;absolute_error&#x27;, max_depth=5)</pre><b>In a Jupyter environment, please rerun this cell to show the HTML representation or trust the notebook. <br />On GitHub, the HTML representation is unable to render, please try loading this page with nbviewer.org.</b></div><div class=\"sk-container\" hidden><div class=\"sk-item\"><div class=\"sk-estimator sk-toggleable\"><input class=\"sk-toggleable__control sk-hidden--visually\" id=\"sk-estimator-id-3\" type=\"checkbox\" checked><label for=\"sk-estimator-id-3\" class=\"sk-toggleable__label sk-toggleable__label-arrow\">DecisionTreeRegressor</label><div class=\"sk-toggleable__content\"><pre>DecisionTreeRegressor(criterion=&#x27;absolute_error&#x27;, max_depth=5)</pre></div></div></div></div></div>"
      ],
      "text/plain": [
       "DecisionTreeRegressor(criterion='absolute_error', max_depth=5)"
      ]
     },
     "execution_count": 28,
     "metadata": {},
     "output_type": "execute_result"
    }
   ],
   "source": [
    "# declare the regressor and train the model\n",
    "rgr = DecisionTreeRegressor(max_depth=5,criterion='absolute_error')\n",
    "rgr.fit(X_train,y_train)"
   ]
  },
  {
   "cell_type": "code",
   "execution_count": 29,
   "metadata": {},
   "outputs": [],
   "source": [
    "# make predictions\n",
    "yp = rgr.predict(X_test)"
   ]
  },
  {
   "cell_type": "code",
   "execution_count": 30,
   "metadata": {},
   "outputs": [
    {
     "name": "stdout",
     "output_type": "stream",
     "text": [
      "rmse: 63.68\n",
      "mae: 49.35\n",
      "r2: 0.74\n"
     ]
    }
   ],
   "source": [
    "# evaluate model performance\n",
    "print(\"rmse: %.2f\" % np.sqrt(mean_squared_error(y_test,yp)))\n",
    "print(\"mae: %.2f\" % mean_absolute_error(y_test,yp))\n",
    "print(\"r2: %.2f\" % r2_score(y_test,yp))"
   ]
  },
  {
   "cell_type": "markdown",
   "metadata": {},
   "source": [
    "Now let's tabulate the regressor results:\n",
    "\n",
    "Model | Impurity Metric | Depth | RMSE | MAE' | R2\n",
    "-- | -- | -- | -- | -- | --\n",
    "Custom | MSE | 5 | 69.05 | 55.91 | 0.69\n",
    "Scikit | MSE | 5 | 66.31 | 53.61 | 0.71\n",
    "Custom | MAE | 5 | 70.04 | 56.44 | 0.68\n",
    "Scikit | MAE | 5 | 63.68 | 49.35 | 0.74\n",
    "Custom | MSE | 10 | 64.07 | 48.85 | 0.73\n",
    "Scikit | MSE | 10 | 59.72 | 45.56 | 0.77\n",
    "Custom | MAE | 10 | 55.53 | 41.88 | 0.80\n",
    "Scikit | MAE | 10 | 56.09 | 42.19 | 0.80\n",
    "\n",
    "Note that the mean absolute error is calculated differently for the impurity metric (MAE) versus evaluation metric (MAE'): \n",
    "* The impurity metric is computed with respect to the mean of the label values for any given node in the tree\n",
    "* The evaluation metric is computed by taking the difference between predicted and actual label values for the entire test set\n",
    "\n",
    "For 3/4 of the configurations tested, the scikit-learn regressor outperforms our custom built model. This is notable for the {impurity = MAE, depth = 5} and {impurity = MSE, depth = 10} configurations.  \n",
    "\n",
    "The custom built model performs better for the {impurity = MAE, depth = 10} configuration, however. This is also the best performing model overall.\n",
    "\n",
    "To improve performance of the custom built model, feel free to try replacing the mean (y_m) in the private impurity functions with the median. You can also try using deeper trees, since overfitting does not appear to be an issue here."
   ]
  },
  {
   "cell_type": "code",
   "execution_count": null,
   "metadata": {},
   "outputs": [],
   "source": []
  }
 ],
 "metadata": {
  "kernelspec": {
   "display_name": "Python 3 (ipykernel)",
   "language": "python",
   "name": "python3"
  },
  "language_info": {
   "codemirror_mode": {
    "name": "ipython",
    "version": 3
   },
   "file_extension": ".py",
   "mimetype": "text/x-python",
   "name": "python",
   "nbconvert_exporter": "python",
   "pygments_lexer": "ipython3",
   "version": "3.9.15"
  }
 },
 "nbformat": 4,
 "nbformat_minor": 4
}
