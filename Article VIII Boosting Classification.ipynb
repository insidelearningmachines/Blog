{
 "cells": [
  {
   "cell_type": "markdown",
   "id": "44916eb6",
   "metadata": {},
   "source": [
    "# Boosting Classification\n",
    "\n",
    "In this notebook, I will work through a simple boosting classifier. I will use the breast cancer classification dataset."
   ]
  },
  {
   "cell_type": "code",
   "execution_count": 1,
   "id": "a4f130bb",
   "metadata": {},
   "outputs": [],
   "source": [
    "## imports ##\n",
    "import numpy as np\n",
    "import pandas as pd\n",
    "from typing import Dict, Any, List\n",
    "from sklearn.base import clone\n",
    "import matplotlib.pyplot as plt\n",
    "from sklearn.datasets import load_breast_cancer\n",
    "from sklearn.model_selection import StratifiedKFold,cross_validate\n",
    "from sklearn.tree import DecisionTreeClassifier\n",
    "from sklearn.metrics import accuracy_score,precision_score,recall_score,f1_score,make_scorer\n",
    "from sklearn.ensemble import RandomForestClassifier"
   ]
  },
  {
   "cell_type": "markdown",
   "id": "2ae737f1",
   "metadata": {},
   "source": [
    "We can now create the class that will encapsulate the boosting algorithm:"
   ]
  },
  {
   "cell_type": "code",
   "execution_count": 2,
   "id": "cdd3a8de",
   "metadata": {},
   "outputs": [],
   "source": [
    "## boosting classifier ##\n",
    "class BoostingClassifier(object):\n",
    "    #initializer\n",
    "    def __init__(self, \n",
    "                 weak_learner : Any, \n",
    "                 n_elements : int = 100, \n",
    "                 learning_rate : float = 0.01, \n",
    "                 record_training_f1 : bool = False) -> None:\n",
    "        self.weak_learner  = weak_learner\n",
    "        self.n_elements    = n_elements\n",
    "        self.learning_rate = learning_rate\n",
    "        self.f             = []\n",
    "        self.model_weights = []\n",
    "        self.f1s           = []\n",
    "        self.record_f1s    = record_training_f1\n",
    "        \n",
    "    #destructor\n",
    "    def __del__(self) -> None:\n",
    "        del self.weak_learner\n",
    "        del self.n_elements\n",
    "        del self.learning_rate\n",
    "        del self.f\n",
    "        del self.model_weights\n",
    "        del self.f1s\n",
    "    \n",
    "    #public function to return model parameters\n",
    "    def get_params(self, deep : bool = False) -> Dict:\n",
    "        return {'weak_learner':self.weak_learner,'n_elements':self.n_elements,'learning_rate':self.learning_rate}\n",
    "    \n",
    "    #public function to train the ensemble\n",
    "    def fit(self, X_train : np.array, y_train : np.array) -> None:\n",
    "        #initialize sample weights, residuals, & model array\n",
    "        w              = np.ones((y_train.shape[0]))\n",
    "        self.residuals = []\n",
    "        self.f         = []\n",
    "        #loop through the specified number of iterations in the ensemble\n",
    "        for _ in range(self.n_elements):\n",
    "            #make a copy of the weak learner\n",
    "            model = clone(self.weak_learner)\n",
    "            #fit the weak learner on the current dataset\n",
    "            model.fit(X_train,y_train,sample_weight=w)\n",
    "            #update the sample weights\n",
    "            y_pred = model.predict(X_train)\n",
    "            m      = y_pred != y_train\n",
    "            w[m]  *= np.exp(self.learning_rate)\n",
    "            #append resulting model\n",
    "            self.f.append(model)\n",
    "            #append current count of correctly labeled samples\n",
    "            self.model_weights.append(np.sum(y_pred == y_train))\n",
    "            #append current f1 score\n",
    "            if self.record_f1s:\n",
    "                self.f1s.append(self.__compute_f1(X_train,y_train))\n",
    "        #normalize the model weights\n",
    "        self.model_weights /= np.sum(self.model_weights)\n",
    "      \n",
    "    # private function to compute f1 score for n-trained weak learners\n",
    "    def __compute_f1(self, X_train : np.array, y_train : np.array) -> float:\n",
    "        #initialize output\n",
    "        y_pred = np.zeros((X_train.shape[0]))\n",
    "        #normalize model weights\n",
    "        n_model_weights = self.model_weights/np.sum(self.model_weights)\n",
    "        #traverse ensemble to generate predictions\n",
    "        for model,mw in zip(self.f,n_model_weights):\n",
    "            y_pred += mw*model.predict_proba(X_train)[:,1]\n",
    "        #combine output from ensemble\n",
    "        y_pred = np.round(y_pred).astype(int)\n",
    "        #return computed f1 score\n",
    "        return(f1_score(y_train,y_pred))\n",
    "    \n",
    "    #public function to return training f1 scores\n",
    "    def get_f1s(self) -> List:\n",
    "        return(self.f1s)\n",
    "    \n",
    "    #public function to generate predictions\n",
    "    def predict(self, X_test : np.array) -> np.array:\n",
    "        #initialize output\n",
    "        y_pred = np.zeros((X_test.shape[0]))\n",
    "        #traverse ensemble to generate predictions\n",
    "        for model,mw in zip(self.f,self.model_weights):\n",
    "            y_pred += mw*model.predict_proba(X_test)[:,1]\n",
    "        #combine output from ensemble\n",
    "        y_pred = np.round(y_pred).astype(int)\n",
    "        #return predictions\n",
    "        return(y_pred)"
   ]
  },
  {
   "cell_type": "markdown",
   "id": "f1baf732",
   "metadata": {},
   "source": [
    "## Boosting Classification\n",
    "\n",
    "### Load Classification Dataset\n",
    "\n",
    "Here I'll load the breast cancer dataset. Note I already analysed these data in Article II - Logistic Regression."
   ]
  },
  {
   "cell_type": "code",
   "execution_count": 3,
   "id": "f8045564",
   "metadata": {},
   "outputs": [],
   "source": [
    "## load classification dataset\n",
    "data = load_breast_cancer()\n",
    "X    = data.data\n",
    "y    = data.target"
   ]
  },
  {
   "cell_type": "markdown",
   "id": "b422aadf",
   "metadata": {},
   "source": [
    "### Investigate F1 Score\n",
    "\n",
    "In this section I want to check the effects of increasing ensemble size versus learning rate. Specifically, we'll check that the F1 score of the ensemble increases as more weak learners are added. I will also setup the weak learner, which in our case will be a classification decision stump:"
   ]
  },
  {
   "cell_type": "code",
   "execution_count": 4,
   "id": "decbfeb9",
   "metadata": {},
   "outputs": [],
   "source": [
    "## initialize a weak learner ##\n",
    "weak_m = DecisionTreeClassifier(max_depth=1)"
   ]
  },
  {
   "cell_type": "code",
   "execution_count": 5,
   "id": "ea89c233",
   "metadata": {},
   "outputs": [],
   "source": [
    "## set the learning rates to try ##\n",
    "learning_rates = [0.1,0.01,0.001,0.0001]"
   ]
  },
  {
   "cell_type": "code",
   "execution_count": 8,
   "id": "ab367d30",
   "metadata": {},
   "outputs": [],
   "source": [
    "## loop through the learning rates, record F1 scores ##\n",
    "dfF1 = pd.DataFrame()\n",
    "for lr in learning_rates:\n",
    "\n",
    "    #declare a boosting regressor\n",
    "    clf = BoostingClassifier(weak_learner=weak_m, n_elements=1000, learning_rate=lr, record_training_f1=True)\n",
    "    \n",
    "    #fit the model\n",
    "    clf.fit(X,y)\n",
    "    \n",
    "    #record F1 scores\n",
    "    dfF1[str(lr)] = clf.get_f1s()"
   ]
  },
  {
   "cell_type": "code",
   "execution_count": 7,
   "id": "94f5abc5",
   "metadata": {},
   "outputs": [
    {
     "data": {
      "image/png": "[encoded data removed]",
      "text/plain": [
       "<Figure size 432x288 with 1 Axes>"
      ]
     },
     "metadata": {
      "needs_background": "light"
     },
     "output_type": "display_data"
    }
   ],
   "source": [
    "## plot the F1 scores ##\n",
    "dfF1.plot()\n",
    "plt.title('F1 score by Number of Component Trees in Boosting Ensemble')\n",
    "plt.xlabel('Number of Component Trees')\n",
    "plt.ylabel('F1 Score')\n",
    "plt.show()"
   ]
  },
  {
   "cell_type": "markdown",
   "id": "1e87335b",
   "metadata": {},
   "source": [
    "F1 scores increase as number of component trees increases in the ensemble. Let's see what happens if we run the above code again, but this time going up to 1000 trees:"
   ]
  },
  {
   "cell_type": "code",
   "execution_count": 9,
   "id": "0f478b8a",
   "metadata": {},
   "outputs": [
    {
     "data": {
      "image/png": "[encoded data removed]",
      "text/plain": [
       "<Figure size 432x288 with 1 Axes>"
      ]
     },
     "metadata": {
      "needs_background": "light"
     },
     "output_type": "display_data"
    }
   ],
   "source": [
    "## plot the F1 scores ##\n",
    "dfF1.plot()\n",
    "plt.title('F1 score by Number of Component Trees in Boosting Ensemble')\n",
    "plt.xlabel('Number of Component Trees')\n",
    "plt.ylabel('F1 Score')\n",
    "plt.show()"
   ]
  },
  {
   "cell_type": "markdown",
   "id": "3c7eb8b2",
   "metadata": {},
   "source": [
    "### Investigate Performance\n",
    "\n",
    "Here I will use 10-fold cross-validation to measure the performance of the boosting classifier:"
   ]
  },
  {
   "cell_type": "code",
   "execution_count": 10,
   "id": "463a7a84",
   "metadata": {},
   "outputs": [],
   "source": [
    "## define the scoring metrics ##\n",
    "scoring_metrics = {'accuracy' : make_scorer(accuracy_score), \n",
    "                   'precision': make_scorer(precision_score),\n",
    "                   'recall'   : make_scorer(recall_score),\n",
    "                   'f1'       : make_scorer(f1_score)}"
   ]
  },
  {
   "cell_type": "code",
   "execution_count": 11,
   "id": "51d78637",
   "metadata": {},
   "outputs": [
    {
     "name": "stdout",
     "output_type": "stream",
     "text": [
      "Learning Rate:  0.1\n",
      "Mean Accuracy: 0.96\n",
      "Mean Precision: 0.96\n",
      "Mean Recall: 0.98\n",
      "Mean F1: 0.97\n",
      "\n",
      "Learning Rate:  0.01\n",
      "Mean Accuracy: 0.92\n",
      "Mean Precision: 0.92\n",
      "Mean Recall: 0.96\n",
      "Mean F1: 0.94\n",
      "\n",
      "Learning Rate:  0.001\n",
      "Mean Accuracy: 0.89\n",
      "Mean Precision: 0.90\n",
      "Mean Recall: 0.95\n",
      "Mean F1: 0.92\n",
      "\n",
      "Learning Rate:  0.0001\n",
      "Mean Accuracy: 0.89\n",
      "Mean Precision: 0.90\n",
      "Mean Recall: 0.95\n",
      "Mean F1: 0.92\n",
      "\n"
     ]
    }
   ],
   "source": [
    "## loop through each learning rate & evaluate for n_elements=100 ##\n",
    "for lr in learning_rates:\n",
    "    #define the model\n",
    "    clf = BoostingClassifier(weak_learner=weak_m, n_elements=100, learning_rate=lr)\n",
    "    #cross validate\n",
    "    dcScores = cross_validate(clf,X,y,cv=StratifiedKFold(10),scoring=scoring_metrics)\n",
    "    #report results\n",
    "    print('Learning Rate: ',lr)\n",
    "    print('Mean Accuracy: %.2f' % np.mean(dcScores['test_accuracy']))\n",
    "    print('Mean Precision: %.2f' % np.mean(dcScores['test_precision']))\n",
    "    print('Mean Recall: %.2f' % np.mean(dcScores['test_recall']))\n",
    "    print('Mean F1: %.2f' % np.mean(dcScores['test_f1']))\n",
    "    print('')"
   ]
  },
  {
   "cell_type": "code",
   "execution_count": 12,
   "id": "d06f4260",
   "metadata": {},
   "outputs": [
    {
     "name": "stdout",
     "output_type": "stream",
     "text": [
      "Learning Rate:  0.1\n",
      "Mean Accuracy: 0.94\n",
      "Mean Precision: 0.99\n",
      "Mean Recall: 0.92\n",
      "Mean F1: 0.95\n",
      "\n",
      "Learning Rate:  0.01\n",
      "Mean Accuracy: 0.96\n",
      "Mean Precision: 0.96\n",
      "Mean Recall: 0.98\n",
      "Mean F1: 0.97\n",
      "\n",
      "Learning Rate:  0.001\n",
      "Mean Accuracy: 0.92\n",
      "Mean Precision: 0.92\n",
      "Mean Recall: 0.96\n",
      "Mean F1: 0.94\n",
      "\n",
      "Learning Rate:  0.0001\n",
      "Mean Accuracy: 0.89\n",
      "Mean Precision: 0.90\n",
      "Mean Recall: 0.95\n",
      "Mean F1: 0.92\n",
      "\n"
     ]
    }
   ],
   "source": [
    "## loop through each learning rate & evaluate for n_elements=1000 ##\n",
    "for lr in learning_rates:\n",
    "    #define the model\n",
    "    clf = BoostingClassifier(weak_learner=weak_m, n_elements=1000, learning_rate=lr)\n",
    "    #cross validate\n",
    "    dcScores = cross_validate(clf,X,y,cv=StratifiedKFold(10),scoring=scoring_metrics)\n",
    "    #report results\n",
    "    print('Learning Rate: ',lr)\n",
    "    print('Mean Accuracy: %.2f' % np.mean(dcScores['test_accuracy']))\n",
    "    print('Mean Precision: %.2f' % np.mean(dcScores['test_precision']))\n",
    "    print('Mean Recall: %.2f' % np.mean(dcScores['test_recall']))\n",
    "    print('Mean F1: %.2f' % np.mean(dcScores['test_f1']))\n",
    "    print('')"
   ]
  },
  {
   "cell_type": "markdown",
   "id": "4f37570f",
   "metadata": {},
   "source": [
    "Let's also analyse the weak learner on its own:"
   ]
  },
  {
   "cell_type": "code",
   "execution_count": 13,
   "id": "c7ae48e8",
   "metadata": {},
   "outputs": [
    {
     "name": "stdout",
     "output_type": "stream",
     "text": [
      "Mean Accuracy: 0.89\n",
      "Mean Precision: 0.89\n",
      "Mean Recall: 0.95\n",
      "Mean F1: 0.91\n"
     ]
    }
   ],
   "source": [
    "#cross validate\n",
    "dcScores = cross_validate(weak_m,X,y,cv=StratifiedKFold(10),scoring=scoring_metrics)\n",
    "#report results\n",
    "print('Mean Accuracy: %.2f' % np.mean(dcScores['test_accuracy']))\n",
    "print('Mean Precision: %.2f' % np.mean(dcScores['test_precision']))\n",
    "print('Mean Recall: %.2f' % np.mean(dcScores['test_recall']))\n",
    "print('Mean F1: %.2f' % np.mean(dcScores['test_f1']))"
   ]
  },
  {
   "cell_type": "markdown",
   "id": "c8517403",
   "metadata": {},
   "source": [
    "Finally let's also compare the results obtained above to those we can get using a Random Forest Classifier:"
   ]
  },
  {
   "cell_type": "code",
   "execution_count": 14,
   "id": "b7ed6856",
   "metadata": {},
   "outputs": [
    {
     "name": "stdout",
     "output_type": "stream",
     "text": [
      "Mean Accuracy: 0.96\n",
      "Mean Precision: 0.96\n",
      "Mean Recall: 0.98\n",
      "Mean F1: 0.97\n"
     ]
    }
   ],
   "source": [
    "#declare random forest\n",
    "clf = RandomForestClassifier()\n",
    "#cross validate\n",
    "dcScores = cross_validate(clf,X,y,cv=StratifiedKFold(10),scoring=scoring_metrics)\n",
    "#report results\n",
    "print('Mean Accuracy: %.2f' % np.mean(dcScores['test_accuracy']))\n",
    "print('Mean Precision: %.2f' % np.mean(dcScores['test_precision']))\n",
    "print('Mean Recall: %.2f' % np.mean(dcScores['test_recall']))\n",
    "print('Mean F1: %.2f' % np.mean(dcScores['test_f1']))"
   ]
  },
  {
   "cell_type": "markdown",
   "id": "6af68d74",
   "metadata": {},
   "source": [
    "Model | Learning Rate | Number of Elements | Accuracy | Precision | Recall | F1\n",
    "--- | --- | --- | --- | --- | --- | ---\n",
    "Boosting Classifier | 0.1 | 100 | 0.96 | 0.96 | 0.98 | 0.97\n",
    "Boosting Classifier | 0.01 | 100 | 0.92 | 0.92 | 0.96 | 0.94\n",
    "Boosting Classifier | 0.001 | 100 | 0.89 | 0.90 | 0.95 | 0.92\n",
    "Boosting Classifier | 0.0001 | 100 | 0.89 | 0.90 | 0.95 | 0.92\n",
    "Boosting Classifier | 0.1 | 1000 | 0.94 | 0.99 | 0.92 | 0.95\n",
    "Boosting Classifier | 0.01 | 1000 | 0.96 | 0.96 | 0.98 | 0.97\n",
    "Boosting Classifier | 0.001 | 1000 | 0.92 | 0.92 | 0.96 | 0.94\n",
    "Boosting Classifier | 0.0001 | 1000 | 0.89 | 0.90 | 0.95 | 0.92\n",
    "Decision Tree Stump | NA | NA | 0.89 | 0.89 | 0.95 | 0.91\n",
    "Scikit-Learn Random Forest | NA | NA | 0.96 | 0.96 | 0.98 | 0.97\n",
    "\n",
    "It's apparant from these results that our simple boosting procedure can yield results that are a significant improvement over the solitary weak learner. It is also clear that the boosted classifier, with an optimized learning rate, can produce results that are on-par with those of the scikit-learn random forest with default settings."
   ]
  },
  {
   "cell_type": "code",
   "execution_count": null,
   "id": "a75b1a7a",
   "metadata": {},
   "outputs": [],
   "source": []
  }
 ],
 "metadata": {
  "kernelspec": {
   "display_name": "Python 3",
   "language": "python",
   "name": "python3"
  },
  "language_info": {
   "codemirror_mode": {
    "name": "ipython",
    "version": 3
   },
   "file_extension": ".py",
   "mimetype": "text/x-python",
   "name": "python",
   "nbconvert_exporter": "python",
   "pygments_lexer": "ipython3",
   "version": "3.6.12"
  }
 },
 "nbformat": 4,
 "nbformat_minor": 5
}
