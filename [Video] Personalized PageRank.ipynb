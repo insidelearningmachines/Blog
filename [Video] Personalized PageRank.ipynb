{
 "cells": [
  {
   "cell_type": "markdown",
   "id": "1e241b25-a4c2-4605-a168-30a7bd221c65",
   "metadata": {},
   "source": [
    "# Personalized PageRank\n",
    "\n",
    "This notebook serves as material for my video on Personalized PageRank. You can view this video on my YouTube channel (https://www.youtube.com/@insidelearningmachines). \n",
    "\n",
    "In a previous article on my blog (https://insidelearningmachines.com/learn_the_pagerank_algorithm/), I introduced the PageRank algorithm. PageRank is a graph algorithm, that can be used to rate the relative importance of nodes within a graph. Originally, PageRank was developed at Google to serve as the basis for its search engine logic.\n",
    "\n",
    "The classic algorithm ranks nodes in terms of their importance to the overall graph structure. However, what if we're interested to know the relative ranking of nodes with respect to a specific one in the graph? This is the problem that Personalized PageRank aims to solve. \n",
    "\n",
    "Let's begin by importing the necessary packages:"
   ]
  },
  {
   "cell_type": "code",
   "execution_count": 1,
   "id": "828f4ef1-52d7-477d-988e-6c798e55ef33",
   "metadata": {},
   "outputs": [],
   "source": [
    "import sknetwork as skn\n",
    "import numpy as np\n",
    "from typing import Tuple, List\n",
    "from IPython.display import SVG"
   ]
  },
  {
   "cell_type": "markdown",
   "id": "5af22031-22e0-4107-805f-ff0ccdca6f95",
   "metadata": {},
   "source": [
    "And now we can run the notebook from the PageRank post to load in the objects implemented there:"
   ]
  },
  {
   "cell_type": "code",
   "execution_count": 2,
   "id": "5bbc97fc-49a6-4504-b277-28cfdbecce68",
   "metadata": {},
   "outputs": [],
   "source": [
    "%run Notebook\\ XXIX\\ Learn\\ the\\ PageRank\\ Algorithm\\ with\\ 1\\ Simple\\ Example.ipynb"
   ]
  },
  {
   "cell_type": "code",
   "execution_count": 3,
   "id": "fe08d95e-473c-4da3-b8c4-e1af405f4204",
   "metadata": {},
   "outputs": [
    {
     "data": {
      "text/plain": [
       "[('A', 'B'),\n",
       " ('B', 'D'),\n",
       " ('D', 'A'),\n",
       " ('D', 'C'),\n",
       " ('A', 'C'),\n",
       " ('C', 'A'),\n",
       " ('D', 'E'),\n",
       " ('F', 'D')]"
      ]
     },
     "execution_count": 3,
     "metadata": {},
     "output_type": "execute_result"
    }
   ],
   "source": [
    "edges"
   ]
  },
  {
   "cell_type": "code",
   "execution_count": 4,
   "id": "1369e0eb-6345-429e-af92-569fff41de93",
   "metadata": {},
   "outputs": [],
   "source": [
    "graph = skn.data.from_edge_list(edges, directed=True)"
   ]
  },
  {
   "cell_type": "code",
   "execution_count": 5,
   "id": "a3a7a974-5de6-4545-90c8-192f5f26483a",
   "metadata": {},
   "outputs": [
    {
     "data": {
      "image/svg+xml": [
       "<svg xmlns=\"http://www.w3.org/2000/svg\" width=\"452.0\" height=\"352\">\n",
       "<defs><marker id=\"arrow-gray\" markerWidth=\"10\" markerHeight=\"10\" refX=\"9\" refY=\"3\" orient=\"auto\">\n",
       "<path d=\"M0,0 L0,6 L9,3 z\" fill=\"gray\"/></marker></defs>\n",
       "<path stroke-width=\"1\" stroke=\"gray\" d=\"M 420 141 339 37\" marker-end=\"url(#arrow-gray)\"/>\n",
       "<path stroke-width=\"1\" stroke=\"gray\" d=\"M 420 141 426 236\" marker-end=\"url(#arrow-gray)\"/>\n",
       "<path stroke-width=\"1\" stroke=\"gray\" d=\"M 335 32 238 172\" marker-end=\"url(#arrow-gray)\"/>\n",
       "<path stroke-width=\"1\" stroke=\"gray\" d=\"M 426 242 420 147\" marker-end=\"url(#arrow-gray)\"/>\n",
       "<path stroke-width=\"1\" stroke=\"gray\" d=\"M 235 177 414 142\" marker-end=\"url(#arrow-gray)\"/>\n",
       "<path stroke-width=\"1\" stroke=\"gray\" d=\"M 235 177 420 240\" marker-end=\"url(#arrow-gray)\"/>\n",
       "<path stroke-width=\"1\" stroke=\"gray\" d=\"M 235 177 118 327\" marker-end=\"url(#arrow-gray)\"/>\n",
       "<path stroke-width=\"1\" stroke=\"gray\" d=\"M 26 108 229 175\" marker-end=\"url(#arrow-gray)\"/>\n",
       "<circle cx=\"420\" cy=\"141\" r=\"7.0\" style=\"fill:gray;stroke:black;stroke-width:1.0\"/>\n",
       "<circle cx=\"335\" cy=\"32\" r=\"7.0\" style=\"fill:gray;stroke:black;stroke-width:1.0\"/>\n",
       "<circle cx=\"426\" cy=\"242\" r=\"7.0\" style=\"fill:gray;stroke:black;stroke-width:1.0\"/>\n",
       "<circle cx=\"235\" cy=\"177\" r=\"7.0\" style=\"fill:gray;stroke:black;stroke-width:1.0\"/>\n",
       "<circle cx=\"114\" cy=\"332\" r=\"7.0\" style=\"fill:gray;stroke:black;stroke-width:1.0\"/>\n",
       "<circle cx=\"26\" cy=\"108\" r=\"7.0\" style=\"fill:gray;stroke:black;stroke-width:1.0\"/>\n",
       "<text text-anchor=\"middle\" x=\"420\" y=\"131\" font-size=\"12\">A</text><text text-anchor=\"middle\" x=\"335\" y=\"22\" font-size=\"12\">B</text><text text-anchor=\"middle\" x=\"426\" y=\"232\" font-size=\"12\">C</text><text text-anchor=\"middle\" x=\"235\" y=\"167\" font-size=\"12\">D</text><text text-anchor=\"middle\" x=\"114\" y=\"322\" font-size=\"12\">E</text><text text-anchor=\"middle\" x=\"26\" y=\"98\" font-size=\"12\">F</text></svg>"
      ],
      "text/plain": [
       "<IPython.core.display.SVG object>"
      ]
     },
     "execution_count": 5,
     "metadata": {},
     "output_type": "execute_result"
    }
   ],
   "source": [
    "image = skn.visualization.graphs.visualize_graph(adjacency=graph.adjacency, names=graph.names, name_position='above')\n",
    "SVG(image)"
   ]
  },
  {
   "cell_type": "markdown",
   "id": "7ba5d697-5618-40eb-87a1-15426e44297b",
   "metadata": {},
   "source": [
    "Previously we saw that the PageRank update rule is given by:\n",
    "\n",
    "${\\bf P_r(t+1)} = d{\\bf \\hat{O}P_r(t)} + \\frac{1-d}{N_p}{\\bf 1}$\n",
    "\n",
    "Where: \n",
    "* ${\\bf P_r(t)}$ is a column vector containing all the page ranks at step $t$\n",
    "* ${\\bf \\hat{O}}$ is a modified form of the adacency matrix, where each element $\\hat{O}_{i,j}$ is the ratio of edges from $j \\rightarrow i$ divided by the total out-degree of node $j$\n",
    "* ${\\bf 1}$ is a column vector consisting of $N_p$ elements.\n",
    "\n",
    "The term $\\frac{1-d}{N_p}{\\bf 1}$ in our update rule describes the *fly-out* probability. This is the chance we'll end up at node $i$, from node $j$, where there's not necessarily a direct connection. Normally, the column vector ${\\bf 1}$ is composed entirely of $1$'s. However, in the Personalized PageRank, we limit the flyout probability to only the node(s) we want to focus on. Therefore, only the elements for those nodes will be set to 1.0, the remainder will all be 0.0.\n",
    "\n",
    "Let's write a new class to handle personalized PageRank:"
   ]
  },
  {
   "cell_type": "code",
   "execution_count": 6,
   "id": "65e21bc3-4fba-43ad-a229-81ee33af4b0a",
   "metadata": {},
   "outputs": [],
   "source": [
    "class PersonalizedPageRank(PageRank):\n",
    "\n",
    "    def __init__(self, selected_nodes: List=[], damping_factor: float=0.85, epsilon: float=1e-8) -> None:\n",
    "        super().__init__(damping_factor,epsilon)\n",
    "        self.selected_nodes = selected_nodes\n",
    "\n",
    "    def _identity_vector(self, graph: Graph) -> np.array:\n",
    "        I = np.zeros((graph.get_number_nodes(),1))\n",
    "        idx_selected = [graph.get_nodes().index(n) for n in graph.get_nodes() if n in self.selected_nodes] \n",
    "        I[idx_selected] = 1.0\n",
    "        return I"
   ]
  },
  {
   "cell_type": "code",
   "execution_count": 7,
   "id": "23bae293-7b22-4ad7-9c29-08cb322a6f99",
   "metadata": {},
   "outputs": [],
   "source": [
    "# create a graph object\n",
    "graph = Graph(edges)"
   ]
  },
  {
   "cell_type": "code",
   "execution_count": 15,
   "id": "e2f9e662-4e61-4743-ad20-8aaf16b697a9",
   "metadata": {},
   "outputs": [],
   "source": [
    "# create a pagerank object\n",
    "pr = PersonalizedPageRank(selected_nodes=[\"D\"])"
   ]
  },
  {
   "cell_type": "code",
   "execution_count": 16,
   "id": "8150135b-e195-4b6a-8412-b8af7bc1ba94",
   "metadata": {},
   "outputs": [],
   "source": [
    "# compute pageranks\n",
    "ranks = pr.evaluate(graph)"
   ]
  },
  {
   "cell_type": "code",
   "execution_count": 17,
   "id": "1a560560-63e9-451e-adfe-8218c443d38e",
   "metadata": {},
   "outputs": [
    {
     "data": {
      "text/plain": [
       "{'A': 0.31949232357672286,\n",
       " 'B': 0.1667130726847682,\n",
       " 'C': 0.23791468049806838,\n",
       " 'D': 0.20467831542714038,\n",
       " 'E': 0.07120160781330016,\n",
       " 'F': 0.0}"
      ]
     },
     "execution_count": 17,
     "metadata": {},
     "output_type": "execute_result"
    }
   ],
   "source": [
    "ranks"
   ]
  },
  {
   "cell_type": "code",
   "execution_count": 18,
   "id": "3e04bbde-054b-4500-a8c9-1f3c37439221",
   "metadata": {},
   "outputs": [
    {
     "data": {
      "text/plain": [
       "array([[0.],\n",
       "       [0.],\n",
       "       [0.],\n",
       "       [1.],\n",
       "       [0.],\n",
       "       [0.]])"
      ]
     },
     "execution_count": 18,
     "metadata": {},
     "output_type": "execute_result"
    }
   ],
   "source": [
    "pr._identity_vector(graph)"
   ]
  },
  {
   "cell_type": "code",
   "execution_count": null,
   "id": "04f0c095-aa68-4938-99a5-b24294410696",
   "metadata": {},
   "outputs": [],
   "source": []
  }
 ],
 "metadata": {
  "kernelspec": {
   "display_name": "Python 3 (ipykernel)",
   "language": "python",
   "name": "python3"
  },
  "language_info": {
   "codemirror_mode": {
    "name": "ipython",
    "version": 3
   },
   "file_extension": ".py",
   "mimetype": "text/x-python",
   "name": "python",
   "nbconvert_exporter": "python",
   "pygments_lexer": "ipython3",
   "version": "3.9.18"
  }
 },
 "nbformat": 4,
 "nbformat_minor": 5
}
